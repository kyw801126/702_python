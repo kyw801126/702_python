{
 "cells": [
  {
   "cell_type": "markdown",
   "metadata": {},
   "source": [
    "# 인터파크 베스트셀러 크롤링 "
   ]
  },
  {
   "cell_type": "code",
   "execution_count": 1,
   "metadata": {},
   "outputs": [],
   "source": [
    "import requests\n",
    "import pandas as pd \n",
    "from bs4 import BeautifulSoup"
   ]
  },
  {
   "cell_type": "code",
   "execution_count": 2,
   "metadata": {},
   "outputs": [],
   "source": [
    "url = 'https://book.interpark.com/display/collectlist.do?_method=bestsellerHourNew&bookblockname=b_gnb&booklinkname=%BA%A3%BD%BA%C6%AE%C1%B8&bid1=bgnb_mn&bid2=LiveRanking&bid3=main&bid4=001'\n",
    "res = requests.get(url)\n",
    "soup =  BeautifulSoup(res.text, 'html.parser')"
   ]
  },
  {
   "cell_type": "code",
   "execution_count": 5,
   "metadata": {},
   "outputs": [
    {
     "data": {
      "text/plain": [
       "'\\r\\n\\r\\n\\r\\n<!DOCTYPE html>\\r\\n<html lang=\"ko\">\\r\\n<head>\\r\\n    <title>인터파크 도서</title>\\r\\n    <meta http-equiv=\"Content-Type\" content=\"text/html; charset=euc-kr\">\\r\\n    <meta http-equiv=\"X-UA-Compatible\" content=\"IE=edge,chrome=1\">\\r\\n    <meta name=\"keywords\" content=\"인터파크도서, 인터넷 서점, eBook, 비스킷탭, 음반, DVD, 중고책, 중고책서점, 신간도서, 국내도서, 외국도서, 추천도서\">\\r\\n    <meta name=\"description\" content=\"문학은 인터파크 도서!\">\\r\\n    <meta name=\"naver-site-verification\" content=\"295287bf1753708aabe3586a6cbb4b39761ff03b\" />\\r\\n    <meta http-equiv=\"Cache-Control\" content=\"no-cache\"/>\\r\\n    <meta http-equiv=\"Expires\" content=\"0\"/>\\r\\n    <meta http-equiv=\"Pragma\" content=\"no-cache\"/>\\r\\n    <link rel=\"shortcut icon\" href=\"https://qi-b.qoo10cdn.com/interpark.ico\">\\r\\n    <meta http-equiv=\"imagetoolbar\" content=\"no\"/>\\r\\n    <script type=\"text/javascript\">\\r\\n        var isFancyAlert = false;    // IMFS에서는 msgAlert 기능을 비활성화시킴\\r\\n        var imfsSSLDomain = \"https://book.interpark.com\"; // com.interpark.util.web.ServletUtils.IMFS_URL_SSL 값을 사용하였으나, Fix 처'"
      ]
     },
     "execution_count": 5,
     "metadata": {},
     "output_type": "execute_result"
    }
   ],
   "source": [
    "res.text[0:1000]"
   ]
  },
  {
   "cell_type": "code",
   "execution_count": null,
   "metadata": {},
   "outputs": [],
   "source": [
    "lis = soup.select('.rankBestContentList > ol > li')\n",
    "lis"
   ]
  },
  {
   "cell_type": "code",
   "execution_count": 19,
   "metadata": {},
   "outputs": [
    {
     "data": {
      "text/plain": [
       "<li>\n",
       "<!-- listItem | singleType or setType :: start -->\n",
       "<div class=\"listItem singleType\">\n",
       "<div class=\"cover\">\n",
       "<div class=\"coverImage\">\n",
       "<label>\n",
       "<a href=\"/product/BookDisplay.do?_method=detail&amp;sc.shopNo=0000400000&amp;sc.prdNo=356791451&amp;sc.saNo=003003001&amp;bid1=Best_zone&amp;bid2=LiveRanking&amp;bid3=PRD&amp;bid4=001\" target=\"_blank\">\n",
       "<span class=\"checkBox\">\n",
       "<input name=\"_KEY\" type=\"checkbox\" value=\"356791451\"/>\n",
       "</span>\n",
       "<img alt=\"마흔에 읽는 쇼펜하우어\" src=\"https://qi-b.qoo10cdn.com/partner/goods_image/1/4/5/1/356791451s.jpg\"/>\n",
       "<i class=\"decoFront\"></i>\n",
       "</a>\n",
       "</label>\n",
       "</div>\n",
       "<div class=\"coverOption\">\n",
       "<ul>\n",
       "<li class=\"cart\">\n",
       "<a class=\"cartGo\" href=\"#\" value=\"356791451\"><span>CART</span></a>\n",
       "</li>\n",
       "<li class=\"buy\">\n",
       "<a href=\"javascript:directOrd('356791451');\"><span>BUY</span></a>\n",
       "</li>\n",
       "</ul>\n",
       "</div>\n",
       "<div class=\"rankNumber digit2\">\n",
       "<span class=\"rankBtn_ctrl rkNum_B01\"></span>\n",
       "</div>\n",
       "</div>\n",
       "<div class=\"itemIcon\">\n",
       "<span class=\"bestSeller\">베스트셀러</span>\n",
       "</div>\n",
       "<a href=\"/product/BookDisplay.do?_method=detail&amp;sc.shopNo=0000400000&amp;sc.prdNo=356791451&amp;sc.saNo=003003001&amp;bid1=Best_zone&amp;bid2=LiveRanking&amp;bid3=PRD&amp;bid4=001\" target=\"_blank\">\n",
       "<div class=\"itemName\"><strong>마흔에 읽는 쇼펜하우어 </strong></div>\n",
       "<div class=\"itemMeta\">\n",
       "<span class=\"author\">강용수</span>\n",
       "<span class=\"company\">유노북스</span>\n",
       "</div>\n",
       "<div class=\"priceWrap\">\n",
       "<span class=\"price\">\n",
       "<em>15,300</em>\n",
       "<span class=\"currency\">원</span>\n",
       "</span>\n",
       "<span class=\"benefits\">\n",
       "<span>(</span>\n",
       "<span class=\"discount\">\n",
       "<em>10%</em>\n",
       "<span class=\"unit\">할인</span>\n",
       "</span>\n",
       "<span class=\"save\">\n",
       "<em>5%</em>\n",
       "<span class=\"unit\">적립</span>\n",
       "</span>\n",
       "<span>)</span>\n",
       "</span>\n",
       "</div>\n",
       "</a>\n",
       "<div class=\"reviewStat\">\n",
       "<span class=\"title\">평점</span>\n",
       "<span class=\"starRateWrap\">\n",
       "<span class=\"starRate\" style=\"width:100%\">10</span>\n",
       "</span>\n",
       "<em class=\"rateNumber\">10</em>\n",
       "</div>\n",
       "<div class=\"saleIndex\">\n",
       "<span class=\"title\">판매지수</span>\n",
       "<em class=\"indexNumber\">218,950</em>\n",
       "</div>\n",
       "<div class=\"relatedEvent\">\n",
       "<ul>\n",
       "<li>\n",
       "<a href=\"https://book.interpark.com/book/genbookeventaction.do?_method=EventPlan&amp;sc.evtNo=243019\" target=\"_blank\">[기획] 나를 빛나게 해 준  2...</a>\n",
       "</li>\n",
       "<li>\n",
       "<a href=\"http://book.interpark.com/book/genbookeventaction.do?_method=EventPlan&amp;sc.evtNo=241721\" target=\"_blank\">[기획] 바야흐로 교양의 시대 1...</a>\n",
       "</li>\n",
       "</ul>\n",
       "</div>\n",
       "</div>\n",
       "<!-- singleType or setType :: end -->\n",
       "</li>"
      ]
     },
     "execution_count": 19,
     "metadata": {},
     "output_type": "execute_result"
    }
   ],
   "source": [
    "lis[0]"
   ]
  },
  {
   "cell_type": "code",
   "execution_count": 9,
   "metadata": {},
   "outputs": [],
   "source": [
    "li = lis[0]"
   ]
  },
  {
   "cell_type": "code",
   "execution_count": 11,
   "metadata": {},
   "outputs": [
    {
     "data": {
      "text/plain": [
       "'마흔에 읽는 쇼펜하우어'"
      ]
     },
     "execution_count": 11,
     "metadata": {},
     "output_type": "execute_result"
    }
   ],
   "source": [
    "# 책 제목\n",
    "title = li.select_one('.itemName').get_text().strip()\n",
    "title"
   ]
  },
  {
   "cell_type": "code",
   "execution_count": 13,
   "metadata": {},
   "outputs": [
    {
     "data": {
      "text/plain": [
       "'강용수'"
      ]
     },
     "execution_count": 13,
     "metadata": {},
     "output_type": "execute_result"
    }
   ],
   "source": [
    "# 저자\n",
    "author  = li.select_one('.author').get_text().strip()\n",
    "author"
   ]
  },
  {
   "cell_type": "code",
   "execution_count": 14,
   "metadata": {},
   "outputs": [
    {
     "data": {
      "text/plain": [
       "'유노북스'"
      ]
     },
     "execution_count": 14,
     "metadata": {},
     "output_type": "execute_result"
    }
   ],
   "source": [
    "# 출판사\n",
    "company = li.select_one('.company').get_text().strip()\n",
    "company"
   ]
  },
  {
   "cell_type": "code",
   "execution_count": 18,
   "metadata": {},
   "outputs": [
    {
     "data": {
      "text/plain": [
       "15300"
      ]
     },
     "execution_count": 18,
     "metadata": {},
     "output_type": "execute_result"
    }
   ],
   "source": [
    "# 가격\n",
    "price = li.select_one(\".price > em\").get_text().strip()\n",
    "price = int(price.replace(',', ''))\n",
    "price"
   ]
  },
  {
   "cell_type": "code",
   "execution_count": 25,
   "metadata": {},
   "outputs": [
    {
     "data": {
      "text/plain": [
       "['rankBtn_ctrl', 'rkNum_B01']"
      ]
     },
     "execution_count": 25,
     "metadata": {},
     "output_type": "execute_result"
    }
   ],
   "source": [
    "# 순위\n",
    "rank_data = li.select('.rankBtn_ctrl')\n",
    "rank_data[0]['class']"
   ]
  },
  {
   "cell_type": "code",
   "execution_count": 27,
   "metadata": {},
   "outputs": [
    {
     "name": "stdout",
     "output_type": "stream",
     "text": [
      "['rankBtn_ctrl', 'rkNum_M01']\n",
      "['rankBtn_ctrl', 'rkNum_M05']\n"
     ]
    }
   ],
   "source": [
    "li13 = lis[14].select('.rankBtn_ctrl')\n",
    "print(li13[0]['class'])\n",
    "print(li13[1]['class'])"
   ]
  },
  {
   "cell_type": "code",
   "execution_count": null,
   "metadata": {},
   "outputs": [],
   "source": [
    "if len(rank_data) == 1:\n",
    "    rank = rank_data[0]['class'][1][-1]\n",
    "else:\n",
    "    rank = rank_data[0]['class'][1][-1] + rank_data[1]['class'][1][-1]"
   ]
  },
  {
   "cell_type": "code",
   "execution_count": 28,
   "metadata": {},
   "outputs": [],
   "source": [
    "data = []\n",
    "for li in lis:\n",
    "    rank_data = li.select('.rankBtn_ctrl')\n",
    "    if len(rank_data) == 1:\n",
    "        rank = rank_data[0]['class'][1][-1]\n",
    "    else:\n",
    "        rank = rank_data[0]['class'][1][-1] + rank_data[1]['class'][1][-1]\n",
    "    title = li.select_one('.itemName').get_text().strip()\n",
    "    author  = li.select_one('.author').get_text().strip()\n",
    "    company = li.select_one('.company').get_text().strip()\n",
    "    price = li.select_one(\".price > em\").get_text().strip()\n",
    "    price = int(price.replace(',', ''))\n",
    "    data.append({'순위' : rank, '제목' : title, '저자' : author,\n",
    "                    '출판사' : company, '가격' : price})"
   ]
  },
  {
   "cell_type": "code",
   "execution_count": 32,
   "metadata": {},
   "outputs": [
    {
     "data": {
      "text/html": [
       "<div>\n",
       "<style scoped>\n",
       "    .dataframe tbody tr th:only-of-type {\n",
       "        vertical-align: middle;\n",
       "    }\n",
       "\n",
       "    .dataframe tbody tr th {\n",
       "        vertical-align: top;\n",
       "    }\n",
       "\n",
       "    .dataframe thead th {\n",
       "        text-align: right;\n",
       "    }\n",
       "</style>\n",
       "<table border=\"1\" class=\"dataframe\">\n",
       "  <thead>\n",
       "    <tr style=\"text-align: right;\">\n",
       "      <th></th>\n",
       "      <th>순위</th>\n",
       "      <th>제목</th>\n",
       "      <th>저자</th>\n",
       "      <th>출판사</th>\n",
       "      <th>가격</th>\n",
       "    </tr>\n",
       "  </thead>\n",
       "  <tbody>\n",
       "    <tr>\n",
       "      <th>0</th>\n",
       "      <td>1</td>\n",
       "      <td>마흔에 읽는 쇼펜하우어</td>\n",
       "      <td>강용수</td>\n",
       "      <td>유노북스</td>\n",
       "      <td>15300</td>\n",
       "    </tr>\n",
       "    <tr>\n",
       "      <th>1</th>\n",
       "      <td>2</td>\n",
       "      <td>인생은 순간이다</td>\n",
       "      <td>김성근</td>\n",
       "      <td>다산북스</td>\n",
       "      <td>16200</td>\n",
       "    </tr>\n",
       "    <tr>\n",
       "      <th>2</th>\n",
       "      <td>3</td>\n",
       "      <td>내가 생각한 인생이 아니야</td>\n",
       "      <td>류시화</td>\n",
       "      <td>수오서재</td>\n",
       "      <td>16200</td>\n",
       "    </tr>\n",
       "    <tr>\n",
       "      <th>3</th>\n",
       "      <td>3</td>\n",
       "      <td>장하리</td>\n",
       "      <td>추미애</td>\n",
       "      <td>해피스토리</td>\n",
       "      <td>19800</td>\n",
       "    </tr>\n",
       "    <tr>\n",
       "      <th>4</th>\n",
       "      <td>3</td>\n",
       "      <td>퓨처 셀프</td>\n",
       "      <td>벤저민 하디/최은아 역</td>\n",
       "      <td>상상스퀘어</td>\n",
       "      <td>17820</td>\n",
       "    </tr>\n",
       "    <tr>\n",
       "      <th>5</th>\n",
       "      <td>6</td>\n",
       "      <td>100일 아침 습관의 기적</td>\n",
       "      <td>켈리 최</td>\n",
       "      <td>다산북스</td>\n",
       "      <td>17100</td>\n",
       "    </tr>\n",
       "    <tr>\n",
       "      <th>6</th>\n",
       "      <td>7</td>\n",
       "      <td>황금종이 1</td>\n",
       "      <td>조정래</td>\n",
       "      <td>해냄출판사</td>\n",
       "      <td>16650</td>\n",
       "    </tr>\n",
       "    <tr>\n",
       "      <th>7</th>\n",
       "      <td>8</td>\n",
       "      <td>남에게 보여주려고 인생을 낭비하지 마라</td>\n",
       "      <td>쇼펜하우어/박제헌 역</td>\n",
       "      <td>페이지2북스</td>\n",
       "      <td>15750</td>\n",
       "    </tr>\n",
       "    <tr>\n",
       "      <th>8</th>\n",
       "      <td>8</td>\n",
       "      <td>세이노의 가르침</td>\n",
       "      <td>세이노</td>\n",
       "      <td>데이원</td>\n",
       "      <td>6480</td>\n",
       "    </tr>\n",
       "    <tr>\n",
       "      <th>9</th>\n",
       "      <td>10</td>\n",
       "      <td>흔한남매 15</td>\n",
       "      <td>흔한남매, 백난도/유난희 그림/흔한컴퍼니 감수</td>\n",
       "      <td>미래엔아이세움</td>\n",
       "      <td>13050</td>\n",
       "    </tr>\n",
       "    <tr>\n",
       "      <th>10</th>\n",
       "      <td>10</td>\n",
       "      <td>황금종이 2</td>\n",
       "      <td>조정래</td>\n",
       "      <td>해냄출판사</td>\n",
       "      <td>16650</td>\n",
       "    </tr>\n",
       "    <tr>\n",
       "      <th>11</th>\n",
       "      <td>12</td>\n",
       "      <td>더 마인드</td>\n",
       "      <td>하와이 대저택</td>\n",
       "      <td>웅진지식하우스</td>\n",
       "      <td>17820</td>\n",
       "    </tr>\n",
       "    <tr>\n",
       "      <th>12</th>\n",
       "      <td>12</td>\n",
       "      <td>트렌드 코리아 2024</td>\n",
       "      <td>김난도, 추예린, 전다현, 전미영, 최지혜</td>\n",
       "      <td>미래의창</td>\n",
       "      <td>17100</td>\n",
       "    </tr>\n",
       "    <tr>\n",
       "      <th>13</th>\n",
       "      <td>14</td>\n",
       "      <td>손실 없는 투자 원칙</td>\n",
       "      <td>남석관</td>\n",
       "      <td>모루</td>\n",
       "      <td>18000</td>\n",
       "    </tr>\n",
       "    <tr>\n",
       "      <th>14</th>\n",
       "      <td>15</td>\n",
       "      <td>오십에 읽는 주역</td>\n",
       "      <td>강병국</td>\n",
       "      <td>유노북스</td>\n",
       "      <td>15300</td>\n",
       "    </tr>\n",
       "  </tbody>\n",
       "</table>\n",
       "</div>"
      ],
      "text/plain": [
       "    순위                     제목                         저자      출판사     가격\n",
       "0    1           마흔에 읽는 쇼펜하우어                        강용수     유노북스  15300\n",
       "1    2               인생은 순간이다                        김성근     다산북스  16200\n",
       "2    3         내가 생각한 인생이 아니야                        류시화     수오서재  16200\n",
       "3    3                    장하리                        추미애    해피스토리  19800\n",
       "4    3                  퓨처 셀프               벤저민 하디/최은아 역    상상스퀘어  17820\n",
       "5    6         100일 아침 습관의 기적                       켈리 최     다산북스  17100\n",
       "6    7                 황금종이 1                        조정래    해냄출판사  16650\n",
       "7    8  남에게 보여주려고 인생을 낭비하지 마라                쇼펜하우어/박제헌 역   페이지2북스  15750\n",
       "8    8               세이노의 가르침                        세이노      데이원   6480\n",
       "9   10                흔한남매 15  흔한남매, 백난도/유난희 그림/흔한컴퍼니 감수  미래엔아이세움  13050\n",
       "10  10                 황금종이 2                        조정래    해냄출판사  16650\n",
       "11  12                  더 마인드                    하와이 대저택  웅진지식하우스  17820\n",
       "12  12           트렌드 코리아 2024    김난도, 추예린, 전다현, 전미영, 최지혜     미래의창  17100\n",
       "13  14            손실 없는 투자 원칙                        남석관       모루  18000\n",
       "14  15              오십에 읽는 주역                        강병국     유노북스  15300"
      ]
     },
     "execution_count": 32,
     "metadata": {},
     "output_type": "execute_result"
    }
   ],
   "source": [
    "df = pd.DataFrame(data)\n",
    "df"
   ]
  },
  {
   "cell_type": "code",
   "execution_count": 31,
   "metadata": {},
   "outputs": [],
   "source": [
    "df.to_csv('인터파크베스트셀러.csv')"
   ]
  }
 ],
 "metadata": {
  "kernelspec": {
   "display_name": "Python 3",
   "language": "python",
   "name": "python3"
  },
  "language_info": {
   "codemirror_mode": {
    "name": "ipython",
    "version": 3
   },
   "file_extension": ".py",
   "mimetype": "text/x-python",
   "name": "python",
   "nbconvert_exporter": "python",
   "pygments_lexer": "ipython3",
   "version": "3.9.12"
  }
 },
 "nbformat": 4,
 "nbformat_minor": 2
}
