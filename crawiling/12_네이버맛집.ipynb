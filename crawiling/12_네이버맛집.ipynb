{
 "cells": [
  {
   "cell_type": "markdown",
   "metadata": {},
   "source": [
    "# 네이버 검색 결과 클롤링"
   ]
  },
  {
   "cell_type": "code",
   "execution_count": null,
   "metadata": {},
   "outputs": [],
   "source": [
    "# 신촌역 맛집 / selenium을 활용하기"
   ]
  },
  {
   "cell_type": "code",
   "execution_count": 2,
   "metadata": {},
   "outputs": [],
   "source": [
    "import requests\n",
    "import pandas as pd\n",
    "from bs4 import BeautifulSoup\n",
    "from urllib.parse import quote"
   ]
  },
  {
   "cell_type": "code",
   "execution_count": 3,
   "metadata": {},
   "outputs": [],
   "source": [
    "# requests.get으로 데이터 가져오기\n",
    "base_url = 'https://search.naver.com/search.naver?where=view&sm=tab_jum'\n",
    "url = f'{base_url}&query={quote(\"신촌역 맛집\")}'\n",
    "res = requests.get(url)\n",
    "soup = BeautifulSoup(res.text, 'html.parser')"
   ]
  },
  {
   "cell_type": "code",
   "execution_count": 4,
   "metadata": {},
   "outputs": [
    {
     "data": {
      "text/plain": [
       "64"
      ]
     },
     "execution_count": 4,
     "metadata": {},
     "output_type": "execute_result"
    }
   ],
   "source": [
    "lis = soup.select('.api_subject_bx > ul > li')\n",
    "len(lis)"
   ]
  },
  {
   "cell_type": "code",
   "execution_count": 5,
   "metadata": {},
   "outputs": [
    {
     "data": {
      "text/plain": [
       "<li class=\"bx\" data-cr-area=\"rvw*x\" data-cr-gdid=\"90000003_0000000000000033FCCC5D46\" data-cr-rank=\"1\"> <div class=\"view_wrap\"> <div class=\"user_box\"> <div class=\"api_save_group _keep_wrap\"> <a aria-pressed=\"false\" class=\"btn_save _keep_trigger\" data-url=\"https://blog.naver.com/neomi4040/223284583750\" href=\"#\" onclick=\"tCR('a=rvw*x.kep&amp;r=1&amp;i=90000003_0000000000000033FCCC5D46&amp;u=javascript'); return false;\" role=\"button\"><i class=\"spnew ico_save\">문서 저장하기</i></a> <div class=\"api_ly_save _keep_save_layer\"> <a class=\"spnew_af item item_save _keep_save\" data-cr-off=\"a=rvw*x.kepoff&amp;r=1&amp;i=90000003_0000000000000033FCCC5D46&amp;u=javascript\" data-cr-on=\"a=rvw*x.kepon&amp;r=1&amp;i=90000003_0000000000000033FCCC5D46&amp;u=javascript\" href=\"#\" role=\"button\">Keep에 저장</a> <a class=\"spnew_af item item_quick\" href=\"https://keep.naver.com/\" onclick=\"return goOtherCR(this,'a=rvw*x.kephome&amp;r=1&amp;i=90000003_0000000000000033FCCC5D46&amp;u='+urlencode(this.href));\" target=\"_blank\">Keep 바로가기</a> </div> </div> <div class=\"user_box_inner\"> <a class=\"user_thumb\" href=\"https://blog.naver.com/neomi4040\" onclick=\"return goOtherCR(this, 'a=rvw*x.writer&amp;r=1&amp;i=90000003_0000000000000033FCCC5D46&amp;u='+urlencode(this.href))\" target=\"_blank\"> <img alt=\"\" class=\"img\" height=\"24\" onerror=\"this.src='data:image/gif;base64,R0lGODlhAQABAIAAAAAAAP///yH5BAEAAAAALAAAAAABAAEAAAIBRAA7';this.className='img bg_nimg_c'\" src=\"https://search.pstatic.net/common/?src=http%3A%2F%2Fblogpfthumb.phinf.naver.net%2FMjAxOTA0MTJfMSAg%2FMDAxNTU1MDQzMjg3NDky.kEs3suLoL4dDGIDm-GWvotj_ejsg5REFOApIO6L5Ufkg._lqKdGxVIQ0HDTqTcsqlyt8BwyTVzxSnartf8_gcMVQg.JPEG.neomi4040%2F20170627_094401.jpg&amp;type=f54_54\" width=\"24\"/> </a> <div class=\"user_info\"> <a class=\"name\" href=\"https://blog.naver.com/neomi4040\" onclick=\"return goOtherCR(this, 'a=rvw*x.writer&amp;r=1&amp;i=90000003_0000000000000033FCCC5D46&amp;u='+urlencode(this.href))\" target=\"_blank\">SMILE *^^*</a> <span class=\"sub\">1주 전</span> </div> </div> </div><div class=\"detail_box\"> <div class=\"title_area\"> <a class=\"title_link _cross_trigger\" data-cr-gdid=\"90000003_0000000000000033FCCC5D46\" href=\"https://blog.naver.com/neomi4040/223284583750\" onclick=\"return goOtherCR(this, 'a=rvw*x.link&amp;r=1&amp;i=90000003_0000000000000033FCCC5D46&amp;u='+urlencode(this.href))\" target=\"_blank\">분위기 좋은 <mark>신촌역 맛집</mark></a> </div> <div class=\"dsc_area\"> <a class=\"dsc_link _cross_trigger\" data-cr-gdid=\"90000003_0000000000000033FCCC5D46\" href=\"https://blog.naver.com/neomi4040/223284583750\" onclick=\"return goOtherCR(this, 'a=rvw*x.link&amp;r=1&amp;i=90000003_0000000000000033FCCC5D46&amp;u='+urlencode(this.href))\" target=\"_blank\">#<mark>신촌역맛집</mark> #르바게트메종 지난 휴일 친구들이랑 약속이 있어서 만났다가 한끼 식사로도 충분했던 <mark>신촌역 맛집</mark>에 다녀왔어요. 디저트라기에는 양도 푸짐하고 가격도 저렴해서 만족스러웠던 곳이라서 소개해보려고해요. 1. 르바게트메종 단밤(시그니쳐) 6,500원 주소...</a> </div> <div class=\"mod_ugc_thumb_area\"> <div class=\"mod_thumb_bx\"> <div class=\"thumb_item\"> <a class=\"thumb_link _cross_trigger\" data-cr-gdid=\"90000003_0000000000000033FCCC5D46\" href=\"https://blog.naver.com/neomi4040/223284583750\" onclick=\"return goOtherCR(this, 'a=rvw*x.link&amp;r=1&amp;i=90000003_0000000000000033FCCC5D46&amp;u='+urlencode(this.href))\" target=\"_blank\"> <img alt=\"\" class=\"img\" height=\"104\" onerror=\"this.src='data:image/gif;base64,R0lGODlhAQABAIAAAAAAAP///yH5BAEAAAAALAAAAAABAAEAAAIBRAA7';this.className='img bg_nimg2';this.alt='이미지준비중';\" src=\"https://search.pstatic.net/common/?src=http%3A%2F%2Fblogfiles.naver.net%2FMjAyMzEyMDZfMjk3%2FMDAxNzAxODQwNDE4OTU5.xpFFW2jtsPkbcreSdVuFQWzkRoLeTiUE2jgJra0O-XQg.P5Uv_DQEsDagTFpVJXraDzmWwIxPKyKWT8s5spQqVTUg.JPEG.neomi4040%2F14%25A1%25DA%25B4%25EB%25C7%25A5%25BB%25E7%25C1%25F8.JPG%233024x3024&amp;type=f250_208\" width=\"125\"/> </a> </div> <div class=\"thumb_item\"> <a class=\"thumb_link _cross_trigger\" data-cr-gdid=\"90000003_0000000000000033FCCC5D46\" href=\"https://blog.naver.com/neomi4040/223284583750\" onclick=\"return goOtherCR(this, 'a=rvw*x.link&amp;r=1&amp;i=90000003_0000000000000033FCCC5D46&amp;u='+urlencode(this.href))\" target=\"_blank\"> <img alt=\"\" class=\"img\" height=\"104\" onerror=\"this.src='data:image/gif;base64,R0lGODlhAQABAIAAAAAAAP///yH5BAEAAAAALAAAAAABAAEAAAIBRAA7';this.className='img bg_nimg2';this.alt='이미지준비중';\" src=\"https://search.pstatic.net/common/?src=http%3A%2F%2Fblogfiles.naver.net%2FMjAyMzEyMDZfMjIx%2FMDAxNzAxODQwMjM4MjI4.PsSsLZfaBAcG47FUV-uYcv7eP6F49w8M1b_mOmB36XAg._giB89jegUrWL3gSj1VV4sSuqHPoGfjjUCNSOoGvGc8g.JPEG.neomi4040%2F1.JPG%233024x3024&amp;type=f250_208\" width=\"125\"/> </a> </div> <div class=\"thumb_item\"> <a class=\"thumb_link _cross_trigger\" data-cr-gdid=\"90000003_0000000000000033FCCC5D46\" href=\"https://blog.naver.com/neomi4040/223284583750\" onclick=\"return goOtherCR(this, 'a=rvw*x.link&amp;r=1&amp;i=90000003_0000000000000033FCCC5D46&amp;u='+urlencode(this.href))\" target=\"_blank\"> <img alt=\"\" class=\"img\" height=\"104\" onerror=\"this.src='data:image/gif;base64,R0lGODlhAQABAIAAAAAAAP///yH5BAEAAAAALAAAAAABAAEAAAIBRAA7';this.className='img bg_nimg2';this.alt='이미지준비중';\" src=\"https://search.pstatic.net/common/?src=http%3A%2F%2Fblogfiles.naver.net%2FMjAyMzEyMDZfMTQz%2FMDAxNzAxODQwMzE1NjAz.AqsfjGi9SasPt9_EgarjefnME7yjk1OxImrSzt4SnuQg.VDFH6qr6UJ6AodU-d3wvQZVZVK1vJj1EQnxf4dro2vEg.JPEG.neomi4040%2F2.JPG%233024x3024&amp;type=f250_208\" width=\"125\"/> </a> </div> <div class=\"thumb_item\"> <a class=\"thumb_link _cross_trigger\" data-cr-gdid=\"90000003_0000000000000033FCCC5D46\" href=\"https://blog.naver.com/neomi4040/223284583750\" onclick=\"return goOtherCR(this, 'a=rvw*x.link&amp;r=1&amp;i=90000003_0000000000000033FCCC5D46&amp;u='+urlencode(this.href))\" target=\"_blank\"> <img alt=\"\" class=\"img\" height=\"104\" onerror=\"this.src='data:image/gif;base64,R0lGODlhAQABAIAAAAAAAP///yH5BAEAAAAALAAAAAABAAEAAAIBRAA7';this.className='img bg_nimg2';this.alt='이미지준비중';\" src=\"https://search.pstatic.net/common/?src=http%3A%2F%2Fblogfiles.naver.net%2FMjAyMzEyMDZfMjE4%2FMDAxNzAxODQwMzI0ODI1.Ci13647CbZmX728LBM_WUYGYIkn4eIVYr985TFaVhtEg.dijEorCNjUp4DEknk29-kJ1PDjwTN6i3zPJXhJhrv7Ig.JPEG.neomi4040%2F3.JPG%233024x3024&amp;type=f250_208\" width=\"125\"/> </a> </div> <div class=\"thumb_item\"> <a class=\"thumb_link _cross_trigger\" data-cr-gdid=\"90000003_0000000000000033FCCC5D46\" href=\"https://blog.naver.com/neomi4040/223284583750\" onclick=\"return goOtherCR(this, 'a=rvw*x.link&amp;r=1&amp;i=90000003_0000000000000033FCCC5D46&amp;u='+urlencode(this.href))\" target=\"_blank\"> <img alt=\"\" class=\"img\" height=\"104\" onerror=\"this.src='data:image/gif;base64,R0lGODlhAQABAIAAAAAAAP///yH5BAEAAAAALAAAAAABAAEAAAIBRAA7';this.className='img bg_nimg2';this.alt='이미지준비중';\" src=\"https://search.pstatic.net/common/?src=http%3A%2F%2Fblogfiles.naver.net%2FMjAyMzEyMDZfMjA4%2FMDAxNzAxODQwMzMzMzM4.0MZB9lm2CZthXub85lYPl2QzEiVSxC1yRVhO5lu35PMg.E7wVV7DbaDXeQWM70zWdXUG6CcUMj1oHVYfxzvZVTtIg.JPEG.neomi4040%2F4.JPG%233024x3024&amp;type=f250_208\" width=\"125\"/> </a> </div> <span class=\"num\">23</span> </div> </div></div></div></li>"
      ]
     },
     "execution_count": 5,
     "metadata": {},
     "output_type": "execute_result"
    }
   ],
   "source": [
    "lis[0]"
   ]
  },
  {
   "cell_type": "markdown",
   "metadata": {},
   "source": [
    "# selenium 이용해서 데이터를 가져오기"
   ]
  },
  {
   "cell_type": "code",
   "execution_count": 6,
   "metadata": {},
   "outputs": [],
   "source": [
    "from selenium import webdriver\n",
    "driver = webdriver.Chrome()\n",
    "driver.get(url)"
   ]
  },
  {
   "cell_type": "code",
   "execution_count": 7,
   "metadata": {},
   "outputs": [],
   "source": [
    "# view 페이지를 아래로 내려서 많은 데이터 확보\n",
    "from selenium.webdriver.common.by import By\n",
    "from selenium.webdriver.common.keys import Keys\n",
    "import time\n",
    "\n",
    "body = driver.find_element(By.TAG_NAME, 'body')\n",
    "for _ in range(15):\n",
    "    body.send_keys(Keys.PAGE_DOWN)\n",
    "    time.sleep(1)"
   ]
  },
  {
   "cell_type": "code",
   "execution_count": 8,
   "metadata": {},
   "outputs": [
    {
     "data": {
      "text/plain": [
       "90"
      ]
     },
     "execution_count": 8,
     "metadata": {},
     "output_type": "execute_result"
    }
   ],
   "source": [
    "soup1 = BeautifulSoup(driver.page_source)\n",
    "lis = soup1.select('.view_wrap')\n",
    "len(lis)"
   ]
  },
  {
   "cell_type": "code",
   "execution_count": 9,
   "metadata": {},
   "outputs": [],
   "source": [
    "li = lis[3]"
   ]
  },
  {
   "cell_type": "code",
   "execution_count": 10,
   "metadata": {},
   "outputs": [
    {
     "data": {
      "text/plain": [
       "'신촌역 맛집 라구식당 파스타 라자냐 신촌 데이트'"
      ]
     },
     "execution_count": 10,
     "metadata": {},
     "output_type": "execute_result"
    }
   ],
   "source": [
    "title = li.select_one('.title_link._cross_trigger').get_text().strip()\n",
    "title"
   ]
  },
  {
   "cell_type": "code",
   "execution_count": 11,
   "metadata": {},
   "outputs": [
    {
     "data": {
      "text/plain": [
       "'4. 총평 신촌역 맛집 라구식당 다녀왔어요!! 파스타와 라자냐가 유명한 레스토랑입니다. 신촌 데이트 하기에 최고의 분위기 가지고 있었어요. 여기에 와인, 맥주, 샹그리아 등 곁들일 수 있어서 연말 모임 장소 찾으시면 추천드려요!! #신촌역맛집 #라구식당 #신촌데이트'"
      ]
     },
     "execution_count": 11,
     "metadata": {},
     "output_type": "execute_result"
    }
   ],
   "source": [
    "contents = li.select_one('.dsc_link._cross_trigger').get_text().strip()\n",
    "contents"
   ]
  },
  {
   "cell_type": "code",
   "execution_count": 12,
   "metadata": {},
   "outputs": [
    {
     "data": {
      "text/plain": [
       "'2023.11.01.'"
      ]
     },
     "execution_count": 12,
     "metadata": {},
     "output_type": "execute_result"
    }
   ],
   "source": [
    "date = li.select_one('.sub').get_text().strip()\n",
    "date"
   ]
  },
  {
   "cell_type": "code",
   "execution_count": 13,
   "metadata": {},
   "outputs": [
    {
     "data": {
      "text/plain": [
       "datetime.datetime(2023, 12, 13, 9, 18, 56, 63436)"
      ]
     },
     "execution_count": 13,
     "metadata": {},
     "output_type": "execute_result"
    }
   ],
   "source": [
    "from datetime import datetime, timedelta\n",
    "\n",
    "now = datetime.now()\n",
    "now"
   ]
  },
  {
   "cell_type": "code",
   "execution_count": 14,
   "metadata": {},
   "outputs": [
    {
     "data": {
      "text/plain": [
       "'2023.12.12'"
      ]
     },
     "execution_count": 14,
     "metadata": {},
     "output_type": "execute_result"
    }
   ],
   "source": [
    "# 어제\n",
    "date = now - timedelta(days=1)\n",
    "f'{date.year}.{date.month:02d}.{date.day:02d}'"
   ]
  },
  {
   "cell_type": "code",
   "execution_count": 15,
   "metadata": {},
   "outputs": [
    {
     "data": {
      "text/plain": [
       "'2023.12.07'"
      ]
     },
     "execution_count": 15,
     "metadata": {},
     "output_type": "execute_result"
    }
   ],
   "source": [
    "# 6일전\n",
    "date = now - timedelta(days=6)\n",
    "date.strftime('%Y.%m.%d') "
   ]
  },
  {
   "cell_type": "code",
   "execution_count": 17,
   "metadata": {},
   "outputs": [
    {
     "data": {
      "text/plain": [
       "'2023.12.13'"
      ]
     },
     "execution_count": 17,
     "metadata": {},
     "output_type": "execute_result"
    }
   ],
   "source": [
    "# 40분전\n",
    "date = now - timedelta(minutes=40)\n",
    "date.strftime('%Y.%m.%d') "
   ]
  },
  {
   "cell_type": "code",
   "execution_count": 18,
   "metadata": {},
   "outputs": [
    {
     "data": {
      "text/plain": [
       "'2023.11.22'"
      ]
     },
     "execution_count": 18,
     "metadata": {},
     "output_type": "execute_result"
    }
   ],
   "source": [
    "# 3주전 \n",
    "date = now - timedelta(weeks=3)\n",
    "date.strftime('%Y.%m.%d') "
   ]
  },
  {
   "cell_type": "code",
   "execution_count": 21,
   "metadata": {},
   "outputs": [],
   "source": [
    "def convert_date(s):\n",
    "    if len(s) == 11:    #'2023.12.13.'\n",
    "        return s[:-1]\n",
    "    \n",
    "    now = datetime.now()\n",
    "    if '어제' in s:\n",
    "        date = now - timedelta(1)\n",
    "    elif '일' in s:\n",
    "        date = now - timedelta(int(s[0]))\n",
    "    elif '시간' in s : \n",
    "        date = now - timedelta(hours=int(s[:-4]))\n",
    "    elif '분' in s:\n",
    "        date = now - timedelta(minutes=int(s[:-3]))\n",
    "    elif '주 전' in s:\n",
    "         date = now - timedelta(weeks=int(s[0]))\n",
    "    \n",
    "    return date.strftime('%Y.%m.%d') \n"
   ]
  },
  {
   "cell_type": "code",
   "execution_count": 22,
   "metadata": {},
   "outputs": [],
   "source": [
    "data = []\n",
    "for li in lis:\n",
    "    date = convert_date(li.select_one('.sub').get_text().strip())\n",
    "    title = li.select_one('.title_link._cross_trigger').get_text().strip()\n",
    "    contents = li.select_one('.dsc_link._cross_trigger').get_text().strip()\n",
    "    data.append({'날짜' : date, '제목' : title, '내용': contents})"
   ]
  },
  {
   "cell_type": "code",
   "execution_count": 24,
   "metadata": {},
   "outputs": [
    {
     "data": {
      "text/html": [
       "<div>\n",
       "<style scoped>\n",
       "    .dataframe tbody tr th:only-of-type {\n",
       "        vertical-align: middle;\n",
       "    }\n",
       "\n",
       "    .dataframe tbody tr th {\n",
       "        vertical-align: top;\n",
       "    }\n",
       "\n",
       "    .dataframe thead th {\n",
       "        text-align: right;\n",
       "    }\n",
       "</style>\n",
       "<table border=\"1\" class=\"dataframe\">\n",
       "  <thead>\n",
       "    <tr style=\"text-align: right;\">\n",
       "      <th></th>\n",
       "      <th>날짜</th>\n",
       "      <th>제목</th>\n",
       "      <th>내용</th>\n",
       "    </tr>\n",
       "  </thead>\n",
       "  <tbody>\n",
       "    <tr>\n",
       "      <th>85</th>\n",
       "      <td>2023.06.30</td>\n",
       "      <td>신촌역 맛집 최강 가성비의 고기집(통큰갈비 신촌본점)</td>\n",
       "      <td>#신촌역맛집 #신촌역고기집 #통큰갈비신촌 신촌 중심가에서 살짝 떨어져 있는데요. 요...</td>\n",
       "    </tr>\n",
       "    <tr>\n",
       "      <th>86</th>\n",
       "      <td>2023.10.28</td>\n",
       "      <td>신촌역 맛집 소신이쏘 매운갈비찜</td>\n",
       "      <td>기본으로 김가루가 뿌려진 밥이 제공돼서 이거에 매운갈비찜 비벼먹으면 천국가는맛 ㅠ ...</td>\n",
       "    </tr>\n",
       "    <tr>\n",
       "      <th>87</th>\n",
       "      <td>2023.11.29</td>\n",
       "      <td>신촌점 피자몰 피자뷔페 신촌역맛집 추천 서울 아이와 가볼만한곳</td>\n",
       "      <td>오픈하자마자 갔더니 사람이 아직 들어오기 전이었는데 11시 조금 넘으니까 웨이팅이 ...</td>\n",
       "    </tr>\n",
       "    <tr>\n",
       "      <th>88</th>\n",
       "      <td>2023.12.06</td>\n",
       "      <td>[서울 서대문] 신촌역맛집 연대찜닭맛집 봉추찜닭 신촌점</td>\n",
       "      <td>#봉추찜닭 #신촌역찜닭 #연대찜닭 #연대맛집 #신촌맛집 #서울찜닭맛집 #신촌닭요리 ...</td>\n",
       "    </tr>\n",
       "    <tr>\n",
       "      <th>89</th>\n",
       "      <td>2023.11.15</td>\n",
       "      <td>신촌역 맛집 쭈꾸미블루스신촌점</td>\n",
       "      <td>#신촌맛집 #신촌 데이트 #신촌역맛집 #쭈꾸미블루스 #쭈꾸미블루스신촌본점 #쭈꾸미블...</td>\n",
       "    </tr>\n",
       "  </tbody>\n",
       "</table>\n",
       "</div>"
      ],
      "text/plain": [
       "            날짜                                  제목  \\\n",
       "85  2023.06.30       신촌역 맛집 최강 가성비의 고기집(통큰갈비 신촌본점)   \n",
       "86  2023.10.28                   신촌역 맛집 소신이쏘 매운갈비찜   \n",
       "87  2023.11.29  신촌점 피자몰 피자뷔페 신촌역맛집 추천 서울 아이와 가볼만한곳   \n",
       "88  2023.12.06      [서울 서대문] 신촌역맛집 연대찜닭맛집 봉추찜닭 신촌점   \n",
       "89  2023.11.15                    신촌역 맛집 쭈꾸미블루스신촌점   \n",
       "\n",
       "                                                   내용  \n",
       "85  #신촌역맛집 #신촌역고기집 #통큰갈비신촌 신촌 중심가에서 살짝 떨어져 있는데요. 요...  \n",
       "86  기본으로 김가루가 뿌려진 밥이 제공돼서 이거에 매운갈비찜 비벼먹으면 천국가는맛 ㅠ ...  \n",
       "87  오픈하자마자 갔더니 사람이 아직 들어오기 전이었는데 11시 조금 넘으니까 웨이팅이 ...  \n",
       "88  #봉추찜닭 #신촌역찜닭 #연대찜닭 #연대맛집 #신촌맛집 #서울찜닭맛집 #신촌닭요리 ...  \n",
       "89  #신촌맛집 #신촌 데이트 #신촌역맛집 #쭈꾸미블루스 #쭈꾸미블루스신촌본점 #쭈꾸미블...  "
      ]
     },
     "execution_count": 24,
     "metadata": {},
     "output_type": "execute_result"
    }
   ],
   "source": [
    "df = pd.DataFrame(data)\n",
    "df.tail()"
   ]
  }
 ],
 "metadata": {
  "kernelspec": {
   "display_name": "Python 3",
   "language": "python",
   "name": "python3"
  },
  "language_info": {
   "codemirror_mode": {
    "name": "ipython",
    "version": 3
   },
   "file_extension": ".py",
   "mimetype": "text/x-python",
   "name": "python",
   "nbconvert_exporter": "python",
   "pygments_lexer": "ipython3",
   "version": "3.9.12"
  }
 },
 "nbformat": 4,
 "nbformat_minor": 2
}
