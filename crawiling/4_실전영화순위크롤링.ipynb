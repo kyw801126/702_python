{
 "cells": [
  {
   "cell_type": "code",
   "execution_count": 11,
   "metadata": {},
   "outputs": [],
   "source": [
    "import requests\n",
    "from bs4 import BeautifulSoup\n",
    "headers = {'User-Agent':'Mozilla/5.0 (Windows NT 10.0; Win64; x64) AppleWebKit/537.36 (KHTML, like Gecko) Chrome/119.0.0.0 Safari/537.36'}\n",
    "url = 'https://search.daum.net/search?w=tot&DA=YZR&t__nil_searchbox=btn&sug=&sugo=&sq=&o=&q=%EC%98%81%ED%99%94%EC%88%9C%EC%9C%84'"
   ]
  },
  {
   "cell_type": "code",
   "execution_count": 13,
   "metadata": {},
   "outputs": [],
   "source": [
    "response = requests.get(url, headers=headers)\n",
    "soup =  BeautifulSoup(response.text, 'html.parser')"
   ]
  },
  {
   "cell_type": "code",
   "execution_count": 21,
   "metadata": {},
   "outputs": [
    {
     "name": "stdout",
     "output_type": "stream",
     "text": [
      "[<li> <div class=\"wrap_thumb\"> <a class=\"thumb\" href=\"?w=tot&amp;q=%EC%84%9C%EC%9A%B8%EC%9D%98%20%EB%B4%84&amp;DA=MOR&amp;rtmaxcoll=EM1&amp;irt=movie-single&amp;irk=156628\" onclick='smartLog(this, \"dc=MOR&amp;p=4&amp;r=1&amp;rc=1&amp;pg=1&amp;d=156628\", event);'> <img alt=\"\" class=\"thumb_img\" height=\"164\" is-person-img=\"false\" src=\"https://search1.kakaocdn.net/thumb/R232x328.q85/?fname=https%3A%2F%2Ft1.daumcdn.net%2Fmovie%2Ff47bdb7c3174e8bcf43fb6ab27283fc2f4d34555\" width=\"116\"/> <span class=\"num_rank\"> <span class=\"img_number num_rank01\">1위</span> </span> </a> </div> <div class=\"wrap_cont\"> <div class=\"info_tit\"> <a class=\"tit_main\" href=\"?w=tot&amp;q=%EC%84%9C%EC%9A%B8%EC%9D%98%20%EB%B4%84&amp;DA=MOR&amp;rtmaxcoll=EM1&amp;irt=movie-single&amp;irk=156628\" onclick='smartLog(this, \"dc=MOR&amp;p=3&amp;r=1&amp;rc=1&amp;pg=1&amp;d=156628\", event);'> 서울의 봄 </a> </div> <dl class=\"dl_comm star_comp_s\"> <dt class=\"screen_out\">평점</dt> <dd class=\"score\"> <span class=\"ico_rwd star_off\"><span class=\"ico_rwd star_on\" style=\"width:95%\"></span></span> <em class=\"rate\">9.5</em> </dd> <dt class=\"screen_out\">참여</dt> <dd class=\"review\"> <a class=\"link_count\" href=\"http://movie.daum.net/moviedb/grade?movieId=156628\" target=\"_blank\"> 2,631명 참여 </a> </dd> </dl> <dl class=\"dl_comm\"> <dt class=\"tit_base\">예매</dt> <dd class=\"cont\">61.8%</dd> </dl> <dl class=\"dl_comm\"> <dt class=\"tit_base\">개봉</dt> <dd class=\"cont\">2023.11.22.</dd> </dl> <dl class=\"dl_comm\"> <dt class=\"tit_base\">누적</dt> <dd class=\"cont\">5,471,675명</dd> </dl> </div> <div class=\"wrap_btn\"> <a class=\"btn_comp_l btn_emph3\" href=\"https://movie.daum.net/moviedb/contents?movieId=156628\" onclick='smartLog(this, \"dc=MOR&amp;p=5&amp;r=1&amp;rc=1&amp;pg=1&amp;d=156628\", event);' target=\"_blank\"> <span class=\"inner\">예고편</span> </a> <a class=\"btn_comp_l btn_emph3\" href=\"http://movie.daum.net/moviedb/photoviewer?id=156628#start/PhotoList\" onclick='smartLog(this, \"dc=MOR&amp;p=5&amp;r=1&amp;rc=1&amp;pg=1&amp;d=156628\", event);' target=\"_blank\"> <span class=\"inner\">포토</span> </a> </div> </li>, <li> <div class=\"wrap_thumb\"> <a class=\"thumb\" href=\"?w=tot&amp;q=%EB%85%B8%EB%9F%89%3A%20%EC%A3%BD%EC%9D%8C%EC%9D%98%20%EB%B0%94%EB%8B%A4&amp;DA=MOR&amp;rtmaxcoll=EM1&amp;irt=movie-single&amp;irk=146751\" onclick='smartLog(this, \"dc=MOR&amp;p=4&amp;r=1&amp;rc=1&amp;pg=1&amp;d=146751\", event);'> <img alt=\"\" class=\"thumb_img\" height=\"164\" is-person-img=\"false\" src=\"https://search1.kakaocdn.net/thumb/R232x328.q85/?fname=https%3A%2F%2Ft1.daumcdn.net%2Fmovie%2Fbb7bdf21bbcfa8c12533347e2bcd27d651a8d909\" width=\"116\"/> <span class=\"num_rank\"> <span class=\"img_number num_rank02\">2위</span> </span> </a> </div> <div class=\"wrap_cont\"> <div class=\"info_tit\"> <a class=\"tit_main\" href=\"?w=tot&amp;q=%EB%85%B8%EB%9F%89%3A%20%EC%A3%BD%EC%9D%8C%EC%9D%98%20%EB%B0%94%EB%8B%A4&amp;DA=MOR&amp;rtmaxcoll=EM1&amp;irt=movie-single&amp;irk=146751\" onclick='smartLog(this, \"dc=MOR&amp;p=3&amp;r=1&amp;rc=1&amp;pg=1&amp;d=146751\", event);'> 노량: 죽음의 바다 </a> </div> <dl class=\"dl_comm star_comp_s\"> <dt class=\"screen_out\">평점</dt> <dd class=\"score\"> <span class=\"ico_rwd star_off\"><span class=\"ico_rwd star_on\" style=\"width:90%\"></span></span> <em class=\"rate\">9.0</em> </dd> <dt class=\"screen_out\">참여</dt> <dd class=\"review\"> <a class=\"link_count\" href=\"http://movie.daum.net/moviedb/grade?movieId=146751\" target=\"_blank\"> 88명 참여 </a> </dd> </dl> <dl class=\"dl_comm\"> <dt class=\"tit_base\">예매</dt> <dd class=\"cont\">6.1%</dd> </dl> <dl class=\"dl_comm\"> <dt class=\"tit_base\">개봉</dt> <dd class=\"cont\">2023.12.20.</dd> </dl> </div> <div class=\"wrap_btn\"> <a class=\"btn_comp_l btn_emph3\" href=\"https://movie.daum.net/moviedb/contents?movieId=146751\" onclick='smartLog(this, \"dc=MOR&amp;p=5&amp;r=1&amp;rc=1&amp;pg=1&amp;d=146751\", event);' target=\"_blank\"> <span class=\"inner\">예고편</span> </a> <a class=\"btn_comp_l btn_emph3\" href=\"http://movie.daum.net/moviedb/photoviewer?id=146751#start/PhotoList\" onclick='smartLog(this, \"dc=MOR&amp;p=5&amp;r=1&amp;rc=1&amp;pg=1&amp;d=146751\", event);' target=\"_blank\"> <span class=\"inner\">포토</span> </a> </div> </li>, <li> <div class=\"wrap_thumb\"> <a class=\"thumb\" href=\"?w=tot&amp;q=3%EC%9D%BC%EC%9D%98%20%ED%9C%B4%EA%B0%80&amp;DA=MOR&amp;rtmaxcoll=EM1&amp;irt=movie-single&amp;irk=138187\" onclick='smartLog(this, \"dc=MOR&amp;p=4&amp;r=1&amp;rc=1&amp;pg=1&amp;d=138187\", event);'> <img alt=\"\" class=\"thumb_img\" height=\"164\" is-person-img=\"false\" src=\"https://search1.kakaocdn.net/thumb/R232x328.q85/?fname=https%3A%2F%2Ft1.daumcdn.net%2Fmovie%2F8687da0616f03c884cbd5a0ddcb2fa6901d5e717\" width=\"116\"/> <span class=\"num_rank\"> <span class=\"img_number num_rank03\">3위</span> </span> </a> </div> <div class=\"wrap_cont\"> <div class=\"info_tit\"> <a class=\"tit_main\" href=\"?w=tot&amp;q=3%EC%9D%BC%EC%9D%98%20%ED%9C%B4%EA%B0%80&amp;DA=MOR&amp;rtmaxcoll=EM1&amp;irt=movie-single&amp;irk=138187\" onclick='smartLog(this, \"dc=MOR&amp;p=3&amp;r=1&amp;rc=1&amp;pg=1&amp;d=138187\", event);'> 3일의 휴가 </a> </div> <dl class=\"dl_comm star_comp_s\"> <dt class=\"screen_out\">평점</dt> <dd class=\"score\"> <span class=\"ico_rwd star_off\"><span class=\"ico_rwd star_on\" style=\"width:85%\"></span></span> <em class=\"rate\">8.5</em> </dd> <dt class=\"screen_out\">참여</dt> <dd class=\"review\"> <a class=\"link_count\" href=\"http://movie.daum.net/moviedb/grade?movieId=138187\" target=\"_blank\"> 67명 참여 </a> </dd> </dl> <dl class=\"dl_comm\"> <dt class=\"tit_base\">예매</dt> <dd class=\"cont\">6.1%</dd> </dl> <dl class=\"dl_comm\"> <dt class=\"tit_base\">개봉</dt> <dd class=\"cont\">2023.12.06.</dd> </dl> <dl class=\"dl_comm\"> <dt class=\"tit_base\">누적</dt> <dd class=\"cont\">74,165명</dd> </dl> </div> <div class=\"wrap_btn\"> <a class=\"btn_comp_l btn_emph3\" href=\"https://movie.daum.net/moviedb/contents?movieId=138187\" onclick='smartLog(this, \"dc=MOR&amp;p=5&amp;r=1&amp;rc=1&amp;pg=1&amp;d=138187\", event);' target=\"_blank\"> <span class=\"inner\">예고편</span> </a> <a class=\"btn_comp_l btn_emph3\" href=\"http://movie.daum.net/moviedb/photoviewer?id=138187#start/PhotoList\" onclick='smartLog(this, \"dc=MOR&amp;p=5&amp;r=1&amp;rc=1&amp;pg=1&amp;d=138187\", event);' target=\"_blank\"> <span class=\"inner\">포토</span> </a> </div> </li>, <li> <div class=\"wrap_thumb\"> <a class=\"thumb\" href=\"?w=tot&amp;q=%EB%82%98%ED%8F%B4%EB%A0%88%EC%98%B9&amp;DA=MOR&amp;rtmaxcoll=EM1&amp;irt=movie-single&amp;irk=169328\" onclick='smartLog(this, \"dc=MOR&amp;p=4&amp;r=1&amp;rc=1&amp;pg=1&amp;d=169328\", event);'> <img alt=\"\" class=\"thumb_img\" height=\"164\" is-person-img=\"false\" src=\"https://search1.kakaocdn.net/thumb/R232x328.q85/?fname=https%3A%2F%2Ft1.daumcdn.net%2Fmovie%2F357f9541d170588d0d172fa572be49b975834d52\" width=\"116\"/> <span class=\"num_rank\"> <span class=\"img_number num_rank04\">4위</span> </span> </a> </div> <div class=\"wrap_cont\"> <div class=\"info_tit\"> <a class=\"tit_main\" href=\"?w=tot&amp;q=%EB%82%98%ED%8F%B4%EB%A0%88%EC%98%B9&amp;DA=MOR&amp;rtmaxcoll=EM1&amp;irt=movie-single&amp;irk=169328\" onclick='smartLog(this, \"dc=MOR&amp;p=3&amp;r=1&amp;rc=1&amp;pg=1&amp;d=169328\", event);'> 나폴레옹 </a> </div> <dl class=\"dl_comm star_comp_s\"> <dt class=\"screen_out\">평점</dt> <dd class=\"score\"> <span class=\"ico_rwd star_off\"><span class=\"ico_rwd star_on\" style=\"width:75%\"></span></span> <em class=\"rate\">7.5</em> </dd> <dt class=\"screen_out\">참여</dt> <dd class=\"review\"> <a class=\"link_count\" href=\"http://movie.daum.net/moviedb/grade?movieId=169328\" target=\"_blank\"> 51명 참여 </a> </dd> </dl> <dl class=\"dl_comm\"> <dt class=\"tit_base\">예매</dt> <dd class=\"cont\">4.9%</dd> </dl> <dl class=\"dl_comm\"> <dt class=\"tit_base\">개봉</dt> <dd class=\"cont\">2023.12.06.</dd> </dl> <dl class=\"dl_comm\"> <dt class=\"tit_base\">누적</dt> <dd class=\"cont\">61,243명</dd> </dl> </div> <div class=\"wrap_btn\"> <a class=\"btn_comp_l btn_emph3\" href=\"https://movie.daum.net/moviedb/contents?movieId=169328\" onclick='smartLog(this, \"dc=MOR&amp;p=5&amp;r=1&amp;rc=1&amp;pg=1&amp;d=169328\", event);' target=\"_blank\"> <span class=\"inner\">예고편</span> </a> <a class=\"btn_comp_l btn_emph3\" href=\"http://movie.daum.net/moviedb/photoviewer?id=169328#start/PhotoList\" onclick='smartLog(this, \"dc=MOR&amp;p=5&amp;r=1&amp;rc=1&amp;pg=1&amp;d=169328\", event);' target=\"_blank\"> <span class=\"inner\">포토</span> </a> </div> </li>, <li> <div class=\"wrap_thumb\"> <a class=\"thumb\" href=\"?w=tot&amp;q=%EC%8B%B1%EA%B8%80%20%EC%9D%B8%20%EC%84%9C%EC%9A%B8&amp;DA=MOR&amp;rtmaxcoll=EM1&amp;irt=movie-single&amp;irk=146084\" onclick='smartLog(this, \"dc=MOR&amp;p=4&amp;r=1&amp;rc=1&amp;pg=1&amp;d=146084\", event);'> <img alt=\"\" class=\"thumb_img\" height=\"164\" is-person-img=\"false\" src=\"https://search1.kakaocdn.net/thumb/R232x328.q85/?fname=https%3A%2F%2Ft1.daumcdn.net%2Fmovie%2Fb2461972d446c5982fd10e2c2e2c789b289c8e61\" width=\"116\"/> <span class=\"num_rank\"> <span class=\"img_number num_rank05\">5위</span> </span> </a> </div> <div class=\"wrap_cont\"> <div class=\"info_tit\"> <a class=\"tit_main\" href=\"?w=tot&amp;q=%EC%8B%B1%EA%B8%80%20%EC%9D%B8%20%EC%84%9C%EC%9A%B8&amp;DA=MOR&amp;rtmaxcoll=EM1&amp;irt=movie-single&amp;irk=146084\" onclick='smartLog(this, \"dc=MOR&amp;p=3&amp;r=1&amp;rc=1&amp;pg=1&amp;d=146084\", event);'> 싱글 인 서울 </a> </div> <dl class=\"dl_comm star_comp_s\"> <dt class=\"screen_out\">평점</dt> <dd class=\"score\"> <span class=\"ico_rwd star_off\"><span class=\"ico_rwd star_on\" style=\"width:82%\"></span></span> <em class=\"rate\">8.2</em> </dd> <dt class=\"screen_out\">참여</dt> <dd class=\"review\"> <a class=\"link_count\" href=\"http://movie.daum.net/moviedb/grade?movieId=146084\" target=\"_blank\"> 97명 참여 </a> </dd> </dl> <dl class=\"dl_comm\"> <dt class=\"tit_base\">예매</dt> <dd class=\"cont\">3%</dd> </dl> <dl class=\"dl_comm\"> <dt class=\"tit_base\">개봉</dt> <dd class=\"cont\">2023.11.29.</dd> </dl> <dl class=\"dl_comm\"> <dt class=\"tit_base\">누적</dt> <dd class=\"cont\">287,428명</dd> </dl> </div> <div class=\"wrap_btn\"> <a class=\"btn_comp_l btn_emph3\" href=\"https://movie.daum.net/moviedb/contents?movieId=146084\" onclick='smartLog(this, \"dc=MOR&amp;p=5&amp;r=1&amp;rc=1&amp;pg=1&amp;d=146084\", event);' target=\"_blank\"> <span class=\"inner\">예고편</span> </a> <a class=\"btn_comp_l btn_emph3\" href=\"http://movie.daum.net/moviedb/photoviewer?id=146084#start/PhotoList\" onclick='smartLog(this, \"dc=MOR&amp;p=5&amp;r=1&amp;rc=1&amp;pg=1&amp;d=146084\", event);' target=\"_blank\"> <span class=\"inner\">포토</span> </a> </div> </li>, <li class=\"hide\"> <div class=\"wrap_thumb\"> <a class=\"thumb\" href=\"?w=tot&amp;q=%EA%B4%B4%EB%AC%BC&amp;DA=MOR&amp;rtmaxcoll=EM1&amp;irt=movie-single&amp;irk=169329\" onclick='smartLog(this, \"dc=MOR&amp;p=4&amp;r=1&amp;rc=1&amp;pg=1&amp;d=169329\", event);'> <img alt=\"\" class=\"thumb_img\" height=\"164\" is-person-img=\"false\" src=\"https://search1.kakaocdn.net/thumb/R232x328.q85/?fname=https%3A%2F%2Ft1.daumcdn.net%2Fmovie%2Ff765aca67dc9e1d66d75a09fef20fe60cee95d32\" width=\"116\"/> <span class=\"num_rank\"> <span class=\"img_number num_rank06\">6위</span> </span> </a> </div> <div class=\"wrap_cont\"> <div class=\"info_tit\"> <a class=\"tit_main\" href=\"?w=tot&amp;q=%EA%B4%B4%EB%AC%BC&amp;DA=MOR&amp;rtmaxcoll=EM1&amp;irt=movie-single&amp;irk=169329\" onclick='smartLog(this, \"dc=MOR&amp;p=3&amp;r=1&amp;rc=1&amp;pg=1&amp;d=169329\", event);'> 괴물 </a> </div> <dl class=\"dl_comm star_comp_s\"> <dt class=\"screen_out\">평점</dt> <dd class=\"score\"> <span class=\"ico_rwd star_off\"><span class=\"ico_rwd star_on\" style=\"width:79%\"></span></span> <em class=\"rate\">7.9</em> </dd> <dt class=\"screen_out\">참여</dt> <dd class=\"review\"> <a class=\"link_count\" href=\"http://movie.daum.net/moviedb/grade?movieId=169329\" target=\"_blank\"> 87명 참여 </a> </dd> </dl> <dl class=\"dl_comm\"> <dt class=\"tit_base\">예매</dt> <dd class=\"cont\">2.4%</dd> </dl> <dl class=\"dl_comm\"> <dt class=\"tit_base\">개봉</dt> <dd class=\"cont\">2023.11.29.</dd> </dl> <dl class=\"dl_comm\"> <dt class=\"tit_base\">누적</dt> <dd class=\"cont\">164,395명</dd> </dl> </div> <div class=\"wrap_btn\"> <a class=\"btn_comp_l btn_emph3\" href=\"https://movie.daum.net/moviedb/contents?movieId=169329\" onclick='smartLog(this, \"dc=MOR&amp;p=5&amp;r=1&amp;rc=1&amp;pg=1&amp;d=169329\", event);' target=\"_blank\"> <span class=\"inner\">예고편</span> </a> <a class=\"btn_comp_l btn_emph3\" href=\"http://movie.daum.net/moviedb/photoviewer?id=169329#start/PhotoList\" onclick='smartLog(this, \"dc=MOR&amp;p=5&amp;r=1&amp;rc=1&amp;pg=1&amp;d=169329\", event);' target=\"_blank\"> <span class=\"inner\">포토</span> </a> </div> </li>, <li class=\"hide\"> <div class=\"wrap_thumb\"> <a class=\"thumb\" href=\"?w=tot&amp;q=%EB%BD%80%EB%A1%9C%EB%A1%9C%20%EA%B7%B9%EC%9E%A5%ED%8C%90%20%EC%8A%88%ED%8D%BC%EC%8A%A4%ED%83%80%20%EB%8C%80%EB%AA%A8%ED%97%98&amp;DA=MOR&amp;rtmaxcoll=EM1&amp;irt=movie-single&amp;irk=173962\" onclick='smartLog(this, \"dc=MOR&amp;p=4&amp;r=1&amp;rc=1&amp;pg=1&amp;d=173962\", event);'> <img alt=\"\" class=\"thumb_img\" height=\"164\" is-person-img=\"false\" src=\"https://search1.kakaocdn.net/thumb/R232x328.q85/?fname=https%3A%2F%2Ft1.daumcdn.net%2Fmovie%2Fc27756b10f45291a8265578058188aa443469d9c\" width=\"116\"/> <span class=\"num_rank\"> <span class=\"img_number num_rank07\">7위</span> </span> </a> </div> <div class=\"wrap_cont\"> <div class=\"info_tit\"> <a class=\"tit_main\" href=\"?w=tot&amp;q=%EB%BD%80%EB%A1%9C%EB%A1%9C%20%EA%B7%B9%EC%9E%A5%ED%8C%90%20%EC%8A%88%ED%8D%BC%EC%8A%A4%ED%83%80%20%EB%8C%80%EB%AA%A8%ED%97%98&amp;DA=MOR&amp;rtmaxcoll=EM1&amp;irt=movie-single&amp;irk=173962\" onclick='smartLog(this, \"dc=MOR&amp;p=3&amp;r=1&amp;rc=1&amp;pg=1&amp;d=173962\", event);'> 뽀로로 극장판 슈퍼스타 대모험 </a> </div> <dl class=\"dl_comm star_comp_s\"> <dt class=\"screen_out\">평점</dt> <dd class=\"score\"> <span class=\"ico_rwd star_off\"><span class=\"ico_rwd star_on\" style=\"width:100%\"></span></span> <em class=\"rate\">10.0</em> </dd> <dt class=\"screen_out\">참여</dt> <dd class=\"review\"> <a class=\"link_count\" href=\"http://movie.daum.net/moviedb/grade?movieId=173962\" target=\"_blank\"> 5명 참여 </a> </dd> </dl> <dl class=\"dl_comm\"> <dt class=\"tit_base\">예매</dt> <dd class=\"cont\">2.3%</dd> </dl> <dl class=\"dl_comm\"> <dt class=\"tit_base\">개봉</dt> <dd class=\"cont\">2023.12.13.</dd> </dl> </div> <div class=\"wrap_btn\"> <a class=\"btn_comp_l btn_emph3\" href=\"https://movie.daum.net/moviedb/contents?movieId=173962\" onclick='smartLog(this, \"dc=MOR&amp;p=5&amp;r=1&amp;rc=1&amp;pg=1&amp;d=173962\", event);' target=\"_blank\"> <span class=\"inner\">예고편</span> </a> <a class=\"btn_comp_l btn_emph3\" href=\"http://movie.daum.net/moviedb/photoviewer?id=173962#start/PhotoList\" onclick='smartLog(this, \"dc=MOR&amp;p=5&amp;r=1&amp;rc=1&amp;pg=1&amp;d=173962\", event);' target=\"_blank\"> <span class=\"inner\">포토</span> </a> </div> </li>, <li class=\"hide\"> <div class=\"wrap_thumb\"> <a class=\"thumb\" href=\"?w=tot&amp;q=%EB%93%84&amp;DA=MOR&amp;rtmaxcoll=EM1&amp;irt=movie-single&amp;irk=130886\" onclick='smartLog(this, \"dc=MOR&amp;p=4&amp;r=1&amp;rc=1&amp;pg=1&amp;d=130886\", event);'> <img alt=\"\" class=\"thumb_img\" height=\"164\" is-person-img=\"false\" src=\"https://search1.kakaocdn.net/thumb/R232x328.q85/?fname=https%3A%2F%2Ft1.daumcdn.net%2Fmovie%2Fd0235b8e9c0048e4301f8c9c74da929863e33456\" width=\"116\"/> <span class=\"num_rank\"> <span class=\"img_number num_rank08\">8위</span> </span> </a> </div> <div class=\"wrap_cont\"> <div class=\"info_tit\"> <a class=\"tit_main\" href=\"?w=tot&amp;q=%EB%93%84&amp;DA=MOR&amp;rtmaxcoll=EM1&amp;irt=movie-single&amp;irk=130886\" onclick='smartLog(this, \"dc=MOR&amp;p=3&amp;r=1&amp;rc=1&amp;pg=1&amp;d=130886\", event);'> 듄 </a> </div> <dl class=\"dl_comm star_comp_s\"> <dt class=\"screen_out\">평점</dt> <dd class=\"score\"> <span class=\"ico_rwd star_off\"><span class=\"ico_rwd star_on\" style=\"width:70%\"></span></span> <em class=\"rate\">7.0</em> </dd> <dt class=\"screen_out\">참여</dt> <dd class=\"review\"> <a class=\"link_count\" href=\"http://movie.daum.net/moviedb/grade?movieId=130886\" target=\"_blank\"> 851명 참여 </a> </dd> </dl> <dl class=\"dl_comm\"> <dt class=\"tit_base\">예매</dt> <dd class=\"cont\">1.4%</dd> </dl> <dl class=\"dl_comm\"> <dt class=\"tit_base\">재개봉</dt> <dd class=\"cont\">2022.02.09.</dd> </dl> <dl class=\"dl_comm\"> <dt class=\"tit_base\">누적</dt> <dd class=\"cont\">1,627,746명</dd> </dl> </div> <div class=\"wrap_btn\"> <a class=\"btn_comp_l btn_emph3\" href=\"https://movie.daum.net/moviedb/contents?movieId=130886\" onclick='smartLog(this, \"dc=MOR&amp;p=5&amp;r=1&amp;rc=1&amp;pg=1&amp;d=130886\", event);' target=\"_blank\"> <span class=\"inner\">예고편</span> </a> <a class=\"btn_comp_l btn_emph3\" href=\"http://movie.daum.net/moviedb/photoviewer?id=130886#start/PhotoList\" onclick='smartLog(this, \"dc=MOR&amp;p=5&amp;r=1&amp;rc=1&amp;pg=1&amp;d=130886\", event);' target=\"_blank\"> <span class=\"inner\">포토</span> </a> </div> </li>, <li class=\"hide\"> <div class=\"wrap_thumb\"> <a class=\"thumb\" href=\"?w=tot&amp;q=%EA%B7%B8%EB%8C%80%EB%93%A4%EC%9D%80%20%EC%96%B4%EB%96%BB%EA%B2%8C%20%EC%82%B4%20%EA%B2%83%EC%9D%B8%EA%B0%80&amp;DA=MOR&amp;rtmaxcoll=EM1&amp;irt=movie-single&amp;irk=171140\" onclick='smartLog(this, \"dc=MOR&amp;p=4&amp;r=1&amp;rc=1&amp;pg=1&amp;d=171140\", event);'> <img alt=\"\" class=\"thumb_img\" height=\"164\" is-person-img=\"false\" src=\"https://search1.kakaocdn.net/thumb/R232x328.q85/?fname=https%3A%2F%2Ft1.daumcdn.net%2Fmovie%2F814364da4037f74217243eeee6b4648d7dc2fc79\" width=\"116\"/> <span class=\"num_rank\"> <span class=\"img_number num_rank09\">9위</span> </span> </a> </div> <div class=\"wrap_cont\"> <div class=\"info_tit\"> <a class=\"tit_main\" href=\"?w=tot&amp;q=%EA%B7%B8%EB%8C%80%EB%93%A4%EC%9D%80%20%EC%96%B4%EB%96%BB%EA%B2%8C%20%EC%82%B4%20%EA%B2%83%EC%9D%B8%EA%B0%80&amp;DA=MOR&amp;rtmaxcoll=EM1&amp;irt=movie-single&amp;irk=171140\" onclick='smartLog(this, \"dc=MOR&amp;p=3&amp;r=1&amp;rc=1&amp;pg=1&amp;d=171140\", event);'> 그대들은 어떻게 살 것인가 </a> </div> <dl class=\"dl_comm star_comp_s\"> <dt class=\"screen_out\">평점</dt> <dd class=\"score\"> <span class=\"ico_rwd star_off\"><span class=\"ico_rwd star_on\" style=\"width:54%\"></span></span> <em class=\"rate\">5.4</em> </dd> <dt class=\"screen_out\">참여</dt> <dd class=\"review\"> <a class=\"link_count\" href=\"http://movie.daum.net/moviedb/grade?movieId=171140\" target=\"_blank\"> 290명 참여 </a> </dd> </dl> <dl class=\"dl_comm\"> <dt class=\"tit_base\">예매</dt> <dd class=\"cont\">1.2%</dd> </dl> <dl class=\"dl_comm\"> <dt class=\"tit_base\">개봉</dt> <dd class=\"cont\">2023.10.25.</dd> </dl> <dl class=\"dl_comm\"> <dt class=\"tit_base\">누적</dt> <dd class=\"cont\">1,983,023명</dd> </dl> </div> <div class=\"wrap_btn\"> <a class=\"btn_comp_l btn_emph3\" href=\"https://movie.daum.net/moviedb/contents?movieId=171140\" onclick='smartLog(this, \"dc=MOR&amp;p=5&amp;r=1&amp;rc=1&amp;pg=1&amp;d=171140\", event);' target=\"_blank\"> <span class=\"inner\">예고편</span> </a> <a class=\"btn_comp_l btn_emph3\" href=\"http://movie.daum.net/moviedb/photoviewer?id=171140#start/PhotoList\" onclick='smartLog(this, \"dc=MOR&amp;p=5&amp;r=1&amp;rc=1&amp;pg=1&amp;d=171140\", event);' target=\"_blank\"> <span class=\"inner\">포토</span> </a> </div> </li>, <li class=\"hide\"> <div class=\"wrap_thumb\"> <a class=\"thumb\" href=\"?w=tot&amp;q=%EC%97%94%EC%8B%9C%ED%8B%B0%20%EB%84%A4%EC%9D%B4%EC%85%98%20%3A%20%ED%88%AC%20%EB%8D%94%20%EC%9B%94%EB%93%9C%20%EC%9D%B8%20%EC%8B%9C%EB%84%A4%EB%A7%88&amp;DA=MOR&amp;rtmaxcoll=EM1&amp;irt=movie-single&amp;irk=175027\" onclick='smartLog(this, \"dc=MOR&amp;p=4&amp;r=1&amp;rc=1&amp;pg=1&amp;d=175027\", event);'> <img alt=\"\" class=\"thumb_img\" height=\"164\" is-person-img=\"false\" src=\"https://search1.kakaocdn.net/thumb/R232x328.q85/?fname=https%3A%2F%2Ft1.daumcdn.net%2Fmovie%2F6012c7878068d89e301f65b8a4895d5106060f15\" width=\"116\"/> <span class=\"num_rank\"> <span class=\"img_number num_rank01\">10위</span><span class=\"img_number num_rank00\"></span> </span> </a> </div> <div class=\"wrap_cont\"> <div class=\"info_tit\"> <a class=\"tit_main\" href=\"?w=tot&amp;q=%EC%97%94%EC%8B%9C%ED%8B%B0%20%EB%84%A4%EC%9D%B4%EC%85%98%20%3A%20%ED%88%AC%20%EB%8D%94%20%EC%9B%94%EB%93%9C%20%EC%9D%B8%20%EC%8B%9C%EB%84%A4%EB%A7%88&amp;DA=MOR&amp;rtmaxcoll=EM1&amp;irt=movie-single&amp;irk=175027\" onclick='smartLog(this, \"dc=MOR&amp;p=3&amp;r=1&amp;rc=1&amp;pg=1&amp;d=175027\", event);'> 엔시티 네이션 : 투 더 월드 인 시네마 </a> </div> <dl class=\"dl_comm star_comp_s\"> <dt class=\"screen_out\">평점</dt> <dd class=\"score\"> <span class=\"ico_rwd star_off\"><span class=\"ico_rwd star_on\" style=\"width:55%\"></span></span> <em class=\"rate\">5.5</em> </dd> <dt class=\"screen_out\">참여</dt> <dd class=\"review\"> <a class=\"link_count\" href=\"http://movie.daum.net/moviedb/grade?movieId=175027\" target=\"_blank\"> 2명 참여 </a> </dd> </dl> <dl class=\"dl_comm\"> <dt class=\"tit_base\">예매</dt> <dd class=\"cont\">1.1%</dd> </dl> <dl class=\"dl_comm\"> <dt class=\"tit_base\">개봉</dt> <dd class=\"cont\">2023.12.06.</dd> </dl> <dl class=\"dl_comm\"> <dt class=\"tit_base\">누적</dt> <dd class=\"cont\">10,248명</dd> </dl> </div> <div class=\"wrap_btn\"> <a class=\"btn_comp_l btn_emph3\" href=\"https://movie.daum.net/moviedb/contents?movieId=175027\" onclick='smartLog(this, \"dc=MOR&amp;p=5&amp;r=1&amp;rc=1&amp;pg=1&amp;d=175027\", event);' target=\"_blank\"> <span class=\"inner\">예고편</span> </a> <a class=\"btn_comp_l btn_emph3\" href=\"http://movie.daum.net/moviedb/photoviewer?id=175027#start/PhotoList\" onclick='smartLog(this, \"dc=MOR&amp;p=5&amp;r=1&amp;rc=1&amp;pg=1&amp;d=175027\", event);' target=\"_blank\"> <span class=\"inner\">포토</span> </a> </div> </li>, <li class=\"hide\"> <div class=\"wrap_thumb\"> <a class=\"thumb\" href=\"?w=tot&amp;q=%EC%95%84%EC%BF%A0%EC%95%84%EB%A7%A8%EA%B3%BC%20%EB%A1%9C%EC%8A%A4%ED%8A%B8%20%ED%82%B9%EB%8D%A4&amp;DA=MOR&amp;rtmaxcoll=EM1&amp;irt=movie-single&amp;irk=144075\" onclick='smartLog(this, \"dc=MOR&amp;p=4&amp;r=1&amp;rc=1&amp;pg=1&amp;d=144075\", event);'> <img alt=\"\" class=\"thumb_img\" height=\"164\" is-person-img=\"false\" src=\"https://search1.kakaocdn.net/thumb/R232x328.q85/?fname=https%3A%2F%2Ft1.daumcdn.net%2Fmovie%2Fc00fae8375f49332a590688bec11aa276948d2ee\" width=\"116\"/> <span class=\"num_rank\"> <span class=\"img_number num_rank01\">11위</span><span class=\"img_number num_rank01\"></span> </span> </a> </div> <div class=\"wrap_cont\"> <div class=\"info_tit\"> <a class=\"tit_main\" href=\"?w=tot&amp;q=%EC%95%84%EC%BF%A0%EC%95%84%EB%A7%A8%EA%B3%BC%20%EB%A1%9C%EC%8A%A4%ED%8A%B8%20%ED%82%B9%EB%8D%A4&amp;DA=MOR&amp;rtmaxcoll=EM1&amp;irt=movie-single&amp;irk=144075\" onclick='smartLog(this, \"dc=MOR&amp;p=3&amp;r=1&amp;rc=1&amp;pg=1&amp;d=144075\", event);'> 아쿠아맨과 로스트 킹덤 </a> </div> <dl class=\"dl_comm star_comp_s\"> <dt class=\"screen_out\">평점</dt> <dd class=\"score\"> <span class=\"ico_rwd star_off\"><span class=\"ico_rwd star_on\" style=\"width:66%\"></span></span> <em class=\"rate\">6.6</em> </dd> <dt class=\"screen_out\">참여</dt> <dd class=\"review\"> <a class=\"link_count\" href=\"http://movie.daum.net/moviedb/grade?movieId=144075\" target=\"_blank\"> 15명 참여 </a> </dd> </dl> <dl class=\"dl_comm\"> <dt class=\"tit_base\">예매</dt> <dd class=\"cont\">0.8%</dd> </dl> <dl class=\"dl_comm\"> <dt class=\"tit_base\">개봉</dt> <dd class=\"cont\">2023.12.20.</dd> </dl> </div> <div class=\"wrap_btn\"> <a class=\"btn_comp_l btn_emph3\" href=\"https://movie.daum.net/moviedb/contents?movieId=144075\" onclick='smartLog(this, \"dc=MOR&amp;p=5&amp;r=1&amp;rc=1&amp;pg=1&amp;d=144075\", event);' target=\"_blank\"> <span class=\"inner\">예고편</span> </a> <a class=\"btn_comp_l btn_emph3\" href=\"http://movie.daum.net/moviedb/photoviewer?id=144075#start/PhotoList\" onclick='smartLog(this, \"dc=MOR&amp;p=5&amp;r=1&amp;rc=1&amp;pg=1&amp;d=144075\", event);' target=\"_blank\"> <span class=\"inner\">포토</span> </a> </div> </li>, <li class=\"hide\"> <div class=\"wrap_thumb\"> <a class=\"thumb\" href=\"?w=tot&amp;q=%EB%A7%90%ED%95%98%EA%B3%A0%20%EC%8B%B6%EC%9D%80%20%EB%B9%84%EB%B0%80&amp;DA=MOR&amp;rtmaxcoll=EM1&amp;irt=movie-single&amp;irk=172186\" onclick='smartLog(this, \"dc=MOR&amp;p=4&amp;r=1&amp;rc=1&amp;pg=1&amp;d=172186\", event);'> <img alt=\"\" class=\"thumb_img\" height=\"164\" is-person-img=\"false\" src=\"https://search1.kakaocdn.net/thumb/R232x328.q85/?fname=https%3A%2F%2Ft1.daumcdn.net%2Fmovie%2F880514e5168d6b381caee14f21d0ba9cb6756aae\" width=\"116\"/> <span class=\"num_rank\"> <span class=\"img_number num_rank01\">12위</span><span class=\"img_number num_rank02\"></span> </span> </a> </div> <div class=\"wrap_cont\"> <div class=\"info_tit\"> <a class=\"tit_main\" href=\"?w=tot&amp;q=%EB%A7%90%ED%95%98%EA%B3%A0%20%EC%8B%B6%EC%9D%80%20%EB%B9%84%EB%B0%80&amp;DA=MOR&amp;rtmaxcoll=EM1&amp;irt=movie-single&amp;irk=172186\" onclick='smartLog(this, \"dc=MOR&amp;p=3&amp;r=1&amp;rc=1&amp;pg=1&amp;d=172186\", event);'> 말하고 싶은 비밀 </a> </div> <dl class=\"dl_comm star_comp_s\"> <dt class=\"screen_out\">평점</dt> <dd class=\"score\"> <span class=\"ico_rwd star_off\"><span class=\"ico_rwd star_on\" style=\"width:100%\"></span></span> <em class=\"rate\">10.0</em> </dd> <dt class=\"screen_out\">참여</dt> <dd class=\"review\"> <a class=\"link_count\" href=\"http://movie.daum.net/moviedb/grade?movieId=172186\" target=\"_blank\"> 29명 참여 </a> </dd> </dl> <dl class=\"dl_comm\"> <dt class=\"tit_base\">예매</dt> <dd class=\"cont\">0.6%</dd> </dl> <dl class=\"dl_comm\"> <dt class=\"tit_base\">개봉</dt> <dd class=\"cont\">2023.12.13.</dd> </dl> </div> <div class=\"wrap_btn\"> <a class=\"btn_comp_l btn_emph3\" href=\"https://movie.daum.net/moviedb/contents?movieId=172186\" onclick='smartLog(this, \"dc=MOR&amp;p=5&amp;r=1&amp;rc=1&amp;pg=1&amp;d=172186\", event);' target=\"_blank\"> <span class=\"inner\">예고편</span> </a> <a class=\"btn_comp_l btn_emph3\" href=\"http://movie.daum.net/moviedb/photoviewer?id=172186#start/PhotoList\" onclick='smartLog(this, \"dc=MOR&amp;p=5&amp;r=1&amp;rc=1&amp;pg=1&amp;d=172186\", event);' target=\"_blank\"> <span class=\"inner\">포토</span> </a> </div> </li>, <li class=\"hide\"> <div class=\"wrap_thumb\"> <a class=\"thumb\" href=\"?w=tot&amp;q=%ED%94%84%EB%A0%88%EB%94%94%EC%9D%98%20%ED%94%BC%EC%9E%90%EA%B0%80%EA%B2%8C&amp;DA=MOR&amp;rtmaxcoll=EM1&amp;irt=movie-single&amp;irk=170512\" onclick='smartLog(this, \"dc=MOR&amp;p=4&amp;r=1&amp;rc=1&amp;pg=1&amp;d=170512\", event);'> <img alt=\"\" class=\"thumb_img\" height=\"164\" is-person-img=\"false\" src=\"https://search1.kakaocdn.net/thumb/R232x328.q85/?fname=https%3A%2F%2Ft1.daumcdn.net%2Fmovie%2F0388052993e52d4f58e9f7b378e040f5f87ecc56\" width=\"116\"/> <span class=\"num_rank\"> <span class=\"img_number num_rank01\">13위</span><span class=\"img_number num_rank03\"></span> </span> </a> </div> <div class=\"wrap_cont\"> <div class=\"info_tit\"> <a class=\"tit_main\" href=\"?w=tot&amp;q=%ED%94%84%EB%A0%88%EB%94%94%EC%9D%98%20%ED%94%BC%EC%9E%90%EA%B0%80%EA%B2%8C&amp;DA=MOR&amp;rtmaxcoll=EM1&amp;irt=movie-single&amp;irk=170512\" onclick='smartLog(this, \"dc=MOR&amp;p=3&amp;r=1&amp;rc=1&amp;pg=1&amp;d=170512\", event);'> 프레디의 피자가게 </a> </div> <dl class=\"dl_comm star_comp_s\"> <dt class=\"screen_out\">평점</dt> <dd class=\"score\"> <span class=\"ico_rwd star_off\"><span class=\"ico_rwd star_on\" style=\"width:71%\"></span></span> <em class=\"rate\">7.1</em> </dd> <dt class=\"screen_out\">참여</dt> <dd class=\"review\"> <a class=\"link_count\" href=\"http://movie.daum.net/moviedb/grade?movieId=170512\" target=\"_blank\"> 66명 참여 </a> </dd> </dl> <dl class=\"dl_comm\"> <dt class=\"tit_base\">예매</dt> <dd class=\"cont\">0.6%</dd> </dl> <dl class=\"dl_comm\"> <dt class=\"tit_base\">개봉</dt> <dd class=\"cont\">2023.11.15.</dd> </dl> <dl class=\"dl_comm\"> <dt class=\"tit_base\">누적</dt> <dd class=\"cont\">660,671명</dd> </dl> </div> <div class=\"wrap_btn\"> <a class=\"btn_comp_l btn_emph3\" href=\"https://movie.daum.net/moviedb/contents?movieId=170512\" onclick='smartLog(this, \"dc=MOR&amp;p=5&amp;r=1&amp;rc=1&amp;pg=1&amp;d=170512\", event);' target=\"_blank\"> <span class=\"inner\">예고편</span> </a> <a class=\"btn_comp_l btn_emph3\" href=\"http://movie.daum.net/moviedb/photoviewer?id=170512#start/PhotoList\" onclick='smartLog(this, \"dc=MOR&amp;p=5&amp;r=1&amp;rc=1&amp;pg=1&amp;d=170512\", event);' target=\"_blank\"> <span class=\"inner\">포토</span> </a> </div> </li>, <li class=\"hide\"> <div class=\"wrap_thumb\"> <a class=\"thumb\" href=\"?w=tot&amp;q=%EB%8D%94%20%ED%8D%BC%EC%8A%A4%ED%8A%B8%20%EC%8A%AC%EB%9E%A8%EB%8D%A9%ED%81%AC&amp;DA=MOR&amp;rtmaxcoll=EM1&amp;irt=movie-single&amp;irk=164918\" onclick='smartLog(this, \"dc=MOR&amp;p=4&amp;r=1&amp;rc=1&amp;pg=1&amp;d=164918\", event);'> <img alt=\"\" class=\"thumb_img\" height=\"164\" is-person-img=\"false\" src=\"https://search1.kakaocdn.net/thumb/R232x328.q85/?fname=https%3A%2F%2Ft1.daumcdn.net%2Fmovie%2Fa0aaca4b87c541b11085139bd941da0996a78ec1\" width=\"116\"/> <span class=\"num_rank\"> <span class=\"img_number num_rank01\">14위</span><span class=\"img_number num_rank04\"></span> </span> </a> </div> <div class=\"wrap_cont\"> <div class=\"info_tit\"> <a class=\"tit_main\" href=\"?w=tot&amp;q=%EB%8D%94%20%ED%8D%BC%EC%8A%A4%ED%8A%B8%20%EC%8A%AC%EB%9E%A8%EB%8D%A9%ED%81%AC&amp;DA=MOR&amp;rtmaxcoll=EM1&amp;irt=movie-single&amp;irk=164918\" onclick='smartLog(this, \"dc=MOR&amp;p=3&amp;r=1&amp;rc=1&amp;pg=1&amp;d=164918\", event);'> 더 퍼스트 슬램덩크 </a> </div> <dl class=\"dl_comm star_comp_s\"> <dt class=\"screen_out\">평점</dt> <dd class=\"score\"> <span class=\"ico_rwd star_off\"><span class=\"ico_rwd star_on\" style=\"width:83%\"></span></span> <em class=\"rate\">8.3</em> </dd> <dt class=\"screen_out\">참여</dt> <dd class=\"review\"> <a class=\"link_count\" href=\"http://movie.daum.net/moviedb/grade?movieId=164918\" target=\"_blank\"> 555명 참여 </a> </dd> </dl> <dl class=\"dl_comm\"> <dt class=\"tit_base\">예매</dt> <dd class=\"cont\">0.5%</dd> </dl> <dl class=\"dl_comm\"> <dt class=\"tit_base\">개봉</dt> <dd class=\"cont\">2023.01.04.</dd> </dl> <dl class=\"dl_comm\"> <dt class=\"tit_base\">누적</dt> <dd class=\"cont\">4,775,629명</dd> </dl> </div> <div class=\"wrap_btn\"> <a class=\"btn_comp_l btn_emph3\" href=\"https://movie.daum.net/moviedb/contents?movieId=164918\" onclick='smartLog(this, \"dc=MOR&amp;p=5&amp;r=1&amp;rc=1&amp;pg=1&amp;d=164918\", event);' target=\"_blank\"> <span class=\"inner\">예고편</span> </a> <a class=\"btn_comp_l btn_emph3\" href=\"http://movie.daum.net/moviedb/photoviewer?id=164918#start/PhotoList\" onclick='smartLog(this, \"dc=MOR&amp;p=5&amp;r=1&amp;rc=1&amp;pg=1&amp;d=164918\", event);' target=\"_blank\"> <span class=\"inner\">포토</span> </a> </div> </li>, <li class=\"hide\"> <div class=\"wrap_thumb\"> <a class=\"thumb\" href=\"?w=tot&amp;q=%EC%8F%98%EC%9A%B0%20X&amp;DA=MOR&amp;rtmaxcoll=EM1&amp;irt=movie-single&amp;irk=172630\" onclick='smartLog(this, \"dc=MOR&amp;p=4&amp;r=1&amp;rc=1&amp;pg=1&amp;d=172630\", event);'> <img alt=\"\" class=\"thumb_img\" height=\"164\" is-person-img=\"false\" src=\"https://search1.kakaocdn.net/thumb/R232x328.q85/?fname=https%3A%2F%2Ft1.daumcdn.net%2Fmovie%2Fbdd891e25b39872a358e4c5bd99982d447a1b2c5\" width=\"116\"/> <span class=\"num_rank\"> <span class=\"img_number num_rank01\">15위</span><span class=\"img_number num_rank05\"></span> </span> </a> </div> <div class=\"wrap_cont\"> <div class=\"info_tit\"> <a class=\"tit_main\" href=\"?w=tot&amp;q=%EC%8F%98%EC%9A%B0%20X&amp;DA=MOR&amp;rtmaxcoll=EM1&amp;irt=movie-single&amp;irk=172630\" onclick='smartLog(this, \"dc=MOR&amp;p=3&amp;r=1&amp;rc=1&amp;pg=1&amp;d=172630\", event);'> 쏘우 X </a> </div> <dl class=\"dl_comm star_comp_s\"> <dt class=\"screen_out\">평점</dt> <dd class=\"score\"> <span class=\"ico_rwd star_off\"><span class=\"ico_rwd star_on\" style=\"width:78%\"></span></span> <em class=\"rate\">7.8</em> </dd> <dt class=\"screen_out\">참여</dt> <dd class=\"review\"> <a class=\"link_count\" href=\"http://movie.daum.net/moviedb/grade?movieId=172630\" target=\"_blank\"> 43명 참여 </a> </dd> </dl> <dl class=\"dl_comm\"> <dt class=\"tit_base\">예매</dt> <dd class=\"cont\">0.5%</dd> </dl> <dl class=\"dl_comm\"> <dt class=\"tit_base\">개봉</dt> <dd class=\"cont\">2023.12.13.</dd> </dl> </div> <div class=\"wrap_btn\"> <a class=\"btn_comp_l btn_emph3\" href=\"https://movie.daum.net/moviedb/contents?movieId=172630\" onclick='smartLog(this, \"dc=MOR&amp;p=5&amp;r=1&amp;rc=1&amp;pg=1&amp;d=172630\", event);' target=\"_blank\"> <span class=\"inner\">예고편</span> </a> <a class=\"btn_comp_l btn_emph3\" href=\"http://movie.daum.net/moviedb/photoviewer?id=172630#start/PhotoList\" onclick='smartLog(this, \"dc=MOR&amp;p=5&amp;r=1&amp;rc=1&amp;pg=1&amp;d=172630\", event);' target=\"_blank\"> <span class=\"inner\">포토</span> </a> </div> </li>, <li class=\"hide\"> <div class=\"wrap_thumb\"> <a class=\"thumb\" href=\"?w=tot&amp;q=%EB%A7%A4%EC%A7%81%20%ED%94%84%EB%A6%B0%EC%84%B8%EC%8A%A4%3A%20%EC%96%BC%EC%9D%8C%20%EA%B4%B4%EB%AC%BC%EA%B3%BC%20%EC%82%AC%EB%9D%BC%EC%A7%84%20%EC%97%B4%EC%87%A0%EC%9D%98%20%EB%B9%84%EB%B0%80&amp;DA=MOR&amp;rtmaxcoll=EM1&amp;irt=movie-single&amp;irk=174533\" onclick='smartLog(this, \"dc=MOR&amp;p=4&amp;r=1&amp;rc=1&amp;pg=1&amp;d=174533\", event);'> <img alt=\"\" class=\"thumb_img\" height=\"164\" is-person-img=\"false\" src=\"https://search1.kakaocdn.net/thumb/R232x328.q85/?fname=https%3A%2F%2Ft1.daumcdn.net%2Fmovie%2Fe5d0f32ba385f294dc86b5aa04988c7bb5ef758c\" width=\"116\"/> <span class=\"num_rank\"> <span class=\"img_number num_rank01\">16위</span><span class=\"img_number num_rank06\"></span> </span> </a> </div> <div class=\"wrap_cont\"> <div class=\"info_tit\"> <a class=\"tit_main\" href=\"?w=tot&amp;q=%EB%A7%A4%EC%A7%81%20%ED%94%84%EB%A6%B0%EC%84%B8%EC%8A%A4%3A%20%EC%96%BC%EC%9D%8C%20%EA%B4%B4%EB%AC%BC%EA%B3%BC%20%EC%82%AC%EB%9D%BC%EC%A7%84%20%EC%97%B4%EC%87%A0%EC%9D%98%20%EB%B9%84%EB%B0%80&amp;DA=MOR&amp;rtmaxcoll=EM1&amp;irt=movie-single&amp;irk=174533\" onclick='smartLog(this, \"dc=MOR&amp;p=3&amp;r=1&amp;rc=1&amp;pg=1&amp;d=174533\", event);'> 매직 프린세스: 얼음 괴물과 사라진 열쇠의 비밀 </a> </div> <dl class=\"dl_comm star_comp_s\"> <dt class=\"screen_out\">평점</dt> <dd class=\"score\"> <span class=\"ico_rwd star_off\"><span class=\"ico_rwd star_on\" style=\"width:100%\"></span></span> <em class=\"rate\">10.0</em> </dd> <dt class=\"screen_out\">참여</dt> <dd class=\"review\"> <a class=\"link_count\" href=\"http://movie.daum.net/moviedb/grade?movieId=174533\" target=\"_blank\"> 1명 참여 </a> </dd> </dl> <dl class=\"dl_comm\"> <dt class=\"tit_base\">예매</dt> <dd class=\"cont\">0.4%</dd> </dl> <dl class=\"dl_comm\"> <dt class=\"tit_base\">개봉</dt> <dd class=\"cont\">2023.12.07.</dd> </dl> <dl class=\"dl_comm\"> <dt class=\"tit_base\">누적</dt> <dd class=\"cont\">1,381명</dd> </dl> </div> <div class=\"wrap_btn\"> <a class=\"btn_comp_l btn_emph3\" href=\"https://movie.daum.net/moviedb/contents?movieId=174533\" onclick='smartLog(this, \"dc=MOR&amp;p=5&amp;r=1&amp;rc=1&amp;pg=1&amp;d=174533\", event);' target=\"_blank\"> <span class=\"inner\">예고편</span> </a> <a class=\"btn_comp_l btn_emph3\" href=\"http://movie.daum.net/moviedb/photoviewer?id=174533#start/PhotoList\" onclick='smartLog(this, \"dc=MOR&amp;p=5&amp;r=1&amp;rc=1&amp;pg=1&amp;d=174533\", event);' target=\"_blank\"> <span class=\"inner\">포토</span> </a> </div> </li>, <li class=\"hide\"> <div class=\"wrap_thumb\"> <a class=\"thumb\" href=\"?w=tot&amp;q=%ED%99%88%EA%B7%B8%EB%9D%BC%EC%9A%B4%EB%93%9C&amp;DA=MOR&amp;rtmaxcoll=EM1&amp;irt=movie-single&amp;irk=163660\" onclick='smartLog(this, \"dc=MOR&amp;p=4&amp;r=1&amp;rc=1&amp;pg=1&amp;d=163660\", event);'> <img alt=\"\" class=\"thumb_img\" height=\"164\" is-person-img=\"false\" src=\"https://search1.kakaocdn.net/thumb/R232x328.q85/?fname=https%3A%2F%2Ft1.daumcdn.net%2Fmovie%2F558bb9cd78670e68aafbddb630567f2a1e0e6a0c\" width=\"116\"/> <span class=\"num_rank\"> <span class=\"img_number num_rank01\">17위</span><span class=\"img_number num_rank07\"></span> </span> </a> </div> <div class=\"wrap_cont\"> <div class=\"info_tit\"> <a class=\"tit_main\" href=\"?w=tot&amp;q=%ED%99%88%EA%B7%B8%EB%9D%BC%EC%9A%B4%EB%93%9C&amp;DA=MOR&amp;rtmaxcoll=EM1&amp;irt=movie-single&amp;irk=163660\" onclick='smartLog(this, \"dc=MOR&amp;p=3&amp;r=1&amp;rc=1&amp;pg=1&amp;d=163660\", event);'> 홈그라운드 </a> </div> <dl class=\"dl_comm star_comp_s\"> <dt class=\"screen_out\">평점</dt> <dd class=\"score\"> <span class=\"ico_rwd star_off\"><span class=\"ico_rwd star_on\" style=\"width:80%\"></span></span> <em class=\"rate\">8.0</em> </dd> <dt class=\"screen_out\">참여</dt> <dd class=\"review\"> <a class=\"link_count\" href=\"http://movie.daum.net/moviedb/grade?movieId=163660\" target=\"_blank\"> 2명 참여 </a> </dd> </dl> <dl class=\"dl_comm\"> <dt class=\"tit_base\">예매</dt> <dd class=\"cont\">0.4%</dd> </dl> <dl class=\"dl_comm\"> <dt class=\"tit_base\">개봉</dt> <dd class=\"cont\">2023.12.06.</dd> </dl> <dl class=\"dl_comm\"> <dt class=\"tit_base\">누적</dt> <dd class=\"cont\">1,721명</dd> </dl> </div> <div class=\"wrap_btn\"> <a class=\"btn_comp_l btn_emph3\" href=\"https://movie.daum.net/moviedb/contents?movieId=163660\" onclick='smartLog(this, \"dc=MOR&amp;p=5&amp;r=1&amp;rc=1&amp;pg=1&amp;d=163660\", event);' target=\"_blank\"> <span class=\"inner\">예고편</span> </a> <a class=\"btn_comp_l btn_emph3\" href=\"http://movie.daum.net/moviedb/photoviewer?id=163660#start/PhotoList\" onclick='smartLog(this, \"dc=MOR&amp;p=5&amp;r=1&amp;rc=1&amp;pg=1&amp;d=163660\", event);' target=\"_blank\"> <span class=\"inner\">포토</span> </a> </div> </li>, <li class=\"hide\"> <div class=\"wrap_thumb\"> <a class=\"thumb\" href=\"?w=tot&amp;q=%ED%8A%B8%EB%A1%A4%3A%20%EB%B0%B4%EB%93%9C%20%ED%88%AC%EA%B2%8C%EB%8D%94&amp;DA=MOR&amp;rtmaxcoll=EM1&amp;irt=movie-single&amp;irk=169281\" onclick='smartLog(this, \"dc=MOR&amp;p=4&amp;r=1&amp;rc=1&amp;pg=1&amp;d=169281\", event);'> <img alt=\"\" class=\"thumb_img\" height=\"164\" is-person-img=\"false\" src=\"https://search1.kakaocdn.net/thumb/R232x328.q85/?fname=https%3A%2F%2Ft1.daumcdn.net%2Fmovie%2F74cb9e08c6eda4f11322523173ff178afcf8bf63\" width=\"116\"/> <span class=\"num_rank\"> <span class=\"img_number num_rank01\">18위</span><span class=\"img_number num_rank08\"></span> </span> </a> </div> <div class=\"wrap_cont\"> <div class=\"info_tit\"> <a class=\"tit_main\" href=\"?w=tot&amp;q=%ED%8A%B8%EB%A1%A4%3A%20%EB%B0%B4%EB%93%9C%20%ED%88%AC%EA%B2%8C%EB%8D%94&amp;DA=MOR&amp;rtmaxcoll=EM1&amp;irt=movie-single&amp;irk=169281\" onclick='smartLog(this, \"dc=MOR&amp;p=3&amp;r=1&amp;rc=1&amp;pg=1&amp;d=169281\", event);'> 트롤: 밴드 투게더 </a> </div> <dl class=\"dl_comm star_comp_s\"> <dt class=\"screen_out\">평점</dt> <dd class=\"score\"> <span class=\"ico_rwd star_off\"><span class=\"ico_rwd star_on\" style=\"width:0%\"></span></span> <em class=\"rate\"></em> </dd> <dt class=\"screen_out\">참여</dt> <dd class=\"review\"> </dd> </dl> <dl class=\"dl_comm\"> <dt class=\"tit_base\">예매</dt> <dd class=\"cont\">0.4%</dd> </dl> <dl class=\"dl_comm\"> <dt class=\"tit_base\">개봉</dt> <dd class=\"cont\">2023.12.20.</dd> </dl> </div> <div class=\"wrap_btn\"> <a class=\"btn_comp_l btn_emph3\" href=\"https://movie.daum.net/moviedb/contents?movieId=169281\" onclick='smartLog(this, \"dc=MOR&amp;p=5&amp;r=1&amp;rc=1&amp;pg=1&amp;d=169281\", event);' target=\"_blank\"> <span class=\"inner\">예고편</span> </a> <a class=\"btn_comp_l btn_emph3\" href=\"http://movie.daum.net/moviedb/photoviewer?id=169281#start/PhotoList\" onclick='smartLog(this, \"dc=MOR&amp;p=5&amp;r=1&amp;rc=1&amp;pg=1&amp;d=169281\", event);' target=\"_blank\"> <span class=\"inner\">포토</span> </a> </div> </li>, <li class=\"hide\"> <div class=\"wrap_thumb\"> <a class=\"thumb\" href=\"?w=tot&amp;q=%EB%A7%88%EC%97%90%EC%8A%A4%ED%8A%B8%EB%A1%9C%20%EB%B2%88%EC%8A%A4%ED%83%80%EC%9D%B8&amp;DA=MOR&amp;rtmaxcoll=EM1&amp;irt=movie-single&amp;irk=139550\" onclick='smartLog(this, \"dc=MOR&amp;p=4&amp;r=1&amp;rc=1&amp;pg=1&amp;d=139550\", event);'> <img alt=\"\" class=\"thumb_img\" height=\"164\" is-person-img=\"false\" src=\"https://search1.kakaocdn.net/thumb/R232x328.q85/?fname=https%3A%2F%2Ft1.daumcdn.net%2Fmovie%2Fc7f7c1cc736a029f6973bae1faaac00ac4938f57\" width=\"116\"/> <span class=\"num_rank\"> <span class=\"img_number num_rank01\">19위</span><span class=\"img_number num_rank09\"></span> </span> </a> </div> <div class=\"wrap_cont\"> <div class=\"info_tit\"> <a class=\"tit_main\" href=\"?w=tot&amp;q=%EB%A7%88%EC%97%90%EC%8A%A4%ED%8A%B8%EB%A1%9C%20%EB%B2%88%EC%8A%A4%ED%83%80%EC%9D%B8&amp;DA=MOR&amp;rtmaxcoll=EM1&amp;irt=movie-single&amp;irk=139550\" onclick='smartLog(this, \"dc=MOR&amp;p=3&amp;r=1&amp;rc=1&amp;pg=1&amp;d=139550\", event);'> 마에스트로 번스타인 </a> </div> <dl class=\"dl_comm star_comp_s\"> <dt class=\"screen_out\">평점</dt> <dd class=\"score\"> <span class=\"ico_rwd star_off\"><span class=\"ico_rwd star_on\" style=\"width:78%\"></span></span> <em class=\"rate\">7.8</em> </dd> <dt class=\"screen_out\">참여</dt> <dd class=\"review\"> <a class=\"link_count\" href=\"http://movie.daum.net/moviedb/grade?movieId=139550\" target=\"_blank\"> 5명 참여 </a> </dd> </dl> <dl class=\"dl_comm\"> <dt class=\"tit_base\">예매</dt> <dd class=\"cont\">0.4%</dd> </dl> <dl class=\"dl_comm\"> <dt class=\"tit_base\">개봉</dt> <dd class=\"cont\">2023.12.06.</dd> </dl> <dl class=\"dl_comm\"> <dt class=\"tit_base\">누적</dt> <dd class=\"cont\">1,907명</dd> </dl> </div> <div class=\"wrap_btn\"> <a class=\"btn_comp_l btn_emph3\" href=\"https://movie.daum.net/moviedb/contents?movieId=139550\" onclick='smartLog(this, \"dc=MOR&amp;p=5&amp;r=1&amp;rc=1&amp;pg=1&amp;d=139550\", event);' target=\"_blank\"> <span class=\"inner\">예고편</span> </a> <a class=\"btn_comp_l btn_emph3\" href=\"http://movie.daum.net/moviedb/photoviewer?id=139550#start/PhotoList\" onclick='smartLog(this, \"dc=MOR&amp;p=5&amp;r=1&amp;rc=1&amp;pg=1&amp;d=139550\", event);' target=\"_blank\"> <span class=\"inner\">포토</span> </a> </div> </li>, <li class=\"hide\"> <div class=\"wrap_thumb\"> <a class=\"thumb\" href=\"?w=tot&amp;q=%EA%B5%90%ED%86%A0%EC%97%90%EC%84%9C%20%EC%98%A8%20%ED%8E%B8%EC%A7%80&amp;DA=MOR&amp;rtmaxcoll=EM1&amp;irt=movie-single&amp;irk=163849\" onclick='smartLog(this, \"dc=MOR&amp;p=4&amp;r=1&amp;rc=1&amp;pg=1&amp;d=163849\", event);'> <img alt=\"\" class=\"thumb_img\" height=\"164\" is-person-img=\"false\" src=\"https://search1.kakaocdn.net/thumb/R232x328.q85/?fname=https%3A%2F%2Ft1.daumcdn.net%2Fmovie%2F81a0d5d5ff0319f97d54f00bacee03a9fed2ae4b\" width=\"116\"/> <span class=\"num_rank\"> <span class=\"img_number num_rank02\">20위</span><span class=\"img_number num_rank00\"></span> </span> </a> </div> <div class=\"wrap_cont\"> <div class=\"info_tit\"> <a class=\"tit_main\" href=\"?w=tot&amp;q=%EA%B5%90%ED%86%A0%EC%97%90%EC%84%9C%20%EC%98%A8%20%ED%8E%B8%EC%A7%80&amp;DA=MOR&amp;rtmaxcoll=EM1&amp;irt=movie-single&amp;irk=163849\" onclick='smartLog(this, \"dc=MOR&amp;p=3&amp;r=1&amp;rc=1&amp;pg=1&amp;d=163849\", event);'> 교토에서 온 편지 </a> </div> <dl class=\"dl_comm star_comp_s\"> <dt class=\"screen_out\">평점</dt> <dd class=\"score\"> <span class=\"ico_rwd star_off\"><span class=\"ico_rwd star_on\" style=\"width:66%\"></span></span> <em class=\"rate\">6.6</em> </dd> <dt class=\"screen_out\">참여</dt> <dd class=\"review\"> <a class=\"link_count\" href=\"http://movie.daum.net/moviedb/grade?movieId=163849\" target=\"_blank\"> 9명 참여 </a> </dd> </dl> <dl class=\"dl_comm\"> <dt class=\"tit_base\">예매</dt> <dd class=\"cont\">0.3%</dd> </dl> <dl class=\"dl_comm\"> <dt class=\"tit_base\">개봉</dt> <dd class=\"cont\">2023.12.06.</dd> </dl> <dl class=\"dl_comm\"> <dt class=\"tit_base\">누적</dt> <dd class=\"cont\">2,913명</dd> </dl> </div> <div class=\"wrap_btn\"> <a class=\"btn_comp_l btn_emph3\" href=\"https://movie.daum.net/moviedb/contents?movieId=163849\" onclick='smartLog(this, \"dc=MOR&amp;p=5&amp;r=1&amp;rc=1&amp;pg=1&amp;d=163849\", event);' target=\"_blank\"> <span class=\"inner\">예고편</span> </a> <a class=\"btn_comp_l btn_emph3\" href=\"http://movie.daum.net/moviedb/photoviewer?id=163849#start/PhotoList\" onclick='smartLog(this, \"dc=MOR&amp;p=5&amp;r=1&amp;rc=1&amp;pg=1&amp;d=163849\", event);' target=\"_blank\"> <span class=\"inner\">포토</span> </a> </div> </li>, <li class=\"hide\"> <div class=\"wrap_thumb\"> <a class=\"thumb\" href=\"?w=tot&amp;q=%EB%B9%84%ED%88%AC%EB%B9%84%20%ED%83%80%EC%9E%84%20%3A%20%EB%B9%84%ED%88%AC%EA%B2%8C%EB%8D%94%20%EB%8D%94%20%EB%AC%B4%EB%B9%84&amp;DA=MOR&amp;rtmaxcoll=EM1&amp;irt=movie-single&amp;irk=175061\" onclick='smartLog(this, \"dc=MOR&amp;p=4&amp;r=1&amp;rc=1&amp;pg=1&amp;d=175061\", event);'> <img alt=\"\" class=\"thumb_img\" height=\"164\" is-person-img=\"false\" src=\"https://search1.kakaocdn.net/thumb/R232x328.q85/?fname=https%3A%2F%2Ft1.daumcdn.net%2Fmovie%2F3d4ae453dc190821e4bcedf1267520dad65aa22d\" width=\"116\"/> <span class=\"num_rank\"> <span class=\"img_number num_rank02\">21위</span><span class=\"img_number num_rank01\"></span> </span> </a> </div> <div class=\"wrap_cont\"> <div class=\"info_tit\"> <a class=\"tit_main\" href=\"?w=tot&amp;q=%EB%B9%84%ED%88%AC%EB%B9%84%20%ED%83%80%EC%9E%84%20%3A%20%EB%B9%84%ED%88%AC%EA%B2%8C%EB%8D%94%20%EB%8D%94%20%EB%AC%B4%EB%B9%84&amp;DA=MOR&amp;rtmaxcoll=EM1&amp;irt=movie-single&amp;irk=175061\" onclick='smartLog(this, \"dc=MOR&amp;p=3&amp;r=1&amp;rc=1&amp;pg=1&amp;d=175061\", event);'> 비투비 타임 : 비투게더 더 무비 </a> </div> <dl class=\"dl_comm star_comp_s\"> <dt class=\"screen_out\">평점</dt> <dd class=\"score\"> <span class=\"ico_rwd star_off\"><span class=\"ico_rwd star_on\" style=\"width:88%\"></span></span> <em class=\"rate\">8.8</em> </dd> <dt class=\"screen_out\">참여</dt> <dd class=\"review\"> <a class=\"link_count\" href=\"http://movie.daum.net/moviedb/grade?movieId=175061\" target=\"_blank\"> 8명 참여 </a> </dd> </dl> <dl class=\"dl_comm\"> <dt class=\"tit_base\">예매</dt> <dd class=\"cont\">0.2%</dd> </dl> <dl class=\"dl_comm\"> <dt class=\"tit_base\">개봉</dt> <dd class=\"cont\">2023.11.15.</dd> </dl> <dl class=\"dl_comm\"> <dt class=\"tit_base\">누적</dt> <dd class=\"cont\">30,051명</dd> </dl> </div> <div class=\"wrap_btn\"> <a class=\"btn_comp_l btn_emph3\" href=\"https://movie.daum.net/moviedb/contents?movieId=175061\" onclick='smartLog(this, \"dc=MOR&amp;p=5&amp;r=1&amp;rc=1&amp;pg=1&amp;d=175061\", event);' target=\"_blank\"> <span class=\"inner\">예고편</span> </a> <a class=\"btn_comp_l btn_emph3\" href=\"http://movie.daum.net/moviedb/photoviewer?id=175061#start/PhotoList\" onclick='smartLog(this, \"dc=MOR&amp;p=5&amp;r=1&amp;rc=1&amp;pg=1&amp;d=175061\", event);' target=\"_blank\"> <span class=\"inner\">포토</span> </a> </div> </li>, <li class=\"hide\"> <div class=\"wrap_thumb\"> <a class=\"thumb\" href=\"?w=tot&amp;q=%EB%82%98%20%ED%98%BC%EC%9E%90%EB%A7%8C%20%EB%A0%88%EB%B2%A8%EC%97%85%20%ED%94%84%EB%A6%AC%EB%B7%B0&amp;DA=MOR&amp;rtmaxcoll=EM1&amp;irt=movie-single&amp;irk=175640\" onclick='smartLog(this, \"dc=MOR&amp;p=4&amp;r=1&amp;rc=1&amp;pg=1&amp;d=175640\", event);'> <img alt=\"\" class=\"thumb_img\" height=\"164\" is-person-img=\"false\" src=\"https://search1.daumcdn.net/search/statics/common/pi/noimg/no_img_1x1.gif\" width=\"116\"/> <span class=\"num_rank\"> <span class=\"img_number num_rank02\">22위</span><span class=\"img_number num_rank02\"></span> </span> </a> </div> <div class=\"wrap_cont\"> <div class=\"info_tit\"> <a class=\"tit_main\" href=\"?w=tot&amp;q=%EB%82%98%20%ED%98%BC%EC%9E%90%EB%A7%8C%20%EB%A0%88%EB%B2%A8%EC%97%85%20%ED%94%84%EB%A6%AC%EB%B7%B0&amp;DA=MOR&amp;rtmaxcoll=EM1&amp;irt=movie-single&amp;irk=175640\" onclick='smartLog(this, \"dc=MOR&amp;p=3&amp;r=1&amp;rc=1&amp;pg=1&amp;d=175640\", event);'> 나 혼자만 레벨업 프리뷰 </a> </div> <dl class=\"dl_comm star_comp_s\"> <dt class=\"screen_out\">평점</dt> <dd class=\"score\"> <span class=\"ico_rwd star_off\"><span class=\"ico_rwd star_on\" style=\"width:0%\"></span></span> <em class=\"rate\"></em> </dd> <dt class=\"screen_out\">참여</dt> <dd class=\"review\"> </dd> </dl> <dl class=\"dl_comm\"> <dt class=\"tit_base\">예매</dt> <dd class=\"cont\">0.2%</dd> </dl> <dl class=\"dl_comm\"> <dt class=\"tit_base\">개봉</dt> <dd class=\"cont\">2023.12.13.</dd> </dl> </div> <div class=\"wrap_btn\"> <a class=\"btn_comp_l btn_emph3\" href=\"https://movie.daum.net/moviedb/contents?movieId=175640\" onclick='smartLog(this, \"dc=MOR&amp;p=5&amp;r=1&amp;rc=1&amp;pg=1&amp;d=175640\", event);' target=\"_blank\"> <span class=\"inner\">예고편</span> </a> <a class=\"btn_comp_l btn_emph3\" href=\"http://movie.daum.net/moviedb/photoviewer?id=175640#start/PhotoList\" onclick='smartLog(this, \"dc=MOR&amp;p=5&amp;r=1&amp;rc=1&amp;pg=1&amp;d=175640\", event);' target=\"_blank\"> <span class=\"inner\">포토</span> </a> </div> </li>, <li class=\"hide\"> <div class=\"wrap_thumb\"> <a class=\"thumb\" href=\"?w=tot&amp;q=%EA%B7%B9%EC%9E%A5%ED%8C%90%20%EC%9A%B0%EB%8B%B9%ED%83%95%ED%83%95%20%EC%9D%80%ED%95%98%EC%95%88%EC%A0%84%EB%8B%A8%3A%20%EC%A7%84%EC%A0%95%ED%95%9C%20%EC%9A%A9%EA%B8%B0!&amp;DA=MOR&amp;rtmaxcoll=EM1&amp;irt=movie-single&amp;irk=174118\" onclick='smartLog(this, \"dc=MOR&amp;p=4&amp;r=1&amp;rc=1&amp;pg=1&amp;d=174118\", event);'> <img alt=\"\" class=\"thumb_img\" height=\"164\" is-person-img=\"false\" src=\"https://search1.kakaocdn.net/thumb/R232x328.q85/?fname=https%3A%2F%2Ft1.daumcdn.net%2Fmovie%2F6e0a44151f7f74425c45bcd676c3d68c3b45f3cb\" width=\"116\"/> <span class=\"num_rank\"> <span class=\"img_number num_rank02\">23위</span><span class=\"img_number num_rank03\"></span> </span> </a> </div> <div class=\"wrap_cont\"> <div class=\"info_tit\"> <a class=\"tit_main\" href=\"?w=tot&amp;q=%EA%B7%B9%EC%9E%A5%ED%8C%90%20%EC%9A%B0%EB%8B%B9%ED%83%95%ED%83%95%20%EC%9D%80%ED%95%98%EC%95%88%EC%A0%84%EB%8B%A8%3A%20%EC%A7%84%EC%A0%95%ED%95%9C%20%EC%9A%A9%EA%B8%B0!&amp;DA=MOR&amp;rtmaxcoll=EM1&amp;irt=movie-single&amp;irk=174118\" onclick='smartLog(this, \"dc=MOR&amp;p=3&amp;r=1&amp;rc=1&amp;pg=1&amp;d=174118\", event);'> 극장판 우당탕탕 은하안전단: 진정한 용기! </a> </div> <dl class=\"dl_comm star_comp_s\"> <dt class=\"screen_out\">평점</dt> <dd class=\"score\"> <span class=\"ico_rwd star_off\"><span class=\"ico_rwd star_on\" style=\"width:70%\"></span></span> <em class=\"rate\">7.0</em> </dd> <dt class=\"screen_out\">참여</dt> <dd class=\"review\"> <a class=\"link_count\" href=\"http://movie.daum.net/moviedb/grade?movieId=174118\" target=\"_blank\"> 2명 참여 </a> </dd> </dl> <dl class=\"dl_comm\"> <dt class=\"tit_base\">예매</dt> <dd class=\"cont\">0.2%</dd> </dl> <dl class=\"dl_comm\"> <dt class=\"tit_base\">개봉</dt> <dd class=\"cont\">2023.11.30.</dd> </dl> <dl class=\"dl_comm\"> <dt class=\"tit_base\">누적</dt> <dd class=\"cont\">24,393명</dd> </dl> </div> <div class=\"wrap_btn\"> <a class=\"btn_comp_l btn_emph3\" href=\"https://movie.daum.net/moviedb/contents?movieId=174118\" onclick='smartLog(this, \"dc=MOR&amp;p=5&amp;r=1&amp;rc=1&amp;pg=1&amp;d=174118\", event);' target=\"_blank\"> <span class=\"inner\">예고편</span> </a> <a class=\"btn_comp_l btn_emph3\" href=\"http://movie.daum.net/moviedb/photoviewer?id=174118#start/PhotoList\" onclick='smartLog(this, \"dc=MOR&amp;p=5&amp;r=1&amp;rc=1&amp;pg=1&amp;d=174118\", event);' target=\"_blank\"> <span class=\"inner\">포토</span> </a> </div> </li>, <li class=\"hide\"> <div class=\"wrap_thumb\"> <a class=\"thumb\" href=\"?w=tot&amp;q=%EB%83%89%EC%A0%95%EA%B3%BC%20%EC%97%B4%EC%A0%95%20%EC%82%AC%EC%9D%B4&amp;DA=MOR&amp;rtmaxcoll=EM1&amp;irt=movie-single&amp;irk=34483\" onclick='smartLog(this, \"dc=MOR&amp;p=4&amp;r=1&amp;rc=1&amp;pg=1&amp;d=34483\", event);'> <img alt=\"\" class=\"thumb_img\" height=\"164\" is-person-img=\"false\" src=\"https://search1.kakaocdn.net/thumb/R232x328.q85/?fname=https%3A%2F%2Ft1.daumcdn.net%2Fmovie%2Face94cf99e22e2067cb9825c4ab4ecb183683f1e\" width=\"116\"/> <span class=\"num_rank\"> <span class=\"img_number num_rank02\">24위</span><span class=\"img_number num_rank04\"></span> </span> </a> </div> <div class=\"wrap_cont\"> <div class=\"info_tit\"> <a class=\"tit_main\" href=\"?w=tot&amp;q=%EB%83%89%EC%A0%95%EA%B3%BC%20%EC%97%B4%EC%A0%95%20%EC%82%AC%EC%9D%B4&amp;DA=MOR&amp;rtmaxcoll=EM1&amp;irt=movie-single&amp;irk=34483\" onclick='smartLog(this, \"dc=MOR&amp;p=3&amp;r=1&amp;rc=1&amp;pg=1&amp;d=34483\", event);'> 냉정과 열정 사이 </a> </div> <dl class=\"dl_comm star_comp_s\"> <dt class=\"screen_out\">평점</dt> <dd class=\"score\"> <span class=\"ico_rwd star_off\"><span class=\"ico_rwd star_on\" style=\"width:77%\"></span></span> <em class=\"rate\">7.7</em> </dd> <dt class=\"screen_out\">참여</dt> <dd class=\"review\"> <a class=\"link_count\" href=\"http://movie.daum.net/moviedb/grade?movieId=34483\" target=\"_blank\"> 207명 참여 </a> </dd> </dl> <dl class=\"dl_comm\"> <dt class=\"tit_base\">예매</dt> <dd class=\"cont\">0.2%</dd> </dl> <dl class=\"dl_comm\"> <dt class=\"tit_base\">재개봉</dt> <dd class=\"cont\">2023.12.06.</dd> </dl> <dl class=\"dl_comm\"> <dt class=\"tit_base\">누적</dt> <dd class=\"cont\">48,831명</dd> </dl> </div> <div class=\"wrap_btn\"> <a class=\"btn_comp_l btn_emph3\" href=\"https://movie.daum.net/moviedb/contents?movieId=34483\" onclick='smartLog(this, \"dc=MOR&amp;p=5&amp;r=1&amp;rc=1&amp;pg=1&amp;d=34483\", event);' target=\"_blank\"> <span class=\"inner\">예고편</span> </a> <a class=\"btn_comp_l btn_emph3\" href=\"http://movie.daum.net/moviedb/photoviewer?id=34483#start/PhotoList\" onclick='smartLog(this, \"dc=MOR&amp;p=5&amp;r=1&amp;rc=1&amp;pg=1&amp;d=34483\", event);' target=\"_blank\"> <span class=\"inner\">포토</span> </a> </div> </li>, <li class=\"hide\"> <div class=\"wrap_thumb\"> <a class=\"thumb\" href=\"?w=tot&amp;q=%EB%93%9C%EB%9D%BC%EC%9D%B4%EB%B8%8C%20%EB%A7%88%EC%9D%B4%20%EC%B9%B4&amp;DA=MOR&amp;rtmaxcoll=EM1&amp;irt=movie-single&amp;irk=151070\" onclick='smartLog(this, \"dc=MOR&amp;p=4&amp;r=1&amp;rc=1&amp;pg=1&amp;d=151070\", event);'> <img alt=\"\" class=\"thumb_img\" height=\"164\" is-person-img=\"false\" src=\"https://search1.kakaocdn.net/thumb/R232x328.q85/?fname=https%3A%2F%2Ft1.daumcdn.net%2Fmovie%2F59b5ac10a09eb75346112033b37665e66772ab77\" width=\"116\"/> <span class=\"num_rank\"> <span class=\"img_number num_rank02\">25위</span><span class=\"img_number num_rank05\"></span> </span> </a> </div> <div class=\"wrap_cont\"> <div class=\"info_tit\"> <a class=\"tit_main\" href=\"?w=tot&amp;q=%EB%93%9C%EB%9D%BC%EC%9D%B4%EB%B8%8C%20%EB%A7%88%EC%9D%B4%20%EC%B9%B4&amp;DA=MOR&amp;rtmaxcoll=EM1&amp;irt=movie-single&amp;irk=151070\" onclick='smartLog(this, \"dc=MOR&amp;p=3&amp;r=1&amp;rc=1&amp;pg=1&amp;d=151070\", event);'> 드라이브 마이 카 </a> </div> <dl class=\"dl_comm star_comp_s\"> <dt class=\"screen_out\">평점</dt> <dd class=\"score\"> <span class=\"ico_rwd star_off\"><span class=\"ico_rwd star_on\" style=\"width:71%\"></span></span> <em class=\"rate\">7.1</em> </dd> <dt class=\"screen_out\">참여</dt> <dd class=\"review\"> <a class=\"link_count\" href=\"http://movie.daum.net/moviedb/grade?movieId=151070\" target=\"_blank\"> 106명 참여 </a> </dd> </dl> <dl class=\"dl_comm\"> <dt class=\"tit_base\">예매</dt> <dd class=\"cont\">0.2%</dd> </dl> <dl class=\"dl_comm\"> <dt class=\"tit_base\">재개봉</dt> <dd class=\"cont\">2023.12.20.</dd> </dl> </div> <div class=\"wrap_btn\"> <a class=\"btn_comp_l btn_emph3\" href=\"https://movie.daum.net/moviedb/contents?movieId=151070\" onclick='smartLog(this, \"dc=MOR&amp;p=5&amp;r=1&amp;rc=1&amp;pg=1&amp;d=151070\", event);' target=\"_blank\"> <span class=\"inner\">예고편</span> </a> <a class=\"btn_comp_l btn_emph3\" href=\"http://movie.daum.net/moviedb/photoviewer?id=151070#start/PhotoList\" onclick='smartLog(this, \"dc=MOR&amp;p=5&amp;r=1&amp;rc=1&amp;pg=1&amp;d=151070\", event);' target=\"_blank\"> <span class=\"inner\">포토</span> </a> </div> </li>, <li class=\"hide\"> <div class=\"wrap_thumb\"> <a class=\"thumb\" href=\"?w=tot&amp;q=%EA%B7%B9%EC%9E%A5%ED%8C%90%20%EC%95%84%EC%9D%B4%EB%8F%8C%EB%A6%AC%EC%89%AC%20%EC%84%B8%EB%B8%90%3A%20%EB%9D%BC%EC%9D%B4%EB%B8%8C%204%EB%B9%84%ED%8A%B8%20%EB%B9%84%EC%9A%98%EB%93%9C%20%EB%8D%94%20%ED%94%BC%EB%A6%AC%EC%96%B4%EB%93%9C%20-%20%EB%8D%B0%EC%9D%B4%202&amp;DA=MOR&amp;rtmaxcoll=EM1&amp;irt=movie-single&amp;irk=174414\" onclick='smartLog(this, \"dc=MOR&amp;p=4&amp;r=1&amp;rc=1&amp;pg=1&amp;d=174414\", event);'> <img alt=\"\" class=\"thumb_img\" height=\"164\" is-person-img=\"false\" src=\"https://search1.kakaocdn.net/thumb/R232x328.q85/?fname=https%3A%2F%2Ft1.daumcdn.net%2Fmovie%2F73721613b87046de026b07e14996847f932f6f84\" width=\"116\"/> <span class=\"num_rank\"> <span class=\"img_number num_rank02\">25위</span><span class=\"img_number num_rank05\"></span> </span> </a> </div> <div class=\"wrap_cont\"> <div class=\"info_tit\"> <a class=\"tit_main\" href=\"?w=tot&amp;q=%EA%B7%B9%EC%9E%A5%ED%8C%90%20%EC%95%84%EC%9D%B4%EB%8F%8C%EB%A6%AC%EC%89%AC%20%EC%84%B8%EB%B8%90%3A%20%EB%9D%BC%EC%9D%B4%EB%B8%8C%204%EB%B9%84%ED%8A%B8%20%EB%B9%84%EC%9A%98%EB%93%9C%20%EB%8D%94%20%ED%94%BC%EB%A6%AC%EC%96%B4%EB%93%9C%20-%20%EB%8D%B0%EC%9D%B4%202&amp;DA=MOR&amp;rtmaxcoll=EM1&amp;irt=movie-single&amp;irk=174414\" onclick='smartLog(this, \"dc=MOR&amp;p=3&amp;r=1&amp;rc=1&amp;pg=1&amp;d=174414\", event);'> 극장판 아이돌리쉬 세븐: 라이브 4비트 비욘드 더 피리어드 - 데이 2 </a> </div> <dl class=\"dl_comm star_comp_s\"> <dt class=\"screen_out\">평점</dt> <dd class=\"score\"> <span class=\"ico_rwd star_off\"><span class=\"ico_rwd star_on\" style=\"width:0%\"></span></span> <em class=\"rate\"></em> </dd> <dt class=\"screen_out\">참여</dt> <dd class=\"review\"> </dd> </dl> <dl class=\"dl_comm\"> <dt class=\"tit_base\">예매</dt> <dd class=\"cont\">0.2%</dd> </dl> <dl class=\"dl_comm\"> <dt class=\"tit_base\">개봉</dt> <dd class=\"cont\">2023.10.19.</dd> </dl> <dl class=\"dl_comm\"> <dt class=\"tit_base\">누적</dt> <dd class=\"cont\">25,506명</dd> </dl> </div> <div class=\"wrap_btn\"> <a class=\"btn_comp_l btn_emph3\" href=\"https://movie.daum.net/moviedb/contents?movieId=174414\" onclick='smartLog(this, \"dc=MOR&amp;p=5&amp;r=1&amp;rc=1&amp;pg=1&amp;d=174414\", event);' target=\"_blank\"> <span class=\"inner\">예고편</span> </a> <a class=\"btn_comp_l btn_emph3\" href=\"http://movie.daum.net/moviedb/photoviewer?id=174414#start/PhotoList\" onclick='smartLog(this, \"dc=MOR&amp;p=5&amp;r=1&amp;rc=1&amp;pg=1&amp;d=174414\", event);' target=\"_blank\"> <span class=\"inner\">포토</span> </a> </div> </li>, <li class=\"hide\"> <div class=\"wrap_thumb\"> <a class=\"thumb\" href=\"?w=tot&amp;q=%EB%84%88%EC%99%80%20%EB%82%98&amp;DA=MOR&amp;rtmaxcoll=EM1&amp;irt=movie-single&amp;irk=163754\" onclick='smartLog(this, \"dc=MOR&amp;p=4&amp;r=1&amp;rc=1&amp;pg=1&amp;d=163754\", event);'> <img alt=\"\" class=\"thumb_img\" height=\"164\" is-person-img=\"false\" src=\"https://search1.kakaocdn.net/thumb/R232x328.q85/?fname=https%3A%2F%2Ft1.daumcdn.net%2Fmovie%2F8cd15f11eae9b493b1b22436ea3677f3cdbf3bf7\" width=\"116\"/> <span class=\"num_rank\"> <span class=\"img_number num_rank02\">27위</span><span class=\"img_number num_rank07\"></span> </span> </a> </div> <div class=\"wrap_cont\"> <div class=\"info_tit\"> <a class=\"tit_main\" href=\"?w=tot&amp;q=%EB%84%88%EC%99%80%20%EB%82%98&amp;DA=MOR&amp;rtmaxcoll=EM1&amp;irt=movie-single&amp;irk=163754\" onclick='smartLog(this, \"dc=MOR&amp;p=3&amp;r=1&amp;rc=1&amp;pg=1&amp;d=163754\", event);'> 너와 나 </a> </div> <dl class=\"dl_comm star_comp_s\"> <dt class=\"screen_out\">평점</dt> <dd class=\"score\"> <span class=\"ico_rwd star_off\"><span class=\"ico_rwd star_on\" style=\"width:70%\"></span></span> <em class=\"rate\">7.0</em> </dd> <dt class=\"screen_out\">참여</dt> <dd class=\"review\"> <a class=\"link_count\" href=\"http://movie.daum.net/moviedb/grade?movieId=163754\" target=\"_blank\"> 65명 참여 </a> </dd> </dl> <dl class=\"dl_comm\"> <dt class=\"tit_base\">예매</dt> <dd class=\"cont\">0.1%</dd> </dl> <dl class=\"dl_comm\"> <dt class=\"tit_base\">개봉</dt> <dd class=\"cont\">2023.10.25.</dd> </dl> <dl class=\"dl_comm\"> <dt class=\"tit_base\">누적</dt> <dd class=\"cont\">26,676명</dd> </dl> </div> <div class=\"wrap_btn\"> <a class=\"btn_comp_l btn_emph3\" href=\"https://movie.daum.net/moviedb/contents?movieId=163754\" onclick='smartLog(this, \"dc=MOR&amp;p=5&amp;r=1&amp;rc=1&amp;pg=1&amp;d=163754\", event);' target=\"_blank\"> <span class=\"inner\">예고편</span> </a> <a class=\"btn_comp_l btn_emph3\" href=\"http://movie.daum.net/moviedb/photoviewer?id=163754#start/PhotoList\" onclick='smartLog(this, \"dc=MOR&amp;p=5&amp;r=1&amp;rc=1&amp;pg=1&amp;d=163754\", event);' target=\"_blank\"> <span class=\"inner\">포토</span> </a> </div> </li>, <li class=\"hide\"> <div class=\"wrap_thumb\"> <a class=\"thumb\" href=\"?w=tot&amp;q=%EB%B9%84%EB%B0%80&amp;DA=MOR&amp;rtmaxcoll=EM1&amp;irt=movie-single&amp;irk=174112\" onclick='smartLog(this, \"dc=MOR&amp;p=4&amp;r=1&amp;rc=1&amp;pg=1&amp;d=174112\", event);'> <img alt=\"\" class=\"thumb_img\" height=\"164\" is-person-img=\"false\" src=\"https://search1.kakaocdn.net/thumb/R232x328.q85/?fname=https%3A%2F%2Ft1.daumcdn.net%2Fmovie%2Fd9be44c620b45e12aef226942c429b8bd25b556d\" width=\"116\"/> <span class=\"num_rank\"> <span class=\"img_number num_rank02\">28위</span><span class=\"img_number num_rank08\"></span> </span> </a> </div> <div class=\"wrap_cont\"> <div class=\"info_tit\"> <a class=\"tit_main\" href=\"?w=tot&amp;q=%EB%B9%84%EB%B0%80&amp;DA=MOR&amp;rtmaxcoll=EM1&amp;irt=movie-single&amp;irk=174112\" onclick='smartLog(this, \"dc=MOR&amp;p=3&amp;r=1&amp;rc=1&amp;pg=1&amp;d=174112\", event);'> 비밀 </a> </div> <dl class=\"dl_comm star_comp_s\"> <dt class=\"screen_out\">평점</dt> <dd class=\"score\"> <span class=\"ico_rwd star_off\"><span class=\"ico_rwd star_on\" style=\"width:93%\"></span></span> <em class=\"rate\">9.3</em> </dd> <dt class=\"screen_out\">참여</dt> <dd class=\"review\"> <a class=\"link_count\" href=\"http://movie.daum.net/moviedb/grade?movieId=174112\" target=\"_blank\"> 12명 참여 </a> </dd> </dl> <dl class=\"dl_comm\"> <dt class=\"tit_base\">예매</dt> <dd class=\"cont\">0.1%</dd> </dl> <dl class=\"dl_comm\"> <dt class=\"tit_base\">개봉</dt> <dd class=\"cont\">2023.12.13.</dd> </dl> </div> <div class=\"wrap_btn\"> <a class=\"btn_comp_l btn_emph3\" href=\"https://movie.daum.net/moviedb/contents?movieId=174112\" onclick='smartLog(this, \"dc=MOR&amp;p=5&amp;r=1&amp;rc=1&amp;pg=1&amp;d=174112\", event);' target=\"_blank\"> <span class=\"inner\">예고편</span> </a> <a class=\"btn_comp_l btn_emph3\" href=\"http://movie.daum.net/moviedb/photoviewer?id=174112#start/PhotoList\" onclick='smartLog(this, \"dc=MOR&amp;p=5&amp;r=1&amp;rc=1&amp;pg=1&amp;d=174112\", event);' target=\"_blank\"> <span class=\"inner\">포토</span> </a> </div> </li>, <li class=\"hide\"> <div class=\"wrap_thumb\"> <a class=\"thumb\" href=\"?w=tot&amp;q=%ED%97%A4%EB%93%9C%EC%9C%85&amp;DA=MOR&amp;rtmaxcoll=EM1&amp;irt=movie-single&amp;irk=3694\" onclick='smartLog(this, \"dc=MOR&amp;p=4&amp;r=1&amp;rc=1&amp;pg=1&amp;d=3694\", event);'> <img alt=\"\" class=\"thumb_img\" height=\"164\" is-person-img=\"false\" src=\"https://search1.kakaocdn.net/thumb/R232x328.q85/?fname=https%3A%2F%2Ft1.daumcdn.net%2Fmovie%2F9563b298f634d206e303a7a106c305349d21a780\" width=\"116\"/> <span class=\"num_rank\"> <span class=\"img_number num_rank02\">29위</span><span class=\"img_number num_rank09\"></span> </span> </a> </div> <div class=\"wrap_cont\"> <div class=\"info_tit\"> <a class=\"tit_main\" href=\"?w=tot&amp;q=%ED%97%A4%EB%93%9C%EC%9C%85&amp;DA=MOR&amp;rtmaxcoll=EM1&amp;irt=movie-single&amp;irk=3694\" onclick='smartLog(this, \"dc=MOR&amp;p=3&amp;r=1&amp;rc=1&amp;pg=1&amp;d=3694\", event);'> 헤드윅 </a> </div> <dl class=\"dl_comm star_comp_s\"> <dt class=\"screen_out\">평점</dt> <dd class=\"score\"> <span class=\"ico_rwd star_off\"><span class=\"ico_rwd star_on\" style=\"width:86%\"></span></span> <em class=\"rate\">8.6</em> </dd> <dt class=\"screen_out\">참여</dt> <dd class=\"review\"> <a class=\"link_count\" href=\"http://movie.daum.net/moviedb/grade?movieId=3694\" target=\"_blank\"> 201명 참여 </a> </dd> </dl> <dl class=\"dl_comm\"> <dt class=\"tit_base\">예매</dt> <dd class=\"cont\">0.1%</dd> </dl> <dl class=\"dl_comm\"> <dt class=\"tit_base\">재개봉</dt> <dd class=\"cont\">2023.12.06.</dd> </dl> <dl class=\"dl_comm\"> <dt class=\"tit_base\">누적</dt> <dd class=\"cont\">45,628명</dd> </dl> </div> <div class=\"wrap_btn\"> <a class=\"btn_comp_l btn_emph3\" href=\"https://movie.daum.net/moviedb/contents?movieId=3694\" onclick='smartLog(this, \"dc=MOR&amp;p=5&amp;r=1&amp;rc=1&amp;pg=1&amp;d=3694\", event);' target=\"_blank\"> <span class=\"inner\">예고편</span> </a> <a class=\"btn_comp_l btn_emph3\" href=\"http://movie.daum.net/moviedb/photoviewer?id=3694#start/PhotoList\" onclick='smartLog(this, \"dc=MOR&amp;p=5&amp;r=1&amp;rc=1&amp;pg=1&amp;d=3694\", event);' target=\"_blank\"> <span class=\"inner\">포토</span> </a> </div> </li>, <li class=\"hide\"> <div class=\"wrap_thumb\"> <a class=\"thumb\" href=\"?w=tot&amp;q=%EB%B8%94%EB%A3%A8%20%EC%9E%90%EC%9D%B4%EC%96%B8%ED%8A%B8&amp;DA=MOR&amp;rtmaxcoll=EM1&amp;irt=movie-single&amp;irk=167998\" onclick='smartLog(this, \"dc=MOR&amp;p=4&amp;r=1&amp;rc=1&amp;pg=1&amp;d=167998\", event);'> <img alt=\"\" class=\"thumb_img\" height=\"164\" is-person-img=\"false\" src=\"https://search1.kakaocdn.net/thumb/R232x328.q85/?fname=https%3A%2F%2Ft1.daumcdn.net%2Fmovie%2F0965d6d350f199711ffcc30e590f99fc6181dab8\" width=\"116\"/> <span class=\"num_rank\"> <span class=\"img_number num_rank03\">30위</span><span class=\"img_number num_rank00\"></span> </span> </a> </div> <div class=\"wrap_cont\"> <div class=\"info_tit\"> <a class=\"tit_main\" href=\"?w=tot&amp;q=%EB%B8%94%EB%A3%A8%20%EC%9E%90%EC%9D%B4%EC%96%B8%ED%8A%B8&amp;DA=MOR&amp;rtmaxcoll=EM1&amp;irt=movie-single&amp;irk=167998\" onclick='smartLog(this, \"dc=MOR&amp;p=3&amp;r=1&amp;rc=1&amp;pg=1&amp;d=167998\", event);'> 블루 자이언트 </a> </div> <dl class=\"dl_comm star_comp_s\"> <dt class=\"screen_out\">평점</dt> <dd class=\"score\"> <span class=\"ico_rwd star_off\"><span class=\"ico_rwd star_on\" style=\"width:88%\"></span></span> <em class=\"rate\">8.8</em> </dd> <dt class=\"screen_out\">참여</dt> <dd class=\"review\"> <a class=\"link_count\" href=\"http://movie.daum.net/moviedb/grade?movieId=167998\" target=\"_blank\"> 48명 참여 </a> </dd> </dl> <dl class=\"dl_comm\"> <dt class=\"tit_base\">예매</dt> <dd class=\"cont\">0.1%</dd> </dl> <dl class=\"dl_comm\"> <dt class=\"tit_base\">개봉</dt> <dd class=\"cont\">2023.10.18.</dd> </dl> <dl class=\"dl_comm\"> <dt class=\"tit_base\">누적</dt> <dd class=\"cont\">117,404명</dd> </dl> </div> <div class=\"wrap_btn\"> <a class=\"btn_comp_l btn_emph3\" href=\"https://movie.daum.net/moviedb/contents?movieId=167998\" onclick='smartLog(this, \"dc=MOR&amp;p=5&amp;r=1&amp;rc=1&amp;pg=1&amp;d=167998\", event);' target=\"_blank\"> <span class=\"inner\">예고편</span> </a> <a class=\"btn_comp_l btn_emph3\" href=\"http://movie.daum.net/moviedb/photoviewer?id=167998#start/PhotoList\" onclick='smartLog(this, \"dc=MOR&amp;p=5&amp;r=1&amp;rc=1&amp;pg=1&amp;d=167998\", event);' target=\"_blank\"> <span class=\"inner\">포토</span> </a> </div> </li>]\n"
     ]
    }
   ],
   "source": [
    "movieInfoList = soup.find('ol', attrs={'class':'movie_list'}).find_all('li')\n",
    "print(movieInfoList)"
   ]
  },
  {
   "cell_type": "code",
   "execution_count": 24,
   "metadata": {},
   "outputs": [],
   "source": [
    "movieInfo = movieInfoList[0]"
   ]
  },
  {
   "cell_type": "code",
   "execution_count": 25,
   "metadata": {},
   "outputs": [
    {
     "data": {
      "text/plain": [
       "'1위'"
      ]
     },
     "execution_count": 25,
     "metadata": {},
     "output_type": "execute_result"
    }
   ],
   "source": [
    "movieRank = movieInfo.find('span', attrs={'class':'num_rank01'}).get_text()\n",
    "# movieInfo.select_one('.num_rank01').get_text()\n",
    "movieRank"
   ]
  },
  {
   "cell_type": "code",
   "execution_count": 28,
   "metadata": {},
   "outputs": [
    {
     "data": {
      "text/plain": [
       "' 서울의 봄 '"
      ]
     },
     "execution_count": 28,
     "metadata": {},
     "output_type": "execute_result"
    }
   ],
   "source": [
    "movieTitle = movieInfo.find('a', attrs={'class':'tit_main'}).get_text()\n",
    "# movieInfo.select_one('.tit_main').get_text()\n",
    "movieTitle"
   ]
  },
  {
   "cell_type": "code",
   "execution_count": 33,
   "metadata": {},
   "outputs": [
    {
     "data": {
      "text/plain": [
       "'2023.11.22.'"
      ]
     },
     "execution_count": 33,
     "metadata": {},
     "output_type": "execute_result"
    }
   ],
   "source": [
    "movieOpendate = movieInfo.find_all(\"dd\", attrs={'class':'cont'})[1].get_text().strip()\n",
    "movieOpendate"
   ]
  },
  {
   "cell_type": "code",
   "execution_count": 34,
   "metadata": {},
   "outputs": [
    {
     "data": {
      "text/plain": [
       "' 2,631명 참여 '"
      ]
     },
     "execution_count": 34,
     "metadata": {},
     "output_type": "execute_result"
    }
   ],
   "source": [
    "movieInfo.find('a', attrs={'class':'link_count'}).get_text()"
   ]
  },
  {
   "cell_type": "code",
   "execution_count": 37,
   "metadata": {},
   "outputs": [
    {
     "ename": "AttributeError",
     "evalue": "'NoneType' object has no attribute 'get_text'",
     "output_type": "error",
     "traceback": [
      "\u001b[1;31m---------------------------------------------------------------------------\u001b[0m",
      "\u001b[1;31mAttributeError\u001b[0m                            Traceback (most recent call last)",
      "\u001b[1;32mc:\\workspace\\crawiling\\4_실전영화순위크롤링.ipynb 셀 9\u001b[0m line \u001b[0;36m1\n\u001b[1;32m----> <a href='vscode-notebook-cell:/c%3A/workspace/crawiling/4_%EC%8B%A4%EC%A0%84%EC%98%81%ED%99%94%EC%88%9C%EC%9C%84%ED%81%AC%EB%A1%A4%EB%A7%81.ipynb#X15sZmlsZQ%3D%3D?line=0'>1</a>\u001b[0m movieScoreCnt \u001b[39m=\u001b[39m movieInfo\u001b[39m.\u001b[39;49mfind(\u001b[39m'\u001b[39;49m\u001b[39ma\u001b[39;49m\u001b[39m'\u001b[39;49m, attrs\u001b[39m=\u001b[39;49m{\u001b[39m'\u001b[39;49m\u001b[39mclass\u001b[39;49m\u001b[39m'\u001b[39;49m:\u001b[39m'\u001b[39;49m\u001b[39mlink_count\u001b[39;49m\u001b[39m'\u001b[39;49m})\u001b[39m.\u001b[39;49mget_text()\n\u001b[0;32m      <a href='vscode-notebook-cell:/c%3A/workspace/crawiling/4_%EC%8B%A4%EC%A0%84%EC%98%81%ED%99%94%EC%88%9C%EC%9C%84%ED%81%AC%EB%A1%A4%EB%A7%81.ipynb#X15sZmlsZQ%3D%3D?line=1'>2</a>\u001b[0m movieScoreCnt\n",
      "\u001b[1;31mAttributeError\u001b[0m: 'NoneType' object has no attribute 'get_text'"
     ]
    }
   ],
   "source": [
    "movieScoreCnt = movieInfo.find('a', attrs={'class':'link_count'}).get_text()\n",
    "movieScoreCnt"
   ]
  },
  {
   "cell_type": "code",
   "execution_count": 36,
   "metadata": {},
   "outputs": [
    {
     "name": "stdout",
     "output_type": "stream",
     "text": [
      "순위 :  1위\n",
      "제목 :   서울의 봄 \n",
      "점수 :  9.5\n",
      "평가참여자수 :  2,631명 참여 \n",
      "개봉일자 : 2023.11.22.\n",
      "순위 :  2위\n",
      "제목 :   노량: 죽음의 바다 \n",
      "점수 :  9.0\n",
      "평가참여자수 :  88명 참여 \n",
      "개봉일자 : 2023.12.20.\n",
      "순위 :  3위\n",
      "제목 :   3일의 휴가 \n",
      "점수 :  8.5\n",
      "평가참여자수 :  67명 참여 \n",
      "개봉일자 : 2023.12.06.\n",
      "순위 :  4위\n",
      "제목 :   나폴레옹 \n",
      "점수 :  7.5\n",
      "평가참여자수 :  51명 참여 \n",
      "개봉일자 : 2023.12.06.\n",
      "순위 :  5위\n",
      "제목 :   싱글 인 서울 \n",
      "점수 :  8.2\n",
      "평가참여자수 :  97명 참여 \n",
      "개봉일자 : 2023.11.29.\n",
      "순위 :  6위\n",
      "제목 :   괴물 \n",
      "점수 :  7.9\n",
      "평가참여자수 :  87명 참여 \n",
      "개봉일자 : 2023.11.29.\n",
      "순위 :  7위\n",
      "제목 :   뽀로로 극장판 슈퍼스타 대모험 \n",
      "점수 :  10.0\n",
      "평가참여자수 :  5명 참여 \n",
      "개봉일자 : 2023.12.13.\n",
      "순위 :  8위\n",
      "제목 :   듄 \n",
      "점수 :  7.0\n",
      "평가참여자수 :  851명 참여 \n",
      "개봉일자 : 2022.02.09.\n",
      "순위 :  9위\n",
      "제목 :   그대들은 어떻게 살 것인가 \n",
      "점수 :  5.4\n",
      "평가참여자수 :  290명 참여 \n",
      "개봉일자 : 2023.10.25.\n",
      "순위 :  10위\n",
      "제목 :   엔시티 네이션 : 투 더 월드 인 시네마 \n",
      "점수 :  5.5\n",
      "평가참여자수 :  2명 참여 \n",
      "개봉일자 : 2023.12.06.\n",
      "순위 :  11위\n",
      "제목 :   아쿠아맨과 로스트 킹덤 \n",
      "점수 :  6.6\n",
      "평가참여자수 :  15명 참여 \n",
      "개봉일자 : 2023.12.20.\n",
      "순위 :  12위\n",
      "제목 :   말하고 싶은 비밀 \n",
      "점수 :  10.0\n",
      "평가참여자수 :  29명 참여 \n",
      "개봉일자 : 2023.12.13.\n",
      "순위 :  13위\n",
      "제목 :   프레디의 피자가게 \n",
      "점수 :  7.1\n",
      "평가참여자수 :  66명 참여 \n",
      "개봉일자 : 2023.11.15.\n",
      "순위 :  14위\n",
      "제목 :   더 퍼스트 슬램덩크 \n",
      "점수 :  8.3\n",
      "평가참여자수 :  555명 참여 \n",
      "개봉일자 : 2023.01.04.\n",
      "순위 :  15위\n",
      "제목 :   쏘우 X \n",
      "점수 :  7.8\n",
      "평가참여자수 :  43명 참여 \n",
      "개봉일자 : 2023.12.13.\n",
      "순위 :  16위\n",
      "제목 :   매직 프린세스: 얼음 괴물과 사라진 열쇠의 비밀 \n",
      "점수 :  10.0\n",
      "평가참여자수 :  1명 참여 \n",
      "개봉일자 : 2023.12.07.\n",
      "순위 :  17위\n",
      "제목 :   홈그라운드 \n",
      "점수 :  8.0\n",
      "평가참여자수 :  2명 참여 \n",
      "개봉일자 : 2023.12.06.\n"
     ]
    },
    {
     "ename": "AttributeError",
     "evalue": "'NoneType' object has no attribute 'get_text'",
     "output_type": "error",
     "traceback": [
      "\u001b[1;31m---------------------------------------------------------------------------\u001b[0m",
      "\u001b[1;31mAttributeError\u001b[0m                            Traceback (most recent call last)",
      "\u001b[1;32mc:\\workspace\\crawiling\\4_실전영화순위크롤링.ipynb 셀 9\u001b[0m line \u001b[0;36m5\n\u001b[0;32m      <a href='vscode-notebook-cell:/c%3A/workspace/crawiling/4_%EC%8B%A4%EC%A0%84%EC%98%81%ED%99%94%EC%88%9C%EC%9C%84%ED%81%AC%EB%A1%A4%EB%A7%81.ipynb#X13sZmlsZQ%3D%3D?line=2'>3</a>\u001b[0m movieTitle \u001b[39m=\u001b[39m movieInfo\u001b[39m.\u001b[39mfind(\u001b[39m'\u001b[39m\u001b[39ma\u001b[39m\u001b[39m'\u001b[39m, attrs\u001b[39m=\u001b[39m{\u001b[39m'\u001b[39m\u001b[39mclass\u001b[39m\u001b[39m'\u001b[39m:\u001b[39m'\u001b[39m\u001b[39mtit_main\u001b[39m\u001b[39m'\u001b[39m})\u001b[39m.\u001b[39mget_text()\n\u001b[0;32m      <a href='vscode-notebook-cell:/c%3A/workspace/crawiling/4_%EC%8B%A4%EC%A0%84%EC%98%81%ED%99%94%EC%88%9C%EC%9C%84%ED%81%AC%EB%A1%A4%EB%A7%81.ipynb#X13sZmlsZQ%3D%3D?line=3'>4</a>\u001b[0m movieScore \u001b[39m=\u001b[39m movieInfo\u001b[39m.\u001b[39mfind(\u001b[39m'\u001b[39m\u001b[39mem\u001b[39m\u001b[39m'\u001b[39m, attrs\u001b[39m=\u001b[39m{\u001b[39m'\u001b[39m\u001b[39mclass\u001b[39m\u001b[39m'\u001b[39m :\u001b[39m'\u001b[39m\u001b[39mrate\u001b[39m\u001b[39m'\u001b[39m})\u001b[39m.\u001b[39mget_text()\n\u001b[1;32m----> <a href='vscode-notebook-cell:/c%3A/workspace/crawiling/4_%EC%8B%A4%EC%A0%84%EC%98%81%ED%99%94%EC%88%9C%EC%9C%84%ED%81%AC%EB%A1%A4%EB%A7%81.ipynb#X13sZmlsZQ%3D%3D?line=4'>5</a>\u001b[0m movieScoreCnt \u001b[39m=\u001b[39m movieInfo\u001b[39m.\u001b[39;49mfind(\u001b[39m'\u001b[39;49m\u001b[39ma\u001b[39;49m\u001b[39m'\u001b[39;49m, attrs\u001b[39m=\u001b[39;49m{\u001b[39m'\u001b[39;49m\u001b[39mclass\u001b[39;49m\u001b[39m'\u001b[39;49m:\u001b[39m'\u001b[39;49m\u001b[39mlink_count\u001b[39;49m\u001b[39m'\u001b[39;49m})\u001b[39m.\u001b[39;49mget_text()\n\u001b[0;32m      <a href='vscode-notebook-cell:/c%3A/workspace/crawiling/4_%EC%8B%A4%EC%A0%84%EC%98%81%ED%99%94%EC%88%9C%EC%9C%84%ED%81%AC%EB%A1%A4%EB%A7%81.ipynb#X13sZmlsZQ%3D%3D?line=5'>6</a>\u001b[0m movieOpendate \u001b[39m=\u001b[39m movieInfo\u001b[39m.\u001b[39mfind_all(\u001b[39m\"\u001b[39m\u001b[39mdd\u001b[39m\u001b[39m\"\u001b[39m, attrs\u001b[39m=\u001b[39m{\u001b[39m'\u001b[39m\u001b[39mclass\u001b[39m\u001b[39m'\u001b[39m:\u001b[39m'\u001b[39m\u001b[39mcont\u001b[39m\u001b[39m'\u001b[39m})[\u001b[39m1\u001b[39m]\u001b[39m.\u001b[39mget_text()\u001b[39m.\u001b[39mstrip()\n\u001b[0;32m      <a href='vscode-notebook-cell:/c%3A/workspace/crawiling/4_%EC%8B%A4%EC%A0%84%EC%98%81%ED%99%94%EC%88%9C%EC%9C%84%ED%81%AC%EB%A1%A4%EB%A7%81.ipynb#X13sZmlsZQ%3D%3D?line=7'>8</a>\u001b[0m \u001b[39mprint\u001b[39m(\u001b[39m'\u001b[39m\u001b[39m순위 : \u001b[39m\u001b[39m'\u001b[39m, movieRank )\n",
      "\u001b[1;31mAttributeError\u001b[0m: 'NoneType' object has no attribute 'get_text'"
     ]
    }
   ],
   "source": [
    "for movieInfo in movieInfoList:\n",
    "    movieRank = movieInfo.find('span', attrs={'class':'img_number'}).get_text()\n",
    "    movieTitle = movieInfo.find('a', attrs={'class':'tit_main'}).get_text()\n",
    "    movieScore = movieInfo.find('em', attrs={'class' :'rate'}).get_text()\n",
    "    movieScoreCnt = movieInfo.find('a', attrs={'class':'link_count'}).get_text()\n",
    "    movieOpendate = movieInfo.find_all(\"dd\", attrs={'class':'cont'})[1].get_text().strip()\n",
    "\n",
    "    print('순위 : ', movieRank )\n",
    "    print('제목 : ', movieTitle )\n",
    "    print('점수 : ', movieScore)\n",
    "    print('평가참여자수 :',  movieScoreCnt)\n",
    "    print('개봉일자 :', movieOpendate)"
   ]
  },
  {
   "cell_type": "code",
   "execution_count": 38,
   "metadata": {},
   "outputs": [
    {
     "name": "stdout",
     "output_type": "stream",
     "text": [
      "순위 : 1위\n",
      "제목 :  서울의 봄 \n",
      "점수 : 9.5\n",
      "평가참여자수:  2,631명 참여 \n",
      "예매일 : 61.8%\n",
      "개봉일자 : 2023.11.22.\n",
      "순위 : 2위\n",
      "제목 :  노량: 죽음의 바다 \n",
      "점수 : 9.0\n",
      "평가참여자수:  88명 참여 \n",
      "예매일 : 6.1%\n",
      "개봉일자 : 2023.12.20.\n",
      "순위 : 3위\n",
      "제목 :  3일의 휴가 \n",
      "점수 : 8.5\n",
      "평가참여자수:  67명 참여 \n",
      "예매일 : 6.1%\n",
      "개봉일자 : 2023.12.06.\n",
      "순위 : 4위\n",
      "제목 :  나폴레옹 \n",
      "점수 : 7.5\n",
      "평가참여자수:  51명 참여 \n",
      "예매일 : 4.9%\n",
      "개봉일자 : 2023.12.06.\n",
      "순위 : 5위\n",
      "제목 :  싱글 인 서울 \n",
      "점수 : 8.2\n",
      "평가참여자수:  97명 참여 \n",
      "예매일 : 3%\n",
      "개봉일자 : 2023.11.29.\n",
      "순위 : 6위\n",
      "제목 :  괴물 \n",
      "점수 : 7.9\n",
      "평가참여자수:  87명 참여 \n",
      "예매일 : 2.4%\n",
      "개봉일자 : 2023.11.29.\n",
      "순위 : 7위\n",
      "제목 :  뽀로로 극장판 슈퍼스타 대모험 \n",
      "점수 : 10.0\n",
      "평가참여자수:  5명 참여 \n",
      "예매일 : 2.3%\n",
      "개봉일자 : 2023.12.13.\n",
      "순위 : 8위\n",
      "제목 :  듄 \n",
      "점수 : 7.0\n",
      "평가참여자수:  851명 참여 \n",
      "예매일 : 1.4%\n",
      "개봉일자 : 2022.02.09.\n",
      "순위 : 9위\n",
      "제목 :  그대들은 어떻게 살 것인가 \n",
      "점수 : 5.4\n",
      "평가참여자수:  290명 참여 \n",
      "예매일 : 1.2%\n",
      "개봉일자 : 2023.10.25.\n",
      "순위 : 10위\n",
      "제목 :  엔시티 네이션 : 투 더 월드 인 시네마 \n",
      "점수 : 5.5\n",
      "평가참여자수:  2명 참여 \n",
      "예매일 : 1.1%\n",
      "개봉일자 : 2023.12.06.\n",
      "순위 : 11위\n",
      "제목 :  아쿠아맨과 로스트 킹덤 \n",
      "점수 : 6.6\n",
      "평가참여자수:  15명 참여 \n",
      "예매일 : 0.8%\n",
      "개봉일자 : 2023.12.20.\n",
      "순위 : 12위\n",
      "제목 :  말하고 싶은 비밀 \n",
      "점수 : 10.0\n",
      "평가참여자수:  29명 참여 \n",
      "예매일 : 0.6%\n",
      "개봉일자 : 2023.12.13.\n",
      "순위 : 13위\n",
      "제목 :  프레디의 피자가게 \n",
      "점수 : 7.1\n",
      "평가참여자수:  66명 참여 \n",
      "예매일 : 0.6%\n",
      "개봉일자 : 2023.11.15.\n",
      "순위 : 14위\n",
      "제목 :  더 퍼스트 슬램덩크 \n",
      "점수 : 8.3\n",
      "평가참여자수:  555명 참여 \n",
      "예매일 : 0.5%\n",
      "개봉일자 : 2023.01.04.\n",
      "순위 : 15위\n",
      "제목 :  쏘우 X \n",
      "점수 : 7.8\n",
      "평가참여자수:  43명 참여 \n",
      "예매일 : 0.5%\n",
      "개봉일자 : 2023.12.13.\n",
      "순위 : 16위\n",
      "제목 :  매직 프린세스: 얼음 괴물과 사라진 열쇠의 비밀 \n",
      "점수 : 10.0\n",
      "평가참여자수:  1명 참여 \n",
      "예매일 : 0.4%\n",
      "개봉일자 : 2023.12.07.\n",
      "순위 : 17위\n",
      "제목 :  홈그라운드 \n",
      "점수 : 8.0\n",
      "평가참여자수:  2명 참여 \n",
      "예매일 : 0.4%\n",
      "개봉일자 : 2023.12.06.\n",
      "순위 : 18위\n",
      "제목 :  트롤: 밴드 투게더 \n",
      "점수 : \n",
      "평가참여자수: X\n",
      "예매일 : 0.4%\n",
      "개봉일자 : 2023.12.20.\n",
      "순위 : 19위\n",
      "제목 :  마에스트로 번스타인 \n",
      "점수 : 7.8\n",
      "평가참여자수:  5명 참여 \n",
      "예매일 : 0.4%\n",
      "개봉일자 : 2023.12.06.\n",
      "순위 : 20위\n",
      "제목 :  교토에서 온 편지 \n",
      "점수 : 6.6\n",
      "평가참여자수:  9명 참여 \n",
      "예매일 : 0.3%\n",
      "개봉일자 : 2023.12.06.\n",
      "순위 : 21위\n",
      "제목 :  비투비 타임 : 비투게더 더 무비 \n",
      "점수 : 8.8\n",
      "평가참여자수:  8명 참여 \n",
      "예매일 : 0.2%\n",
      "개봉일자 : 2023.11.15.\n",
      "순위 : 22위\n",
      "제목 :  나 혼자만 레벨업 프리뷰 \n",
      "점수 : \n",
      "평가참여자수: X\n",
      "예매일 : 0.2%\n",
      "개봉일자 : 2023.12.13.\n",
      "순위 : 23위\n",
      "제목 :  극장판 우당탕탕 은하안전단: 진정한 용기! \n",
      "점수 : 7.0\n",
      "평가참여자수:  2명 참여 \n",
      "예매일 : 0.2%\n",
      "개봉일자 : 2023.11.30.\n",
      "순위 : 24위\n",
      "제목 :  냉정과 열정 사이 \n",
      "점수 : 7.7\n",
      "평가참여자수:  207명 참여 \n",
      "예매일 : 0.2%\n",
      "개봉일자 : 2023.12.06.\n",
      "순위 : 25위\n",
      "제목 :  드라이브 마이 카 \n",
      "점수 : 7.1\n",
      "평가참여자수:  106명 참여 \n",
      "예매일 : 0.2%\n",
      "개봉일자 : 2023.12.20.\n",
      "순위 : 25위\n",
      "제목 :  극장판 아이돌리쉬 세븐: 라이브 4비트 비욘드 더 피리어드 - 데이 2 \n",
      "점수 : \n",
      "평가참여자수: X\n",
      "예매일 : 0.2%\n",
      "개봉일자 : 2023.10.19.\n",
      "순위 : 27위\n",
      "제목 :  너와 나 \n",
      "점수 : 7.0\n",
      "평가참여자수:  65명 참여 \n",
      "예매일 : 0.1%\n",
      "개봉일자 : 2023.10.25.\n",
      "순위 : 28위\n",
      "제목 :  비밀 \n",
      "점수 : 9.3\n",
      "평가참여자수:  12명 참여 \n",
      "예매일 : 0.1%\n",
      "개봉일자 : 2023.12.13.\n",
      "순위 : 29위\n",
      "제목 :  헤드윅 \n",
      "점수 : 8.6\n",
      "평가참여자수:  201명 참여 \n",
      "예매일 : 0.1%\n",
      "개봉일자 : 2023.12.06.\n",
      "순위 : 30위\n",
      "제목 :  블루 자이언트 \n",
      "점수 : 8.8\n",
      "평가참여자수:  48명 참여 \n",
      "예매일 : 0.1%\n",
      "개봉일자 : 2023.10.18.\n"
     ]
    }
   ],
   "source": [
    "for movieInfo in movieInfoList:\n",
    "    movieRank = movieInfo.find('span', attrs={'class':'img_number'}) \n",
    "    movieTitle = movieInfo.find('a', attrs={'class':'tit_main'})\n",
    "    movieScore = movieInfo.find('em', attrs={'class' :'rate'}) \n",
    "    movieScoreCnt = movieInfo.find('a', attrs={'class':'link_count'}) \n",
    "    ticketSalesAndOpenDate = movieInfo.find_all(\"dd\", attrs={'class':'cont'} )\n",
    "    if len(ticketSalesAndOpenDate) > 1:\n",
    "        movieTicketSales = ticketSalesAndOpenDate[0]\n",
    "        movieOpendate = ticketSalesAndOpenDate[1]\n",
    "    else:\n",
    "        movieTicketSales = ticketSalesAndOpenDate[0]\n",
    "    print(f'순위 : {movieRank.get_text() if movieRank else \"X\"}')\n",
    "    print(f'제목 : {movieTitle.get_text() if movieTitle else \"X\"}')\n",
    "    print(f'점수 : {movieScore.get_text() if movieScore else \"X\"}')\n",
    "    print(f'평가참여자수: {movieScoreCnt.get_text() if movieScoreCnt else \"X\"}')\n",
    "    print(f'예매일 : {movieTicketSales.get_text() if movieTicketSales else \"X\"}')\n",
    "    print(f'개봉일자 : {movieOpendate.get_text().strip() if movieOpendate else \"X\"}')"
   ]
  }
 ],
 "metadata": {
  "kernelspec": {
   "display_name": "Python 3",
   "language": "python",
   "name": "python3"
  },
  "language_info": {
   "codemirror_mode": {
    "name": "ipython",
    "version": 3
   },
   "file_extension": ".py",
   "mimetype": "text/x-python",
   "name": "python",
   "nbconvert_exporter": "python",
   "pygments_lexer": "ipython3",
   "version": "3.9.12"
  }
 },
 "nbformat": 4,
 "nbformat_minor": 2
}
