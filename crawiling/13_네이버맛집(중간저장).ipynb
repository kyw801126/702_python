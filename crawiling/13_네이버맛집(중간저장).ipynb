{
 "cells": [
  {
   "cell_type": "markdown",
   "metadata": {},
   "source": [
    "# 네이버 검색 결과 클롤링"
   ]
  },
  {
   "cell_type": "code",
   "execution_count": null,
   "metadata": {},
   "outputs": [],
   "source": [
    "# 신촌역 맛집 / selenium을 활용하기"
   ]
  },
  {
   "cell_type": "code",
   "execution_count": 2,
   "metadata": {},
   "outputs": [],
   "source": [
    "import requests\n",
    "import pandas as pd\n",
    "from bs4 import BeautifulSoup\n",
    "from urllib.parse import quote"
   ]
  },
  {
   "cell_type": "code",
   "execution_count": 22,
   "metadata": {},
   "outputs": [],
   "source": [
    "# requests.get으로 데이터 가져오기\n",
    "base_url = 'https://search.naver.com/search.naver?where=view&sm=tab_jum'\n",
    "url = f'{base_url}&query={quote(\"신촌역 맛집\")}'\n",
    "res = requests.get(url)\n",
    "soup = BeautifulSoup(res.text, 'html.parser')"
   ]
  },
  {
   "cell_type": "code",
   "execution_count": 29,
   "metadata": {},
   "outputs": [
    {
     "data": {
      "text/plain": [
       "64"
      ]
     },
     "execution_count": 29,
     "metadata": {},
     "output_type": "execute_result"
    }
   ],
   "source": [
    "lis = soup.select('.api_subject_bx > ul > li')\n",
    "len(lis)"
   ]
  },
  {
   "cell_type": "code",
   "execution_count": 18,
   "metadata": {},
   "outputs": [
    {
     "data": {
      "text/plain": [
       "<li class=\"bx\"><div class=\"total_wrap\"><div class=\"total_tit_group\"><div class=\"total_source\"><div class=\"api_save_group _keep_wrap\"><a class=\"btn_save _keep_trigger\" data-url=\"https://www.siksinhot.com/search?keywords=%EC%8B%A0%EC%B4%8C%EC%97%AD%EB%A7%9B%EC%A7%91\" href=\"#\" onclick='tCR(\"a=web_gen.kep&amp;r=&amp;i=&amp;u=javascript\")' role=\"button\"><i class=\"spnew ico_save\">문서 저장하기</i></a><div class=\"api_ly_save _keep_save_layer\"><a class=\"spnew_af item item_save _keep_save\" data-cr-off=\"a=web_gen.keepoff\" data-cr-on=\"a=web_gen.keepon\" href=\"#\" role=\"button\">Keep에 저장</a>\n",
       "<a class=\"spnew_af item item_quick\" href=\"https://keep.naver.com/\" onclick='goOtherCR(this,\"a=web_gen.kep&amp;r=0&amp;i=a00000fa_549cd71c077d0e8ff599a277&amp;u=\"+urlencode(this.href))' target=\"_blank\">Keep 바로가기</a></div></div><div class=\"source_box\"><a class=\"thumb\" href=\"https://www.siksinhot.com/search?keywords=%EC%8B%A0%EC%B4%8C%EC%97%AD%EB%A7%9B%EC%A7%91\" onclick='goOtherCR(this,\"a=web_gen*w.link&amp;r=0&amp;i=a00000fa_549cd71c077d0e8ff599a277&amp;u=\"+urlencode(this.href))' target=\"_blank\"><img alt=\"\" data-lazysrc=\"https://search.pstatic.net/sunny?src=https%3A%2F%2Fwww.siksinhot.com%2Fstatic2%2Fimages%2Ffavicon.ico&amp;type=f30_30_png_expire24\" height=\"16\" src=\"data:image/gif;base64,R0lGODlhAQABAIAAAAAAAP///yH5BAEAAAAALAAAAAABAAEAAAIBRAA7\" width=\"16\"/></a><a class=\"txt\" href=\"https://www.siksinhot.com/search?keywords=%EC%8B%A0%EC%B4%8C%EC%97%AD%EB%A7%9B%EC%A7%91\" target=\"_blank\">\n",
       "www.siksinhot.com<i class=\"divide\">›</i>search</a></div></div></div><div class=\"total_group\"><div class=\"total_tit\"><a class=\"link_tit\" href=\"https://www.siksinhot.com/search?keywords=%EC%8B%A0%EC%B4%8C%EC%97%AD%EB%A7%9B%EC%A7%91\" onclick='goOtherCR(this,\"a=web_gen*w.link&amp;r=0&amp;i=a00000fa_549cd71c077d0e8ff599a277&amp;u=\"+urlencode(this.href))' target=\"_blank\"><mark>신촌역맛집</mark> <mark>맛집</mark> 인기검색 순위</a></div><div class=\"total_dsc_wrap\"><a class=\"api_txt_lines total_dsc type_3lines\" href=\"https://www.siksinhot.com/search?keywords=%EC%8B%A0%EC%B4%8C%EC%97%AD%EB%A7%9B%EC%A7%91\" onclick='goOtherCR(this,\"a=web_gen*w.link&amp;r=0&amp;i=a00000fa_549cd71c077d0e8ff599a277&amp;u=\"+urlencode(this.href))' target=\"_blank\"><span class=\"dsc_sub\"><span class=\"sub_txt\">1주 전</span></span>\n",
       "식신이 추천하는 <mark>신촌역맛집</mark> <mark>맛집</mark> 인기검색 순위의 <mark>맛집</mark> 리스트결과는 999건 입니다. <mark>신촌역맛집</mark> <mark>맛집</mark> 인기검색 순위 가볼만한 곳의 메뉴, 위치, 연락처, 예약등의 매장정보를 식신이 소개합니다.</a></div></div><div class=\"api_pcpg_wrap info_card_list_wrap _freescroll_wrap\"><div class=\"api_flicking_wrap _freescroll_flicking\" style=\"height: 179px;\"><div class=\"flick_bx\"><a class=\"info_item\" href=\"https://www.siksinhot.com/P/267027\" onclick='goOtherCR(this,\"a=web_gen*g.cardr&amp;r=0&amp;i=a00000fa_549cd71c077d0e8ff599a277&amp;u=\"+urlencode(this.href))' target=\"_blank\"><div class=\"thumb\"><img alt=\"\" class=\"bg_nimg\" data-lazysrc=\"https://search.pstatic.net/sunny?src=https%3A%2F%2Fimg.siksinhot.com%2Fplace%2F1357579227263365.jpg&amp;type=fff208_208\" height=\"116\" src=\"data:image/gif;base64,R0lGODlhAQABAIAAAAAAAP///yH5BAEAAAAALAAAAAABAAEAAAIBRAA7\" width=\"116\"/></div><div class=\"info\"><div class=\"tit\">신촌복집 - 경기, 일산동구 정발산 백석 | 맛집검색</div></div></a></div><div class=\"flick_bx\"><a class=\"info_item\" href=\"https://www.siksinhot.com/P/957524\" onclick='goOtherCR(this,\"a=web_gen*g.cardr&amp;r=0&amp;i=a00000fa_549cd71c077d0e8ff599a277&amp;u=\"+urlencode(this.href))' target=\"_blank\"><div class=\"thumb\"><img alt=\"\" class=\"bg_nimg\" data-lazysrc=\"https://search.pstatic.net/sunny?src=https%3A%2F%2Fimg.siksinhot.com%2Fplace%2F1534694237264050.jpg&amp;type=fff208_208\" height=\"116\" src=\"data:image/gif;base64,R0lGODlhAQABAIAAAAAAAP///yH5BAEAAAAALAAAAAABAAEAAAIBRAA7\" width=\"116\"/></div><div class=\"info\"><div class=\"tit\">신토불이맛집 - 충북, 괴산</div></div></a></div><div class=\"flick_bx\"><a class=\"info_item\" href=\"https://www.siksinhot.com/P/412512\" onclick='goOtherCR(this,\"a=web_gen*g.cardr&amp;r=0&amp;i=a00000fa_549cd71c077d0e8ff599a277&amp;u=\"+urlencode(this.href))' target=\"_blank\"><div class=\"thumb\"><img alt=\"\" class=\"bg_nimg\" data-lazysrc=\"https://search.pstatic.net/sunny?src=https%3A%2F%2Fimg.siksinhot.com%2Fplace%2F1516854321281264.jpg&amp;type=fff208_208\" height=\"116\" src=\"data:image/gif;base64,R0lGODlhAQABAIAAAAAAAP///yH5BAEAAAAALAAAAAABAAEAAAIBRAA7\" width=\"116\"/></div><div class=\"info\"><div class=\"tit\">신 무창포맛집</div></div></a></div><div class=\"flick_bx\"><a class=\"info_item\" href=\"https://www.siksinhot.com/P/828465\" onclick='goOtherCR(this,\"a=web_gen*g.cardr&amp;r=0&amp;i=a00000fa_549cd71c077d0e8ff599a277&amp;u=\"+urlencode(this.href))' target=\"_blank\"><div class=\"thumb\"><img alt=\"\" class=\"bg_nimg\" data-lazysrc=\"https://search.pstatic.net/sunny?src=https%3A%2F%2Fimg.siksinhot.com%2Fplace%2F1525833360272745.jpg&amp;type=fff208_208\" height=\"116\" src=\"data:image/gif;base64,R0lGODlhAQABAIAAAAAAAP///yH5BAEAAAAALAAAAAABAAEAAAIBRAA7\" width=\"116\"/></div><div class=\"info\"><div class=\"tit\">신촌칼</div></div></a></div><div class=\"flick_bx\"><a class=\"info_item\" href=\"https://www.siksinhot.com/P/268411\" onclick='goOtherCR(this,\"a=web_gen*g.cardr&amp;r=0&amp;i=a00000fa_549cd71c077d0e8ff599a277&amp;u=\"+urlencode(this.href))' target=\"_blank\"><div class=\"thumb\"><img alt=\"\" class=\"bg_nimg\" data-lazysrc=\"https://search.pstatic.net/sunny?src=https%3A%2F%2Fimg.siksinhot.com%2Fplace%2F1358078754702493.JPG&amp;type=fff208_208\" height=\"116\" src=\"data:image/gif;base64,R0lGODlhAQABAIAAAAAAAP///yH5BAEAAAAALAAAAAABAAEAAAIBRAA7\" width=\"116\"/></div><div class=\"info\"><div class=\"tit\">신촌식당 - 경북, 청송</div></div></a></div><div class=\"flick_bx\"><a class=\"info_item\" href=\"https://www.siksinhot.com/P/399928\" onclick='goOtherCR(this,\"a=web_gen*g.cardr&amp;r=0&amp;i=a00000fa_549cd71c077d0e8ff599a277&amp;u=\"+urlencode(this.href))' target=\"_blank\"><div class=\"thumb\"><img alt=\"\" class=\"bg_nimg\" data-lazysrc=\"https://search.pstatic.net/sunny?src=https%3A%2F%2Fimg.siksinhot.com%2Fplace%2F1516939464207492.jpg&amp;type=fff208_208\" height=\"116\" src=\"data:image/gif;base64,R0lGODlhAQABAIAAAAAAAP///yH5BAEAAAAALAAAAAABAAEAAAIBRAA7\" width=\"116\"/></div><div class=\"info\"><div class=\"tit\">신촌반점 - 충남, 논산</div></div></a></div><div class=\"flick_bx\"><a class=\"info_item\" href=\"https://www.siksinhot.com/P/874394\" onclick='goOtherCR(this,\"a=web_gen*g.cardr&amp;r=0&amp;i=a00000fa_549cd71c077d0e8ff599a277&amp;u=\"+urlencode(this.href))' target=\"_blank\"><div class=\"thumb\"><img alt=\"\" class=\"bg_nimg\" data-lazysrc=\"https://search.pstatic.net/sunny?src=https%3A%2F%2Fimg.siksinhot.com%2Fplace%2F1518143986537176.jpg&amp;type=fff208_208\" height=\"116\" src=\"data:image/gif;base64,R0lGODlhAQABAIAAAAAAAP///yH5BAEAAAAALAAAAAABAAEAAAIBRAA7\" width=\"116\"/></div><div class=\"info\"><div class=\"tit\">신대천맛집 조개구이횟집 - 충남, 보령 | 맛집검색 식</div></div></a></div><div class=\"flick_bx\"><a class=\"info_item\" href=\"https://www.siksinhot.com/P/348039\" onclick='goOtherCR(this,\"a=web_gen*g.cardr&amp;r=0&amp;i=a00000fa_549cd71c077d0e8ff599a277&amp;u=\"+urlencode(this.href))' target=\"_blank\"><div class=\"thumb\"><img alt=\"\" class=\"bg_nimg\" data-lazysrc=\"https://search.pstatic.net/sunny?src=https%3A%2F%2Fimg.siksinhot.com%2Fplace%2F1400659000662750.jpg&amp;type=fff208_208\" height=\"116\" src=\"data:image/gif;base64,R0lGODlhAQABAIAAAAAAAP///yH5BAEAAAAALAAAAAABAAEAAAIBRAA7\" width=\"116\"/></div><div class=\"info\"><div class=\"tit\">참맛집 - 서울 강북, 서대문 충정로</div></div></a></div><div class=\"flick_bx\"><a class=\"info_item\" href=\"https://www.siksinhot.com/P/672330\" onclick='goOtherCR(this,\"a=web_gen*g.cardr&amp;r=0&amp;i=a00000fa_549cd71c077d0e8ff599a277&amp;u=\"+urlencode(this.href))' target=\"_blank\"><div class=\"thumb\"><img alt=\"\" class=\"bg_nimg\" data-lazysrc=\"https://search.pstatic.net/sunny?src=https%3A%2F%2Fimg.siksinhot.com%2Fplace%2F1661849518950045.jpg&amp;type=fff208_208\" height=\"116\" src=\"data:image/gif;base64,R0lGODlhAQABAIAAAAAAAP///yH5BAEAAAAALAAAAAABAAEAAAIBRAA7\" width=\"116\"/></div><div class=\"info\"><div class=\"tit\">옛맛집 - 대구, 달서구 성서 계명대</div></div></a></div><div class=\"flick_bx\"><a class=\"info_item\" href=\"https://www.siksinhot.com/P/318111\" onclick='goOtherCR(this,\"a=web_gen*g.cardr&amp;r=0&amp;i=a00000fa_549cd71c077d0e8ff599a277&amp;u=\"+urlencode(this.href))' target=\"_blank\"><div class=\"thumb\"><img alt=\"\" class=\"bg_nimg\" data-lazysrc=\"https://search.pstatic.net/sunny?src=https%3A%2F%2Fimg.siksinhot.com%2Fplace%2F1532583775214059.jpg&amp;type=fff208_208\" height=\"116\" src=\"data:image/gif;base64,R0lGODlhAQABAIAAAAAAAP///yH5BAEAAAAALAAAAAABAAEAAAIBRAA7\" width=\"116\"/></div><div class=\"info\"><div class=\"tit\">신촌수제비</div></div></a></div><div class=\"flick_bx flick_more\"><a class=\"api_list_more\" href=\"https://www.siksinhot.com/search?keywords=%EC%8B%A0%EC%B4%8C%EC%97%AD%EB%A7%9B%EC%A7%91\" onclick='goOtherCR(this,\"a=web_gen*g.more&amp;r=0&amp;i=a00000fa_549cd71c077d0e8ff599a277&amp;u=\"+urlencode(this.href))' target=\"_blank\"><span class=\"api_more_info\"><span class=\"spnew_bf api_loader\"></span>더보기</span></a></div></div><div class=\"api_btn_page\"><div class=\"btn_prev _prev\" style=\"display:none;\"><a class=\"btn\" href=\"javascript:;\" onclick='tCR(\"a=web_gen*g.prev&amp;r=&amp;i=&amp;u=javascript\")' role=\"button\"><i class=\"spnew ico_arr\">이전</i></a></div><div class=\"btn_next _next\" style=\"display:none;\"><a class=\"btn\" href=\"javascript:;\" onclick='tCR(\"a=web_gen*g.next&amp;r=&amp;i=&amp;u=javascript\")' role=\"button\"><i class=\"spnew ico_arr\">다음</i></a></div></div></div></div></li>"
      ]
     },
     "execution_count": 18,
     "metadata": {},
     "output_type": "execute_result"
    }
   ],
   "source": [
    "lis[0]"
   ]
  },
  {
   "cell_type": "markdown",
   "metadata": {},
   "source": [
    "# selenium 이용해서 데이터를 가져오기"
   ]
  },
  {
   "cell_type": "code",
   "execution_count": 49,
   "metadata": {},
   "outputs": [],
   "source": [
    "from selenium import webdriver\n",
    "driver = webdriver.Chrome()\n",
    "driver.get(url)"
   ]
  },
  {
   "cell_type": "code",
   "execution_count": 50,
   "metadata": {},
   "outputs": [],
   "source": [
    "# view 페이지를 아래로 내려서 많은 데이터 확보\n",
    "from selenium.webdriver.common.by import By\n",
    "from selenium.webdriver.common.keys import Keys\n",
    "import time\n",
    "\n",
    "body = driver.find_element(By.TAG_NAME, 'body')\n",
    "for _ in range(15):\n",
    "    body.send_keys(Keys.PAGE_DOWN)\n",
    "    time.sleep(1)"
   ]
  },
  {
   "cell_type": "code",
   "execution_count": 89,
   "metadata": {},
   "outputs": [
    {
     "data": {
      "text/plain": [
       "106"
      ]
     },
     "execution_count": 89,
     "metadata": {},
     "output_type": "execute_result"
    }
   ],
   "source": [
    "soup1 = BeautifulSoup(driver.page_source)\n",
    "lis = soup1.select('.view_wrap')\n",
    "len(lis)"
   ]
  },
  {
   "cell_type": "code",
   "execution_count": 90,
   "metadata": {},
   "outputs": [],
   "source": [
    "li = lis[3]"
   ]
  },
  {
   "cell_type": "code",
   "execution_count": 91,
   "metadata": {},
   "outputs": [
    {
     "data": {
      "text/plain": [
       "'신촌역 맛집 라구식당 파스타 라자냐 신촌 데이트'"
      ]
     },
     "execution_count": 91,
     "metadata": {},
     "output_type": "execute_result"
    }
   ],
   "source": [
    "title = li.select_one('.title_link._cross_trigger').get_text().strip()\n",
    "title"
   ]
  },
  {
   "cell_type": "code",
   "execution_count": 92,
   "metadata": {},
   "outputs": [
    {
     "data": {
      "text/plain": [
       "'4. 총평 신촌역 맛집 라구식당 다녀왔어요!! 파스타와 라자냐가 유명한 레스토랑입니다. 신촌 데이트 하기에 최고의 분위기 가지고 있었어요. 여기에 와인, 맥주, 샹그리아 등 곁들일 수 있어서 연말 모임 장소 찾으시면 추천드려요!! #신촌역맛집 #라구식당 #신촌데이트'"
      ]
     },
     "execution_count": 92,
     "metadata": {},
     "output_type": "execute_result"
    }
   ],
   "source": [
    "contents = li.select_one('.dsc_link._cross_trigger').get_text().strip()\n",
    "contents"
   ]
  },
  {
   "cell_type": "code",
   "execution_count": 93,
   "metadata": {},
   "outputs": [
    {
     "data": {
      "text/plain": [
       "'2023.11.01.'"
      ]
     },
     "execution_count": 93,
     "metadata": {},
     "output_type": "execute_result"
    }
   ],
   "source": [
    "date = li.select_one('.sub').get_text().strip()\n",
    "date"
   ]
  },
  {
   "cell_type": "code",
   "execution_count": 102,
   "metadata": {},
   "outputs": [
    {
     "data": {
      "text/plain": [
       "datetime.datetime(2023, 12, 12, 18, 17, 50, 752965)"
      ]
     },
     "execution_count": 102,
     "metadata": {},
     "output_type": "execute_result"
    }
   ],
   "source": [
    "from datetime import datetime, timedelta\n",
    "\n",
    "now = datetime.now()\n",
    "now"
   ]
  },
  {
   "cell_type": "code",
   "execution_count": 106,
   "metadata": {},
   "outputs": [
    {
     "data": {
      "text/plain": [
       "'2023.12.11'"
      ]
     },
     "execution_count": 106,
     "metadata": {},
     "output_type": "execute_result"
    }
   ],
   "source": [
    "# 어제\n",
    "date = now - timedelta(1)\n",
    "f'{date.year}.{date.month:02d}.{date.day:02d}'"
   ]
  },
  {
   "cell_type": "code",
   "execution_count": 104,
   "metadata": {},
   "outputs": [
    {
     "data": {
      "text/plain": [
       "'2023.12.06'"
      ]
     },
     "execution_count": 104,
     "metadata": {},
     "output_type": "execute_result"
    }
   ],
   "source": [
    "# 6일전\n",
    "date = now - timedelta(6)\n",
    "date.strftime('%Y.%m.%d') "
   ]
  },
  {
   "cell_type": "code",
   "execution_count": null,
   "metadata": {},
   "outputs": [],
   "source": [
    "# 40분전\n",
    "date = now - timedelta"
   ]
  },
  {
   "cell_type": "code",
   "execution_count": null,
   "metadata": {},
   "outputs": [],
   "source": [
    "# 3주전 "
   ]
  },
  {
   "cell_type": "code",
   "execution_count": null,
   "metadata": {},
   "outputs": [],
   "source": [
    "날짜 제목 내용"
   ]
  }
 ],
 "metadata": {
  "kernelspec": {
   "display_name": "Python 3",
   "language": "python",
   "name": "python3"
  },
  "language_info": {
   "codemirror_mode": {
    "name": "ipython",
    "version": 3
   },
   "file_extension": ".py",
   "mimetype": "text/x-python",
   "name": "python",
   "nbconvert_exporter": "python",
   "pygments_lexer": "ipython3",
   "version": "3.9.12"
  }
 },
 "nbformat": 4,
 "nbformat_minor": 2
}
