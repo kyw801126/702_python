{
 "cells": [
  {
   "cell_type": "markdown",
   "metadata": {},
   "source": [
    "# 한빛아카데미 \n",
    "https://www.hanbit.co.kr/academy/books/new_book_list.html?page=1"
   ]
  },
  {
   "cell_type": "code",
   "execution_count": null,
   "metadata": {},
   "outputs": [],
   "source": [
    "# !pip install tqdm  진행사항을 100% bar형태로 알려줌"
   ]
  },
  {
   "cell_type": "code",
   "execution_count": 4,
   "metadata": {},
   "outputs": [],
   "source": [
    "import requests\n",
    "import pandas as pd \n",
    "from bs4 import BeautifulSoup\n",
    "from tqdm import tqdm\n"
   ]
  },
  {
   "cell_type": "code",
   "execution_count": 5,
   "metadata": {},
   "outputs": [],
   "source": [
    "base_url = 'https://www.hanbit.co.kr'\n",
    "main_url = '/academy/books/new_book_list.html'\n",
    "url = f'{base_url}{main_url}?page=1'\n",
    "res = requests.get(url)\n",
    "soup = BeautifulSoup(res.text, 'html.parser')"
   ]
  },
  {
   "cell_type": "code",
   "execution_count": 8,
   "metadata": {},
   "outputs": [
    {
     "data": {
      "text/plain": [
       "20"
      ]
     },
     "execution_count": 8,
     "metadata": {},
     "output_type": "execute_result"
    }
   ],
   "source": [
    "lis = soup.select('.sub_book_list')\n",
    "len(lis)"
   ]
  },
  {
   "cell_type": "code",
   "execution_count": null,
   "metadata": {},
   "outputs": [],
   "source": [
    "li = lis[10]\n",
    "li"
   ]
  },
  {
   "cell_type": "code",
   "execution_count": 18,
   "metadata": {},
   "outputs": [
    {
     "data": {
      "text/plain": [
       "'/academy/books/book_view.html?p_code=B9678437685'"
      ]
     },
     "execution_count": 18,
     "metadata": {},
     "output_type": "execute_result"
    }
   ],
   "source": [
    "sub_href = li.select_one('.book_tit > a')['href']\n",
    "sub_href"
   ]
  },
  {
   "cell_type": "code",
   "execution_count": 19,
   "metadata": {},
   "outputs": [],
   "source": [
    "# 서브페이지에서 정보를 추출\n",
    "sub_url = base_url + sub_href\n",
    "sub_res = requests.get(sub_url)\n",
    "sub_soup = BeautifulSoup(sub_res.text, 'html.parser')"
   ]
  },
  {
   "cell_type": "code",
   "execution_count": 20,
   "metadata": {},
   "outputs": [
    {
     "data": {
      "text/plain": [
       "'STEM CookBook, TAO 해석학 Ⅱ(4판)'"
      ]
     },
     "execution_count": 20,
     "metadata": {},
     "output_type": "execute_result"
    }
   ],
   "source": [
    "title = sub_soup.select_one('.store_product_info_box > h3').get_text().strip()\n",
    "title\n"
   ]
  },
  {
   "cell_type": "code",
   "execution_count": 21,
   "metadata": {},
   "outputs": [
    {
     "data": {
      "text/plain": [
       "{'저자': 'Terence Tao',\n",
       " '번역': '한빛수학교재연구소 , 권순식(감수)',\n",
       " '출간': '2023-10-16',\n",
       " '페이지': '252 쪽',\n",
       " 'ISBN': '9791156646808',\n",
       " '물류코드': '4680'}"
      ]
     },
     "execution_count": 21,
     "metadata": {},
     "output_type": "execute_result"
    }
   ],
   "source": [
    "# 책 정보의 딕셔너리 생성\n",
    "sub_lis = sub_soup.select('.info_list > li')\n",
    "info_dict = {}\n",
    "for sub_li in sub_lis[:-1]:\n",
    "    key = sub_li.find('strong').get_text().strip()\n",
    "    value = sub_li.find('span').get_text().strip()\n",
    "    info_dict[key[:-2]] = value\n",
    "info_dict"
   ]
  },
  {
   "cell_type": "code",
   "execution_count": 22,
   "metadata": {},
   "outputs": [
    {
     "data": {
      "text/plain": [
       "21000"
      ]
     },
     "execution_count": 22,
     "metadata": {},
     "output_type": "execute_result"
    }
   ],
   "source": [
    "price = int(sub_soup.select_one('.pbr > strong').string.replace(',', ''))\n",
    "price"
   ]
  },
  {
   "cell_type": "code",
   "execution_count": 24,
   "metadata": {},
   "outputs": [],
   "source": [
    "data = []\n",
    "for li in lis:\n",
    "    sub_href = li.select_one('.book_tit > a')['href']\n",
    "    sub_url = base_url + sub_href\n",
    "    sub_res = requests.get(sub_url)\n",
    "    sub_soup = BeautifulSoup(sub_res.text, 'html.parser')\n",
    "    title = sub_soup.select_one('.store_product_info_box > h3').get_text().strip()\n",
    "    sub_lis = sub_soup.select('.info_list > li')\n",
    "    info_dict = {}\n",
    "    for sub_li in sub_lis[:-1]:\n",
    "        key = sub_li.find('strong').get_text().strip()\n",
    "        value = sub_li.find('span').get_text().strip()\n",
    "        info_dict[key[:-2]] = value\n",
    "    price = int(sub_soup.select_one('.pbr > strong').string.replace(',', ''))\n",
    "\n",
    "    #info_dict에서 저자 역자 출간일 페이지 추출\n",
    "    author = ', '.join(info_dict['저자'].split(' , '))\n",
    "    translator = info_dict['번역'].replace(' ,', ',') if '번역' in info_dict.keys() else ' '\n",
    "    date = info_dict['출간']\n",
    "    page = int(info_dict['페이지'][:-2])\n",
    "\n",
    "    data.append({'제목' : title, '저자' : author, '역자':translator, '출간일':date,\n",
    "                 '페이지수': page, '가격':price})"
   ]
  },
  {
   "cell_type": "code",
   "execution_count": 30,
   "metadata": {},
   "outputs": [],
   "source": [
    "df = pd.DataFrame(data)"
   ]
  },
  {
   "cell_type": "code",
   "execution_count": 26,
   "metadata": {},
   "outputs": [
    {
     "data": {
      "text/html": [
       "<div>\n",
       "<style scoped>\n",
       "    .dataframe tbody tr th:only-of-type {\n",
       "        vertical-align: middle;\n",
       "    }\n",
       "\n",
       "    .dataframe tbody tr th {\n",
       "        vertical-align: top;\n",
       "    }\n",
       "\n",
       "    .dataframe thead th {\n",
       "        text-align: right;\n",
       "    }\n",
       "</style>\n",
       "<table border=\"1\" class=\"dataframe\">\n",
       "  <thead>\n",
       "    <tr style=\"text-align: right;\">\n",
       "      <th></th>\n",
       "      <th>제목</th>\n",
       "      <th>저자</th>\n",
       "      <th>역자</th>\n",
       "      <th>출간일</th>\n",
       "      <th>페이지수</th>\n",
       "      <th>가격</th>\n",
       "    </tr>\n",
       "  </thead>\n",
       "  <tbody>\n",
       "    <tr>\n",
       "      <th>0</th>\n",
       "      <td>IT@CookBook, 예제로 배우는 회로이론</td>\n",
       "      <td>김명식</td>\n",
       "      <td></td>\n",
       "      <td>2023-12-10</td>\n",
       "      <td>696</td>\n",
       "      <td>32000</td>\n",
       "    </tr>\n",
       "    <tr>\n",
       "      <th>1</th>\n",
       "      <td>4차 산업혁명 시대의 창업실무(2판)</td>\n",
       "      <td>윤두열, 이정이</td>\n",
       "      <td></td>\n",
       "      <td>2023-12-08</td>\n",
       "      <td>436</td>\n",
       "      <td>29000</td>\n",
       "    </tr>\n",
       "    <tr>\n",
       "      <th>2</th>\n",
       "      <td>IT CookBook, 쉽게 배우는 JSP 웹 프로그래밍(2판)</td>\n",
       "      <td>송미영</td>\n",
       "      <td></td>\n",
       "      <td>2023-12-08</td>\n",
       "      <td>676</td>\n",
       "      <td>30000</td>\n",
       "    </tr>\n",
       "    <tr>\n",
       "      <th>3</th>\n",
       "      <td>IT CookBook, 핵심이 보이는 신호 및 시스템(2판)</td>\n",
       "      <td>이철희</td>\n",
       "      <td></td>\n",
       "      <td>2023-12-08</td>\n",
       "      <td>688</td>\n",
       "      <td>33000</td>\n",
       "    </tr>\n",
       "    <tr>\n",
       "      <th>4</th>\n",
       "      <td>STEM CookBook, 수학의 깊이를 더하는 『STEIN 복소해석학』 강의노트</td>\n",
       "      <td>김영원</td>\n",
       "      <td></td>\n",
       "      <td>2023-11-20</td>\n",
       "      <td>200</td>\n",
       "      <td>22000</td>\n",
       "    </tr>\n",
       "  </tbody>\n",
       "</table>\n",
       "</div>"
      ],
      "text/plain": [
       "                                              제목        저자 역자         출간일  \\\n",
       "0                      IT@CookBook, 예제로 배우는 회로이론       김명식     2023-12-10   \n",
       "1                           4차 산업혁명 시대의 창업실무(2판)  윤두열, 이정이     2023-12-08   \n",
       "2            IT CookBook, 쉽게 배우는 JSP 웹 프로그래밍(2판)       송미영     2023-12-08   \n",
       "3              IT CookBook, 핵심이 보이는 신호 및 시스템(2판)       이철희     2023-12-08   \n",
       "4  STEM CookBook, 수학의 깊이를 더하는 『STEIN 복소해석학』 강의노트       김영원     2023-11-20   \n",
       "\n",
       "   페이지수     가격  \n",
       "0   696  32000  \n",
       "1   436  29000  \n",
       "2   676  30000  \n",
       "3   688  33000  \n",
       "4   200  22000  "
      ]
     },
     "execution_count": 26,
     "metadata": {},
     "output_type": "execute_result"
    }
   ],
   "source": [
    "df.head()"
   ]
  },
  {
   "cell_type": "code",
   "execution_count": 27,
   "metadata": {},
   "outputs": [
    {
     "name": "stderr",
     "output_type": "stream",
     "text": [
      "100%|██████████| 24/24 [02:12<00:00,  5.52s/it]\n"
     ]
    }
   ],
   "source": [
    "# 전체 페이지에서 정보를 추출하기\n",
    "import requests\n",
    "import pandas as pd \n",
    "from bs4 import BeautifulSoup\n",
    "from tqdm import tqdm\n",
    "base_url = 'https://www.hanbit.co.kr'\n",
    "main_url = '/academy/books/new_book_list.html'\n",
    "\n",
    "data1 = []\n",
    "for page in tqdm(range(1, 25)):\n",
    "    url = f'{base_url}{main_url}?page={page}'\n",
    "    res = requests.get(url)\n",
    "    soup = BeautifulSoup(res.text, 'html.parser')\n",
    "    for li in lis:\n",
    "        sub_href = li.select_one('.book_tit > a')['href']\n",
    "        sub_url = base_url + sub_href\n",
    "        sub_res = requests.get(sub_url)\n",
    "        sub_soup = BeautifulSoup(sub_res.text, 'html.parser')\n",
    "        title = sub_soup.select_one('.store_product_info_box > h3').get_text().strip()\n",
    "        sub_lis = sub_soup.select('.info_list > li')\n",
    "        info_dict = {}\n",
    "        for sub_li in sub_lis[:-1]:\n",
    "            key = sub_li.find('strong').get_text().strip()\n",
    "            value = sub_li.find('span').get_text().strip()\n",
    "            info_dict[key[:-2]] = value\n",
    "        price = int(sub_soup.select_one('.pbr > strong').string.replace(',', ''))\n",
    "\n",
    "        #info_dict에서 저자 역자 출간일 페이지 추출\n",
    "        author = ', '.join(info_dict['저자'].split(' , '))\n",
    "        translator = info_dict['번역'].replace(' ,', ',') if '번역' in info_dict.keys() else ' '\n",
    "        date = info_dict['출간']\n",
    "        page = int(info_dict['페이지'][:-2])\n",
    "\n",
    "        data1.append({'제목' : title, '저자' : author, '역자':translator, '출간일':date,\n",
    "                    '페이지수': page, '가격':price})   "
   ]
  },
  {
   "cell_type": "code",
   "execution_count": 28,
   "metadata": {},
   "outputs": [
    {
     "data": {
      "text/html": [
       "<div>\n",
       "<style scoped>\n",
       "    .dataframe tbody tr th:only-of-type {\n",
       "        vertical-align: middle;\n",
       "    }\n",
       "\n",
       "    .dataframe tbody tr th {\n",
       "        vertical-align: top;\n",
       "    }\n",
       "\n",
       "    .dataframe thead th {\n",
       "        text-align: right;\n",
       "    }\n",
       "</style>\n",
       "<table border=\"1\" class=\"dataframe\">\n",
       "  <thead>\n",
       "    <tr style=\"text-align: right;\">\n",
       "      <th></th>\n",
       "      <th>제목</th>\n",
       "      <th>저자</th>\n",
       "      <th>역자</th>\n",
       "      <th>출간일</th>\n",
       "      <th>페이지수</th>\n",
       "      <th>가격</th>\n",
       "    </tr>\n",
       "  </thead>\n",
       "  <tbody>\n",
       "    <tr>\n",
       "      <th>475</th>\n",
       "      <td>패널데이터와 복합표본을 활용한 한번에 적용하는 의학보건통계</td>\n",
       "      <td>히든그레이스 데이터분석팀</td>\n",
       "      <td></td>\n",
       "      <td>2023-08-18</td>\n",
       "      <td>468</td>\n",
       "      <td>34000</td>\n",
       "    </tr>\n",
       "    <tr>\n",
       "      <th>476</th>\n",
       "      <td>IT CookBook, HTML5 웹 프로그래밍 입문(4판)</td>\n",
       "      <td>윤인성</td>\n",
       "      <td></td>\n",
       "      <td>2023-08-05</td>\n",
       "      <td>500</td>\n",
       "      <td>29000</td>\n",
       "    </tr>\n",
       "    <tr>\n",
       "      <th>477</th>\n",
       "      <td>STEM CookBook, 경영경제수학 첫걸음</td>\n",
       "      <td>김진한, 이재원</td>\n",
       "      <td></td>\n",
       "      <td>2023-07-31</td>\n",
       "      <td>476</td>\n",
       "      <td>26000</td>\n",
       "    </tr>\n",
       "    <tr>\n",
       "      <th>478</th>\n",
       "      <td>논리력을 키우는 영어 글쓰기</td>\n",
       "      <td>이요안</td>\n",
       "      <td></td>\n",
       "      <td>2023-07-28</td>\n",
       "      <td>248</td>\n",
       "      <td>20000</td>\n",
       "    </tr>\n",
       "    <tr>\n",
       "      <th>479</th>\n",
       "      <td>IT CookBook, 난생처음 데이터 분석 with 파이썬</td>\n",
       "      <td>김규석, 김주희, 이준</td>\n",
       "      <td></td>\n",
       "      <td>2023-07-24</td>\n",
       "      <td>512</td>\n",
       "      <td>26000</td>\n",
       "    </tr>\n",
       "  </tbody>\n",
       "</table>\n",
       "</div>"
      ],
      "text/plain": [
       "                                    제목             저자 역자         출간일  페이지수  \\\n",
       "475   패널데이터와 복합표본을 활용한 한번에 적용하는 의학보건통계  히든그레이스 데이터분석팀     2023-08-18   468   \n",
       "476  IT CookBook, HTML5 웹 프로그래밍 입문(4판)            윤인성     2023-08-05   500   \n",
       "477          STEM CookBook, 경영경제수학 첫걸음       김진한, 이재원     2023-07-31   476   \n",
       "478                    논리력을 키우는 영어 글쓰기            이요안     2023-07-28   248   \n",
       "479  IT CookBook, 난생처음 데이터 분석 with 파이썬   김규석, 김주희, 이준     2023-07-24   512   \n",
       "\n",
       "        가격  \n",
       "475  34000  \n",
       "476  29000  \n",
       "477  26000  \n",
       "478  20000  \n",
       "479  26000  "
      ]
     },
     "execution_count": 28,
     "metadata": {},
     "output_type": "execute_result"
    }
   ],
   "source": [
    "df = pd.DataFrame(data1)\n",
    "df.tail()"
   ]
  },
  {
   "cell_type": "code",
   "execution_count": 29,
   "metadata": {},
   "outputs": [],
   "source": [
    "df.to_csv('data/한빛신간도서.csv', index=False)"
   ]
  }
 ],
 "metadata": {
  "kernelspec": {
   "display_name": "Python 3",
   "language": "python",
   "name": "python3"
  },
  "language_info": {
   "codemirror_mode": {
    "name": "ipython",
    "version": 3
   },
   "file_extension": ".py",
   "mimetype": "text/x-python",
   "name": "python",
   "nbconvert_exporter": "python",
   "pygments_lexer": "ipython3",
   "version": "3.9.12"
  }
 },
 "nbformat": 4,
 "nbformat_minor": 2
}
