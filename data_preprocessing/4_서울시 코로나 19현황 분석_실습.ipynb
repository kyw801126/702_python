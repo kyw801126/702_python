{
 "cells": [
  {
   "cell_type": "code",
   "execution_count": 1,
   "id": "a0e7265e",
   "metadata": {},
   "outputs": [],
   "source": [
    "import pandas as pd\n",
    "import matplotlib.pyplot as plt"
   ]
  },
  {
   "cell_type": "code",
   "execution_count": 7,
   "id": "d0620a98",
   "metadata": {},
   "outputs": [
    {
     "data": {
      "image/png": "[encoded data removed]",
      "text/plain": [
       "<Figure size 640x480 with 1 Axes>"
      ]
     },
     "metadata": {},
     "output_type": "display_data"
    }
   ],
   "source": [
    "plt.plot([1,2,3],[4,5,6])\n",
    "plt.title('그래프')\n",
    "plt.show()"
   ]
  },
  {
   "cell_type": "code",
   "execution_count": 6,
   "id": "b5b7352a",
   "metadata": {},
   "outputs": [],
   "source": [
    "# 그래프를 노트북 안에 그리기 위해 설정\n",
    "%matplotlib inline\n",
    "\n",
    "# 필요한 패키지와 라이브러리 가져온다.\n",
    "import matplotlib as mpl\n",
    "import matplotlib.pyplot as plt\n",
    "import matplotlib.font_manager as fm\n",
    "\n",
    "# 그래프에서 마이너스 폰트 깨지는 문제에 대한 대처\n",
    "mpl.rcParams['axes.unicode_minus'] = False\n",
    "\n",
    "# 폰트 지정하기\n",
    "plt.rcParams['font.family'] = 'Malgun Gothic'"
   ]
  },
  {
   "cell_type": "code",
   "execution_count": 4,
   "id": "b0701397",
   "metadata": {},
   "outputs": [
    {
     "data": {
      "text/plain": [
       "[]"
      ]
     },
     "execution_count": 4,
     "metadata": {},
     "output_type": "execute_result"
    }
   ],
   "source": [
    "# 폰트 확인하기\n",
    "[f.name for f in fm.fontManager.ttflist if 'Nanum' in f.name]"
   ]
  },
  {
   "cell_type": "markdown",
   "id": "e40f2678",
   "metadata": {},
   "source": [
    "* 데이터 수집     \n",
    "https://data.seoul.go.kr/dataList/1/literacyView.do            \n",
    "파일을 utf-8로 변환하여 사용"
   ]
  },
  {
   "cell_type": "markdown",
   "id": "a108f1de",
   "metadata": {},
   "source": [
    "# 데이터 불러오기"
   ]
  },
  {
   "cell_type": "code",
   "execution_count": 8,
   "id": "dec9aa69",
   "metadata": {
    "scrolled": true
   },
   "outputs": [],
   "source": [
    "import pandas as pd\n",
    "import numpy as np"
   ]
  },
  {
   "cell_type": "code",
   "execution_count": 9,
   "id": "5b1a7083",
   "metadata": {},
   "outputs": [
    {
     "data": {
      "text/html": [
       "<div>\n",
       "<style scoped>\n",
       "    .dataframe tbody tr th:only-of-type {\n",
       "        vertical-align: middle;\n",
       "    }\n",
       "\n",
       "    .dataframe tbody tr th {\n",
       "        vertical-align: top;\n",
       "    }\n",
       "\n",
       "    .dataframe thead th {\n",
       "        text-align: right;\n",
       "    }\n",
       "</style>\n",
       "<table border=\"1\" class=\"dataframe\">\n",
       "  <thead>\n",
       "    <tr style=\"text-align: right;\">\n",
       "      <th></th>\n",
       "      <th>연번</th>\n",
       "      <th>확진일</th>\n",
       "      <th>환자번호</th>\n",
       "      <th>국적</th>\n",
       "      <th>환자정보</th>\n",
       "      <th>지역</th>\n",
       "      <th>여행력</th>\n",
       "      <th>접촉력</th>\n",
       "      <th>조치사항</th>\n",
       "      <th>상태</th>\n",
       "      <th>이동경로</th>\n",
       "      <th>등록일</th>\n",
       "      <th>수정일</th>\n",
       "      <th>노출여부</th>\n",
       "    </tr>\n",
       "  </thead>\n",
       "  <tbody>\n",
       "    <tr>\n",
       "      <th>0</th>\n",
       "      <td>99550</td>\n",
       "      <td>2021-09-28</td>\n",
       "      <td>NaN</td>\n",
       "      <td>NaN</td>\n",
       "      <td>NaN</td>\n",
       "      <td>기타</td>\n",
       "      <td>NaN</td>\n",
       "      <td>감염경로 조사중</td>\n",
       "      <td>NaN</td>\n",
       "      <td>-</td>\n",
       "      <td>NaN</td>\n",
       "      <td>2021-09-29 10:54</td>\n",
       "      <td>2021-09-29 10:54</td>\n",
       "      <td>Y</td>\n",
       "    </tr>\n",
       "    <tr>\n",
       "      <th>1</th>\n",
       "      <td>99549</td>\n",
       "      <td>2021-09-28</td>\n",
       "      <td>NaN</td>\n",
       "      <td>NaN</td>\n",
       "      <td>NaN</td>\n",
       "      <td>기타</td>\n",
       "      <td>NaN</td>\n",
       "      <td>감염경로 조사중</td>\n",
       "      <td>NaN</td>\n",
       "      <td>-</td>\n",
       "      <td>NaN</td>\n",
       "      <td>2021-09-29 10:54</td>\n",
       "      <td>2021-09-29 10:54</td>\n",
       "      <td>Y</td>\n",
       "    </tr>\n",
       "    <tr>\n",
       "      <th>2</th>\n",
       "      <td>99548</td>\n",
       "      <td>2021-09-28</td>\n",
       "      <td>NaN</td>\n",
       "      <td>NaN</td>\n",
       "      <td>NaN</td>\n",
       "      <td>기타</td>\n",
       "      <td>NaN</td>\n",
       "      <td>감염경로 조사중</td>\n",
       "      <td>NaN</td>\n",
       "      <td>-</td>\n",
       "      <td>NaN</td>\n",
       "      <td>2021-09-29 10:54</td>\n",
       "      <td>2021-09-29 10:54</td>\n",
       "      <td>Y</td>\n",
       "    </tr>\n",
       "    <tr>\n",
       "      <th>3</th>\n",
       "      <td>99547</td>\n",
       "      <td>2021-09-28</td>\n",
       "      <td>NaN</td>\n",
       "      <td>NaN</td>\n",
       "      <td>NaN</td>\n",
       "      <td>기타</td>\n",
       "      <td>NaN</td>\n",
       "      <td>감염경로 조사중</td>\n",
       "      <td>NaN</td>\n",
       "      <td>-</td>\n",
       "      <td>NaN</td>\n",
       "      <td>2021-09-29 10:54</td>\n",
       "      <td>2021-09-29 10:54</td>\n",
       "      <td>Y</td>\n",
       "    </tr>\n",
       "    <tr>\n",
       "      <th>4</th>\n",
       "      <td>99546</td>\n",
       "      <td>2021-09-28</td>\n",
       "      <td>NaN</td>\n",
       "      <td>NaN</td>\n",
       "      <td>NaN</td>\n",
       "      <td>기타</td>\n",
       "      <td>NaN</td>\n",
       "      <td>감염경로 조사중</td>\n",
       "      <td>NaN</td>\n",
       "      <td>-</td>\n",
       "      <td>NaN</td>\n",
       "      <td>2021-09-29 10:54</td>\n",
       "      <td>2021-09-29 10:54</td>\n",
       "      <td>Y</td>\n",
       "    </tr>\n",
       "  </tbody>\n",
       "</table>\n",
       "</div>"
      ],
      "text/plain": [
       "      연번         확진일  환자번호  국적  환자정보  지역  여행력       접촉력  조치사항 상태 이동경로  \\\n",
       "0  99550  2021-09-28   NaN NaN   NaN  기타  NaN  감염경로 조사중   NaN  -  NaN   \n",
       "1  99549  2021-09-28   NaN NaN   NaN  기타  NaN  감염경로 조사중   NaN  -  NaN   \n",
       "2  99548  2021-09-28   NaN NaN   NaN  기타  NaN  감염경로 조사중   NaN  -  NaN   \n",
       "3  99547  2021-09-28   NaN NaN   NaN  기타  NaN  감염경로 조사중   NaN  -  NaN   \n",
       "4  99546  2021-09-28   NaN NaN   NaN  기타  NaN  감염경로 조사중   NaN  -  NaN   \n",
       "\n",
       "                등록일               수정일 노출여부  \n",
       "0  2021-09-29 10:54  2021-09-29 10:54    Y  \n",
       "1  2021-09-29 10:54  2021-09-29 10:54    Y  \n",
       "2  2021-09-29 10:54  2021-09-29 10:54    Y  \n",
       "3  2021-09-29 10:54  2021-09-29 10:54    Y  \n",
       "4  2021-09-29 10:54  2021-09-29 10:54    Y  "
      ]
     },
     "execution_count": 9,
     "metadata": {},
     "output_type": "execute_result"
    }
   ],
   "source": [
    "df = pd.read_csv(\"./test_data/서울시 코로나19 확진자 현황.csv\", low_memory=False)\n",
    "df.head()"
   ]
  },
  {
   "cell_type": "markdown",
   "id": "cffa5956",
   "metadata": {},
   "source": [
    "# 데이터 확인 및 전처리"
   ]
  },
  {
   "cell_type": "markdown",
   "id": "0dba6afa",
   "metadata": {},
   "source": [
    "## 컬럼별 데이터 확인"
   ]
  },
  {
   "cell_type": "code",
   "execution_count": 11,
   "id": "ac016859",
   "metadata": {},
   "outputs": [
    {
     "data": {
      "text/plain": [
       "array([nan])"
      ]
     },
     "execution_count": 11,
     "metadata": {},
     "output_type": "execute_result"
    }
   ],
   "source": [
    "# 조치사항 unique\n",
    "df['조치사항'].unique()"
   ]
  },
  {
   "cell_type": "markdown",
   "id": "10928d71",
   "metadata": {},
   "source": [
    "## 불필요한 컬럼 삭제"
   ]
  },
  {
   "cell_type": "code",
   "execution_count": 12,
   "id": "0f78a08d",
   "metadata": {
    "scrolled": true
   },
   "outputs": [
    {
     "data": {
      "text/html": [
       "<div>\n",
       "<style scoped>\n",
       "    .dataframe tbody tr th:only-of-type {\n",
       "        vertical-align: middle;\n",
       "    }\n",
       "\n",
       "    .dataframe tbody tr th {\n",
       "        vertical-align: top;\n",
       "    }\n",
       "\n",
       "    .dataframe thead th {\n",
       "        text-align: right;\n",
       "    }\n",
       "</style>\n",
       "<table border=\"1\" class=\"dataframe\">\n",
       "  <thead>\n",
       "    <tr style=\"text-align: right;\">\n",
       "      <th></th>\n",
       "      <th>연번</th>\n",
       "      <th>확진일</th>\n",
       "      <th>지역</th>\n",
       "      <th>여행력</th>\n",
       "      <th>접촉력</th>\n",
       "      <th>상태</th>\n",
       "    </tr>\n",
       "  </thead>\n",
       "  <tbody>\n",
       "    <tr>\n",
       "      <th>0</th>\n",
       "      <td>99550</td>\n",
       "      <td>2021-09-28</td>\n",
       "      <td>기타</td>\n",
       "      <td>NaN</td>\n",
       "      <td>감염경로 조사중</td>\n",
       "      <td>-</td>\n",
       "    </tr>\n",
       "    <tr>\n",
       "      <th>1</th>\n",
       "      <td>99549</td>\n",
       "      <td>2021-09-28</td>\n",
       "      <td>기타</td>\n",
       "      <td>NaN</td>\n",
       "      <td>감염경로 조사중</td>\n",
       "      <td>-</td>\n",
       "    </tr>\n",
       "    <tr>\n",
       "      <th>2</th>\n",
       "      <td>99548</td>\n",
       "      <td>2021-09-28</td>\n",
       "      <td>기타</td>\n",
       "      <td>NaN</td>\n",
       "      <td>감염경로 조사중</td>\n",
       "      <td>-</td>\n",
       "    </tr>\n",
       "    <tr>\n",
       "      <th>3</th>\n",
       "      <td>99547</td>\n",
       "      <td>2021-09-28</td>\n",
       "      <td>기타</td>\n",
       "      <td>NaN</td>\n",
       "      <td>감염경로 조사중</td>\n",
       "      <td>-</td>\n",
       "    </tr>\n",
       "    <tr>\n",
       "      <th>4</th>\n",
       "      <td>99546</td>\n",
       "      <td>2021-09-28</td>\n",
       "      <td>기타</td>\n",
       "      <td>NaN</td>\n",
       "      <td>감염경로 조사중</td>\n",
       "      <td>-</td>\n",
       "    </tr>\n",
       "    <tr>\n",
       "      <th>...</th>\n",
       "      <td>...</td>\n",
       "      <td>...</td>\n",
       "      <td>...</td>\n",
       "      <td>...</td>\n",
       "      <td>...</td>\n",
       "      <td>...</td>\n",
       "    </tr>\n",
       "    <tr>\n",
       "      <th>99545</th>\n",
       "      <td>5</td>\n",
       "      <td>2020-01-31</td>\n",
       "      <td>성북구</td>\n",
       "      <td>NaN</td>\n",
       "      <td>기타 확진자 접촉</td>\n",
       "      <td>퇴원</td>\n",
       "    </tr>\n",
       "    <tr>\n",
       "      <th>99546</th>\n",
       "      <td>4</td>\n",
       "      <td>2020-01-30</td>\n",
       "      <td>마포구</td>\n",
       "      <td>중국</td>\n",
       "      <td>해외유입</td>\n",
       "      <td>퇴원</td>\n",
       "    </tr>\n",
       "    <tr>\n",
       "      <th>99547</th>\n",
       "      <td>3</td>\n",
       "      <td>2020-01-30</td>\n",
       "      <td>종로구</td>\n",
       "      <td>NaN</td>\n",
       "      <td>종로구 집단발병</td>\n",
       "      <td>퇴원</td>\n",
       "    </tr>\n",
       "    <tr>\n",
       "      <th>99548</th>\n",
       "      <td>2</td>\n",
       "      <td>2020-01-30</td>\n",
       "      <td>중랑구</td>\n",
       "      <td>중국</td>\n",
       "      <td>해외유입</td>\n",
       "      <td>퇴원</td>\n",
       "    </tr>\n",
       "    <tr>\n",
       "      <th>99549</th>\n",
       "      <td>1</td>\n",
       "      <td>2020-01-24</td>\n",
       "      <td>강서구</td>\n",
       "      <td>중국</td>\n",
       "      <td>해외유입</td>\n",
       "      <td>퇴원</td>\n",
       "    </tr>\n",
       "  </tbody>\n",
       "</table>\n",
       "<p>99550 rows × 6 columns</p>\n",
       "</div>"
      ],
      "text/plain": [
       "          연번         확진일   지역  여행력        접촉력  상태\n",
       "0      99550  2021-09-28   기타  NaN   감염경로 조사중   -\n",
       "1      99549  2021-09-28   기타  NaN   감염경로 조사중   -\n",
       "2      99548  2021-09-28   기타  NaN   감염경로 조사중   -\n",
       "3      99547  2021-09-28   기타  NaN   감염경로 조사중   -\n",
       "4      99546  2021-09-28   기타  NaN   감염경로 조사중   -\n",
       "...      ...         ...  ...  ...        ...  ..\n",
       "99545      5  2020-01-31  성북구  NaN  기타 확진자 접촉  퇴원\n",
       "99546      4  2020-01-30  마포구   중국       해외유입  퇴원\n",
       "99547      3  2020-01-30  종로구  NaN   종로구 집단발병  퇴원\n",
       "99548      2  2020-01-30  중랑구   중국       해외유입  퇴원\n",
       "99549      1  2020-01-24  강서구   중국       해외유입  퇴원\n",
       "\n",
       "[99550 rows x 6 columns]"
      ]
     },
     "execution_count": 12,
     "metadata": {},
     "output_type": "execute_result"
    }
   ],
   "source": [
    "df.drop(columns=['환자번호', '국적', '환자정보', '조치사항', '이동경로', '등록일',  '수정일', '노출여부'], \n",
    "       inplace=True)\n",
    "df"
   ]
  },
  {
   "cell_type": "code",
   "execution_count": 13,
   "id": "f37d004e",
   "metadata": {},
   "outputs": [
    {
     "data": {
      "text/plain": [
       "연번      int64\n",
       "확진일    object\n",
       "지역     object\n",
       "여행력    object\n",
       "접촉력    object\n",
       "상태     object\n",
       "dtype: object"
      ]
     },
     "execution_count": 13,
     "metadata": {},
     "output_type": "execute_result"
    }
   ],
   "source": []
  },
  {
   "cell_type": "markdown",
   "id": "55196937",
   "metadata": {},
   "source": [
    "## 자료형 변환"
   ]
  },
  {
   "cell_type": "code",
   "execution_count": 14,
   "id": "c4a16b31",
   "metadata": {},
   "outputs": [
    {
     "data": {
      "text/plain": [
       "연번      int64\n",
       "확진일    object\n",
       "지역     object\n",
       "여행력    object\n",
       "접촉력    object\n",
       "상태     object\n",
       "dtype: object"
      ]
     },
     "execution_count": 14,
     "metadata": {},
     "output_type": "execute_result"
    }
   ],
   "source": [
    "# 자료형 확인\n",
    "df.dtypes"
   ]
  },
  {
   "cell_type": "code",
   "execution_count": 18,
   "id": "4c963fb0",
   "metadata": {
    "scrolled": true
   },
   "outputs": [],
   "source": [
    "# 확진일 --> datetime\n",
    "df['확진일'] = pd.to_datetime(df['확진일'])"
   ]
  },
  {
   "cell_type": "code",
   "execution_count": 17,
   "id": "9c93e30a",
   "metadata": {},
   "outputs": [
    {
     "data": {
      "text/plain": [
       "연번              int64\n",
       "확진일    datetime64[ns]\n",
       "지역             object\n",
       "여행력            object\n",
       "접촉력            object\n",
       "상태             object\n",
       "dtype: object"
      ]
     },
     "execution_count": 17,
     "metadata": {},
     "output_type": "execute_result"
    }
   ],
   "source": [
    "df.dtypes"
   ]
  },
  {
   "cell_type": "code",
   "execution_count": 23,
   "id": "8fa5ca51-265d-4e9c-a6b2-35c49b2ac1a5",
   "metadata": {},
   "outputs": [
    {
     "data": {
      "text/plain": [
       "29"
      ]
     },
     "execution_count": 23,
     "metadata": {},
     "output_type": "execute_result"
    }
   ],
   "source": [
    "# df['지역'].value_counts()\n",
    "# len(df['지역'].unique())\n",
    "#서울은 25개 구\n",
    "df['지역'].nunique()"
   ]
  },
  {
   "cell_type": "code",
   "execution_count": 24,
   "id": "a0d53454-4651-4187-bfdb-90cdc09c7243",
   "metadata": {},
   "outputs": [
    {
     "data": {
      "text/plain": [
       "array(['기타', '영등포구', '관악구', '서대문구', '송파구', '동대문구', '성동구', '중랑구', '타시도',\n",
       "       '종로구', '도봉구', '용산구', '마포구', '구로구', '동작구', '강동구', '중구', '노원구',\n",
       "       '양천구', '강서구', '은평구', '성북구', '광진구', '금천구', '강북구', '강남구', '서초구',\n",
       "       '타시도 ', ' 성북구'], dtype=object)"
      ]
     },
     "execution_count": 24,
     "metadata": {},
     "output_type": "execute_result"
    }
   ],
   "source": [
    "df['지역'].unique()"
   ]
  },
  {
   "cell_type": "code",
   "execution_count": 26,
   "id": "c639791e",
   "metadata": {},
   "outputs": [],
   "source": [
    "# 지역명의 공백 제거\n",
    "df['지역'] = df['지역'].str.strip()"
   ]
  },
  {
   "cell_type": "code",
   "execution_count": 27,
   "id": "7b67dc54-0279-4744-b737-e805e93c1e55",
   "metadata": {},
   "outputs": [
    {
     "data": {
      "text/plain": [
       "array(['기타', '영등포구', '관악구', '서대문구', '송파구', '동대문구', '성동구', '중랑구', '타시도',\n",
       "       '종로구', '도봉구', '용산구', '마포구', '구로구', '동작구', '강동구', '중구', '노원구',\n",
       "       '양천구', '강서구', '은평구', '성북구', '광진구', '금천구', '강북구', '강남구', '서초구'],\n",
       "      dtype=object)"
      ]
     },
     "execution_count": 27,
     "metadata": {},
     "output_type": "execute_result"
    }
   ],
   "source": [
    "df['지역'].unique()"
   ]
  },
  {
   "cell_type": "code",
   "execution_count": 28,
   "id": "60061144",
   "metadata": {},
   "outputs": [
    {
     "data": {
      "text/plain": [
       "27"
      ]
     },
     "execution_count": 28,
     "metadata": {},
     "output_type": "execute_result"
    }
   ],
   "source": [
    "# 27개 확인후 카테고리로 변경\n",
    "df['지역'].nunique()"
   ]
  },
  {
   "cell_type": "code",
   "execution_count": 29,
   "id": "fafe6780",
   "metadata": {},
   "outputs": [],
   "source": [
    "df['지역'] = df['지역'].astype('category')"
   ]
  },
  {
   "cell_type": "code",
   "execution_count": 30,
   "id": "e745d235",
   "metadata": {},
   "outputs": [
    {
     "data": {
      "text/plain": [
       "연번              int64\n",
       "확진일    datetime64[ns]\n",
       "지역           category\n",
       "여행력            object\n",
       "접촉력            object\n",
       "상태             object\n",
       "dtype: object"
      ]
     },
     "execution_count": 30,
     "metadata": {},
     "output_type": "execute_result"
    }
   ],
   "source": [
    "df.dtypes"
   ]
  },
  {
   "cell_type": "code",
   "execution_count": 31,
   "id": "a0e3b0e6",
   "metadata": {},
   "outputs": [
    {
     "name": "stdout",
     "output_type": "stream",
     "text": [
      "<class 'pandas.core.frame.DataFrame'>\n",
      "RangeIndex: 99550 entries, 0 to 99549\n",
      "Data columns (total 6 columns):\n",
      " #   Column  Non-Null Count  Dtype         \n",
      "---  ------  --------------  -----         \n",
      " 0   연번      99550 non-null  int64         \n",
      " 1   확진일     99550 non-null  datetime64[ns]\n",
      " 2   지역      99550 non-null  category      \n",
      " 3   여행력     1717 non-null   object        \n",
      " 4   접촉력     99550 non-null  object        \n",
      " 5   상태      99550 non-null  object        \n",
      "dtypes: category(1), datetime64[ns](1), int64(1), object(3)\n",
      "memory usage: 3.9+ MB\n"
     ]
    }
   ],
   "source": [
    "df.info()"
   ]
  },
  {
   "cell_type": "markdown",
   "id": "3d52427b",
   "metadata": {},
   "source": [
    "## 결측치 분석"
   ]
  },
  {
   "cell_type": "code",
   "execution_count": 33,
   "id": "8ffde96d",
   "metadata": {
    "scrolled": true
   },
   "outputs": [
    {
     "data": {
      "text/plain": [
       "연번         0\n",
       "확진일        0\n",
       "지역         0\n",
       "여행력    97833\n",
       "접촉력        0\n",
       "상태         0\n",
       "dtype: int64"
      ]
     },
     "execution_count": 33,
     "metadata": {},
     "output_type": "execute_result"
    }
   ],
   "source": [
    "df.isnull().sum()"
   ]
  },
  {
   "cell_type": "code",
   "execution_count": 34,
   "id": "c9e19fbc",
   "metadata": {
    "scrolled": true
   },
   "outputs": [
    {
     "data": {
      "text/html": [
       "<div>\n",
       "<style scoped>\n",
       "    .dataframe tbody tr th:only-of-type {\n",
       "        vertical-align: middle;\n",
       "    }\n",
       "\n",
       "    .dataframe tbody tr th {\n",
       "        vertical-align: top;\n",
       "    }\n",
       "\n",
       "    .dataframe thead th {\n",
       "        text-align: right;\n",
       "    }\n",
       "</style>\n",
       "<table border=\"1\" class=\"dataframe\">\n",
       "  <thead>\n",
       "    <tr style=\"text-align: right;\">\n",
       "      <th></th>\n",
       "      <th>연번</th>\n",
       "      <th>확진일</th>\n",
       "      <th>지역</th>\n",
       "      <th>여행력</th>\n",
       "      <th>접촉력</th>\n",
       "      <th>상태</th>\n",
       "    </tr>\n",
       "  </thead>\n",
       "  <tbody>\n",
       "    <tr>\n",
       "      <th>0</th>\n",
       "      <td>99550</td>\n",
       "      <td>2021-09-28</td>\n",
       "      <td>기타</td>\n",
       "      <td>NaN</td>\n",
       "      <td>감염경로 조사중</td>\n",
       "      <td>-</td>\n",
       "    </tr>\n",
       "    <tr>\n",
       "      <th>1</th>\n",
       "      <td>99549</td>\n",
       "      <td>2021-09-28</td>\n",
       "      <td>기타</td>\n",
       "      <td>NaN</td>\n",
       "      <td>감염경로 조사중</td>\n",
       "      <td>-</td>\n",
       "    </tr>\n",
       "    <tr>\n",
       "      <th>2</th>\n",
       "      <td>99548</td>\n",
       "      <td>2021-09-28</td>\n",
       "      <td>기타</td>\n",
       "      <td>NaN</td>\n",
       "      <td>감염경로 조사중</td>\n",
       "      <td>-</td>\n",
       "    </tr>\n",
       "    <tr>\n",
       "      <th>3</th>\n",
       "      <td>99547</td>\n",
       "      <td>2021-09-28</td>\n",
       "      <td>기타</td>\n",
       "      <td>NaN</td>\n",
       "      <td>감염경로 조사중</td>\n",
       "      <td>-</td>\n",
       "    </tr>\n",
       "    <tr>\n",
       "      <th>4</th>\n",
       "      <td>99546</td>\n",
       "      <td>2021-09-28</td>\n",
       "      <td>기타</td>\n",
       "      <td>NaN</td>\n",
       "      <td>감염경로 조사중</td>\n",
       "      <td>-</td>\n",
       "    </tr>\n",
       "    <tr>\n",
       "      <th>...</th>\n",
       "      <td>...</td>\n",
       "      <td>...</td>\n",
       "      <td>...</td>\n",
       "      <td>...</td>\n",
       "      <td>...</td>\n",
       "      <td>...</td>\n",
       "    </tr>\n",
       "    <tr>\n",
       "      <th>99545</th>\n",
       "      <td>5</td>\n",
       "      <td>2020-01-31</td>\n",
       "      <td>성북구</td>\n",
       "      <td>NaN</td>\n",
       "      <td>기타 확진자 접촉</td>\n",
       "      <td>퇴원</td>\n",
       "    </tr>\n",
       "    <tr>\n",
       "      <th>99546</th>\n",
       "      <td>4</td>\n",
       "      <td>2020-01-30</td>\n",
       "      <td>마포구</td>\n",
       "      <td>중국</td>\n",
       "      <td>해외유입</td>\n",
       "      <td>퇴원</td>\n",
       "    </tr>\n",
       "    <tr>\n",
       "      <th>99547</th>\n",
       "      <td>3</td>\n",
       "      <td>2020-01-30</td>\n",
       "      <td>종로구</td>\n",
       "      <td>NaN</td>\n",
       "      <td>종로구 집단발병</td>\n",
       "      <td>퇴원</td>\n",
       "    </tr>\n",
       "    <tr>\n",
       "      <th>99548</th>\n",
       "      <td>2</td>\n",
       "      <td>2020-01-30</td>\n",
       "      <td>중랑구</td>\n",
       "      <td>중국</td>\n",
       "      <td>해외유입</td>\n",
       "      <td>퇴원</td>\n",
       "    </tr>\n",
       "    <tr>\n",
       "      <th>99549</th>\n",
       "      <td>1</td>\n",
       "      <td>2020-01-24</td>\n",
       "      <td>강서구</td>\n",
       "      <td>중국</td>\n",
       "      <td>해외유입</td>\n",
       "      <td>퇴원</td>\n",
       "    </tr>\n",
       "  </tbody>\n",
       "</table>\n",
       "<p>99550 rows × 6 columns</p>\n",
       "</div>"
      ],
      "text/plain": [
       "          연번        확진일   지역  여행력        접촉력  상태\n",
       "0      99550 2021-09-28   기타  NaN   감염경로 조사중   -\n",
       "1      99549 2021-09-28   기타  NaN   감염경로 조사중   -\n",
       "2      99548 2021-09-28   기타  NaN   감염경로 조사중   -\n",
       "3      99547 2021-09-28   기타  NaN   감염경로 조사중   -\n",
       "4      99546 2021-09-28   기타  NaN   감염경로 조사중   -\n",
       "...      ...        ...  ...  ...        ...  ..\n",
       "99545      5 2020-01-31  성북구  NaN  기타 확진자 접촉  퇴원\n",
       "99546      4 2020-01-30  마포구   중국       해외유입  퇴원\n",
       "99547      3 2020-01-30  종로구  NaN   종로구 집단발병  퇴원\n",
       "99548      2 2020-01-30  중랑구   중국       해외유입  퇴원\n",
       "99549      1 2020-01-24  강서구   중국       해외유입  퇴원\n",
       "\n",
       "[99550 rows x 6 columns]"
      ]
     },
     "execution_count": 34,
     "metadata": {},
     "output_type": "execute_result"
    }
   ],
   "source": [
    "df"
   ]
  },
  {
   "cell_type": "markdown",
   "id": "7d6471b2",
   "metadata": {},
   "source": [
    "# 구 별 확진자 동향"
   ]
  },
  {
   "cell_type": "markdown",
   "id": "0a0b3939",
   "metadata": {},
   "source": [
    "## 확진일-구별 확진자수 집계"
   ]
  },
  {
   "cell_type": "markdown",
   "id": "d9791944",
   "metadata": {},
   "source": [
    "### 피봇테이블 만들기"
   ]
  },
  {
   "cell_type": "code",
   "execution_count": 41,
   "id": "a97604f8",
   "metadata": {},
   "outputs": [
    {
     "data": {
      "text/html": [
       "<div>\n",
       "<style scoped>\n",
       "    .dataframe tbody tr th:only-of-type {\n",
       "        vertical-align: middle;\n",
       "    }\n",
       "\n",
       "    .dataframe tbody tr th {\n",
       "        vertical-align: top;\n",
       "    }\n",
       "\n",
       "    .dataframe thead th {\n",
       "        text-align: right;\n",
       "    }\n",
       "</style>\n",
       "<table border=\"1\" class=\"dataframe\">\n",
       "  <thead>\n",
       "    <tr style=\"text-align: right;\">\n",
       "      <th>지역</th>\n",
       "      <th>강남구</th>\n",
       "      <th>강동구</th>\n",
       "      <th>강북구</th>\n",
       "      <th>강서구</th>\n",
       "      <th>관악구</th>\n",
       "      <th>광진구</th>\n",
       "      <th>구로구</th>\n",
       "      <th>금천구</th>\n",
       "      <th>기타</th>\n",
       "      <th>노원구</th>\n",
       "      <th>...</th>\n",
       "      <th>송파구</th>\n",
       "      <th>양천구</th>\n",
       "      <th>영등포구</th>\n",
       "      <th>용산구</th>\n",
       "      <th>은평구</th>\n",
       "      <th>종로구</th>\n",
       "      <th>중구</th>\n",
       "      <th>중랑구</th>\n",
       "      <th>타시도</th>\n",
       "      <th>합계</th>\n",
       "    </tr>\n",
       "    <tr>\n",
       "      <th>확진일</th>\n",
       "      <th></th>\n",
       "      <th></th>\n",
       "      <th></th>\n",
       "      <th></th>\n",
       "      <th></th>\n",
       "      <th></th>\n",
       "      <th></th>\n",
       "      <th></th>\n",
       "      <th></th>\n",
       "      <th></th>\n",
       "      <th></th>\n",
       "      <th></th>\n",
       "      <th></th>\n",
       "      <th></th>\n",
       "      <th></th>\n",
       "      <th></th>\n",
       "      <th></th>\n",
       "      <th></th>\n",
       "      <th></th>\n",
       "      <th></th>\n",
       "      <th></th>\n",
       "    </tr>\n",
       "  </thead>\n",
       "  <tbody>\n",
       "    <tr>\n",
       "      <th>2020-01-24 00:00:00</th>\n",
       "      <td>0</td>\n",
       "      <td>0</td>\n",
       "      <td>0</td>\n",
       "      <td>1</td>\n",
       "      <td>0</td>\n",
       "      <td>0</td>\n",
       "      <td>0</td>\n",
       "      <td>0</td>\n",
       "      <td>0</td>\n",
       "      <td>0</td>\n",
       "      <td>...</td>\n",
       "      <td>0</td>\n",
       "      <td>0</td>\n",
       "      <td>0</td>\n",
       "      <td>0</td>\n",
       "      <td>0</td>\n",
       "      <td>0</td>\n",
       "      <td>0</td>\n",
       "      <td>0</td>\n",
       "      <td>0</td>\n",
       "      <td>1</td>\n",
       "    </tr>\n",
       "    <tr>\n",
       "      <th>2020-01-30 00:00:00</th>\n",
       "      <td>0</td>\n",
       "      <td>0</td>\n",
       "      <td>0</td>\n",
       "      <td>0</td>\n",
       "      <td>0</td>\n",
       "      <td>0</td>\n",
       "      <td>0</td>\n",
       "      <td>0</td>\n",
       "      <td>0</td>\n",
       "      <td>0</td>\n",
       "      <td>...</td>\n",
       "      <td>0</td>\n",
       "      <td>0</td>\n",
       "      <td>0</td>\n",
       "      <td>0</td>\n",
       "      <td>0</td>\n",
       "      <td>1</td>\n",
       "      <td>0</td>\n",
       "      <td>1</td>\n",
       "      <td>0</td>\n",
       "      <td>3</td>\n",
       "    </tr>\n",
       "    <tr>\n",
       "      <th>2020-01-31 00:00:00</th>\n",
       "      <td>0</td>\n",
       "      <td>0</td>\n",
       "      <td>0</td>\n",
       "      <td>0</td>\n",
       "      <td>0</td>\n",
       "      <td>0</td>\n",
       "      <td>0</td>\n",
       "      <td>0</td>\n",
       "      <td>0</td>\n",
       "      <td>0</td>\n",
       "      <td>...</td>\n",
       "      <td>0</td>\n",
       "      <td>0</td>\n",
       "      <td>0</td>\n",
       "      <td>0</td>\n",
       "      <td>0</td>\n",
       "      <td>2</td>\n",
       "      <td>0</td>\n",
       "      <td>0</td>\n",
       "      <td>0</td>\n",
       "      <td>3</td>\n",
       "    </tr>\n",
       "    <tr>\n",
       "      <th>2020-02-02 00:00:00</th>\n",
       "      <td>0</td>\n",
       "      <td>0</td>\n",
       "      <td>0</td>\n",
       "      <td>0</td>\n",
       "      <td>0</td>\n",
       "      <td>0</td>\n",
       "      <td>0</td>\n",
       "      <td>0</td>\n",
       "      <td>0</td>\n",
       "      <td>0</td>\n",
       "      <td>...</td>\n",
       "      <td>0</td>\n",
       "      <td>0</td>\n",
       "      <td>0</td>\n",
       "      <td>0</td>\n",
       "      <td>0</td>\n",
       "      <td>0</td>\n",
       "      <td>0</td>\n",
       "      <td>0</td>\n",
       "      <td>1</td>\n",
       "      <td>1</td>\n",
       "    </tr>\n",
       "    <tr>\n",
       "      <th>2020-02-05 00:00:00</th>\n",
       "      <td>0</td>\n",
       "      <td>0</td>\n",
       "      <td>0</td>\n",
       "      <td>0</td>\n",
       "      <td>0</td>\n",
       "      <td>0</td>\n",
       "      <td>0</td>\n",
       "      <td>0</td>\n",
       "      <td>0</td>\n",
       "      <td>0</td>\n",
       "      <td>...</td>\n",
       "      <td>1</td>\n",
       "      <td>0</td>\n",
       "      <td>0</td>\n",
       "      <td>0</td>\n",
       "      <td>0</td>\n",
       "      <td>0</td>\n",
       "      <td>0</td>\n",
       "      <td>0</td>\n",
       "      <td>0</td>\n",
       "      <td>2</td>\n",
       "    </tr>\n",
       "    <tr>\n",
       "      <th>...</th>\n",
       "      <td>...</td>\n",
       "      <td>...</td>\n",
       "      <td>...</td>\n",
       "      <td>...</td>\n",
       "      <td>...</td>\n",
       "      <td>...</td>\n",
       "      <td>...</td>\n",
       "      <td>...</td>\n",
       "      <td>...</td>\n",
       "      <td>...</td>\n",
       "      <td>...</td>\n",
       "      <td>...</td>\n",
       "      <td>...</td>\n",
       "      <td>...</td>\n",
       "      <td>...</td>\n",
       "      <td>...</td>\n",
       "      <td>...</td>\n",
       "      <td>...</td>\n",
       "      <td>...</td>\n",
       "      <td>...</td>\n",
       "      <td>...</td>\n",
       "    </tr>\n",
       "    <tr>\n",
       "      <th>2021-09-25 00:00:00</th>\n",
       "      <td>37</td>\n",
       "      <td>41</td>\n",
       "      <td>42</td>\n",
       "      <td>48</td>\n",
       "      <td>37</td>\n",
       "      <td>34</td>\n",
       "      <td>31</td>\n",
       "      <td>39</td>\n",
       "      <td>0</td>\n",
       "      <td>27</td>\n",
       "      <td>...</td>\n",
       "      <td>88</td>\n",
       "      <td>20</td>\n",
       "      <td>35</td>\n",
       "      <td>32</td>\n",
       "      <td>31</td>\n",
       "      <td>31</td>\n",
       "      <td>24</td>\n",
       "      <td>35</td>\n",
       "      <td>31</td>\n",
       "      <td>928</td>\n",
       "    </tr>\n",
       "    <tr>\n",
       "      <th>2021-09-26 00:00:00</th>\n",
       "      <td>43</td>\n",
       "      <td>17</td>\n",
       "      <td>27</td>\n",
       "      <td>29</td>\n",
       "      <td>37</td>\n",
       "      <td>37</td>\n",
       "      <td>72</td>\n",
       "      <td>19</td>\n",
       "      <td>0</td>\n",
       "      <td>25</td>\n",
       "      <td>...</td>\n",
       "      <td>55</td>\n",
       "      <td>12</td>\n",
       "      <td>40</td>\n",
       "      <td>13</td>\n",
       "      <td>38</td>\n",
       "      <td>33</td>\n",
       "      <td>27</td>\n",
       "      <td>26</td>\n",
       "      <td>32</td>\n",
       "      <td>778</td>\n",
       "    </tr>\n",
       "    <tr>\n",
       "      <th>2021-09-27 00:00:00</th>\n",
       "      <td>50</td>\n",
       "      <td>29</td>\n",
       "      <td>20</td>\n",
       "      <td>50</td>\n",
       "      <td>23</td>\n",
       "      <td>34</td>\n",
       "      <td>58</td>\n",
       "      <td>16</td>\n",
       "      <td>0</td>\n",
       "      <td>37</td>\n",
       "      <td>...</td>\n",
       "      <td>58</td>\n",
       "      <td>27</td>\n",
       "      <td>41</td>\n",
       "      <td>28</td>\n",
       "      <td>17</td>\n",
       "      <td>20</td>\n",
       "      <td>22</td>\n",
       "      <td>18</td>\n",
       "      <td>63</td>\n",
       "      <td>842</td>\n",
       "    </tr>\n",
       "    <tr>\n",
       "      <th>2021-09-28 00:00:00</th>\n",
       "      <td>45</td>\n",
       "      <td>51</td>\n",
       "      <td>25</td>\n",
       "      <td>41</td>\n",
       "      <td>48</td>\n",
       "      <td>36</td>\n",
       "      <td>55</td>\n",
       "      <td>31</td>\n",
       "      <td>65</td>\n",
       "      <td>29</td>\n",
       "      <td>...</td>\n",
       "      <td>68</td>\n",
       "      <td>27</td>\n",
       "      <td>43</td>\n",
       "      <td>24</td>\n",
       "      <td>47</td>\n",
       "      <td>23</td>\n",
       "      <td>37</td>\n",
       "      <td>26</td>\n",
       "      <td>43</td>\n",
       "      <td>1054</td>\n",
       "    </tr>\n",
       "    <tr>\n",
       "      <th>합계</th>\n",
       "      <td>6926</td>\n",
       "      <td>3782</td>\n",
       "      <td>2606</td>\n",
       "      <td>4447</td>\n",
       "      <td>5418</td>\n",
       "      <td>3486</td>\n",
       "      <td>4168</td>\n",
       "      <td>2064</td>\n",
       "      <td>2321</td>\n",
       "      <td>3932</td>\n",
       "      <td>...</td>\n",
       "      <td>6356</td>\n",
       "      <td>3291</td>\n",
       "      <td>4463</td>\n",
       "      <td>2705</td>\n",
       "      <td>4284</td>\n",
       "      <td>1617</td>\n",
       "      <td>1708</td>\n",
       "      <td>3729</td>\n",
       "      <td>4715</td>\n",
       "      <td>99550</td>\n",
       "    </tr>\n",
       "  </tbody>\n",
       "</table>\n",
       "<p>583 rows × 28 columns</p>\n",
       "</div>"
      ],
      "text/plain": [
       "지역                    강남구   강동구   강북구   강서구   관악구   광진구   구로구   금천구    기타  \\\n",
       "확진일                                                                         \n",
       "2020-01-24 00:00:00     0     0     0     1     0     0     0     0     0   \n",
       "2020-01-30 00:00:00     0     0     0     0     0     0     0     0     0   \n",
       "2020-01-31 00:00:00     0     0     0     0     0     0     0     0     0   \n",
       "2020-02-02 00:00:00     0     0     0     0     0     0     0     0     0   \n",
       "2020-02-05 00:00:00     0     0     0     0     0     0     0     0     0   \n",
       "...                   ...   ...   ...   ...   ...   ...   ...   ...   ...   \n",
       "2021-09-25 00:00:00    37    41    42    48    37    34    31    39     0   \n",
       "2021-09-26 00:00:00    43    17    27    29    37    37    72    19     0   \n",
       "2021-09-27 00:00:00    50    29    20    50    23    34    58    16     0   \n",
       "2021-09-28 00:00:00    45    51    25    41    48    36    55    31    65   \n",
       "합계                   6926  3782  2606  4447  5418  3486  4168  2064  2321   \n",
       "\n",
       "지역                    노원구  ...   송파구   양천구  영등포구   용산구   은평구   종로구    중구  \\\n",
       "확진일                        ...                                             \n",
       "2020-01-24 00:00:00     0  ...     0     0     0     0     0     0     0   \n",
       "2020-01-30 00:00:00     0  ...     0     0     0     0     0     1     0   \n",
       "2020-01-31 00:00:00     0  ...     0     0     0     0     0     2     0   \n",
       "2020-02-02 00:00:00     0  ...     0     0     0     0     0     0     0   \n",
       "2020-02-05 00:00:00     0  ...     1     0     0     0     0     0     0   \n",
       "...                   ...  ...   ...   ...   ...   ...   ...   ...   ...   \n",
       "2021-09-25 00:00:00    27  ...    88    20    35    32    31    31    24   \n",
       "2021-09-26 00:00:00    25  ...    55    12    40    13    38    33    27   \n",
       "2021-09-27 00:00:00    37  ...    58    27    41    28    17    20    22   \n",
       "2021-09-28 00:00:00    29  ...    68    27    43    24    47    23    37   \n",
       "합계                   3932  ...  6356  3291  4463  2705  4284  1617  1708   \n",
       "\n",
       "지역                    중랑구   타시도     합계  \n",
       "확진일                                     \n",
       "2020-01-24 00:00:00     0     0      1  \n",
       "2020-01-30 00:00:00     1     0      3  \n",
       "2020-01-31 00:00:00     0     0      3  \n",
       "2020-02-02 00:00:00     0     1      1  \n",
       "2020-02-05 00:00:00     0     0      2  \n",
       "...                   ...   ...    ...  \n",
       "2021-09-25 00:00:00    35    31    928  \n",
       "2021-09-26 00:00:00    26    32    778  \n",
       "2021-09-27 00:00:00    18    63    842  \n",
       "2021-09-28 00:00:00    26    43   1054  \n",
       "합계                   3729  4715  99550  \n",
       "\n",
       "[583 rows x 28 columns]"
      ]
     },
     "execution_count": 41,
     "metadata": {},
     "output_type": "execute_result"
    }
   ],
   "source": [
    "df_gu = pd.pivot_table(df, values='연번', index='확진일', columns='지역', margins=True,\n",
    "                      margins_name='합계', aggfunc='count')\n",
    "df_gu"
   ]
  },
  {
   "cell_type": "code",
   "execution_count": 44,
   "id": "831c1241-0ebf-440d-94cf-63a7d8475e86",
   "metadata": {
    "scrolled": true
   },
   "outputs": [
    {
     "data": {
      "text/plain": [
       "확진일\n",
       "2020-01-24       1\n",
       "2020-01-30       3\n",
       "2020-01-31       3\n",
       "2020-02-02       1\n",
       "2020-02-05       2\n",
       "              ... \n",
       "2021-09-24    1222\n",
       "2021-09-25     928\n",
       "2021-09-26     778\n",
       "2021-09-27     842\n",
       "2021-09-28    1054\n",
       "Name: 합계, Length: 582, dtype: int64"
      ]
     },
     "execution_count": 44,
     "metadata": {},
     "output_type": "execute_result"
    }
   ],
   "source": [
    "s_date = df_gu['합계'][:-1]\n",
    "s_date"
   ]
  },
  {
   "cell_type": "code",
   "execution_count": 45,
   "id": "0c198f4f-3d18-49e8-982a-5c9ee58db01a",
   "metadata": {},
   "outputs": [
    {
     "data": {
      "text/plain": [
       "확진일\n",
       "2021-09-24    1222\n",
       "2021-09-28    1054\n",
       "2021-09-25     928\n",
       "2021-09-23     905\n",
       "2021-09-27     842\n",
       "              ... \n",
       "2020-04-24       1\n",
       "2020-04-30       1\n",
       "2020-05-01       1\n",
       "2020-05-17       1\n",
       "2020-01-24       1\n",
       "Name: 합계, Length: 582, dtype: int64"
      ]
     },
     "execution_count": 45,
     "metadata": {},
     "output_type": "execute_result"
    }
   ],
   "source": [
    "s_date.sort_values(ascending=False)"
   ]
  },
  {
   "cell_type": "markdown",
   "id": "d1da6b0b",
   "metadata": {},
   "source": [
    "### 서울시 일별 추가확진자 동향"
   ]
  },
  {
   "cell_type": "code",
   "execution_count": null,
   "id": "8bdaed31",
   "metadata": {},
   "outputs": [],
   "source": [
    "df.groupby()"
   ]
  },
  {
   "cell_type": "code",
   "execution_count": 46,
   "id": "331e55ff",
   "metadata": {},
   "outputs": [
    {
     "data": {
      "text/plain": [
       "확진일\n",
       "2021-09-24    1222\n",
       "2021-09-28    1054\n",
       "2021-09-25     928\n",
       "2021-09-23     905\n",
       "2021-09-27     842\n",
       "              ... \n",
       "2020-04-24       1\n",
       "2020-04-30       1\n",
       "2020-05-01       1\n",
       "2020-05-17       1\n",
       "2020-01-24       1\n",
       "Name: 합계, Length: 582, dtype: int64"
      ]
     },
     "execution_count": 46,
     "metadata": {},
     "output_type": "execute_result"
    }
   ],
   "source": [
    "# 서울시 일별 추가확진자가 많았던 순으로 보기\n",
    "s_date.sort_values(ascending=False)"
   ]
  },
  {
   "cell_type": "code",
   "execution_count": 51,
   "id": "98432653",
   "metadata": {},
   "outputs": [
    {
     "data": {
      "image/png": "[encoded data removed]",
      "text/plain": [
       "<Figure size 640x480 with 1 Axes>"
      ]
     },
     "metadata": {},
     "output_type": "display_data"
    }
   ],
   "source": [
    "# 서울시 일별 추가확진자 시각화\n",
    "x = s_date.index\n",
    "y = s_date.values\n",
    "plt.plot(x, y)\n",
    "plt.xlabel('확진일')\n",
    "plt.ylabel('확진자수')\n",
    "plt.xticks(rotation=45)\n",
    "plt.show()"
   ]
  },
  {
   "cell_type": "markdown",
   "id": "5232cb10",
   "metadata": {},
   "source": [
    "### 서울시 구별 누적확진자 비교"
   ]
  },
  {
   "cell_type": "code",
   "execution_count": 60,
   "id": "17103ffc",
   "metadata": {},
   "outputs": [],
   "source": [
    "# 서울시 구별 누적확진자 많은 순으로 보기\n",
    "s_gu = df_gu.loc['합계'][:-1]\n",
    "s_gu = s_gu.sort_values(ascending=False)"
   ]
  },
  {
   "cell_type": "code",
   "execution_count": 61,
   "id": "ea5234c3",
   "metadata": {},
   "outputs": [
    {
     "data": {
      "image/png": "[encoded data removed]",
      "text/plain": [
       "<Figure size 640x480 with 1 Axes>"
      ]
     },
     "metadata": {},
     "output_type": "display_data"
    }
   ],
   "source": [
    "# 서울시 구별 누적확진자 많은 순으로 시각화\n",
    "x = s_gu.index\n",
    "y = s_gu.values\n",
    "plt.plot(x, y)\n",
    "plt.xlabel('구')\n",
    "plt.ylabel('확진자수')\n",
    "plt.xticks(rotation=45)\n",
    "plt.show()"
   ]
  },
  {
   "cell_type": "code",
   "execution_count": 62,
   "id": "36fa9c7a-d9eb-4c1e-bbdf-64d7a8139f99",
   "metadata": {},
   "outputs": [
    {
     "data": {
      "image/png": "[encoded data removed]",
      "text/plain": [
       "<Figure size 640x480 with 1 Axes>"
      ]
     },
     "metadata": {},
     "output_type": "display_data"
    }
   ],
   "source": [
    "x = s_gu.index\n",
    "y = s_gu.values\n",
    "plt.barh(x, y)\n",
    "plt.show()"
   ]
  },
  {
   "cell_type": "markdown",
   "id": "623a36ba",
   "metadata": {},
   "source": [
    "### 최근일 기준 지역별 추가확진자 "
   ]
  },
  {
   "cell_type": "code",
   "execution_count": 63,
   "id": "99722fe5",
   "metadata": {},
   "outputs": [
    {
     "data": {
      "text/html": [
       "<div>\n",
       "<style scoped>\n",
       "    .dataframe tbody tr th:only-of-type {\n",
       "        vertical-align: middle;\n",
       "    }\n",
       "\n",
       "    .dataframe tbody tr th {\n",
       "        vertical-align: top;\n",
       "    }\n",
       "\n",
       "    .dataframe thead th {\n",
       "        text-align: right;\n",
       "    }\n",
       "</style>\n",
       "<table border=\"1\" class=\"dataframe\">\n",
       "  <thead>\n",
       "    <tr style=\"text-align: right;\">\n",
       "      <th>지역</th>\n",
       "      <th>강남구</th>\n",
       "      <th>강동구</th>\n",
       "      <th>강북구</th>\n",
       "      <th>강서구</th>\n",
       "      <th>관악구</th>\n",
       "      <th>광진구</th>\n",
       "      <th>구로구</th>\n",
       "      <th>금천구</th>\n",
       "      <th>기타</th>\n",
       "      <th>노원구</th>\n",
       "      <th>...</th>\n",
       "      <th>송파구</th>\n",
       "      <th>양천구</th>\n",
       "      <th>영등포구</th>\n",
       "      <th>용산구</th>\n",
       "      <th>은평구</th>\n",
       "      <th>종로구</th>\n",
       "      <th>중구</th>\n",
       "      <th>중랑구</th>\n",
       "      <th>타시도</th>\n",
       "      <th>합계</th>\n",
       "    </tr>\n",
       "    <tr>\n",
       "      <th>확진일</th>\n",
       "      <th></th>\n",
       "      <th></th>\n",
       "      <th></th>\n",
       "      <th></th>\n",
       "      <th></th>\n",
       "      <th></th>\n",
       "      <th></th>\n",
       "      <th></th>\n",
       "      <th></th>\n",
       "      <th></th>\n",
       "      <th></th>\n",
       "      <th></th>\n",
       "      <th></th>\n",
       "      <th></th>\n",
       "      <th></th>\n",
       "      <th></th>\n",
       "      <th></th>\n",
       "      <th></th>\n",
       "      <th></th>\n",
       "      <th></th>\n",
       "      <th></th>\n",
       "    </tr>\n",
       "  </thead>\n",
       "  <tbody>\n",
       "    <tr>\n",
       "      <th>2020-01-24 00:00:00</th>\n",
       "      <td>0</td>\n",
       "      <td>0</td>\n",
       "      <td>0</td>\n",
       "      <td>1</td>\n",
       "      <td>0</td>\n",
       "      <td>0</td>\n",
       "      <td>0</td>\n",
       "      <td>0</td>\n",
       "      <td>0</td>\n",
       "      <td>0</td>\n",
       "      <td>...</td>\n",
       "      <td>0</td>\n",
       "      <td>0</td>\n",
       "      <td>0</td>\n",
       "      <td>0</td>\n",
       "      <td>0</td>\n",
       "      <td>0</td>\n",
       "      <td>0</td>\n",
       "      <td>0</td>\n",
       "      <td>0</td>\n",
       "      <td>1</td>\n",
       "    </tr>\n",
       "    <tr>\n",
       "      <th>2020-01-30 00:00:00</th>\n",
       "      <td>0</td>\n",
       "      <td>0</td>\n",
       "      <td>0</td>\n",
       "      <td>0</td>\n",
       "      <td>0</td>\n",
       "      <td>0</td>\n",
       "      <td>0</td>\n",
       "      <td>0</td>\n",
       "      <td>0</td>\n",
       "      <td>0</td>\n",
       "      <td>...</td>\n",
       "      <td>0</td>\n",
       "      <td>0</td>\n",
       "      <td>0</td>\n",
       "      <td>0</td>\n",
       "      <td>0</td>\n",
       "      <td>1</td>\n",
       "      <td>0</td>\n",
       "      <td>1</td>\n",
       "      <td>0</td>\n",
       "      <td>3</td>\n",
       "    </tr>\n",
       "    <tr>\n",
       "      <th>2020-01-31 00:00:00</th>\n",
       "      <td>0</td>\n",
       "      <td>0</td>\n",
       "      <td>0</td>\n",
       "      <td>0</td>\n",
       "      <td>0</td>\n",
       "      <td>0</td>\n",
       "      <td>0</td>\n",
       "      <td>0</td>\n",
       "      <td>0</td>\n",
       "      <td>0</td>\n",
       "      <td>...</td>\n",
       "      <td>0</td>\n",
       "      <td>0</td>\n",
       "      <td>0</td>\n",
       "      <td>0</td>\n",
       "      <td>0</td>\n",
       "      <td>2</td>\n",
       "      <td>0</td>\n",
       "      <td>0</td>\n",
       "      <td>0</td>\n",
       "      <td>3</td>\n",
       "    </tr>\n",
       "    <tr>\n",
       "      <th>2020-02-02 00:00:00</th>\n",
       "      <td>0</td>\n",
       "      <td>0</td>\n",
       "      <td>0</td>\n",
       "      <td>0</td>\n",
       "      <td>0</td>\n",
       "      <td>0</td>\n",
       "      <td>0</td>\n",
       "      <td>0</td>\n",
       "      <td>0</td>\n",
       "      <td>0</td>\n",
       "      <td>...</td>\n",
       "      <td>0</td>\n",
       "      <td>0</td>\n",
       "      <td>0</td>\n",
       "      <td>0</td>\n",
       "      <td>0</td>\n",
       "      <td>0</td>\n",
       "      <td>0</td>\n",
       "      <td>0</td>\n",
       "      <td>1</td>\n",
       "      <td>1</td>\n",
       "    </tr>\n",
       "    <tr>\n",
       "      <th>2020-02-05 00:00:00</th>\n",
       "      <td>0</td>\n",
       "      <td>0</td>\n",
       "      <td>0</td>\n",
       "      <td>0</td>\n",
       "      <td>0</td>\n",
       "      <td>0</td>\n",
       "      <td>0</td>\n",
       "      <td>0</td>\n",
       "      <td>0</td>\n",
       "      <td>0</td>\n",
       "      <td>...</td>\n",
       "      <td>1</td>\n",
       "      <td>0</td>\n",
       "      <td>0</td>\n",
       "      <td>0</td>\n",
       "      <td>0</td>\n",
       "      <td>0</td>\n",
       "      <td>0</td>\n",
       "      <td>0</td>\n",
       "      <td>0</td>\n",
       "      <td>2</td>\n",
       "    </tr>\n",
       "    <tr>\n",
       "      <th>...</th>\n",
       "      <td>...</td>\n",
       "      <td>...</td>\n",
       "      <td>...</td>\n",
       "      <td>...</td>\n",
       "      <td>...</td>\n",
       "      <td>...</td>\n",
       "      <td>...</td>\n",
       "      <td>...</td>\n",
       "      <td>...</td>\n",
       "      <td>...</td>\n",
       "      <td>...</td>\n",
       "      <td>...</td>\n",
       "      <td>...</td>\n",
       "      <td>...</td>\n",
       "      <td>...</td>\n",
       "      <td>...</td>\n",
       "      <td>...</td>\n",
       "      <td>...</td>\n",
       "      <td>...</td>\n",
       "      <td>...</td>\n",
       "      <td>...</td>\n",
       "    </tr>\n",
       "    <tr>\n",
       "      <th>2021-09-25 00:00:00</th>\n",
       "      <td>37</td>\n",
       "      <td>41</td>\n",
       "      <td>42</td>\n",
       "      <td>48</td>\n",
       "      <td>37</td>\n",
       "      <td>34</td>\n",
       "      <td>31</td>\n",
       "      <td>39</td>\n",
       "      <td>0</td>\n",
       "      <td>27</td>\n",
       "      <td>...</td>\n",
       "      <td>88</td>\n",
       "      <td>20</td>\n",
       "      <td>35</td>\n",
       "      <td>32</td>\n",
       "      <td>31</td>\n",
       "      <td>31</td>\n",
       "      <td>24</td>\n",
       "      <td>35</td>\n",
       "      <td>31</td>\n",
       "      <td>928</td>\n",
       "    </tr>\n",
       "    <tr>\n",
       "      <th>2021-09-26 00:00:00</th>\n",
       "      <td>43</td>\n",
       "      <td>17</td>\n",
       "      <td>27</td>\n",
       "      <td>29</td>\n",
       "      <td>37</td>\n",
       "      <td>37</td>\n",
       "      <td>72</td>\n",
       "      <td>19</td>\n",
       "      <td>0</td>\n",
       "      <td>25</td>\n",
       "      <td>...</td>\n",
       "      <td>55</td>\n",
       "      <td>12</td>\n",
       "      <td>40</td>\n",
       "      <td>13</td>\n",
       "      <td>38</td>\n",
       "      <td>33</td>\n",
       "      <td>27</td>\n",
       "      <td>26</td>\n",
       "      <td>32</td>\n",
       "      <td>778</td>\n",
       "    </tr>\n",
       "    <tr>\n",
       "      <th>2021-09-27 00:00:00</th>\n",
       "      <td>50</td>\n",
       "      <td>29</td>\n",
       "      <td>20</td>\n",
       "      <td>50</td>\n",
       "      <td>23</td>\n",
       "      <td>34</td>\n",
       "      <td>58</td>\n",
       "      <td>16</td>\n",
       "      <td>0</td>\n",
       "      <td>37</td>\n",
       "      <td>...</td>\n",
       "      <td>58</td>\n",
       "      <td>27</td>\n",
       "      <td>41</td>\n",
       "      <td>28</td>\n",
       "      <td>17</td>\n",
       "      <td>20</td>\n",
       "      <td>22</td>\n",
       "      <td>18</td>\n",
       "      <td>63</td>\n",
       "      <td>842</td>\n",
       "    </tr>\n",
       "    <tr>\n",
       "      <th>2021-09-28 00:00:00</th>\n",
       "      <td>45</td>\n",
       "      <td>51</td>\n",
       "      <td>25</td>\n",
       "      <td>41</td>\n",
       "      <td>48</td>\n",
       "      <td>36</td>\n",
       "      <td>55</td>\n",
       "      <td>31</td>\n",
       "      <td>65</td>\n",
       "      <td>29</td>\n",
       "      <td>...</td>\n",
       "      <td>68</td>\n",
       "      <td>27</td>\n",
       "      <td>43</td>\n",
       "      <td>24</td>\n",
       "      <td>47</td>\n",
       "      <td>23</td>\n",
       "      <td>37</td>\n",
       "      <td>26</td>\n",
       "      <td>43</td>\n",
       "      <td>1054</td>\n",
       "    </tr>\n",
       "    <tr>\n",
       "      <th>합계</th>\n",
       "      <td>6926</td>\n",
       "      <td>3782</td>\n",
       "      <td>2606</td>\n",
       "      <td>4447</td>\n",
       "      <td>5418</td>\n",
       "      <td>3486</td>\n",
       "      <td>4168</td>\n",
       "      <td>2064</td>\n",
       "      <td>2321</td>\n",
       "      <td>3932</td>\n",
       "      <td>...</td>\n",
       "      <td>6356</td>\n",
       "      <td>3291</td>\n",
       "      <td>4463</td>\n",
       "      <td>2705</td>\n",
       "      <td>4284</td>\n",
       "      <td>1617</td>\n",
       "      <td>1708</td>\n",
       "      <td>3729</td>\n",
       "      <td>4715</td>\n",
       "      <td>99550</td>\n",
       "    </tr>\n",
       "  </tbody>\n",
       "</table>\n",
       "<p>583 rows × 28 columns</p>\n",
       "</div>"
      ],
      "text/plain": [
       "지역                    강남구   강동구   강북구   강서구   관악구   광진구   구로구   금천구    기타  \\\n",
       "확진일                                                                         \n",
       "2020-01-24 00:00:00     0     0     0     1     0     0     0     0     0   \n",
       "2020-01-30 00:00:00     0     0     0     0     0     0     0     0     0   \n",
       "2020-01-31 00:00:00     0     0     0     0     0     0     0     0     0   \n",
       "2020-02-02 00:00:00     0     0     0     0     0     0     0     0     0   \n",
       "2020-02-05 00:00:00     0     0     0     0     0     0     0     0     0   \n",
       "...                   ...   ...   ...   ...   ...   ...   ...   ...   ...   \n",
       "2021-09-25 00:00:00    37    41    42    48    37    34    31    39     0   \n",
       "2021-09-26 00:00:00    43    17    27    29    37    37    72    19     0   \n",
       "2021-09-27 00:00:00    50    29    20    50    23    34    58    16     0   \n",
       "2021-09-28 00:00:00    45    51    25    41    48    36    55    31    65   \n",
       "합계                   6926  3782  2606  4447  5418  3486  4168  2064  2321   \n",
       "\n",
       "지역                    노원구  ...   송파구   양천구  영등포구   용산구   은평구   종로구    중구  \\\n",
       "확진일                        ...                                             \n",
       "2020-01-24 00:00:00     0  ...     0     0     0     0     0     0     0   \n",
       "2020-01-30 00:00:00     0  ...     0     0     0     0     0     1     0   \n",
       "2020-01-31 00:00:00     0  ...     0     0     0     0     0     2     0   \n",
       "2020-02-02 00:00:00     0  ...     0     0     0     0     0     0     0   \n",
       "2020-02-05 00:00:00     0  ...     1     0     0     0     0     0     0   \n",
       "...                   ...  ...   ...   ...   ...   ...   ...   ...   ...   \n",
       "2021-09-25 00:00:00    27  ...    88    20    35    32    31    31    24   \n",
       "2021-09-26 00:00:00    25  ...    55    12    40    13    38    33    27   \n",
       "2021-09-27 00:00:00    37  ...    58    27    41    28    17    20    22   \n",
       "2021-09-28 00:00:00    29  ...    68    27    43    24    47    23    37   \n",
       "합계                   3932  ...  6356  3291  4463  2705  4284  1617  1708   \n",
       "\n",
       "지역                    중랑구   타시도     합계  \n",
       "확진일                                     \n",
       "2020-01-24 00:00:00     0     0      1  \n",
       "2020-01-30 00:00:00     1     0      3  \n",
       "2020-01-31 00:00:00     0     0      3  \n",
       "2020-02-02 00:00:00     0     1      1  \n",
       "2020-02-05 00:00:00     0     0      2  \n",
       "...                   ...   ...    ...  \n",
       "2021-09-25 00:00:00    35    31    928  \n",
       "2021-09-26 00:00:00    26    32    778  \n",
       "2021-09-27 00:00:00    18    63    842  \n",
       "2021-09-28 00:00:00    26    43   1054  \n",
       "합계                   3729  4715  99550  \n",
       "\n",
       "[583 rows x 28 columns]"
      ]
     },
     "execution_count": 63,
     "metadata": {},
     "output_type": "execute_result"
    }
   ],
   "source": [
    "df_gu"
   ]
  },
  {
   "cell_type": "code",
   "execution_count": 65,
   "id": "7617f26e",
   "metadata": {
    "scrolled": true
   },
   "outputs": [
    {
     "data": {
      "text/plain": [
       "지역\n",
       "송파구     68\n",
       "동대문구    66\n",
       "기타      65\n",
       "구로구     55\n",
       "강동구     51\n",
       "관악구     48\n",
       "마포구     47\n",
       "은평구     47\n",
       "강남구     45\n",
       "타시도     43\n",
       "영등포구    43\n",
       "성북구     41\n",
       "강서구     41\n",
       "중구      37\n",
       "광진구     36\n",
       "도봉구     35\n",
       "금천구     31\n",
       "서대문구    30\n",
       "노원구     29\n",
       "동작구     28\n",
       "양천구     27\n",
       "중랑구     26\n",
       "강북구     25\n",
       "성동구     24\n",
       "용산구     24\n",
       "종로구     23\n",
       "서초구     19\n",
       "Name: 2021-09-28 00:00:00, dtype: int64"
      ]
     },
     "execution_count": 65,
     "metadata": {},
     "output_type": "execute_result"
    }
   ],
   "source": [
    "s_gu1 = df_gu.iloc[-2][:-1]\n",
    "s_gu1.sort_values(ascending=False, inplace=True)\n",
    "s_gu1"
   ]
  },
  {
   "cell_type": "code",
   "execution_count": 67,
   "id": "6c50e164",
   "metadata": {},
   "outputs": [
    {
     "data": {
      "image/png": "[encoded data removed]",
      "text/plain": [
       "<Figure size 640x480 with 1 Axes>"
      ]
     },
     "metadata": {},
     "output_type": "display_data"
    }
   ],
   "source": [
    "# 21년 9월 28일만 선택해서 지역별 가장 많이 확진자수 나온 구\n",
    "x = s_gu1.index\n",
    "y = s_gu1.values\n",
    "plt.barh(x, y)\n",
    "plt.show()"
   ]
  },
  {
   "cell_type": "markdown",
   "id": "8c8f18f2",
   "metadata": {},
   "source": [
    "## 접촉력에 따른 확진 분석"
   ]
  },
  {
   "cell_type": "markdown",
   "id": "684b0130",
   "metadata": {},
   "source": [
    "### 접촉력에 따른 확진 건수 best10"
   ]
  },
  {
   "cell_type": "code",
   "execution_count": 68,
   "id": "f642170f",
   "metadata": {},
   "outputs": [
    {
     "data": {
      "text/html": [
       "<div>\n",
       "<style scoped>\n",
       "    .dataframe tbody tr th:only-of-type {\n",
       "        vertical-align: middle;\n",
       "    }\n",
       "\n",
       "    .dataframe tbody tr th {\n",
       "        vertical-align: top;\n",
       "    }\n",
       "\n",
       "    .dataframe thead th {\n",
       "        text-align: right;\n",
       "    }\n",
       "</style>\n",
       "<table border=\"1\" class=\"dataframe\">\n",
       "  <thead>\n",
       "    <tr style=\"text-align: right;\">\n",
       "      <th></th>\n",
       "      <th>count</th>\n",
       "    </tr>\n",
       "    <tr>\n",
       "      <th>접촉력</th>\n",
       "      <th></th>\n",
       "    </tr>\n",
       "  </thead>\n",
       "  <tbody>\n",
       "    <tr>\n",
       "      <th>기타 확진자 접촉</th>\n",
       "      <td>37943</td>\n",
       "    </tr>\n",
       "    <tr>\n",
       "      <th>감염경로 조사중</th>\n",
       "      <td>31964</td>\n",
       "    </tr>\n",
       "    <tr>\n",
       "      <th>타시도 확진자 접촉</th>\n",
       "      <td>4244</td>\n",
       "    </tr>\n",
       "    <tr>\n",
       "      <th>해외유입</th>\n",
       "      <td>1729</td>\n",
       "    </tr>\n",
       "    <tr>\n",
       "      <th>동부구치소 관련</th>\n",
       "      <td>1175</td>\n",
       "    </tr>\n",
       "    <tr>\n",
       "      <th>병원 및 요양시설</th>\n",
       "      <td>988</td>\n",
       "    </tr>\n",
       "    <tr>\n",
       "      <th>송파구 소재 시장 관련(?21.9.)</th>\n",
       "      <td>659</td>\n",
       "    </tr>\n",
       "    <tr>\n",
       "      <th>성북구 사랑제일교회 관련</th>\n",
       "      <td>641</td>\n",
       "    </tr>\n",
       "    <tr>\n",
       "      <th>중구 소재 시장 관련(?21.9.)</th>\n",
       "      <td>277</td>\n",
       "    </tr>\n",
       "    <tr>\n",
       "      <th>강서구 교회 관련</th>\n",
       "      <td>246</td>\n",
       "    </tr>\n",
       "  </tbody>\n",
       "</table>\n",
       "</div>"
      ],
      "text/plain": [
       "                      count\n",
       "접촉력                        \n",
       "기타 확진자 접촉             37943\n",
       "감염경로 조사중              31964\n",
       "타시도 확진자 접촉             4244\n",
       "해외유입                   1729\n",
       "동부구치소 관련               1175\n",
       "병원 및 요양시설               988\n",
       "송파구 소재 시장 관련(?21.9.)    659\n",
       "성북구 사랑제일교회 관련           641\n",
       "중구 소재 시장 관련(?21.9.)     277\n",
       "강서구 교회 관련               246"
      ]
     },
     "execution_count": 68,
     "metadata": {},
     "output_type": "execute_result"
    }
   ],
   "source": [
    "df['접촉력'].value_counts()[:10].to_frame()"
   ]
  },
  {
   "cell_type": "markdown",
   "id": "e8bf4a97",
   "metadata": {},
   "source": [
    "### 최근월 접촉력에 따른 확진 건수 best10\n",
    "* 2021-09"
   ]
  },
  {
   "cell_type": "code",
   "execution_count": null,
   "id": "142343db",
   "metadata": {},
   "outputs": [],
   "source": [
    "# df[조건]['접촉력'].value_counts()[:10].to_frame()"
   ]
  },
  {
   "cell_type": "code",
   "execution_count": null,
   "id": "5e78cb86",
   "metadata": {},
   "outputs": [],
   "source": [
    "# 조건은 최근 2021년과 9월\n",
    "# (df['확진일'].dt.year == 2021) & (df['확진일'].dt.month == 9)"
   ]
  },
  {
   "cell_type": "code",
   "execution_count": 69,
   "id": "25eafb3c",
   "metadata": {},
   "outputs": [
    {
     "data": {
      "text/html": [
       "<div>\n",
       "<style scoped>\n",
       "    .dataframe tbody tr th:only-of-type {\n",
       "        vertical-align: middle;\n",
       "    }\n",
       "\n",
       "    .dataframe tbody tr th {\n",
       "        vertical-align: top;\n",
       "    }\n",
       "\n",
       "    .dataframe thead th {\n",
       "        text-align: right;\n",
       "    }\n",
       "</style>\n",
       "<table border=\"1\" class=\"dataframe\">\n",
       "  <thead>\n",
       "    <tr style=\"text-align: right;\">\n",
       "      <th></th>\n",
       "      <th>count</th>\n",
       "    </tr>\n",
       "    <tr>\n",
       "      <th>접촉력</th>\n",
       "      <th></th>\n",
       "    </tr>\n",
       "  </thead>\n",
       "  <tbody>\n",
       "    <tr>\n",
       "      <th>감염경로 조사중</th>\n",
       "      <td>8117</td>\n",
       "    </tr>\n",
       "    <tr>\n",
       "      <th>기타 확진자 접촉</th>\n",
       "      <td>8088</td>\n",
       "    </tr>\n",
       "    <tr>\n",
       "      <th>송파구 소재 시장 관련(?21.9.)</th>\n",
       "      <td>658</td>\n",
       "    </tr>\n",
       "    <tr>\n",
       "      <th>타시도 확진자 접촉</th>\n",
       "      <td>587</td>\n",
       "    </tr>\n",
       "    <tr>\n",
       "      <th>중구 소재 시장 관련(?21.9.)</th>\n",
       "      <td>277</td>\n",
       "    </tr>\n",
       "    <tr>\n",
       "      <th>병원 및 요양시설</th>\n",
       "      <td>186</td>\n",
       "    </tr>\n",
       "    <tr>\n",
       "      <th>해외유입</th>\n",
       "      <td>122</td>\n",
       "    </tr>\n",
       "    <tr>\n",
       "      <th>용산구 소재 병원 관련(?21.9.)</th>\n",
       "      <td>77</td>\n",
       "    </tr>\n",
       "    <tr>\n",
       "      <th>동대문구 소재 시장 관련</th>\n",
       "      <td>44</td>\n",
       "    </tr>\n",
       "    <tr>\n",
       "      <th>강서구 소재 시장 관련</th>\n",
       "      <td>44</td>\n",
       "    </tr>\n",
       "  </tbody>\n",
       "</table>\n",
       "</div>"
      ],
      "text/plain": [
       "                      count\n",
       "접촉력                        \n",
       "감염경로 조사중               8117\n",
       "기타 확진자 접촉              8088\n",
       "송파구 소재 시장 관련(?21.9.)    658\n",
       "타시도 확진자 접촉              587\n",
       "중구 소재 시장 관련(?21.9.)     277\n",
       "병원 및 요양시설               186\n",
       "해외유입                    122\n",
       "용산구 소재 병원 관련(?21.9.)     77\n",
       "동대문구 소재 시장 관련            44\n",
       "강서구 소재 시장 관련             44"
      ]
     },
     "execution_count": 69,
     "metadata": {},
     "output_type": "execute_result"
    }
   ],
   "source": [
    "df[(df['확진일'].dt.year == 2021) & (df['확진일'].dt.month == 9)]['접촉력'].value_counts()[:10].to_frame()"
   ]
  },
  {
   "cell_type": "code",
   "execution_count": null,
   "id": "a2a960ea-1090-4920-9d3e-244963e95e8f",
   "metadata": {},
   "outputs": [],
   "source": []
  }
 ],
 "metadata": {
  "kernelspec": {
   "display_name": "Python 3 (ipykernel)",
   "language": "python",
   "name": "python3"
  },
  "language_info": {
   "codemirror_mode": {
    "name": "ipython",
    "version": 3
   },
   "file_extension": ".py",
   "mimetype": "text/x-python",
   "name": "python",
   "nbconvert_exporter": "python",
   "pygments_lexer": "ipython3",
   "version": "3.9.12"
  },
  "toc": {
   "base_numbering": 1,
   "nav_menu": {},
   "number_sections": true,
   "sideBar": true,
   "skip_h1_title": false,
   "title_cell": "Table of Contents",
   "title_sidebar": "Contents",
   "toc_cell": false,
   "toc_position": {
    "height": "calc(100% - 180px)",
    "left": "10px",
    "top": "150px",
    "width": "245.75px"
   },
   "toc_section_display": true,
   "toc_window_display": true
  }
 },
 "nbformat": 4,
 "nbformat_minor": 5
}
