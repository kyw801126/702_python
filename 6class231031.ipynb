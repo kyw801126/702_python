{
  "nbformat": 4,
  "nbformat_minor": 0,
  "metadata": {
    "colab": {
      "provenance": []
    },
    "kernelspec": {
      "name": "python3",
      "display_name": "Python 3"
    },
    "language_info": {
      "name": "python"
    }
  },
  "cells": [
    {
      "cell_type": "markdown",
      "source": [
        "6.1.1 클래스"
      ],
      "metadata": {
        "id": "QUQC69QbT5j5"
      }
    },
    {
      "cell_type": "code",
      "execution_count": null,
      "metadata": {
        "id": "-jEL3GvcTzTi"
      },
      "outputs": [],
      "source": [
        "class 세면도구:\n",
        "  치약 = 0\n",
        "  샴푸 = 0\n",
        "  비누 = 0"
      ]
    },
    {
      "cell_type": "code",
      "source": [
        "세01호 = 세면도구() # '인스턴스화 시켰다' 라고 표현\n",
        "세01호.치약 = 1\n",
        "세01호.샴푸 = 2\n",
        "세01호.비누 = 3"
      ],
      "metadata": {
        "id": "deAIt36pUNrh"
      },
      "execution_count": null,
      "outputs": []
    },
    {
      "cell_type": "code",
      "source": [
        "세03호 = 세면도구() # '인스턴스화 시켰다' 라고 표현\n",
        "세03호.치약 = 4\n",
        "세03호.샴푸 = 2\n",
        "세03호.비누 = 2"
      ],
      "metadata": {
        "id": "ePENe28GXpBY"
      },
      "execution_count": null,
      "outputs": []
    },
    {
      "cell_type": "code",
      "source": [
        "print('세면도구세트 01호 내용물')\n",
        "print(\"치약 : \", 세01호.치약, \"샴푸 : \", 세01호.샴푸, \"비누 : \", 세01호.비누 )"
      ],
      "metadata": {
        "colab": {
          "base_uri": "https://localhost:8080/"
        },
        "id": "cxQby4RUXzj_",
        "outputId": "9f7eccdc-0d29-45c7-cb7a-4be48fd59132"
      },
      "execution_count": null,
      "outputs": [
        {
          "output_type": "stream",
          "name": "stdout",
          "text": [
            "세면도구세트 01호 내용물\n",
            "치약 :  1 샴푸 :  2 비누 :  3\n"
          ]
        }
      ]
    },
    {
      "cell_type": "code",
      "source": [
        "print('세면도구세트 03호 내용물')\n",
        "print(\"치약 : \", 세03호.치약, \"샴푸 : \", 세03호.샴푸, \"비누 : \", 세03호.비누 )"
      ],
      "metadata": {
        "id": "EhcjxK2RYNJ4"
      },
      "execution_count": null,
      "outputs": []
    },
    {
      "cell_type": "markdown",
      "source": [
        "메소드 사용방법"
      ],
      "metadata": {
        "id": "4OvuFEHtbtvQ"
      }
    },
    {
      "cell_type": "code",
      "source": [
        "class 참치선물세트():\n",
        "  일반 = 0\n",
        "  야채 = 0\n",
        "  고추 = 0\n",
        "  def 총합(self, 이름):\n",
        "    합 = self.일반 + self.야채 + self.고추\n",
        "    return 이름 +  str(합)"
      ],
      "metadata": {
        "id": "THzwm_x6bvTP"
      },
      "execution_count": null,
      "outputs": []
    },
    {
      "cell_type": "code",
      "source": [
        "참01호 = 참치선물세트()\n",
        "참01호.일반 = 12\n",
        "참01호.야채 = 3\n",
        "참01호.고추 = 3"
      ],
      "metadata": {
        "id": "EXIhGSaycTLf"
      },
      "execution_count": null,
      "outputs": []
    },
    {
      "cell_type": "code",
      "source": [
        "출력값 = 참01호.총합(\"참치선물세트 01호 내용물 : \")\n",
        "print(출력값)"
      ],
      "metadata": {
        "colab": {
          "base_uri": "https://localhost:8080/"
        },
        "id": "TxzUqmrjcw-6",
        "outputId": "1547d618-a097-44f8-a089-ca5fea79792a"
      },
      "execution_count": null,
      "outputs": [
        {
          "output_type": "stream",
          "name": "stdout",
          "text": [
            "참치선물세트 01호 내용물 : 18\n"
          ]
        }
      ]
    },
    {
      "cell_type": "code",
      "source": [
        "class 참치선물세트():\n",
        "  일반 = 0\n",
        "  야채 = 0\n",
        "  고추 = 0\n",
        "  def 출력(self, 이름):\n",
        "    print(\"--\", 이름, \"--\")\n",
        "    print(\"일반참치 : \", self.일반)\n",
        "    print(\"야채참치 : \", self.야채)\n",
        "    print(\"고추참치 : \", self.고추)\n",
        "  def 출력2(self):\n",
        "    self.출력(\"참치선물세트\")"
      ],
      "metadata": {
        "id": "IGZYWcAmewO_"
      },
      "execution_count": null,
      "outputs": []
    },
    {
      "cell_type": "code",
      "source": [
        "참01호 = 참치선물세트()\n",
        "참01호.일반 = 12\n",
        "참01호.야채 = 3\n",
        "참01호.고추 = 3"
      ],
      "metadata": {
        "id": "a9o70C7Ffs5v"
      },
      "execution_count": null,
      "outputs": []
    },
    {
      "cell_type": "code",
      "source": [
        "참01호.출력2()"
      ],
      "metadata": {
        "colab": {
          "base_uri": "https://localhost:8080/"
        },
        "id": "D6F3KcuegC1l",
        "outputId": "1220bc33-b7fb-4d18-bc5c-64dea1d3e9d3"
      },
      "execution_count": null,
      "outputs": [
        {
          "output_type": "stream",
          "name": "stdout",
          "text": [
            "-- 참치선물세트 --\n",
            "일반참치 :  12\n",
            "야채참치 :  3\n",
            "고추참치 :  3\n"
          ]
        }
      ]
    },
    {
      "cell_type": "code",
      "source": [
        "# 13페이지 세면도구 클래스를 만드시고 출력하는 '내용물출력' 메소드를 추가하시고\n",
        "# 인스턴스 2개를 만드세요\n",
        "# 치약,샴푸,비누 순으로 세01호(1,2,3), 세03호(4,2,2)\n",
        "# 출력명령문 : 세01호.내용물출력('세면도구세트 01호 내용물')\n",
        "# 결과값\n",
        "#치약 : 1\n",
        "#샴푸 : 2\n",
        "#비누 : 3\n",
        "# 결과값\n",
        "#치약 : 4\n",
        "#샴푸 : 2\n",
        "#비누 : 2"
      ],
      "metadata": {
        "id": "4GtGfi4agLKx"
      },
      "execution_count": null,
      "outputs": []
    },
    {
      "cell_type": "markdown",
      "source": [
        "6.2.3 생성자(constructor)\n"
      ],
      "metadata": {
        "id": "V4lEiv9Hp-8F"
      }
    },
    {
      "cell_type": "code",
      "source": [
        "class 세면도구():\n",
        "  def __init__(self, 치약, 샴푸, 비누):\n",
        "    self.치약 = 치약\n",
        "    self.샴푸 = 샴푸\n",
        "    self.비누 = 비누\n",
        "    print(\"생성자는 인스턴스화 하면 바로 실행됨\")\n",
        "\n",
        "  def 내용물출력(self, 세트이름):\n",
        "    print(세트이름)\n",
        "    print(\"치약 : \", self.치약)\n",
        "    print(\"샴푸 : \", self.샴푸)\n",
        "    print(\"비누 : \", self.비누)"
      ],
      "metadata": {
        "id": "igvgxrQTp-VO"
      },
      "execution_count": null,
      "outputs": []
    },
    {
      "cell_type": "code",
      "source": [
        "세01호 = 세면도구(1,2,3)\n",
        "세03호 = 세면도구(4,2,2)"
      ],
      "metadata": {
        "colab": {
          "base_uri": "https://localhost:8080/"
        },
        "id": "-bUprBvzq3qL",
        "outputId": "a344dd54-3a6d-42bf-d341-270e06c6d02b"
      },
      "execution_count": null,
      "outputs": [
        {
          "output_type": "stream",
          "name": "stdout",
          "text": [
            "생성자는 인스턴스화 하면 바로 실행됨\n",
            "생성자는 인스턴스화 하면 바로 실행됨\n"
          ]
        }
      ]
    },
    {
      "cell_type": "code",
      "source": [
        "세01호.내용물출력(\"세면도구세트01호내용물\")\n",
        "세03호.내용물출력(\"세면도구세트03호내용물\")"
      ],
      "metadata": {
        "colab": {
          "base_uri": "https://localhost:8080/"
        },
        "id": "KuMLQwBXruS-",
        "outputId": "ca93974c-37a6-4b6b-f72e-1ba551b8940d"
      },
      "execution_count": null,
      "outputs": [
        {
          "output_type": "stream",
          "name": "stdout",
          "text": [
            "세면도구세트01호내용물\n",
            "치약 :  1\n",
            "샴푸 :  2\n",
            "비누 :  3\n",
            "세면도구세트03호내용물\n",
            "치약 :  4\n",
            "샴푸 :  2\n",
            "비누 :  2\n"
          ]
        }
      ]
    },
    {
      "cell_type": "markdown",
      "source": [
        "# 클래스는 왜필요할까?"
      ],
      "metadata": {
        "id": "Y_0FYhV2vgMF"
      }
    },
    {
      "cell_type": "code",
      "source": [
        "# 사칙연산중 더하기 클래스\n",
        "class FourCal:\n",
        "  def __init__(self, first, second):\n",
        "    self.first = first\n",
        "    self.second = second\n",
        "  def add(self):\n",
        "    result = self.first + self.second\n",
        "    return result"
      ],
      "metadata": {
        "id": "cFP62jn70BeC"
      },
      "execution_count": null,
      "outputs": []
    },
    {
      "cell_type": "code",
      "source": [
        "a = FourCal(4,3)\n",
        "print(a.add())"
      ],
      "metadata": {
        "colab": {
          "base_uri": "https://localhost:8080/"
        },
        "id": "jzrrvlRY0v4T",
        "outputId": "b6123cbc-e93f-45fe-fc5b-20236ae906e5"
      },
      "execution_count": null,
      "outputs": [
        {
          "output_type": "stream",
          "name": "stdout",
          "text": [
            "7\n"
          ]
        }
      ]
    },
    {
      "cell_type": "code",
      "source": [
        "# 자동차 클래스와 객체\n",
        "# 3가지 속성과 3가지 기능이 있는 자동차 객체를 찍어내기 위한 틀을 만든다\n",
        "# 속성 : brand, model, color\n",
        "# 기능 : 시동을킨다(turn_on), 시동을끈다(trun_off),주행(drive)"
      ],
      "metadata": {
        "id": "A4uHzOEX02Xq"
      },
      "execution_count": null,
      "outputs": []
    },
    {
      "cell_type": "code",
      "source": [
        "class Car:\n",
        "  def __init__(self, b, model, color):\n",
        "    self.brand = b\n",
        "    self.model = model\n",
        "    self.color = color\n",
        "    print(self.brand, self.model, self.color, \"출고\")\n",
        "\n",
        "  def turn_on(self):\n",
        "    print(self.brand,  \"시동킨다.\")\n",
        "  def turn_off(self):\n",
        "    print(self.brand,  \"시동을끈다.\")\n",
        "  def drive(self):\n",
        "    print(self.brand,  \"주행한다.\")"
      ],
      "metadata": {
        "id": "mkAVKhSg1rF_"
      },
      "execution_count": null,
      "outputs": []
    },
    {
      "cell_type": "code",
      "source": [
        "# 객체 생성하기\n",
        "car1 = Car(\"현대자동차\", \"소나타\", \"화이트\")\n",
        "car2 = Car(\"르노삼성\", \"sm7\", \"블랙\")"
      ],
      "metadata": {
        "colab": {
          "base_uri": "https://localhost:8080/"
        },
        "id": "c2f3c2dO2Ihk",
        "outputId": "47de0d55-5787-43de-b87f-71b9633296aa"
      },
      "execution_count": null,
      "outputs": [
        {
          "output_type": "stream",
          "name": "stdout",
          "text": [
            "현대자동차 소나타 화이트 출고\n",
            "르노삼성 sm7 블랙 출고\n"
          ]
        }
      ]
    },
    {
      "cell_type": "code",
      "source": [
        "#메소들 호출하기\n",
        "# 객체.메소드(매개변수1, 매개변수2...)\n",
        "car1.turn_on()"
      ],
      "metadata": {
        "colab": {
          "base_uri": "https://localhost:8080/"
        },
        "id": "jw2nonmc3UNb",
        "outputId": "84375c72-f5c1-45cc-a950-be47cd031e46"
      },
      "execution_count": null,
      "outputs": [
        {
          "output_type": "stream",
          "name": "stdout",
          "text": [
            "현대자동차 시동킨다.\n"
          ]
        }
      ]
    },
    {
      "cell_type": "code",
      "source": [
        "car1.turn_off()"
      ],
      "metadata": {
        "colab": {
          "base_uri": "https://localhost:8080/"
        },
        "id": "KEZ1qnvf3jO-",
        "outputId": "47f191b5-66f9-4206-8e9a-01cba35e0521"
      },
      "execution_count": null,
      "outputs": [
        {
          "output_type": "stream",
          "name": "stdout",
          "text": [
            "현대자동차 시동을끈다.\n"
          ]
        }
      ]
    },
    {
      "cell_type": "code",
      "source": [
        "car1.drive()"
      ],
      "metadata": {
        "colab": {
          "base_uri": "https://localhost:8080/"
        },
        "id": "h7BZfLPA3ohZ",
        "outputId": "41285755-4790-48c1-881c-150d94867805"
      },
      "execution_count": null,
      "outputs": [
        {
          "output_type": "stream",
          "name": "stdout",
          "text": [
            "현대자동차 주행한다.\n"
          ]
        }
      ]
    },
    {
      "cell_type": "code",
      "source": [
        "car2.turn_on()\n",
        "car2.drive()\n",
        "car2.turn_off()"
      ],
      "metadata": {
        "colab": {
          "base_uri": "https://localhost:8080/"
        },
        "id": "-aQyXCr-3r1B",
        "outputId": "e6ba11d5-cde7-49d4-bf6d-d5f5487affcf"
      },
      "execution_count": null,
      "outputs": [
        {
          "output_type": "stream",
          "name": "stdout",
          "text": [
            "르노삼성 시동킨다.\n",
            "르노삼성 주행한다.\n",
            "르노삼성 시동을끈다.\n"
          ]
        }
      ]
    },
    {
      "cell_type": "code",
      "source": [
        "# 사람 클래스 속성 이름, 키, 직업, 나이\n",
        "# 출력기능(메소드)\n",
        "class Person:\n",
        "  def __init__(self, name, height, job, age):\n",
        "    self.name = name\n",
        "    self.height = height\n",
        "    self.job = job\n",
        "    self.age = age\n",
        "  def get_info(self):\n",
        "    return f'이름 : {self.name} , 키 : {self.height}, 직업 : {self.job}, 나이:{self.age}'"
      ],
      "metadata": {
        "id": "UpBxZOb53xi7"
      },
      "execution_count": null,
      "outputs": []
    },
    {
      "cell_type": "code",
      "source": [
        "james = Person(\"James\", 175, \"programer\", 27)\n",
        "maria = Person(\"Maria\", 160, \"doctor\", 25)"
      ],
      "metadata": {
        "id": "PlYvq10V5W_6"
      },
      "execution_count": null,
      "outputs": []
    },
    {
      "cell_type": "code",
      "source": [
        "maria.get_info()"
      ],
      "metadata": {
        "colab": {
          "base_uri": "https://localhost:8080/",
          "height": 35
        },
        "id": "CMAFJhLr55z7",
        "outputId": "3b0113d0-9d57-4f42-da03-3e71ead3b0e9"
      },
      "execution_count": null,
      "outputs": [
        {
          "output_type": "execute_result",
          "data": {
            "text/plain": [
              "'이름 : Maria , 키 : 160, 직업 : doctor, 나이:25'"
            ],
            "application/vnd.google.colaboratory.intrinsic+json": {
              "type": "string"
            }
          },
          "metadata": {},
          "execution_count": 47
        }
      ]
    },
    {
      "cell_type": "code",
      "source": [
        "print(maria)"
      ],
      "metadata": {
        "colab": {
          "base_uri": "https://localhost:8080/"
        },
        "id": "QfNLYo6E58r4",
        "outputId": "bc1a09ba-3e59-40ba-dc19-e36d526babbe"
      },
      "execution_count": null,
      "outputs": [
        {
          "output_type": "stream",
          "name": "stdout",
          "text": [
            "<__main__.Person object at 0x78501df53b80>\n"
          ]
        }
      ]
    },
    {
      "cell_type": "code",
      "source": [
        "# 사람 클래스 속성 이름, 키, 직업, 나이\n",
        "# 출력기능(메소드)\n",
        "class Person2:\n",
        "  def __init__(self, name, height, job, age):\n",
        "    self.name = name\n",
        "    self.height = height\n",
        "    self.job = job\n",
        "    self.age = age\n",
        "  def get_info(self):\n",
        "    return f'이름 : {self.name} , 키: {self.height}, 직업 : {self.job}, 나이:{self.age}'\n",
        "  def __str__(self):\n",
        "    return f'이름 : {self.name} , 키: {self.height}, 직업 : {self.job}, 나이:{self.age}'"
      ],
      "metadata": {
        "id": "7CnErNor6BVo"
      },
      "execution_count": null,
      "outputs": []
    },
    {
      "cell_type": "code",
      "source": [
        "james2 = Person2(\"James\", 175, \"programer\", 27)\n",
        "print(james2)"
      ],
      "metadata": {
        "colab": {
          "base_uri": "https://localhost:8080/"
        },
        "id": "vjhFCu6B6qqR",
        "outputId": "01811a26-d99c-463c-d749-50e28cd16f02"
      },
      "execution_count": null,
      "outputs": [
        {
          "output_type": "stream",
          "name": "stdout",
          "text": [
            "이름 : James , 키: 175, 직업 : programer, 나이:27\n"
          ]
        }
      ]
    },
    {
      "cell_type": "markdown",
      "source": [
        "문제 : class Tmoney\n",
        "\n",
        "* 속성: age, balance(잔액)\n",
        "* pay() method\n",
        "   *  age<7: 무료, 7<=age<=12: 650,\n",
        "   *  13<=age<=18: 1050, 19<=age: 1350\n",
        "   * oo살의 요금은 ooo원이고, 잔액은 ooo원입니다.\n",
        "   *  잔액이 부족하면 '잔액이 부족합니다.ㅠㅠ' 출력\n",
        "* charge(amount) method\n",
        "   * amount 만큼의 금액을 balance에 추가\n"
      ],
      "metadata": {
        "id": "3t6pHjLoNAUE"
      }
    },
    {
      "cell_type": "code",
      "source": [
        "class Tmoney:\n",
        "  def __init__(self, age, balance):\n",
        "    self.age = age\n",
        "    self.balance = balance\n",
        "  def pay(self):\n",
        "    if self.age < 7:\n",
        "      fare = 0\n",
        "    elif 7 <= self.age <=12:\n",
        "      fare = 650\n",
        "    elif 13 <= self.age <= 18:\n",
        "      fare = 1050\n",
        "    else:\n",
        "      fare = 1400\n",
        "\n",
        "    if fare <= self.balance:\n",
        "      self.balance -= fare\n",
        "      print(f'{self.age} 살의 요금은 {fare: ,d}원이고 잔액은{self.balance: ,d}입니다.')\n",
        "    else:\n",
        "      print(\"잔액이 부족합니다. ㅠㅠ\")\n",
        "  def charge(self, amount):\n",
        "    self.balance += amount\n",
        "    print(f'{amount:,d}원을 충전하여 잔액은 {self.balance: ,d}입니다.')"
      ],
      "metadata": {
        "id": "mXtRnZo97LSw"
      },
      "execution_count": null,
      "outputs": []
    },
    {
      "cell_type": "code",
      "source": [
        "card = Tmoney(30, 10000)"
      ],
      "metadata": {
        "id": "p6BBC6kCUuWc"
      },
      "execution_count": null,
      "outputs": []
    },
    {
      "cell_type": "code",
      "source": [
        "card.pay()"
      ],
      "metadata": {
        "colab": {
          "base_uri": "https://localhost:8080/"
        },
        "id": "eGibo8f0Uv5r",
        "outputId": "e564d4cb-4b76-4811-86ac-638fe0827a7a"
      },
      "execution_count": null,
      "outputs": [
        {
          "output_type": "stream",
          "name": "stdout",
          "text": [
            "30 살의 요금은  1,400원이고 잔액은 8,600입니다.\n"
          ]
        }
      ]
    },
    {
      "cell_type": "code",
      "source": [
        "for _ in range(10):\n",
        "  card.pay()"
      ],
      "metadata": {
        "id": "C61G7J3IVAxM"
      },
      "execution_count": null,
      "outputs": []
    },
    {
      "cell_type": "code",
      "source": [
        "card.charge(10000)"
      ],
      "metadata": {
        "colab": {
          "base_uri": "https://localhost:8080/"
        },
        "id": "2BIm746uVYDX",
        "outputId": "093ec960-415c-4d1c-93b6-f6b98ce6de3f"
      },
      "execution_count": null,
      "outputs": [
        {
          "output_type": "stream",
          "name": "stdout",
          "text": [
            "10,000원을 충전하여 잔액은  10,200입니다.\n"
          ]
        }
      ]
    },
    {
      "cell_type": "markdown",
      "source": [
        "6.3.2 상속"
      ],
      "metadata": {
        "id": "unzhW-d7XXFr"
      }
    },
    {
      "cell_type": "code",
      "source": [
        "class 참치선물세트():\n",
        "  def __init__(self, 일반, 야채, 고추):\n",
        "    self.일반 = 일반\n",
        "    self.야채 = 야채\n",
        "    self.고추 = 고추\n",
        "  def 출력(self, 이름):\n",
        "    print(\"**\", 이름, \"**\")\n",
        "    print(\"일반참치\", self.일반)\n",
        "    print(\"야채참치\", self.야채)\n",
        "    print(\"고추참치\", self.고추)"
      ],
      "metadata": {
        "id": "jVb_tkbPVboB"
      },
      "execution_count": null,
      "outputs": []
    },
    {
      "cell_type": "code",
      "source": [
        "class 특별세트(참치선물세트):\n",
        "  def __init__(self, 일반, 햄, 카놀라유):\n",
        "    super().__init__(일반, 0, 0)\n",
        "    self.햄 = 햄\n",
        "    self.카놀라유 = 카놀라유\n",
        "  def 출력(self, 이름):\n",
        "    super().출력(이름)\n",
        "    print(\"햄 : \", self.햄)\n",
        "    print(\"카놀라유 : \", self.카놀라유)"
      ],
      "metadata": {
        "id": "4Ug1JOaeX_-9"
      },
      "execution_count": null,
      "outputs": []
    },
    {
      "cell_type": "code",
      "source": [
        "특01호 = 특별세트(6, 3, 2)"
      ],
      "metadata": {
        "id": "cw3IAGcSYcYn"
      },
      "execution_count": null,
      "outputs": []
    },
    {
      "cell_type": "code",
      "source": [
        "특01호.출력1(\"특별세트01호\")"
      ],
      "metadata": {
        "colab": {
          "base_uri": "https://localhost:8080/"
        },
        "id": "IWQo1Co2YkyQ",
        "outputId": "7f177813-918d-413c-947e-3042a9c44c01"
      },
      "execution_count": null,
      "outputs": [
        {
          "output_type": "stream",
          "name": "stdout",
          "text": [
            "** 특별세트01호 **\n",
            "일반참치 6\n",
            "야채참치 0\n",
            "고추참치 0\n",
            "햄 :  3\n",
            "카놀라유 :  2\n"
          ]
        }
      ]
    },
    {
      "cell_type": "code",
      "source": [
        "class Person:\n",
        "  def __init__(self, name):\n",
        "    self.name = name\n",
        "  def greeting(self):\n",
        "    print(\"안녕하세요\")"
      ],
      "metadata": {
        "id": "aJjKg6cUYtKH"
      },
      "execution_count": null,
      "outputs": []
    },
    {
      "cell_type": "code",
      "source": [
        "class Student(Person):\n",
        "  def study(self):\n",
        "    print(\"공부합시다.\")"
      ],
      "metadata": {
        "id": "GcYPQtnkdDB5"
      },
      "execution_count": null,
      "outputs": []
    },
    {
      "cell_type": "code",
      "source": [
        "maria = Student(\"Maria\")"
      ],
      "metadata": {
        "id": "qK8XuaBtdYUr"
      },
      "execution_count": null,
      "outputs": []
    },
    {
      "cell_type": "code",
      "source": [
        "print(maria.name)\n",
        "maria.greeting()\n",
        "maria.study()"
      ],
      "metadata": {
        "colab": {
          "base_uri": "https://localhost:8080/"
        },
        "id": "lKC5ZFpYdkB6",
        "outputId": "aeec66f0-76cd-422e-a303-dfbd2f1f54bd"
      },
      "execution_count": null,
      "outputs": [
        {
          "output_type": "stream",
          "name": "stdout",
          "text": [
            "Maria\n",
            "안녕하세요\n",
            "공부합시다.\n"
          ]
        }
      ]
    },
    {
      "cell_type": "code",
      "source": [
        "class Student(Person):\n",
        "  def greeting(self):\n",
        "    print(\"안녕\")\n",
        "  def study(self):\n",
        "    print(\"공부합시다.\")"
      ],
      "metadata": {
        "id": "GwO1VIegdq04"
      },
      "execution_count": null,
      "outputs": []
    },
    {
      "cell_type": "code",
      "source": [
        "tommy = Student(\"Tommy\")\n",
        "tommy.greeting()\n",
        "tommy.study()"
      ],
      "metadata": {
        "colab": {
          "base_uri": "https://localhost:8080/"
        },
        "id": "ZsZ8hltQeGqJ",
        "outputId": "3bd4bacc-07ec-4d5d-c6f8-bdc6125e490a"
      },
      "execution_count": null,
      "outputs": [
        {
          "output_type": "stream",
          "name": "stdout",
          "text": [
            "안녕\n",
            "공부합시다.\n"
          ]
        }
      ]
    },
    {
      "cell_type": "code",
      "source": [
        "class Student1(Person):\n",
        "  def __init__(self, name, school):\n",
        "    super().__init__(name)\n",
        "    self.school = school\n",
        "  def greeting(self):\n",
        "    print(\"안녕\")\n",
        "  def study(self):\n",
        "    print(\"공부합시다.\")"
      ],
      "metadata": {
        "id": "fUfNIbBeeZUa"
      },
      "execution_count": null,
      "outputs": []
    },
    {
      "cell_type": "code",
      "source": [
        "anne = Student1(\"anne\", \"tjAcademy\")"
      ],
      "metadata": {
        "id": "miiuxdIOeyRh"
      },
      "execution_count": null,
      "outputs": []
    },
    {
      "cell_type": "code",
      "source": [
        "anne.school"
      ],
      "metadata": {
        "colab": {
          "base_uri": "https://localhost:8080/",
          "height": 35
        },
        "id": "m5rrRH7OfAOo",
        "outputId": "050934b7-7b5b-4f2a-e272-df58fe4c4558"
      },
      "execution_count": null,
      "outputs": [
        {
          "output_type": "execute_result",
          "data": {
            "text/plain": [
              "'tjAcademy'"
            ],
            "application/vnd.google.colaboratory.intrinsic+json": {
              "type": "string"
            }
          },
          "metadata": {},
          "execution_count": 87
        }
      ]
    },
    {
      "cell_type": "code",
      "source": [
        "anne.name"
      ],
      "metadata": {
        "colab": {
          "base_uri": "https://localhost:8080/",
          "height": 35
        },
        "id": "7AUCh4ayfO5A",
        "outputId": "ee9742b7-73c5-4d8d-a2a7-d584d5055234"
      },
      "execution_count": null,
      "outputs": [
        {
          "output_type": "execute_result",
          "data": {
            "text/plain": [
              "'anne'"
            ],
            "application/vnd.google.colaboratory.intrinsic+json": {
              "type": "string"
            }
          },
          "metadata": {},
          "execution_count": 88
        }
      ]
    },
    {
      "cell_type": "code",
      "source": [
        "# 어떤 객체의 속성/메소드 조회\n",
        "dir(anne)"
      ],
      "metadata": {
        "id": "xpKLlwQVfRDC"
      },
      "execution_count": null,
      "outputs": []
    },
    {
      "cell_type": "code",
      "source": [
        "dir(list())"
      ],
      "metadata": {
        "id": "BVErZeKMf2nT"
      },
      "execution_count": null,
      "outputs": []
    },
    {
      "cell_type": "markdown",
      "source": [
        "6.3.1 캡슐화(encapsulation)"
      ],
      "metadata": {
        "id": "pBmD82_PgK8h"
      }
    },
    {
      "cell_type": "code",
      "source": [
        "# 속성값, 메소드 이름에 _를 붙이면 비공개 속성이됨\n",
        "# 간결하게 정리 refactoring\n",
        "class Tmoney:\n",
        "  def __init__(self, age, balance):\n",
        "    self.age = age\n",
        "    self.__balance = balance\n",
        "    self.fare = 1400 if self.age >= 19 else \\\n",
        "                  1050 if self.age >= 13 else \\\n",
        "                    650 if self.age >= 7 else 0\n",
        "  def pay(self):\n",
        "    if fare <= self.balance:\n",
        "      self.balance -= fare\n",
        "      print(f'{self.age} 살의 요금은 {fare: ,d}원이고 잔액은{self.balance: ,d}입니다.')\n",
        "    else:\n",
        "      print(\"잔액이 부족합니다. ㅠㅠ\")\n",
        "  def charge(self, amount):\n",
        "    self.balance += amount\n",
        "    print(f'{amount:,d}원을 충전하여 잔액은 {self.balance: ,d}입니다.')\n",
        "\n",
        "  def get_balance(self):\n",
        "    return self.__balance"
      ],
      "metadata": {
        "id": "8JBHoDLef4P0"
      },
      "execution_count": null,
      "outputs": []
    },
    {
      "cell_type": "code",
      "source": [
        "card = Tmoney(30, 10000)\n",
        "card.age"
      ],
      "metadata": {
        "colab": {
          "base_uri": "https://localhost:8080/"
        },
        "id": "XhG0-tu0hxby",
        "outputId": "21576173-2dbb-4c43-bc7d-e9585b6897ba"
      },
      "execution_count": null,
      "outputs": [
        {
          "output_type": "execute_result",
          "data": {
            "text/plain": [
              "30"
            ]
          },
          "metadata": {},
          "execution_count": 98
        }
      ]
    },
    {
      "cell_type": "code",
      "source": [
        "card.balance"
      ],
      "metadata": {
        "id": "9k73Gz98h3nP"
      },
      "execution_count": null,
      "outputs": []
    },
    {
      "cell_type": "code",
      "source": [
        "card.get_balance()"
      ],
      "metadata": {
        "colab": {
          "base_uri": "https://localhost:8080/"
        },
        "id": "YCmPC9ZfiXmw",
        "outputId": "2a9e7a3a-2790-4d80-d1ee-406602ae563f"
      },
      "execution_count": null,
      "outputs": [
        {
          "output_type": "execute_result",
          "data": {
            "text/plain": [
              "10000"
            ]
          },
          "metadata": {},
          "execution_count": 100
        }
      ]
    },
    {
      "cell_type": "code",
      "source": [
        "# 비공개 메소드\n",
        "class Worker:\n",
        "  def __greeting(self):\n",
        "    print(\"__greeting(): Hello every one!\")"
      ],
      "metadata": {
        "id": "EN40dPKUibO_"
      },
      "execution_count": null,
      "outputs": []
    },
    {
      "cell_type": "code",
      "source": [
        "worker = Worker()"
      ],
      "metadata": {
        "id": "gTOEuMXzi5nP"
      },
      "execution_count": null,
      "outputs": []
    },
    {
      "cell_type": "code",
      "source": [
        "worker.__greeting()"
      ],
      "metadata": {
        "id": "LkN_jsS9i9fc"
      },
      "execution_count": null,
      "outputs": []
    },
    {
      "cell_type": "code",
      "source": [
        "class Worker:\n",
        "  def __greeting(self):\n",
        "    print(\"__greeting(): Hello every one!\")\n",
        "  def hello(self):\n",
        "    self.__greeting()"
      ],
      "metadata": {
        "id": "CKhZry7fjBSk"
      },
      "execution_count": null,
      "outputs": []
    },
    {
      "cell_type": "code",
      "source": [
        "worker2 = Worker()\n",
        "worker2.hello()"
      ],
      "metadata": {
        "colab": {
          "base_uri": "https://localhost:8080/"
        },
        "id": "C4bHgBLAjN1R",
        "outputId": "0da8fc21-a9b4-4d45-ed1f-c677a5462bb7"
      },
      "execution_count": null,
      "outputs": [
        {
          "output_type": "stream",
          "name": "stdout",
          "text": [
            "__greeting(): Hello every one!\n"
          ]
        }
      ]
    },
    {
      "cell_type": "code",
      "source": [
        "class Account:\n",
        "  def __init__(self, bal, name, no):\n",
        "    self.__balance = bal\n",
        "    self.__accName = name\n",
        "    self.__accNo = no\n",
        "\n",
        "  # 계좌정보 확인\n",
        "  def getBalance(self):\n",
        "    return self.__balance, self.__accNo, self.__accName\n",
        "\n",
        "  def deposit(self, money):\n",
        "    if money < 0:\n",
        "      print(\"금액을 확인하기\")\n",
        "      return\n",
        "    self.__balance  += money\n",
        "\n",
        "  def withdraw(self, money):\n",
        "    if self.__balance < money:\n",
        "      print('잔액부족')\n",
        "      return\n",
        "    self.__balance -= money\n"
      ],
      "metadata": {
        "id": "Oxidbx5PjWcv"
      },
      "execution_count": null,
      "outputs": []
    },
    {
      "cell_type": "code",
      "source": [
        "acc = Account(10000, '홍길동', \"125-152-4125-41\")\n",
        "# acc.__balance"
      ],
      "metadata": {
        "id": "bcuCRU3Qlr-g"
      },
      "execution_count": null,
      "outputs": []
    },
    {
      "cell_type": "code",
      "source": [
        "bal = acc.getBalance()\n",
        "print(\"잔액정보\", bal)"
      ],
      "metadata": {
        "colab": {
          "base_uri": "https://localhost:8080/"
        },
        "id": "07ZzdcL7l9va",
        "outputId": "0bc52859-2459-458a-91b4-969726c95235"
      },
      "execution_count": null,
      "outputs": [
        {
          "output_type": "stream",
          "name": "stdout",
          "text": [
            "잔액정보 (10000, '125-152-4125-41', '홍길동')\n"
          ]
        }
      ]
    },
    {
      "cell_type": "code",
      "source": [
        "acc.deposit(10000)"
      ],
      "metadata": {
        "id": "F2jo_uOOmIb3"
      },
      "execution_count": null,
      "outputs": []
    },
    {
      "cell_type": "code",
      "source": [
        "bal = acc.getBalance()\n",
        "print(\"잔액정보\", bal)"
      ],
      "metadata": {
        "colab": {
          "base_uri": "https://localhost:8080/"
        },
        "id": "3NBGE6B2mcbX",
        "outputId": "66a034c6-11f0-4ada-aa6d-d6da6126b7b9"
      },
      "execution_count": null,
      "outputs": [
        {
          "output_type": "stream",
          "name": "stdout",
          "text": [
            "잔액정보 (20000, '125-152-4125-41', '홍길동')\n"
          ]
        }
      ]
    },
    {
      "cell_type": "markdown",
      "source": [
        "# 문제"
      ],
      "metadata": {
        "id": "DN4TruhYo-a4"
      }
    },
    {
      "cell_type": "markdown",
      "source": [
        "* 다음은 Calculator 클래스이다.\n",
        "\n",
        "```\n",
        "class Calculator:\n",
        "    def __init__(self):\n",
        "        self.value = 0\n",
        "\n",
        "    def add(self, val):\n",
        "        self.value += val\n",
        "```\n",
        "---\n",
        "*  위 클래스를 상속하는 UpgradeCalculator를 만들고 값을 뺄 수 있는 minus 메서드를 추가해 보자.\n",
        "* 즉 다음과 같이 동작하는 클래스를 만들어야 한다.\n",
        "\n",
        "```\n",
        "cal = UpgradeCalculator()\n",
        "cal.add(10)\n",
        "cal.minus(7)\n",
        "print(cal.value) # 10에서 7을 뺀 3을 출력\n",
        "```\n",
        "\n"
      ],
      "metadata": {
        "id": "2kjZs4SYoI1v"
      }
    },
    {
      "cell_type": "code",
      "source": [
        "class Calculator:\n",
        "    def __init__(self):\n",
        "        self.value = 0\n",
        "\n",
        "    def add(self, val):\n",
        "        self.value += val"
      ],
      "metadata": {
        "id": "m8YkDBbfqWfK"
      },
      "execution_count": null,
      "outputs": []
    },
    {
      "cell_type": "code",
      "source": [
        "class UpgradeCalculator(Calculator):\n",
        "  def minus(self, val):\n",
        "    self.value -= val"
      ],
      "metadata": {
        "id": "AXl1YYVGsX5v"
      },
      "execution_count": null,
      "outputs": []
    },
    {
      "cell_type": "code",
      "source": [
        "cal = UpgradeCalculator()\n",
        "cal.add(10)\n",
        "cal.minus(7)\n",
        "print(cal.value) # 10에서 7을 뺀 3을 출력"
      ],
      "metadata": {
        "colab": {
          "base_uri": "https://localhost:8080/"
        },
        "id": "cuLaPIqbsXNq",
        "outputId": "a9792ae3-ea2e-4fb2-a375-230628b08057"
      },
      "execution_count": null,
      "outputs": [
        {
          "output_type": "stream",
          "name": "stdout",
          "text": [
            "3\n"
          ]
        }
      ]
    },
    {
      "cell_type": "markdown",
      "source": [
        "## Q2.\n",
        "* 객체변수 value가 100 이상의 값은 가질 수 없도록 제한하는 MaxLimitCalculator 클래스를 만들어 보자.\n",
        "* 즉 다음과 같이 동작해야 한다.\n",
        "```\n",
        "cal = MaxLimitCalculator()\n",
        "cal.add(50) # 50 더하기\n",
        "cal.add(60) # 60 더하기\n",
        "print(cal.value) # 100 출력\n",
        "```\n",
        "* 단 반드시 다음과 같은 Calculator 클래스를 상속해서 만들어야 한다.\n",
        "```\n",
        "class Calculator:\n",
        "    def __init__(self):\n",
        "        self.value = 0\n",
        "    def add(self, val):\n",
        "        self.value += val\n",
        "```"
      ],
      "metadata": {
        "id": "v1kiNnvXqHfZ"
      }
    },
    {
      "cell_type": "code",
      "source": [
        "class Calculator:\n",
        "  def __init__(self):\n",
        "      self.value = 0\n",
        "  def add(self, val):\n",
        "      self.value += val"
      ],
      "metadata": {
        "id": "06q87-ZNuGSP"
      },
      "execution_count": null,
      "outputs": []
    },
    {
      "cell_type": "code",
      "source": [
        "class MaxLimitCalculator(Calculator):\n",
        "  def add(self, val):\n",
        "    self.value += val\n",
        "    if self.value > 100:\n",
        "      self.value = 100\n",
        "    return self.value"
      ],
      "metadata": {
        "id": "eekZp7ZVuKZv"
      },
      "execution_count": null,
      "outputs": []
    },
    {
      "cell_type": "code",
      "source": [
        "cal = MaxLimitCalculator()\n",
        "cal.add(50) # 50 더하기\n",
        "cal.add(60) # 60 더하기\n",
        "print(cal.value) # 100 출력"
      ],
      "metadata": {
        "colab": {
          "base_uri": "https://localhost:8080/"
        },
        "id": "TDjVuVNwoKlq",
        "outputId": "7e3979f0-d8d4-488a-c449-8dc4ca7cc337"
      },
      "execution_count": null,
      "outputs": [
        {
          "output_type": "stream",
          "name": "stdout",
          "text": [
            "100\n"
          ]
        }
      ]
    },
    {
      "cell_type": "markdown",
      "source": [
        "Q3. 비어있는 사람(Human)클래스를 정의해보세요"
      ],
      "metadata": {
        "id": "lk8Q4IJCvOv3"
      }
    },
    {
      "cell_type": "code",
      "source": [
        "class Human:\n",
        "  pass"
      ],
      "metadata": {
        "id": "68nog69pvK44"
      },
      "execution_count": null,
      "outputs": []
    },
    {
      "cell_type": "markdown",
      "source": [
        "Q4. Human 클래스에 \"응애응애\"를 출력하는 생성자를 추가 하세요"
      ],
      "metadata": {
        "id": "k-zLUvRRvYD3"
      }
    },
    {
      "cell_type": "code",
      "source": [
        "class Human:\n",
        "  def __init__(self):\n",
        "    print(\"응애응애\")"
      ],
      "metadata": {
        "id": "_cn6gYgevXW_"
      },
      "execution_count": null,
      "outputs": []
    },
    {
      "cell_type": "code",
      "source": [
        "maria = Human()"
      ],
      "metadata": {
        "colab": {
          "base_uri": "https://localhost:8080/"
        },
        "id": "byefb8d2xNYn",
        "outputId": "57b6f9e5-a672-42a8-e832-999a0d38be33"
      },
      "execution_count": null,
      "outputs": [
        {
          "output_type": "stream",
          "name": "stdout",
          "text": [
            "응애응애\n"
          ]
        }
      ]
    },
    {
      "cell_type": "markdown",
      "source": [
        "Q5. Stock 클래스의 객체가 생성될때 종목명과 종목 코드를 입력받을수 있도록 클래스를 정의 하세요"
      ],
      "metadata": {
        "id": "ydfxi9zPvoWx"
      }
    },
    {
      "cell_type": "code",
      "source": [
        "class Stock:\n",
        "  pass"
      ],
      "metadata": {
        "id": "Q2kPNpj1xVen"
      },
      "execution_count": null,
      "outputs": []
    },
    {
      "cell_type": "code",
      "source": [
        "class Stock:\n",
        "  def __init__(self, name, code):\n",
        "    self.name = name\n",
        "    self.code = code"
      ],
      "metadata": {
        "id": "zTtjh_PfxfrU"
      },
      "execution_count": null,
      "outputs": []
    },
    {
      "cell_type": "code",
      "source": [
        "a = Stock(\"삼성전자\", \"005930\")\n",
        "print(a.name)\n",
        "print(a.code)"
      ],
      "metadata": {
        "colab": {
          "base_uri": "https://localhost:8080/"
        },
        "id": "xI1zZIpVxp70",
        "outputId": "6f826bf0-8011-455b-81fb-83296e5e3d45"
      },
      "execution_count": null,
      "outputs": [
        {
          "output_type": "stream",
          "name": "stdout",
          "text": [
            "삼성전자\n",
            "005930\n"
          ]
        }
      ]
    },
    {
      "cell_type": "markdown",
      "source": [
        "Q6. 객체에 종목명을 입력할 수 있는 set_name 메서드를 추가해보세요"
      ],
      "metadata": {
        "id": "fzWzo_mKv2j2"
      }
    },
    {
      "cell_type": "code",
      "source": [
        "class Stock:\n",
        "  def __init__(self, name, code):\n",
        "    self.name = name\n",
        "    self.code = code\n",
        "  def set_name(self, name):\n",
        "    self.name = name"
      ],
      "metadata": {
        "id": "dTCTRWtqx8iW"
      },
      "execution_count": null,
      "outputs": []
    },
    {
      "cell_type": "code",
      "source": [
        "a = Stock(\"삼성전자\", '005930')\n",
        "a.name"
      ],
      "metadata": {
        "colab": {
          "base_uri": "https://localhost:8080/",
          "height": 35
        },
        "id": "6smr7pDdyHYO",
        "outputId": "bc3d84c4-b501-47d0-d1f1-c506dac50390"
      },
      "execution_count": null,
      "outputs": [
        {
          "output_type": "execute_result",
          "data": {
            "text/plain": [
              "'삼성전자'"
            ],
            "application/vnd.google.colaboratory.intrinsic+json": {
              "type": "string"
            }
          },
          "metadata": {},
          "execution_count": 132
        }
      ]
    },
    {
      "cell_type": "code",
      "source": [
        "a.set_name(\"엘지전자\")\n",
        "a.name"
      ],
      "metadata": {
        "colab": {
          "base_uri": "https://localhost:8080/",
          "height": 35
        },
        "id": "Wsb8Zd6kySpo",
        "outputId": "ae0c1dcd-939d-4e2d-af7e-72d1f0233590"
      },
      "execution_count": null,
      "outputs": [
        {
          "output_type": "execute_result",
          "data": {
            "text/plain": [
              "'엘지전자'"
            ],
            "application/vnd.google.colaboratory.intrinsic+json": {
              "type": "string"
            }
          },
          "metadata": {},
          "execution_count": 133
        }
      ]
    },
    {
      "cell_type": "markdown",
      "source": [
        "Q7, 객체에 종목코드를 입력할 수 있는 set_code 메서드를 추가해보세요"
      ],
      "metadata": {
        "id": "K4WB_ngEwJV3"
      }
    },
    {
      "cell_type": "code",
      "source": [
        "class Stock:\n",
        "  def __init__(self, name, code):\n",
        "    self.name = name\n",
        "    self.code = code\n",
        "  def set_name(self, name):\n",
        "    self.name = name\n",
        "  def set_code(self, code):\n",
        "    self.code = code"
      ],
      "metadata": {
        "id": "c949fk4UyeJm"
      },
      "execution_count": null,
      "outputs": []
    },
    {
      "cell_type": "code",
      "source": [
        "a = Stock(\"삼성전자\", '005930')\n",
        "a.set_code(\"000000\")\n",
        "a.code"
      ],
      "metadata": {
        "colab": {
          "base_uri": "https://localhost:8080/",
          "height": 35
        },
        "id": "EiStFolGwPzg",
        "outputId": "eb11c077-70aa-44b7-987d-59fdafb632c8"
      },
      "execution_count": null,
      "outputs": [
        {
          "output_type": "execute_result",
          "data": {
            "text/plain": [
              "'000000'"
            ],
            "application/vnd.google.colaboratory.intrinsic+json": {
              "type": "string"
            }
          },
          "metadata": {},
          "execution_count": 139
        }
      ]
    },
    {
      "cell_type": "markdown",
      "source": [
        "Q8\n",
        "<pre>\n",
        "표준 입력으로 게임 캐릭터 능력치(체력, 마나, AP)가 입력됩니다. (ability_power)\n",
        "다음 소스 코드에서 애니(Annie) 클래스를 작성하여 티버(tibbers) 스킬의 피해량이 출력되게 만드세요.\n",
        "티버의 피해량은 AP * 0.65 + 400이며 AP(Ability Power, 주문력)는 마법 능력치를 뜻합니다.\n",
        "</pre>"
      ],
      "metadata": {
        "id": "Jp1AlUgAzGHG"
      }
    },
    {
      "cell_type": "code",
      "source": [
        "class Annie:\n",
        "  def __init__(self, health, mana, ability_power):\n",
        "    self.health = health\n",
        "    self.mana = mana\n",
        "    self.ability_power = ability_power\n",
        "  def tibbers(self):\n",
        "    print(\"티버 : 피해량 \", 0.65 *  self.ability_power + 400)"
      ],
      "metadata": {
        "id": "PErKDe5tzfgB"
      },
      "execution_count": null,
      "outputs": []
    },
    {
      "cell_type": "code",
      "source": [
        "health, mana, ability_power = map(float, input().split())\n",
        "x = Annie(health=health, mana=mana, ability_power=ability_power)\n",
        "x.tibbers()\n",
        "# 1803.68 1184.0 645\n",
        "# --> '티버 : 피해량 819.25'"
      ],
      "metadata": {
        "colab": {
          "base_uri": "https://localhost:8080/"
        },
        "id": "dU77ner1yoQJ",
        "outputId": "42bfdd6a-ecf8-44f1-9797-24f8116260c6"
      },
      "execution_count": null,
      "outputs": [
        {
          "output_type": "stream",
          "name": "stdout",
          "text": [
            "1803.68 1184.0 645\n",
            "티버 : 피해량  819.25\n"
          ]
        }
      ]
    },
    {
      "cell_type": "code",
      "source": [
        "import account"
      ],
      "metadata": {
        "id": "SYwXsawH7CUT"
      },
      "execution_count": 1,
      "outputs": []
    },
    {
      "cell_type": "code",
      "source": [
        "acc1 = account.Account(50000, \"홍길동\", \"231101\")\n",
        "print(acc1)"
      ],
      "metadata": {
        "colab": {
          "base_uri": "https://localhost:8080/"
        },
        "id": "oa8WualM5I2k",
        "outputId": "4d4c62c1-e2c2-45d5-a230-ed7cfcfaf9ab"
      },
      "execution_count": 6,
      "outputs": [
        {
          "output_type": "stream",
          "name": "stdout",
          "text": [
            "계좌번호 : 231101,소유주  : 홍길동,잔액  :     50,000\n"
          ]
        }
      ]
    },
    {
      "cell_type": "markdown",
      "source": [
        "실습"
      ],
      "metadata": {
        "id": "ZLDVTykE5ui7"
      }
    },
    {
      "cell_type": "code",
      "source": [
        "# 1 Car class를 만듦 (속성 : 이름, cc, year)\n",
        "# check 메소드를 만드는데 cc가 1000 미만이면 소형, 1000이상 2000이하면\n",
        "# 중형 2000초과면 대형\n",
        "# 객체를 만들때  car_count가 하나씩 증가하도록 만드시오\n",
        "#객체 car1은 소나타, 2500, 2019 --> 대형 이고 자동으로 1대,\n",
        "#객체 car2은 아반떼, 1500, 2018 --> 중형 이고 자동으로 2대로 나오도록 만드시오\n",
        "#Car.Car_count --> 2"
      ],
      "metadata": {
        "id": "0Sxyu1ts5HAj"
      },
      "execution_count": null,
      "outputs": []
    },
    {
      "cell_type": "code",
      "source": [
        "class Car:\n",
        "  car_count = 0\n",
        "  def __init__(self, name, cc, year):\n",
        "    self.name = name\n",
        "    self.cc = cc\n",
        "    self.year = year\n",
        "    Car.car_count += 1\n",
        "  def check(self):\n",
        "    if self.cc < 1000:\n",
        "      print(\"소형\")\n",
        "    elif 1000 <= self.cc <= 2000:\n",
        "      print(\"중형\")\n",
        "    elif 2000 < self.cc :\n",
        "      print(\"대형\")"
      ],
      "metadata": {
        "id": "Pz-P_zjMCq1R"
      },
      "execution_count": 8,
      "outputs": []
    },
    {
      "cell_type": "code",
      "source": [
        "car1 = Car('소나타', 2500, 2019)"
      ],
      "metadata": {
        "id": "Tezyy2vvD8oq"
      },
      "execution_count": 9,
      "outputs": []
    },
    {
      "cell_type": "code",
      "source": [
        "car2 = Car('아반떼', 1500, 2018)"
      ],
      "metadata": {
        "id": "KJmJyQ96ED0c"
      },
      "execution_count": 10,
      "outputs": []
    },
    {
      "cell_type": "code",
      "source": [
        "car3 = Car('아반떼1', 1800, 201123)"
      ],
      "metadata": {
        "id": "l6RqBLsnENoJ"
      },
      "execution_count": 12,
      "outputs": []
    },
    {
      "cell_type": "code",
      "source": [
        "Car.car_count"
      ],
      "metadata": {
        "colab": {
          "base_uri": "https://localhost:8080/"
        },
        "id": "49GNk2GBEJhk",
        "outputId": "12792b03-2a4c-46d8-8754-727fed852a53"
      },
      "execution_count": 13,
      "outputs": [
        {
          "output_type": "execute_result",
          "data": {
            "text/plain": [
              "3"
            ]
          },
          "metadata": {},
          "execution_count": 13
        }
      ]
    },
    {
      "cell_type": "code",
      "source": [
        "# car1의 이름을 확인할수 있는 getName 메소드 하나와\n",
        "# 이름을 변경할 수 있는 setName이라는 메소드를 추가 해서 이름을 확인후 바꿔보세요\n",
        "# car1 의 소나타를 getname으로 확인 후 모닝으로 변경하는 클래스를 작성하세요"
      ],
      "metadata": {
        "id": "w0VNstav6QLc"
      },
      "execution_count": null,
      "outputs": []
    },
    {
      "cell_type": "code",
      "source": [
        "class Car:\n",
        "  car_count = 0\n",
        "  def __init__(self, name, cc, year):\n",
        "    self.name = name\n",
        "    self.cc = cc\n",
        "    self.year = year\n",
        "    Car.car_count += 1\n",
        "  def check(self):\n",
        "    if self.cc < 1000:\n",
        "      print(\"소형\")\n",
        "    elif 1000 <= self.cc <= 2000:\n",
        "      print(\"중형\")\n",
        "    elif 2000 < self.cc :\n",
        "      print(\"대형\")\n",
        "  def getName(self):\n",
        "    return self.name\n",
        "  def setName(self, name):\n",
        "    self.name = name"
      ],
      "metadata": {
        "id": "wndgtPCoEYXx"
      },
      "execution_count": 15,
      "outputs": []
    },
    {
      "cell_type": "code",
      "source": [
        "car1 = Car(\"소나타\", 2500, 2019)"
      ],
      "metadata": {
        "id": "U3F27DWDEhuB"
      },
      "execution_count": 17,
      "outputs": []
    },
    {
      "cell_type": "code",
      "source": [
        "Car.car_count"
      ],
      "metadata": {
        "colab": {
          "base_uri": "https://localhost:8080/"
        },
        "id": "rTXi9Wg_E3rg",
        "outputId": "80934624-310d-4d76-e725-90035d8277d4"
      },
      "execution_count": 18,
      "outputs": [
        {
          "output_type": "execute_result",
          "data": {
            "text/plain": [
              "1"
            ]
          },
          "metadata": {},
          "execution_count": 18
        }
      ]
    },
    {
      "cell_type": "code",
      "source": [
        "print(car1.getName())"
      ],
      "metadata": {
        "colab": {
          "base_uri": "https://localhost:8080/"
        },
        "id": "a89Db5eVE7kh",
        "outputId": "ad7c01a2-63b8-4395-e6f6-2a11d4e279e2"
      },
      "execution_count": 21,
      "outputs": [
        {
          "output_type": "stream",
          "name": "stdout",
          "text": [
            "소나타\n"
          ]
        }
      ]
    },
    {
      "cell_type": "code",
      "source": [
        "car1.setName(\"모닝\")"
      ],
      "metadata": {
        "id": "LWEcxZpiFAXB"
      },
      "execution_count": null,
      "outputs": []
    },
    {
      "cell_type": "code",
      "source": [
        "print(car1.getName())"
      ],
      "metadata": {
        "colab": {
          "base_uri": "https://localhost:8080/"
        },
        "id": "2_p5jD2cFHxp",
        "outputId": "4336bf36-38a0-4430-c6b9-f9d70212bb1a"
      },
      "execution_count": 23,
      "outputs": [
        {
          "output_type": "stream",
          "name": "stdout",
          "text": [
            "모닝\n"
          ]
        }
      ]
    },
    {
      "cell_type": "code",
      "source": [
        "# 1. Charater 클래스 만들어주세요\n",
        "# Charater 클래스는 Health속성을 추가 해주세요 (생성시 200)\n",
        "# Charater 클래스 Move()메소드를 추가하고 메소드 사용시 Health가 -10됩니다.\n",
        "# Charater 클래스 Rest()메소드를 추가하고 메소드 사용시 Health가 +10됩니다.\n",
        "# 현재 Health을 알수 있는 checkHealth()메소드를 추가해주세요\n",
        "class Charater:\n",
        "  def __init__(self):\n",
        "    self.health = 200\n",
        "  def Move(self):\n",
        "    self.health -= 10\n",
        "  def Rest(self):\n",
        "    self.health += 10\n",
        "  def checkHealth(self):\n",
        "    print(\"현재 케릭터의 체력은 \", self.health)"
      ],
      "metadata": {
        "id": "ixopbddFFbkS"
      },
      "execution_count": 27,
      "outputs": []
    },
    {
      "cell_type": "code",
      "source": [
        "# 2.Knight, Healer 클래스를 만들어주세요\n",
        "# Knight와 Healer는 Charater 클래스를 상속함\n",
        "# Knight는 Move() Health가 -5가 더 소모됨\n",
        "# Knight는 Attack()를 추가하고 공격합니다를 출력하는 메소드를 작성하세요\n",
        "# Healer는 Mana속성을 추가 해주세요(생성시 100)\n",
        "# Healer는 heal(charater)메소드를 추가하고 메서드는 charater들을 매개변수로 받습니다.\n",
        "# Healer는 heal(charater)메소 실행하면 Mana가 -10이되고 전달받은 character의 객체의\n",
        "# rest()메소드를 실행합니다.\n",
        "# Healer는 현재 마나 속성을 확인할 수 있는 checkmana()메소드를 추가해주세요\n",
        "class Knight(Charater):\n",
        "  def __init__(self):\n",
        "    super().__init__()\n",
        "  def Move(self):\n",
        "    super().Move()\n",
        "    self.health -= 5\n",
        "  def Attack(self):\n",
        "    print(\"공격합니다. \")\n",
        "\n",
        "class Healer(Charater):\n",
        "  def __init__(self):\n",
        "    super().__init__()\n",
        "    self.mana = 100\n",
        "  def Heal(self, character):\n",
        "    character.Rest()\n",
        "    self.mana -= 10\n",
        "  def checkmana(self):\n",
        "    print(\"현재 케릭터의 마나는\", self.mana)"
      ],
      "metadata": {
        "id": "iDkfnyNBbb8R"
      },
      "execution_count": 28,
      "outputs": []
    },
    {
      "cell_type": "code",
      "source": [
        "knight = Knight()"
      ],
      "metadata": {
        "id": "wmc6Z5m8Nv9D"
      },
      "execution_count": 29,
      "outputs": []
    },
    {
      "cell_type": "code",
      "source": [
        "healer = Healer()"
      ],
      "metadata": {
        "id": "ivD9EDBBaHgm"
      },
      "execution_count": 30,
      "outputs": []
    },
    {
      "cell_type": "code",
      "source": [
        "knight.checkHealth()"
      ],
      "metadata": {
        "colab": {
          "base_uri": "https://localhost:8080/"
        },
        "id": "PMGfuei6aI83",
        "outputId": "7550cdae-3648-462d-fdfe-2c8263062444"
      },
      "execution_count": 31,
      "outputs": [
        {
          "output_type": "stream",
          "name": "stdout",
          "text": [
            "현재 케릭터의 체력은  200\n"
          ]
        }
      ]
    },
    {
      "cell_type": "code",
      "source": [
        "knight.Attack()"
      ],
      "metadata": {
        "colab": {
          "base_uri": "https://localhost:8080/"
        },
        "id": "H1rzzSvZaJ_3",
        "outputId": "0b66a84c-715d-4d0c-8d74-36e1a3ad2216"
      },
      "execution_count": 32,
      "outputs": [
        {
          "output_type": "stream",
          "name": "stdout",
          "text": [
            "공격합니다. \n"
          ]
        }
      ]
    },
    {
      "cell_type": "code",
      "source": [
        "knight.Move()"
      ],
      "metadata": {
        "id": "swy0uKQKaLQ_"
      },
      "execution_count": 33,
      "outputs": []
    },
    {
      "cell_type": "code",
      "source": [
        "knight.checkHealth()"
      ],
      "metadata": {
        "colab": {
          "base_uri": "https://localhost:8080/"
        },
        "id": "CxQRgnUBaNxA",
        "outputId": "35a2e460-6c30-4f20-bb1d-ba47f62774b4"
      },
      "execution_count": 34,
      "outputs": [
        {
          "output_type": "stream",
          "name": "stdout",
          "text": [
            "현재 케릭터의 체력은  185\n"
          ]
        }
      ]
    },
    {
      "cell_type": "code",
      "source": [
        "healer.checkHealth()"
      ],
      "metadata": {
        "colab": {
          "base_uri": "https://localhost:8080/"
        },
        "id": "eiqUsHttaPpu",
        "outputId": "9035f093-469c-458c-fa0b-7653f83b1530"
      },
      "execution_count": 35,
      "outputs": [
        {
          "output_type": "stream",
          "name": "stdout",
          "text": [
            "현재 케릭터의 체력은  200\n"
          ]
        }
      ]
    },
    {
      "cell_type": "code",
      "source": [
        "healer.Heal(knight)"
      ],
      "metadata": {
        "id": "ZhwXS5F8aaj2"
      },
      "execution_count": 36,
      "outputs": []
    },
    {
      "cell_type": "code",
      "source": [
        "healer.checkmana()"
      ],
      "metadata": {
        "colab": {
          "base_uri": "https://localhost:8080/"
        },
        "id": "-Ant38dWaSlW",
        "outputId": "e6d74794-fa18-4967-df13-5107652e24cc"
      },
      "execution_count": 38,
      "outputs": [
        {
          "output_type": "stream",
          "name": "stdout",
          "text": [
            "현재 케릭터의 마나는 90\n"
          ]
        }
      ]
    },
    {
      "cell_type": "code",
      "source": [
        "healer.Heal(knight)"
      ],
      "metadata": {
        "id": "UKGXWHHGaUFe"
      },
      "execution_count": 39,
      "outputs": []
    },
    {
      "cell_type": "code",
      "source": [
        "healer.checkmana()"
      ],
      "metadata": {
        "colab": {
          "base_uri": "https://localhost:8080/"
        },
        "id": "9ZdmeRD5fQKI",
        "outputId": "6bcd8b8c-5d36-4598-f2d2-ee8b0db17f00"
      },
      "execution_count": 40,
      "outputs": [
        {
          "output_type": "stream",
          "name": "stdout",
          "text": [
            "현재 케릭터의 마나는 80\n"
          ]
        }
      ]
    },
    {
      "cell_type": "code",
      "source": [
        "knight.checkHealth()"
      ],
      "metadata": {
        "colab": {
          "base_uri": "https://localhost:8080/"
        },
        "id": "R_N1FJQFfS1w",
        "outputId": "dfab5801-e5bd-4cf7-c8f1-c27583200ad9"
      },
      "execution_count": 41,
      "outputs": [
        {
          "output_type": "stream",
          "name": "stdout",
          "text": [
            "현재 케릭터의 체력은  205\n"
          ]
        }
      ]
    }
  ]
}