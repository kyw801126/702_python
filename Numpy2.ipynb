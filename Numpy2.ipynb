{
 "cells": [
  {
   "cell_type": "markdown",
   "id": "96493a06-b0d1-4f49-90bc-a94cf38db54f",
   "metadata": {},
   "source": [
    "배열의 생성과 변형"
   ]
  },
  {
   "cell_type": "code",
   "execution_count": 1,
   "id": "74f8fcef-d571-441d-8223-ad1c812bcf69",
   "metadata": {},
   "outputs": [],
   "source": [
    "import numpy as np"
   ]
  },
  {
   "cell_type": "markdown",
   "id": "a60be37d-7d53-49ad-aa3c-d167ff2bfa99",
   "metadata": {},
   "source": [
    "자료형"
   ]
  },
  {
   "cell_type": "code",
   "execution_count": 2,
   "id": "4cd0cdae-5d80-49d7-b0a2-5690071756df",
   "metadata": {},
   "outputs": [
    {
     "data": {
      "text/plain": [
       "dtype('int32')"
      ]
     },
     "execution_count": 2,
     "metadata": {},
     "output_type": "execute_result"
    }
   ],
   "source": [
    "x = np.array([1,2,3])\n",
    "x.dtype"
   ]
  },
  {
   "cell_type": "code",
   "execution_count": 3,
   "id": "c960462f-78dd-41eb-b5d4-524988f9557b",
   "metadata": {},
   "outputs": [
    {
     "data": {
      "text/plain": [
       "dtype('float64')"
      ]
     },
     "execution_count": 3,
     "metadata": {},
     "output_type": "execute_result"
    }
   ],
   "source": [
    "x = np.array([1., 2., 3.])\n",
    "x.dtype"
   ]
  },
  {
   "cell_type": "code",
   "execution_count": 5,
   "id": "df5bb54f-e394-4db0-bf95-e9a2b394cca4",
   "metadata": {},
   "outputs": [
    {
     "data": {
      "text/plain": [
       "dtype('float64')"
      ]
     },
     "execution_count": 5,
     "metadata": {},
     "output_type": "execute_result"
    }
   ],
   "source": [
    "# 원소의 데이터 타입을 float64로 변경됨\n",
    "x = np.array([1,2,3], dtype=\"float64\")\n",
    "x.dtype"
   ]
  },
  {
   "cell_type": "code",
   "execution_count": 6,
   "id": "af00bef4-ac42-4e82-90db-71acfffd617e",
   "metadata": {},
   "outputs": [
    {
     "data": {
      "text/plain": [
       "dtype('uint16')"
      ]
     },
     "execution_count": 6,
     "metadata": {},
     "output_type": "execute_result"
    }
   ],
   "source": [
    "x = np.array([1,2,3], dtype=\"uint16\") # unsigned int(16 bit): 0 ~ 65535 => -32768 ~ 32767\n",
    "x.dtype"
   ]
  },
  {
   "cell_type": "markdown",
   "id": "bcc47421-e211-4a3f-8b5c-2245e6fb57b2",
   "metadata": {},
   "source": [
    "inf(infinite), NaN(Not a Number)"
   ]
  },
  {
   "cell_type": "code",
   "execution_count": 10,
   "id": "0141fb5f-e4b5-444d-8276-7c1bd305df08",
   "metadata": {},
   "outputs": [
    {
     "data": {
      "text/plain": [
       "array([  0.,  inf, -inf,  nan])"
      ]
     },
     "execution_count": 10,
     "metadata": {},
     "output_type": "execute_result"
    }
   ],
   "source": [
    "import warnings\n",
    "warnings.filterwarnings(\"ignore\")\n",
    "np.array([0, 1, -1, 0]) / np.array([1, 0, 0, 0])"
   ]
  },
  {
   "cell_type": "code",
   "execution_count": 11,
   "id": "125f4af6-30d2-4aa7-b1d0-cb219bd18e10",
   "metadata": {},
   "outputs": [
    {
     "data": {
      "text/plain": [
       "(-inf, 0.0)"
      ]
     },
     "execution_count": 11,
     "metadata": {},
     "output_type": "execute_result"
    }
   ],
   "source": [
    "np.log(0), np.exp(-np.inf)"
   ]
  },
  {
   "cell_type": "markdown",
   "id": "dad250bc-f1eb-4bff-b7e1-bb21ce8294da",
   "metadata": {},
   "source": [
    "배열생성"
   ]
  },
  {
   "cell_type": "code",
   "execution_count": 13,
   "id": "5a2b9383-5d80-41ba-b6ef-f0423f8aef52",
   "metadata": {},
   "outputs": [
    {
     "data": {
      "text/plain": [
       "array([1, 2, 3])"
      ]
     },
     "execution_count": 13,
     "metadata": {},
     "output_type": "execute_result"
    }
   ],
   "source": [
    "np.array([1,2,3])"
   ]
  },
  {
   "cell_type": "code",
   "execution_count": 15,
   "id": "26cf408d-7063-43de-9d27-afa9c93162c8",
   "metadata": {},
   "outputs": [
    {
     "data": {
      "text/plain": [
       "array([0., 0., 0., 0., 0.])"
      ]
     },
     "execution_count": 15,
     "metadata": {},
     "output_type": "execute_result"
    }
   ],
   "source": [
    "# zeros\n",
    "np.zeros(5)"
   ]
  },
  {
   "cell_type": "code",
   "execution_count": 16,
   "id": "9d4134f3-32bd-4a38-a4a2-63ef3baec455",
   "metadata": {},
   "outputs": [
    {
     "data": {
      "text/plain": [
       "dtype('float64')"
      ]
     },
     "execution_count": 16,
     "metadata": {},
     "output_type": "execute_result"
    }
   ],
   "source": [
    "np.zeros(5).dtype"
   ]
  },
  {
   "cell_type": "code",
   "execution_count": 17,
   "id": "47d85012-d827-445f-903b-c07eec85c416",
   "metadata": {},
   "outputs": [
    {
     "data": {
      "text/plain": [
       "array([0, 0, 0, 0, 0])"
      ]
     },
     "execution_count": 17,
     "metadata": {},
     "output_type": "execute_result"
    }
   ],
   "source": [
    "np.zeros(5, dtype=\"int\")"
   ]
  },
  {
   "cell_type": "code",
   "execution_count": 18,
   "id": "b5ead7f7-535b-4e47-9862-c24835fcea9e",
   "metadata": {},
   "outputs": [
    {
     "data": {
      "text/plain": [
       "dtype('int32')"
      ]
     },
     "execution_count": 18,
     "metadata": {},
     "output_type": "execute_result"
    }
   ],
   "source": [
    "np.zeros(5, dtype=\"int\").dtype"
   ]
  },
  {
   "cell_type": "code",
   "execution_count": 19,
   "id": "587e442e-5a02-4436-86ca-128c80841cec",
   "metadata": {},
   "outputs": [
    {
     "data": {
      "text/plain": [
       "array([1., 1., 1., 1., 1.])"
      ]
     },
     "execution_count": 19,
     "metadata": {},
     "output_type": "execute_result"
    }
   ],
   "source": [
    "#ones\n",
    "np.ones(5)"
   ]
  },
  {
   "cell_type": "code",
   "execution_count": 20,
   "id": "852ecf74-7980-45d9-abca-d4d5c53d0789",
   "metadata": {},
   "outputs": [
    {
     "data": {
      "text/plain": [
       "dtype('float64')"
      ]
     },
     "execution_count": 20,
     "metadata": {},
     "output_type": "execute_result"
    }
   ],
   "source": [
    "np.ones(5).dtype"
   ]
  },
  {
   "cell_type": "code",
   "execution_count": 21,
   "id": "17c0e162-8b1a-40ba-8fb7-f591602daa5d",
   "metadata": {},
   "outputs": [
    {
     "data": {
      "text/plain": [
       "array([1, 1, 1, 1, 1])"
      ]
     },
     "execution_count": 21,
     "metadata": {},
     "output_type": "execute_result"
    }
   ],
   "source": [
    "np.ones(5, dtype=int)"
   ]
  },
  {
   "cell_type": "code",
   "execution_count": 22,
   "id": "61481d58-f224-4453-8b64-26fddd778e38",
   "metadata": {},
   "outputs": [
    {
     "data": {
      "text/plain": [
       "array([[1., 1., 1.],\n",
       "       [1., 1., 1.]])"
      ]
     },
     "execution_count": 22,
     "metadata": {},
     "output_type": "execute_result"
    }
   ],
   "source": [
    "np.ones(6).reshape(2,3)"
   ]
  },
  {
   "cell_type": "code",
   "execution_count": 23,
   "id": "808a98d4-f5ef-47f5-9eda-ecc18c6a4ef9",
   "metadata": {},
   "outputs": [
    {
     "data": {
      "text/plain": [
       "array([[1, 1, 1],\n",
       "       [1, 1, 1]])"
      ]
     },
     "execution_count": 23,
     "metadata": {},
     "output_type": "execute_result"
    }
   ],
   "source": [
    "np.ones(6, dtype=int).reshape(2,3)"
   ]
  },
  {
   "cell_type": "code",
   "execution_count": 24,
   "id": "2dcf7b26-6c5f-4440-81c9-b6c50d61695e",
   "metadata": {},
   "outputs": [
    {
     "data": {
      "text/plain": [
       "array([[1, 1, 1],\n",
       "       [1, 1, 1]])"
      ]
     },
     "execution_count": 24,
     "metadata": {},
     "output_type": "execute_result"
    }
   ],
   "source": [
    "np.ones((2,3), dtype=int) "
   ]
  },
  {
   "cell_type": "code",
   "execution_count": 3,
   "id": "63bd9cd0-2c3d-45f7-b559-ce28aa1c062d",
   "metadata": {},
   "outputs": [
    {
     "data": {
      "text/plain": [
       "array([[0, 0, 0],\n",
       "       [0, 0, 0],\n",
       "       [0, 0, 0]])"
      ]
     },
     "execution_count": 3,
     "metadata": {},
     "output_type": "execute_result"
    }
   ],
   "source": [
    "# zeros_like 메트릭스\n",
    "import numpy as np\n",
    "a = np.arange(1, 10).reshape(3,3)\n",
    "np.zeros_like(a)"
   ]
  },
  {
   "cell_type": "code",
   "execution_count": 5,
   "id": "24b71ced-8e1b-42e0-acea-f066660c7302",
   "metadata": {},
   "outputs": [
    {
     "data": {
      "text/plain": [
       "array([[1, 1, 1],\n",
       "       [1, 1, 1],\n",
       "       [1, 1, 1]])"
      ]
     },
     "execution_count": 5,
     "metadata": {},
     "output_type": "execute_result"
    }
   ],
   "source": [
    "np.ones_like(a)"
   ]
  },
  {
   "cell_type": "code",
   "execution_count": 8,
   "id": "4df50e31-6dde-4946-93e5-f1fb70d87e1d",
   "metadata": {},
   "outputs": [
    {
     "data": {
      "text/plain": [
       "array([[  0,   1,   0],\n",
       "       [  0, 988,   0],\n",
       "       [768,  19,   0]])"
      ]
     },
     "execution_count": 8,
     "metadata": {},
     "output_type": "execute_result"
    }
   ],
   "source": [
    "# empty - 기억장소만 확보하고 초기화는 유보\n",
    "g = np.empty_like(a)\n",
    "g"
   ]
  },
  {
   "cell_type": "code",
   "execution_count": 9,
   "id": "8f247ddb-b8e1-4c1e-853a-4475d76c2af2",
   "metadata": {},
   "outputs": [
    {
     "data": {
      "text/plain": [
       "array([[0, 1, 2],\n",
       "       [3, 4, 5],\n",
       "       [6, 7, 8]])"
      ]
     },
     "execution_count": 9,
     "metadata": {},
     "output_type": "execute_result"
    }
   ],
   "source": [
    "for i in range(9):\n",
    "    g[i //3, i %3] = i\n",
    "g"
   ]
  },
  {
   "cell_type": "markdown",
   "id": "08dc89ef-4a7e-4557-8b2d-80f1f6c75c15",
   "metadata": {},
   "source": [
    "arange : numpy에서 사용한 파이썬의 range와 같다"
   ]
  },
  {
   "cell_type": "code",
   "execution_count": 10,
   "id": "93fb4eb2-c926-4060-92b8-be21fb188cd6",
   "metadata": {},
   "outputs": [
    {
     "data": {
      "text/plain": [
       "array([0, 1, 2, 3, 4, 5])"
      ]
     },
     "execution_count": 10,
     "metadata": {},
     "output_type": "execute_result"
    }
   ],
   "source": [
    "np.arange(6)"
   ]
  },
  {
   "cell_type": "code",
   "execution_count": 11,
   "id": "4f10c1cc-83fe-4589-9270-195eb9b356db",
   "metadata": {},
   "outputs": [
    {
     "data": {
      "text/plain": [
       "array([1, 2, 3, 4, 5, 6])"
      ]
     },
     "execution_count": 11,
     "metadata": {},
     "output_type": "execute_result"
    }
   ],
   "source": [
    "np.arange(1, 7)"
   ]
  },
  {
   "cell_type": "code",
   "execution_count": 12,
   "id": "b31d91fc-493c-4e98-a03e-541ec2094911",
   "metadata": {},
   "outputs": [
    {
     "data": {
      "text/plain": [
       "array([1, 3, 5, 7, 9])"
      ]
     },
     "execution_count": 12,
     "metadata": {},
     "output_type": "execute_result"
    }
   ],
   "source": [
    "np.arange(1, 10, 2)"
   ]
  },
  {
   "cell_type": "code",
   "execution_count": 13,
   "id": "679e87b1-920b-44c5-905c-7c1e6f9d2580",
   "metadata": {},
   "outputs": [
    {
     "data": {
      "text/plain": [
       "array([1. , 1.2, 1.4, 1.6, 1.8])"
      ]
     },
     "execution_count": 13,
     "metadata": {},
     "output_type": "execute_result"
    }
   ],
   "source": [
    "# 실수도 가능\n",
    "np.arange(1, 2, 0.2)"
   ]
  },
  {
   "cell_type": "code",
   "execution_count": 14,
   "id": "2b23a4d4-4186-4cf3-bad7-9a57bdd240d5",
   "metadata": {},
   "outputs": [
    {
     "data": {
      "text/plain": [
       "array([1. , 1.2, 1.4, 1.6, 1.8, 2. ])"
      ]
     },
     "execution_count": 14,
     "metadata": {},
     "output_type": "execute_result"
    }
   ],
   "source": [
    "# linspace : 구간을 n 등분\n",
    "np.linspace(1, 2, 6)"
   ]
  },
  {
   "cell_type": "code",
   "execution_count": 16,
   "id": "147205f7-d565-4c05-8f4d-3c7f5b0c322b",
   "metadata": {},
   "outputs": [
    {
     "name": "stdout",
     "output_type": "stream",
     "text": [
      "Collecting matplotlib\n",
      "  Downloading matplotlib-3.8.1-cp39-cp39-win_amd64.whl.metadata (5.9 kB)\n",
      "Collecting contourpy>=1.0.1 (from matplotlib)\n",
      "  Downloading contourpy-1.1.1-cp39-cp39-win_amd64.whl.metadata (5.9 kB)\n",
      "Collecting cycler>=0.10 (from matplotlib)\n",
      "  Downloading cycler-0.12.1-py3-none-any.whl.metadata (3.8 kB)\n",
      "Collecting fonttools>=4.22.0 (from matplotlib)\n",
      "  Downloading fonttools-4.43.1-cp39-cp39-win_amd64.whl.metadata (155 kB)\n",
      "     ---------------------------------------- 0.0/155.5 kB ? eta -:--:--\n",
      "     ---------------------------------------- 155.5/155.5 kB ? eta 0:00:00\n",
      "Collecting kiwisolver>=1.3.1 (from matplotlib)\n",
      "  Downloading kiwisolver-1.4.5-cp39-cp39-win_amd64.whl.metadata (6.5 kB)\n",
      "Requirement already satisfied: numpy<2,>=1.21 in c:\\python39\\lib\\site-packages (from matplotlib) (1.26.1)\n",
      "Requirement already satisfied: packaging>=20.0 in c:\\users\\tjoeun\\appdata\\roaming\\python\\python39\\site-packages (from matplotlib) (23.2)\n",
      "Collecting pillow>=8 (from matplotlib)\n",
      "  Downloading Pillow-10.1.0-cp39-cp39-win_amd64.whl.metadata (9.6 kB)\n",
      "Collecting pyparsing>=2.3.1 (from matplotlib)\n",
      "  Downloading pyparsing-3.1.1-py3-none-any.whl.metadata (5.1 kB)\n",
      "Requirement already satisfied: python-dateutil>=2.7 in c:\\users\\tjoeun\\appdata\\roaming\\python\\python39\\site-packages (from matplotlib) (2.8.2)\n",
      "Collecting importlib-resources>=3.2.0 (from matplotlib)\n",
      "  Downloading importlib_resources-6.1.0-py3-none-any.whl.metadata (4.1 kB)\n",
      "Requirement already satisfied: zipp>=3.1.0 in c:\\users\\tjoeun\\appdata\\roaming\\python\\python39\\site-packages (from importlib-resources>=3.2.0->matplotlib) (3.17.0)\n",
      "Requirement already satisfied: six>=1.5 in c:\\users\\tjoeun\\appdata\\roaming\\python\\python39\\site-packages (from python-dateutil>=2.7->matplotlib) (1.16.0)\n",
      "Downloading matplotlib-3.8.1-cp39-cp39-win_amd64.whl (7.6 MB)\n",
      "   ---------------------------------------- 0.0/7.6 MB ? eta -:--:--\n",
      "   ------------- -------------------------- 2.7/7.6 MB 85.9 MB/s eta 0:00:01\n",
      "   ----------------------------------- ---- 6.7/7.6 MB 72.0 MB/s eta 0:00:01\n",
      "   ---------------------------------------- 7.6/7.6 MB 70.0 MB/s eta 0:00:00\n",
      "Downloading contourpy-1.1.1-cp39-cp39-win_amd64.whl (435 kB)\n",
      "   ---------------------------------------- 0.0/436.0 kB ? eta -:--:--\n",
      "   --------------------------------------- 436.0/436.0 kB 28.4 MB/s eta 0:00:00\n",
      "Downloading cycler-0.12.1-py3-none-any.whl (8.3 kB)\n",
      "Downloading fonttools-4.43.1-cp39-cp39-win_amd64.whl (2.1 MB)\n",
      "   ---------------------------------------- 0.0/2.1 MB ? eta -:--:--\n",
      "   ---------------------------------------  2.1/2.1 MB 142.0 MB/s eta 0:00:01\n",
      "   ---------------------------------------- 2.1/2.1 MB 45.3 MB/s eta 0:00:00\n",
      "Downloading importlib_resources-6.1.0-py3-none-any.whl (33 kB)\n",
      "Downloading kiwisolver-1.4.5-cp39-cp39-win_amd64.whl (56 kB)\n",
      "   ---------------------------------------- 0.0/56.2 kB ? eta -:--:--\n",
      "   ---------------------------------------- 56.2/56.2 kB ? eta 0:00:00\n",
      "Downloading Pillow-10.1.0-cp39-cp39-win_amd64.whl (2.6 MB)\n",
      "   ---------------------------------------- 0.0/2.6 MB ? eta -:--:--\n",
      "   ---------------------------------------  2.6/2.6 MB 83.6 MB/s eta 0:00:01\n",
      "   ---------------------------------------- 2.6/2.6 MB 55.3 MB/s eta 0:00:00\n",
      "Downloading pyparsing-3.1.1-py3-none-any.whl (103 kB)\n",
      "   ---------------------------------------- 0.0/103.1 kB ? eta -:--:--\n",
      "   ---------------------------------------- 103.1/103.1 kB ? eta 0:00:00\n",
      "Installing collected packages: pyparsing, pillow, kiwisolver, importlib-resources, fonttools, cycler, contourpy, matplotlib\n",
      "Successfully installed contourpy-1.1.1 cycler-0.12.1 fonttools-4.43.1 importlib-resources-6.1.0 kiwisolver-1.4.5 matplotlib-3.8.1 pillow-10.1.0 pyparsing-3.1.1\n"
     ]
    }
   ],
   "source": [
    "# !pip install matplotlib "
   ]
  },
  {
   "cell_type": "code",
   "execution_count": 17,
   "id": "7d1f326f-daed-417e-b500-91c1fd4bc5c1",
   "metadata": {},
   "outputs": [],
   "source": [
    "import matplotlib.pyplot as plt"
   ]
  },
  {
   "cell_type": "code",
   "execution_count": 22,
   "id": "421fd113-d3f8-404c-bf2a-e0a58f0b92f6",
   "metadata": {},
   "outputs": [
    {
     "data": {
      "image/png": "[encoded data removed]",
      "text/plain": [
       "<Figure size 640x480 with 1 Axes>"
      ]
     },
     "metadata": {},
     "output_type": "display_data"
    }
   ],
   "source": [
    "xs = np.linspace(0, np.pi*2, 200)\n",
    "sinx = np.sin(xs)\n",
    "cosx = np.cos(xs)\n",
    "plt.plot(xs, sinx, label='sine')\n",
    "plt.plot(xs, cosx, label='cosine')\n",
    "plt.grid()\n",
    "plt.legend()\n",
    "plt.title(\"Trigonometric fuction\")\n",
    "plt.show()"
   ]
  },
  {
   "cell_type": "markdown",
   "id": "2d4fdf56-d3cb-47bf-a4b7-0d1ea9da90dd",
   "metadata": {},
   "source": [
    "전치(Transpose)연산"
   ]
  },
  {
   "cell_type": "code",
   "execution_count": 23,
   "id": "c326e78c-7c4f-48a3-ade9-e9d3ce6c815e",
   "metadata": {},
   "outputs": [
    {
     "data": {
      "text/plain": [
       "array([[1, 2, 3],\n",
       "       [4, 5, 6]])"
      ]
     },
     "execution_count": 23,
     "metadata": {},
     "output_type": "execute_result"
    }
   ],
   "source": [
    "a = np.arange(1, 7).reshape(2,3)\n",
    "a"
   ]
  },
  {
   "cell_type": "code",
   "execution_count": 24,
   "id": "4dfc5a2b-9246-4914-b846-044fae38bda0",
   "metadata": {},
   "outputs": [
    {
     "data": {
      "text/plain": [
       "array([[1, 4],\n",
       "       [2, 5],\n",
       "       [3, 6]])"
      ]
     },
     "execution_count": 24,
     "metadata": {},
     "output_type": "execute_result"
    }
   ],
   "source": [
    "a.transpose()"
   ]
  },
  {
   "cell_type": "code",
   "execution_count": 25,
   "id": "bf2bc0e8-a2d1-4b65-84fc-61dda5459400",
   "metadata": {},
   "outputs": [
    {
     "data": {
      "text/plain": [
       "array([[1, 4],\n",
       "       [2, 5],\n",
       "       [3, 6]])"
      ]
     },
     "execution_count": 25,
     "metadata": {},
     "output_type": "execute_result"
    }
   ],
   "source": [
    "a.T"
   ]
  },
  {
   "cell_type": "markdown",
   "id": "d7d3a9f4-cedb-4084-ac27-6f382265ebab",
   "metadata": {},
   "source": [
    "reshape 모양변경"
   ]
  },
  {
   "cell_type": "code",
   "execution_count": 27,
   "id": "49237285-3573-472c-8931-095709a1bf39",
   "metadata": {},
   "outputs": [
    {
     "data": {
      "text/plain": [
       "array([[ 1,  2,  3,  4],\n",
       "       [ 5,  6,  7,  8],\n",
       "       [ 9, 10, 11, 12]])"
      ]
     },
     "execution_count": 27,
     "metadata": {},
     "output_type": "execute_result"
    }
   ],
   "source": [
    "np.arange(1, 13).reshape(3, 4)"
   ]
  },
  {
   "cell_type": "code",
   "execution_count": 28,
   "id": "c3d043ef-a1d5-450a-b70c-4851802a9556",
   "metadata": {},
   "outputs": [
    {
     "data": {
      "text/plain": [
       "array([[ 1,  2,  3,  4],\n",
       "       [ 5,  6,  7,  8],\n",
       "       [ 9, 10, 11, 12]])"
      ]
     },
     "execution_count": 28,
     "metadata": {},
     "output_type": "execute_result"
    }
   ],
   "source": [
    "# -1은 ndarray의 size를 알고 있기때문에 shape 요소중 하나는 -1을 사용할수 있음\n",
    "np.arange(1, 13).reshape(3, -1)"
   ]
  },
  {
   "cell_type": "code",
   "execution_count": 29,
   "id": "e578dea8-feb7-4f53-9e56-535fb5567b65",
   "metadata": {},
   "outputs": [
    {
     "data": {
      "text/plain": [
       "array([[0],\n",
       "       [1],\n",
       "       [2],\n",
       "       [3]])"
      ]
     },
     "execution_count": 29,
     "metadata": {},
     "output_type": "execute_result"
    }
   ],
   "source": [
    "np.arange(4).reshape(4,1)"
   ]
  },
  {
   "cell_type": "code",
   "execution_count": 30,
   "id": "5a063313-1e4b-496b-8f57-0e5f80837a05",
   "metadata": {},
   "outputs": [
    {
     "data": {
      "text/plain": [
       "array([[[ 1,  2,  3],\n",
       "        [ 4,  5,  6]],\n",
       "\n",
       "       [[ 7,  8,  9],\n",
       "        [10, 11, 12]]])"
      ]
     },
     "execution_count": 30,
     "metadata": {},
     "output_type": "execute_result"
    }
   ],
   "source": [
    "a = np.arange(1, 13).reshape(2, 2,-1)\n",
    "a"
   ]
  },
  {
   "cell_type": "code",
   "execution_count": 31,
   "id": "abdab114-8596-4706-b8e0-59ba83d0941b",
   "metadata": {},
   "outputs": [
    {
     "data": {
      "text/plain": [
       "array([ 1,  2,  3,  4,  5,  6,  7,  8,  9, 10, 11, 12])"
      ]
     },
     "execution_count": 31,
     "metadata": {},
     "output_type": "execute_result"
    }
   ],
   "source": [
    "a.flatten()"
   ]
  },
  {
   "cell_type": "markdown",
   "id": "2da4b10d-1331-4ee8-97e3-e89c3d601d7f",
   "metadata": {},
   "source": [
    "배열연결"
   ]
  },
  {
   "cell_type": "code",
   "execution_count": 32,
   "id": "25c781d5-7fa0-41d1-a9f4-adc0db946657",
   "metadata": {},
   "outputs": [],
   "source": [
    "a = np.arange(1, 7).reshape(2,3)\n",
    "b = np.zeros((2,2), dtype=int)"
   ]
  },
  {
   "cell_type": "code",
   "execution_count": 35,
   "id": "18a4f9dd-b27f-4ab2-8c98-0e189f555ff0",
   "metadata": {},
   "outputs": [
    {
     "data": {
      "text/plain": [
       "array([[1, 2, 3, 0, 0],\n",
       "       [4, 5, 6, 0, 0]])"
      ]
     },
     "execution_count": 35,
     "metadata": {},
     "output_type": "execute_result"
    }
   ],
   "source": [
    "# hstack(horizontal stack)\n",
    "np.hstack([a, b])"
   ]
  },
  {
   "cell_type": "code",
   "execution_count": 37,
   "id": "39b6a618-ecba-43f1-a4d4-f41db1b6a2fc",
   "metadata": {},
   "outputs": [
    {
     "data": {
      "text/plain": [
       "array([[1, 4],\n",
       "       [2, 5],\n",
       "       [3, 6],\n",
       "       [0, 0],\n",
       "       [0, 0]])"
      ]
     },
     "execution_count": 37,
     "metadata": {},
     "output_type": "execute_result"
    }
   ],
   "source": [
    "# vstack(vertical stack)\n",
    "np.vstack([a.T, b])"
   ]
  },
  {
   "cell_type": "code",
   "execution_count": 38,
   "id": "913ccfe3-69e6-4ab0-b427-ad72f59258ce",
   "metadata": {},
   "outputs": [
    {
     "data": {
      "text/plain": [
       "array([[1, 2, 3, 0, 0],\n",
       "       [4, 5, 6, 0, 0]])"
      ]
     },
     "execution_count": 38,
     "metadata": {},
     "output_type": "execute_result"
    }
   ],
   "source": [
    "# concatennate\n",
    "np.concatenate((a,b), axis=1) # hstack => axis = 1"
   ]
  },
  {
   "cell_type": "code",
   "execution_count": 40,
   "id": "2caaa495-0764-4309-bc26-d503a4b6f5df",
   "metadata": {},
   "outputs": [
    {
     "data": {
      "text/plain": [
       "array([[1, 4],\n",
       "       [2, 5],\n",
       "       [3, 6],\n",
       "       [0, 0],\n",
       "       [0, 0]])"
      ]
     },
     "execution_count": 40,
     "metadata": {},
     "output_type": "execute_result"
    }
   ],
   "source": [
    "np.concatenate((a.T,b), axis=0) # vstack => axis = 0"
   ]
  },
  {
   "cell_type": "code",
   "execution_count": 43,
   "id": "9c2cd786-75e4-4ed7-8539-34de2d98aab6",
   "metadata": {},
   "outputs": [
    {
     "data": {
      "text/plain": [
       "array([[  0.,   0.,   0.,   1.,   1.],\n",
       "       [  0.,   0.,   0.,   1.,   1.],\n",
       "       [  0.,   0.,   0.,   1.,   1.],\n",
       "       [ 10.,  20.,  30.,  40.,  50.],\n",
       "       [ 60.,  70.,  80.,  90., 100.],\n",
       "       [110., 120., 130., 140., 150.],\n",
       "       [  0.,   0.,   0.,   1.,   1.],\n",
       "       [  0.,   0.,   0.,   1.,   1.],\n",
       "       [  0.,   0.,   0.,   1.,   1.],\n",
       "       [ 10.,  20.,  30.,  40.,  50.],\n",
       "       [ 60.,  70.,  80.,  90., 100.],\n",
       "       [110., 120., 130., 140., 150.]])"
      ]
     },
     "execution_count": 43,
     "metadata": {},
     "output_type": "execute_result"
    }
   ],
   "source": [
    "# 연습\n",
    "v = np.zeros((3,3))\n",
    "w = np.ones((3,2))\n",
    "x = np.hstack((v , w))\n",
    "y = np.arange(1, 16).reshape(3,5) * 10\n",
    "z = np.vstack((x , y))\n",
    "np.vstack((z, z))\n",
    "# z+z를 vstack 연결하기"
   ]
  },
  {
   "cell_type": "markdown",
   "id": "850eef8d-7c66-4182-b8e6-e3be514b92d8",
   "metadata": {},
   "source": [
    "배열의 연산"
   ]
  },
  {
   "cell_type": "code",
   "execution_count": 44,
   "id": "2791af48-ada9-495d-bdea-6d79d0a80909",
   "metadata": {},
   "outputs": [],
   "source": [
    "import numpy as np"
   ]
  },
  {
   "cell_type": "code",
   "execution_count": 45,
   "id": "8f2d2237-6870-4ed6-ac60-1d896084c3b3",
   "metadata": {},
   "outputs": [],
   "source": [
    "x = np.arange(1, 100001)\n",
    "y = np.arange(100001, 200001)"
   ]
  },
  {
   "cell_type": "code",
   "execution_count": 46,
   "id": "cf8d6859-05c0-461d-983b-6fbbed477089",
   "metadata": {},
   "outputs": [
    {
     "name": "stdout",
     "output_type": "stream",
     "text": [
      "CPU times: total: 31.2 ms\n",
      "Wall time: 34.3 ms\n"
     ]
    }
   ],
   "source": [
    "%%time\n",
    "z = np.empty_like(x)\n",
    "for i in range(100000):\n",
    "    z[i] = x[i] + y[i]"
   ]
  },
  {
   "cell_type": "code",
   "execution_count": 49,
   "id": "a6cf62fe-2a04-4733-b180-0b284e56fafe",
   "metadata": {},
   "outputs": [
    {
     "name": "stdout",
     "output_type": "stream",
     "text": [
      "CPU times: total: 0 ns\n",
      "Wall time: 0 ns\n"
     ]
    }
   ],
   "source": [
    "%time a = x+y"
   ]
  },
  {
   "cell_type": "code",
   "execution_count": 51,
   "id": "86a2c5b0-18a4-40f1-ab19-d76c9057d23c",
   "metadata": {},
   "outputs": [
    {
     "data": {
      "text/plain": [
       "array([False,  True, False,  True])"
      ]
     },
     "execution_count": 51,
     "metadata": {},
     "output_type": "execute_result"
    }
   ],
   "source": [
    "a = np.array([1,2,3,4])\n",
    "b = np.array([4,2,2,4])\n",
    "a == b"
   ]
  },
  {
   "cell_type": "code",
   "execution_count": 52,
   "id": "05c75db1-3e13-4a34-a420-070468f1f3ab",
   "metadata": {},
   "outputs": [
    {
     "data": {
      "text/plain": [
       "array([False,  True,  True,  True])"
      ]
     },
     "execution_count": 52,
     "metadata": {},
     "output_type": "execute_result"
    }
   ],
   "source": [
    "a >= b"
   ]
  },
  {
   "cell_type": "code",
   "execution_count": 53,
   "id": "e5945f63-967e-45fb-81f3-82a62e07ee17",
   "metadata": {},
   "outputs": [
    {
     "data": {
      "text/plain": [
       "array([ 2.71828183,  7.3890561 , 20.08553692, 54.59815003])"
      ]
     },
     "execution_count": 53,
     "metadata": {},
     "output_type": "execute_result"
    }
   ],
   "source": [
    "np.exp(a)"
   ]
  },
  {
   "cell_type": "code",
   "execution_count": 54,
   "id": "4bd1e8ef-4c0c-4cfe-98f0-00a5d1c3f8d7",
   "metadata": {},
   "outputs": [
    {
     "data": {
      "text/plain": [
       "array([   10,   100,  1000, 10000], dtype=int32)"
      ]
     },
     "execution_count": 54,
     "metadata": {},
     "output_type": "execute_result"
    }
   ],
   "source": [
    "10 ** a"
   ]
  },
  {
   "cell_type": "code",
   "execution_count": 55,
   "id": "09588456-e704-443f-a1e6-3467de9c2a07",
   "metadata": {},
   "outputs": [
    {
     "data": {
      "text/plain": [
       "array([ 5, 10, 15, 20])"
      ]
     },
     "execution_count": 55,
     "metadata": {},
     "output_type": "execute_result"
    }
   ],
   "source": [
    "5 * a"
   ]
  },
  {
   "cell_type": "code",
   "execution_count": 56,
   "id": "a62686a1-d25c-4339-b4ee-146eef41b5ca",
   "metadata": {},
   "outputs": [
    {
     "data": {
      "text/plain": [
       "array([6, 7, 8, 9])"
      ]
     },
     "execution_count": 56,
     "metadata": {},
     "output_type": "execute_result"
    }
   ],
   "source": [
    "5 + a"
   ]
  },
  {
   "cell_type": "markdown",
   "id": "5534a2ce-a7db-4b1f-8e6f-063846431668",
   "metadata": {},
   "source": [
    "차원축소"
   ]
  },
  {
   "cell_type": "code",
   "execution_count": 57,
   "id": "a81b471e-d605-4054-874d-5bc9d1786ad3",
   "metadata": {},
   "outputs": [
    {
     "data": {
      "text/plain": [
       "10"
      ]
     },
     "execution_count": 57,
     "metadata": {},
     "output_type": "execute_result"
    }
   ],
   "source": [
    "x = np.arange(1, 5)\n",
    "np.sum(x)"
   ]
  },
  {
   "cell_type": "code",
   "execution_count": 58,
   "id": "692e5ea1-4fc9-46be-a858-d22ef6047bab",
   "metadata": {},
   "outputs": [
    {
     "data": {
      "text/plain": [
       "10"
      ]
     },
     "execution_count": 58,
     "metadata": {},
     "output_type": "execute_result"
    }
   ],
   "source": [
    "x.sum()"
   ]
  },
  {
   "cell_type": "code",
   "execution_count": 59,
   "id": "cd12f492-6d27-48bf-8d9e-e33e504fa3e5",
   "metadata": {},
   "outputs": [
    {
     "data": {
      "text/plain": [
       "(1, 4, 2.5)"
      ]
     },
     "execution_count": 59,
     "metadata": {},
     "output_type": "execute_result"
    }
   ],
   "source": [
    "x.min(), x.max(), x.mean()"
   ]
  },
  {
   "cell_type": "code",
   "execution_count": 60,
   "id": "3715b262-5883-4e0a-944f-d26a106f838c",
   "metadata": {},
   "outputs": [
    {
     "data": {
      "text/plain": [
       "(2.5, 2.5)"
      ]
     },
     "execution_count": 60,
     "metadata": {},
     "output_type": "execute_result"
    }
   ],
   "source": [
    "# 평균, 중앙값\n",
    "np.mean(x), np.median(x)"
   ]
  },
  {
   "cell_type": "code",
   "execution_count": 61,
   "id": "920e6ff3-44db-454b-aef0-cdf21ded9986",
   "metadata": {},
   "outputs": [
    {
     "data": {
      "text/plain": [
       "(1.25, 1.118033988749895)"
      ]
     },
     "execution_count": 61,
     "metadata": {},
     "output_type": "execute_result"
    }
   ],
   "source": [
    "# 분산, 표준편차\n",
    "np.var(x), np.std(x)"
   ]
  },
  {
   "cell_type": "code",
   "execution_count": 62,
   "id": "5941d08f-76c2-417c-ac95-a0ad832de53f",
   "metadata": {},
   "outputs": [
    {
     "data": {
      "text/plain": [
       "(0, 3)"
      ]
     },
     "execution_count": 62,
     "metadata": {},
     "output_type": "execute_result"
    }
   ],
   "source": [
    "# 최소값, 최대값의 인덱스\n",
    "x.argmin(), x.argmax()"
   ]
  },
  {
   "cell_type": "markdown",
   "id": "e454cadc-b472-4ece-8dce-ef1301a5f7ef",
   "metadata": {},
   "source": [
    "2 차원 이상의 연산"
   ]
  },
  {
   "cell_type": "code",
   "execution_count": 63,
   "id": "066e93f1-bd74-4cec-b178-f29ead5d97f4",
   "metadata": {},
   "outputs": [
    {
     "data": {
      "text/plain": [
       "array([[1, 2, 3],\n",
       "       [4, 5, 6]])"
      ]
     },
     "execution_count": 63,
     "metadata": {},
     "output_type": "execute_result"
    }
   ],
   "source": [
    "a = np.arange(1, 7).reshape(2, 3)\n",
    "a"
   ]
  },
  {
   "cell_type": "code",
   "execution_count": 64,
   "id": "b67e41ee-d493-4e13-a100-d2bfdc06168a",
   "metadata": {},
   "outputs": [
    {
     "data": {
      "text/plain": [
       "(21, 3.5)"
      ]
     },
     "execution_count": 64,
     "metadata": {},
     "output_type": "execute_result"
    }
   ],
   "source": [
    "np.sum(a), np.mean(a)"
   ]
  },
  {
   "cell_type": "code",
   "execution_count": 67,
   "id": "dafb7cfc-2931-49c8-825d-a49e7721e852",
   "metadata": {},
   "outputs": [
    {
     "data": {
      "text/plain": [
       "(array([5, 7, 9]), array([2.5, 3.5, 4.5]))"
      ]
     },
     "execution_count": 67,
     "metadata": {},
     "output_type": "execute_result"
    }
   ],
   "source": [
    "# axis = 0 각 좌표(row, col) row를 변경시켜가면서 엑서스\n",
    "np.sum(a, axis=0), np.mean(a, axis=0)"
   ]
  },
  {
   "cell_type": "code",
   "execution_count": 68,
   "id": "b5eebe8f-e1dc-4599-8f33-e4c5a8c06b7e",
   "metadata": {},
   "outputs": [
    {
     "data": {
      "text/plain": [
       "(array([ 6, 15]), array([2., 5.]))"
      ]
     },
     "execution_count": 68,
     "metadata": {},
     "output_type": "execute_result"
    }
   ],
   "source": [
    "# axis = 1 각 좌표(row, col) col를 변경시켜가면서 엑서스\n",
    "np.sum(a, axis=1), np.mean(a, axis=1)"
   ]
  },
  {
   "cell_type": "code",
   "execution_count": 69,
   "id": "e43ecfb1-3fc3-4d59-a745-78b409ee8ceb",
   "metadata": {},
   "outputs": [
    {
     "data": {
      "text/plain": [
       "array([[[ 1,  2,  3],\n",
       "        [ 4,  5,  6]],\n",
       "\n",
       "       [[ 7,  8,  9],\n",
       "        [10, 11, 12]]])"
      ]
     },
     "execution_count": 69,
     "metadata": {},
     "output_type": "execute_result"
    }
   ],
   "source": [
    "b = np.arange(1, 13).reshape(2,2,-1)\n",
    "b"
   ]
  },
  {
   "cell_type": "code",
   "execution_count": 70,
   "id": "fa2571cc-a656-4e3f-8124-fd9d9e3c17ad",
   "metadata": {},
   "outputs": [
    {
     "data": {
      "text/plain": [
       "array([[ 8, 10, 12],\n",
       "       [14, 16, 18]])"
      ]
     },
     "execution_count": 70,
     "metadata": {},
     "output_type": "execute_result"
    }
   ],
   "source": [
    "np.sum(b, axis=0)"
   ]
  },
  {
   "cell_type": "code",
   "execution_count": 71,
   "id": "5da5ac6c-145f-46b9-b0d2-42aefb088112",
   "metadata": {},
   "outputs": [],
   "source": [
    "# a.dtype, a.shape, a.ndim, a.size 무조건 확인하세요"
   ]
  },
  {
   "cell_type": "code",
   "execution_count": 72,
   "id": "32489cd8-e073-4bb1-b45a-5eefbf3776a6",
   "metadata": {},
   "outputs": [
    {
     "data": {
      "text/plain": [
       "array([[ 5,  7,  9],\n",
       "       [17, 19, 21]])"
      ]
     },
     "execution_count": 72,
     "metadata": {},
     "output_type": "execute_result"
    }
   ],
   "source": [
    "np.sum(b, axis=1)"
   ]
  },
  {
   "cell_type": "code",
   "execution_count": 73,
   "id": "f283cbfd-4849-48f7-94b4-a72a38d6fc40",
   "metadata": {},
   "outputs": [
    {
     "data": {
      "text/plain": [
       "array([[ 6, 15],\n",
       "       [24, 33]])"
      ]
     },
     "execution_count": 73,
     "metadata": {},
     "output_type": "execute_result"
    }
   ],
   "source": [
    "np.sum(b, axis=2)"
   ]
  },
  {
   "cell_type": "markdown",
   "id": "bba67684-cd50-49b7-94d3-0e47480306dc",
   "metadata": {},
   "source": [
    "연습"
   ]
  },
  {
   "cell_type": "code",
   "execution_count": 75,
   "id": "6398ffa3-fdf8-4715-8ddd-badd7c2bc504",
   "metadata": {},
   "outputs": [],
   "source": [
    "np.random.seed(2023)"
   ]
  },
  {
   "cell_type": "code",
   "execution_count": 76,
   "id": "9a37314f-55e3-4607-93c4-682788c55b47",
   "metadata": {},
   "outputs": [
    {
     "data": {
      "text/plain": [
       "array([[3.2199, 8.9042, 5.8805, 1.266 , 1.4134, 4.679 ],\n",
       "       [0.2209, 7.2727, 5.2439, 5.4494, 4.5637, 5.0138],\n",
       "       [3.9447, 1.5117, 3.6088, 1.6208, 3.3796, 1.8032],\n",
       "       [3.9099, 0.3565, 5.6486, 2.0346, 3.206 , 3.7656],\n",
       "       [1.8405, 1.0395, 4.5493, 1.9586, 3.7853, 9.3053]])"
      ]
     },
     "execution_count": 76,
     "metadata": {},
     "output_type": "execute_result"
    }
   ],
   "source": [
    "x = np.round(np.random.random(30).reshape(5, 6)* 10, 4)\n",
    "x"
   ]
  },
  {
   "cell_type": "code",
   "execution_count": 77,
   "id": "5104e800-c8ab-4c4b-99ef-1ff689148099",
   "metadata": {},
   "outputs": [
    {
     "data": {
      "text/plain": [
       "array([0.2209, 0.3565, 3.6088, 1.266 , 1.4134, 1.8032])"
      ]
     },
     "execution_count": 77,
     "metadata": {},
     "output_type": "execute_result"
    }
   ],
   "source": [
    "# 1. 최대값\n",
    "np.max(x)\n",
    "# 2. 각행의 합\n",
    "np.sum(x, axis=1)\n",
    "# 3. 각행의 최대값\n",
    "np.max(x, axis=1)\n",
    "# 4. 각 열의 평균\n",
    "np.mean(x, axis=0)\n",
    "# 5. 각 열의 최솟값\n",
    "np.min(x, axis=0)"
   ]
  },
  {
   "cell_type": "markdown",
   "id": "eecb37cf-1a3b-4d4d-8dc5-5263d2d41abd",
   "metadata": {},
   "source": [
    "sort 정렬"
   ]
  },
  {
   "cell_type": "code",
   "execution_count": 78,
   "id": "9b3c6a7b-ffc6-4aab-965e-97928a0929bc",
   "metadata": {},
   "outputs": [],
   "source": [
    "a = np.array([[4, 3, 5, 7], \n",
    "              [1, 12, 11, 9],\n",
    "              [2, 15, 1, 14]])"
   ]
  },
  {
   "cell_type": "code",
   "execution_count": 79,
   "id": "0f190851-29f5-4eb0-95ff-a77509388cf9",
   "metadata": {},
   "outputs": [
    {
     "data": {
      "text/plain": [
       "array([[ 4,  3,  5,  7],\n",
       "       [ 1, 12, 11,  9],\n",
       "       [ 2, 15,  1, 14]])"
      ]
     },
     "execution_count": 79,
     "metadata": {},
     "output_type": "execute_result"
    }
   ],
   "source": [
    "a"
   ]
  },
  {
   "cell_type": "code",
   "execution_count": 80,
   "id": "cd76e6d1-e02b-4a70-a1c3-a39bdd9537f6",
   "metadata": {},
   "outputs": [
    {
     "data": {
      "text/plain": [
       "array([[ 3,  4,  5,  7],\n",
       "       [ 1,  9, 11, 12],\n",
       "       [ 1,  2, 14, 15]])"
      ]
     },
     "execution_count": 80,
     "metadata": {},
     "output_type": "execute_result"
    }
   ],
   "source": [
    "np.sort(a) # default axis는 1"
   ]
  },
  {
   "cell_type": "code",
   "execution_count": 81,
   "id": "175a4cff-86ba-46c0-9f92-8455840fd512",
   "metadata": {},
   "outputs": [
    {
     "data": {
      "text/plain": [
       "array([[ 1,  3,  1,  7],\n",
       "       [ 2, 12,  5,  9],\n",
       "       [ 4, 15, 11, 14]])"
      ]
     },
     "execution_count": 81,
     "metadata": {},
     "output_type": "execute_result"
    }
   ],
   "source": [
    "np.sort(a, axis=0)"
   ]
  },
  {
   "cell_type": "code",
   "execution_count": 83,
   "id": "2875d5aa-fc31-4cb6-be8c-3c6e37e2bc1f",
   "metadata": {},
   "outputs": [
    {
     "data": {
      "text/plain": [
       "array([[ 7,  5,  4,  3],\n",
       "       [12, 11,  9,  1],\n",
       "       [15, 14,  2,  1]])"
      ]
     },
     "execution_count": 83,
     "metadata": {},
     "output_type": "execute_result"
    }
   ],
   "source": [
    "# 내림차순 정렬 axis=1\n",
    "np.sort(a, axis=1)[:, ::-1]"
   ]
  },
  {
   "cell_type": "code",
   "execution_count": 84,
   "id": "1f075d7c-6a46-458c-84bb-f895a3decd40",
   "metadata": {},
   "outputs": [
    {
     "data": {
      "text/plain": [
       "array([[ 4, 15, 11, 14],\n",
       "       [ 2, 12,  5,  9],\n",
       "       [ 1,  3,  1,  7]])"
      ]
     },
     "execution_count": 84,
     "metadata": {},
     "output_type": "execute_result"
    }
   ],
   "source": [
    "# 내림차순 정렬 axis=0\n",
    "np.sort(a, axis=0)[::-1, :]"
   ]
  },
  {
   "cell_type": "code",
   "execution_count": 85,
   "id": "6191e30b-6d3f-4cf4-bc1f-5f6e9e389314",
   "metadata": {},
   "outputs": [
    {
     "data": {
      "text/plain": [
       "array([[ 4,  3,  5,  7],\n",
       "       [ 1, 12, 11,  9],\n",
       "       [ 2, 15,  1, 14]])"
      ]
     },
     "execution_count": 85,
     "metadata": {},
     "output_type": "execute_result"
    }
   ],
   "source": [
    "# sort() 자기파괴적 (in-place)메소드"
   ]
  },
  {
   "cell_type": "code",
   "execution_count": 86,
   "id": "4431cfe2-d396-43cd-985f-9271a6a8848b",
   "metadata": {},
   "outputs": [
    {
     "data": {
      "text/plain": [
       "array([2, 3, 1, 0], dtype=int64)"
      ]
     },
     "execution_count": 86,
     "metadata": {},
     "output_type": "execute_result"
    }
   ],
   "source": [
    "a = np.array([42, 38, 12, 25])\n",
    "j = np.argsort(a)\n",
    "j"
   ]
  },
  {
   "cell_type": "code",
   "execution_count": 87,
   "id": "92bcc94e-2c08-4cd9-becd-0f8e07150eeb",
   "metadata": {},
   "outputs": [
    {
     "data": {
      "text/plain": [
       "array([12, 25, 38, 42])"
      ]
     },
     "execution_count": 87,
     "metadata": {},
     "output_type": "execute_result"
    }
   ],
   "source": [
    "a[j]"
   ]
  },
  {
   "cell_type": "markdown",
   "id": "2eb9d3d7-5bfa-414d-b713-ec98ebaa3bed",
   "metadata": {},
   "source": [
    "연습"
   ]
  },
  {
   "cell_type": "code",
   "execution_count": 90,
   "id": "adb5e6f7-93f4-48ee-a516-68f8131c4b4e",
   "metadata": {},
   "outputs": [],
   "source": [
    "score = np.array([[1, 2, 3, 4], # 학번\n",
    "                  [46, 99, 100, 71],  #영어\n",
    "                  [81, 59, 90, 100]]) # 수학"
   ]
  },
  {
   "cell_type": "code",
   "execution_count": 91,
   "id": "51c1ad32-2463-48f1-b8de-8e379018c40e",
   "metadata": {},
   "outputs": [
    {
     "data": {
      "text/plain": [
       "array([[  1,   2,   3,   4],\n",
       "       [ 46,  99, 100,  71],\n",
       "       [ 81,  59,  90, 100]])"
      ]
     },
     "execution_count": 91,
     "metadata": {},
     "output_type": "execute_result"
    }
   ],
   "source": [
    "score"
   ]
  },
  {
   "cell_type": "code",
   "execution_count": 93,
   "id": "f0afd011-2cf4-45b4-ab82-86293820d7d8",
   "metadata": {},
   "outputs": [
    {
     "data": {
      "text/plain": [
       "array([0, 3, 1, 2], dtype=int64)"
      ]
     },
     "execution_count": 93,
     "metadata": {},
     "output_type": "execute_result"
    }
   ],
   "source": [
    "# 영어 성적으로 argsort()하여 인덱스를 구하기\n",
    "indices = np.argsort(score[1])\n",
    "indices "
   ]
  },
  {
   "cell_type": "code",
   "execution_count": 94,
   "id": "b7b379ec-b2f8-404d-bd05-43118e245bc5",
   "metadata": {},
   "outputs": [
    {
     "data": {
      "text/plain": [
       "array([2, 1, 3, 0], dtype=int64)"
      ]
     },
     "execution_count": 94,
     "metadata": {},
     "output_type": "execute_result"
    }
   ],
   "source": [
    "# 인덱스를 내림차순으로 정렬\n",
    "indices[::-1]"
   ]
  },
  {
   "cell_type": "code",
   "execution_count": 95,
   "id": "5364c99a-6027-4c2b-b823-2384ec124abb",
   "metadata": {},
   "outputs": [
    {
     "data": {
      "text/plain": [
       "array([[  3,   2,   4,   1],\n",
       "       [100,  99,  71,  46],\n",
       "       [ 90,  59, 100,  81]])"
      ]
     },
     "execution_count": 95,
     "metadata": {},
     "output_type": "execute_result"
    }
   ],
   "source": [
    "# 모든 행을 영어성적 내림차순으로 정렬\n",
    "score[:, indices[::-1]]"
   ]
  },
  {
   "cell_type": "code",
   "execution_count": 96,
   "id": "7e95f336-c6da-445e-aada-e715c9c55639",
   "metadata": {},
   "outputs": [
    {
     "data": {
      "text/plain": [
       "array([[  3,   2,   4,   1],\n",
       "       [100,  99,  71,  46],\n",
       "       [ 90,  59, 100,  81]])"
      ]
     },
     "execution_count": 96,
     "metadata": {},
     "output_type": "execute_result"
    }
   ],
   "source": [
    "# 위에 3가지를 코드 한줄로 만들어 보세요\n",
    "score[:, np.argsort(score[1])[::-1]]"
   ]
  },
  {
   "cell_type": "code",
   "execution_count": null,
   "id": "91c71297-6857-42ea-a3d7-d9c60eb3eb0c",
   "metadata": {},
   "outputs": [],
   "source": []
  }
 ],
 "metadata": {
  "kernelspec": {
   "display_name": "Python 3 (ipykernel)",
   "language": "python",
   "name": "python3"
  },
  "language_info": {
   "codemirror_mode": {
    "name": "ipython",
    "version": 3
   },
   "file_extension": ".py",
   "mimetype": "text/x-python",
   "name": "python",
   "nbconvert_exporter": "python",
   "pygments_lexer": "ipython3",
   "version": "3.9.12"
  }
 },
 "nbformat": 4,
 "nbformat_minor": 5
}
