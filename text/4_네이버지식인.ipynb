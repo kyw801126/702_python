{
 "cells": [
  {
   "cell_type": "markdown",
   "metadata": {},
   "source": [
    "# 네이버 지식in 설 선물"
   ]
  },
  {
   "cell_type": "code",
   "execution_count": 1,
   "metadata": {},
   "outputs": [],
   "source": [
    "import time\n",
    "from selenium import webdriver\n",
    "from selenium.webdriver.common.by import By\n",
    "from bs4 import BeautifulSoup\n",
    "from urllib.parse import quote\n",
    "from tqdm import tqdm"
   ]
  },
  {
   "cell_type": "code",
   "execution_count": 2,
   "metadata": {},
   "outputs": [],
   "source": [
    "url = f'https://kin.naver.com/search/list.naver?query={quote(\"설 선물\")}&page=1'\n",
    "driver = webdriver.Chrome()\n",
    "driver.get(url)\n",
    "soup = BeautifulSoup(driver.page_source, 'html.parser')"
   ]
  },
  {
   "cell_type": "code",
   "execution_count": 5,
   "metadata": {},
   "outputs": [
    {
     "data": {
      "text/plain": [
       "10"
      ]
     },
     "execution_count": 5,
     "metadata": {},
     "output_type": "execute_result"
    }
   ],
   "source": [
    "lis = soup.select('.basic1 > li')\n",
    "len(lis)"
   ]
  },
  {
   "cell_type": "code",
   "execution_count": 22,
   "metadata": {},
   "outputs": [
    {
     "data": {
      "text/plain": [
       "'https://kin.naver.com/qna/detail.naver?d1id=3&dirId=3010203&docId=436736796&qb=7ISkIOyEoOusvA==&enc=utf8&section=kin&rank=3&search_sort=0&spq=0'"
      ]
     },
     "execution_count": 22,
     "metadata": {},
     "output_type": "execute_result"
    }
   ],
   "source": [
    "li = lis[2]\n",
    "sub_url = li.select_one('a._searchListTitleAnchor')['href']\n",
    "sub_url"
   ]
  },
  {
   "cell_type": "code",
   "execution_count": 23,
   "metadata": {},
   "outputs": [],
   "source": [
    "driver.get(sub_url) \n",
    "time.sleep(2)"
   ]
  },
  {
   "cell_type": "code",
   "execution_count": 24,
   "metadata": {},
   "outputs": [
    {
     "data": {
      "text/plain": [
       "'14'"
      ]
     },
     "execution_count": 24,
     "metadata": {},
     "output_type": "execute_result"
    }
   ],
   "source": [
    "# 더보기 클릭 횟수 확인\n",
    "answer_num = driver.find_element(By.CSS_SELECTOR, '._answerCount.num').text\n",
    "answer_num "
   ]
  },
  {
   "cell_type": "code",
   "execution_count": 25,
   "metadata": {},
   "outputs": [
    {
     "data": {
      "text/plain": [
       "2"
      ]
     },
     "execution_count": 25,
     "metadata": {},
     "output_type": "execute_result"
    }
   ],
   "source": [
    "click_num = (int(answer_num)-1) // 5\n",
    "click_num"
   ]
  },
  {
   "cell_type": "code",
   "execution_count": 26,
   "metadata": {},
   "outputs": [],
   "source": [
    "# 더보기 횟수만큼 클릭\n",
    "for _ in range(click_num):\n",
    "    driver.find_element(By.ID, 'nextPageButton').click()\n",
    "    time.sleep(2)"
   ]
  },
  {
   "cell_type": "code",
   "execution_count": 29,
   "metadata": {},
   "outputs": [
    {
     "data": {
      "text/plain": [
       "14"
      ]
     },
     "execution_count": 29,
     "metadata": {},
     "output_type": "execute_result"
    }
   ],
   "source": [
    "# 펼쳐진 화면을 BeautifulSoup으로 파싱\n",
    "sub_soup = BeautifulSoup(driver.page_source, 'html.parser')\n",
    "divs = sub_soup.select('.answer-content__list._answerList > div')\n",
    "len(divs)"
   ]
  },
  {
   "cell_type": "code",
   "execution_count": 30,
   "metadata": {},
   "outputs": [
    {
     "data": {
      "text/plain": [
       "4"
      ]
     },
     "execution_count": 30,
     "metadata": {},
     "output_type": "execute_result"
    }
   ],
   "source": [
    "# 답변 목록에서 개별 답변을 선택하고 글을 추출\n",
    "div = divs[2]\n",
    "ps = div.select('.se-text-paragraph.se-text-paragraph-align-')\n",
    "len(ps)"
   ]
  },
  {
   "cell_type": "code",
   "execution_count": 31,
   "metadata": {},
   "outputs": [
    {
     "name": "stdout",
     "output_type": "stream",
     "text": [
      "핸드폰 케이스 어떠신지요?\n",
      "사실 핸드폰 케이스가 낡았어도 부모님들은 돈들여서\n",
      "바꾸신 경우가 드물거든요.\n",
      "대부분 낡은 케이스를 들고 다니시는 경우가 많아서.\n",
      "\n"
     ]
    }
   ],
   "source": [
    "anwser = ''\n",
    "for p in ps:\n",
    "    text = p.get_text().strip()\n",
    "    if text == '\\u200b' or text == '':\n",
    "        continue\n",
    "    anwser += text + '\\n'\n",
    "print(anwser)"
   ]
  },
  {
   "cell_type": "code",
   "execution_count": 32,
   "metadata": {},
   "outputs": [],
   "source": [
    "# 답변목록에 있는 모든 답변을 선택해서 글을 추출\n",
    "answer_list = []\n",
    "for div in divs:\n",
    "    ps = div.select('.se-text-paragraph.se-text-paragraph-align-')\n",
    "    anwser = ''\n",
    "    for p in ps:\n",
    "        text = p.get_text().strip()\n",
    "        if text == '\\u200b' or text == '':\n",
    "            continue\n",
    "        anwser += text + '\\n'\n",
    "    answer_list.append(anwser)"
   ]
  },
  {
   "cell_type": "code",
   "execution_count": 33,
   "metadata": {},
   "outputs": [
    {
     "data": {
      "text/plain": [
       "['부모님 설 선물 추천원하시는군요.\\n설이면 부모님들 고생하시니까 두분 영화티켓과 팝콘구입권 같이 끊어드리면 어떨까요?\\n설 당일 보내시고 두분이서 같이 데이트 하시게요.\\n좋은 선물 될것 같은데요~\\n',\n",
       " '글씨 쓸 일이 많으시다면 만년필 추천드려요~\\nhttps://smartstore.naver.com/bononco/products/7894135998\\n',\n",
       " '핸드폰 케이스 어떠신지요?\\n사실 핸드폰 케이스가 낡았어도 부모님들은 돈들여서\\n바꾸신 경우가 드물거든요.\\n대부분 낡은 케이스를 들고 다니시는 경우가 많아서.\\n',\n",
       " '부모님 설 선물로\\n견과류 세트 추천드려요!!\\n말씀해 주신 가격대에도 들어가고\\n견과류 챙겨 먹으면 건강에 좋습니다.\\n한번 참고라도 해보시고 결정해 보세여\\nhttps://link.coupang.com/a/LZb4k\\n파트너스 활동의 일환으로 이에 따른 일정액의 수수료를 받을 수 있습니다.\\n',\n",
       " '안녕하세요~^^ 에끄노블입니다.\\n소중한분께 드리는 선물에 관하여 글을 남겨 주셨는데요\\n아름다운 플라워 아트와 힐링적 요소를 가미한 특별하고 의미있는 에끄노블 캔퓨져 또는 2023 계묘년을 위한 에끄노블 시즌 아이템 부모님 명절 선물로 어떠신가요~??\\n에끄노블 캔퓨져는\\n캔들워머를 이용하여 발향되는 제품으로 캔들형태의 훈증형 방향제입니다.\\n(캔퓨져라는 용어는 에끄노블이 만든 용어로서 2022년 7월 6일 상표등록을 완료하였습니다.)\\n소이왁스가 녹으면서 아름다운 꽃을 함께 감상 하실 수 있는 시각적인 힐링요소을 가미한 제품입니다.\\n오더가 들어올 때마다 똑같은 Preserved flower Art가 아닌 고객 한분 한분을 생각하며 정성스럽게 직접 디자인하여 만든 이 세상에 단 하나뿐인 나만의 Canffuser의 Preserved flower Art와 공기정화에 탁월한 솔트로 제작되어 제공해드리는 제품입니다.\\n추가로 에끄노블 시즌 아이템과 블렌딩 에센셜오일은\\n테라피 속성에 따른 향 블렌딩을 위하여 100% 천연 에센셜오일만을 사용하고 있으며\\n코로 흡입된 향은 후각구를 통해 뇌의 변역계로 전달되어 신체적, 정신적 균형에 영향을 주는 만큼 에끄노블은 천연 에센셜오일 선택에 신중을 기하고 있습니다.\\n에끄노블 오브제의 경우 캘리포니아산 규조토로 만들어졌습니다.\\n모든 구성과 포장이 매우 고급스럽고 특별한 날 소중한분께 선물로 제격인 에끄노블 제품들은 밑의 주소 페이지에서 보실 수 있으세요~^^\\nhttps://echnoblecompany.imweb.me\\nhttps://www.instagram.com/echnoble_\\n',\n",
       " '선물하시려는 마음만으로도\\n충분히 예쁜선물이네요~\\n요즘 대세인 시들지않는\\n꽃을 담은 제품은 어떠세요?\\n선물받으시는 분께만 드리는\\n세상하나뿐인 특별한 선물추천드려요\\n고객맞춤, 커스텀 제품으로\\n1만원대부터 5만원대까지\\n부담없이 정성을 담은\\n핸드메이드 제품을 판매하고있어요\\n각인을 넣어\\n고급스럽고 세상하나뿐인 볼펜과\\n특별한 포장패키지가 부담없는 가격으로\\n구성되어있어요~\\n필기구 선물은 합격, 성공의 의미를\\n담고있답니다!\\n핸드크림과 함께 선물포장까지\\n한번에 해결하세요\\n행운의 네잎클로버가 들어간\\n하바리움 무드등과 섬유향수 선물세트라면\\n더없이 완벽한 선물이겠죠?\\n우리만의 사진을 일러스트로 남기는\\n디퓨저도 토플라에서만 만나볼수 있어요!\\n터지지않는 아크릴과 페트풍선은\\n오래오래 보관할수 있어서!\\n더더욱 인기랍니다\\n그외에도 많은 핸드메이드 제품들이 많아요~\\n세상에 하나뿐인 작품이죠!!\\n구경해보시고 예쁜선물되시길 바래요!\\u200b\\n\\u200b네이버에 [토플라]검색하시면\\n스토어 쉽게 찾으실수 있구요.\\n아래링크도 걸어둘게요!\\n.\\n스토어찜하면 배송비할인 쿠폰도 있으니,\\n스토어찜 하시고 쿠폰 꼭 챙기세요!\\nhttps://m.smartstore.naver.com/topla\\nhttps://www.instagram.com/topla_rin\\n.\\n광고)지만 정성을 다해 만들고있습니다\\n',\n",
       " '안녕하세요! 5만원 한돈 선물세트 추천드립니다^^\\nhttps://smartstore.naver.com/verygoodshopper/products/7840993894\\n',\n",
       " '마음이 이쁘네요!\\n빕스나 이런데 상품권 사셔서  데이트갔다 오시라고 하면\\n그 마음만으로도 감동 받으실꺼에요!\\n',\n",
       " '영푸드 곱창김 선물세트 5만원이내 있는데요. https://blog.naver.com/seyon0920/222937178289\\n',\n",
       " '설 선물세트는 가장 무난한 스팸세트는 어떠세요?\\n저렴하면서 가장 근본적인 선물이에요!\\n선물하고 직접 구워서 드리면 더더욱 좋아요\\nhttps://bitl.bz/EGOEzJ\\n',\n",
       " 'https://link.coupang.com/a/Ml6Z9\\n안녕하세요! 부모님에게 설 선물세트로는 건강식품 만한게 없는 것같아요!\\n아니면 실용적인 선물로도 몇개 추천 드릴게요!\\nhttps://link.coupang.com/a/Ml7NP\\n자동 센서 휴지통 간편하게 인테리어로도 좋을 것 같아요! 2만원대 중반입니다.\\nhttps://link.coupang.com/a/Ml8rI\\n칫솔 살균기도 없으면 실용적인 선물로 좋을 것 같아요!\\nhttps://link.coupang.com/a/Ml8S3\\n요새 코시국에 자동 센서 손세정제로 비치 해도 좋을 것 같습니다!\\n이 포스팅은 쿠팡 파트너스 활동의 일환으로,\\n이에 따른 일정액의 수수료를 제공받습니다.\\n',\n",
       " 'https://link.coupang.com/a/MqKwK\\n육포세트 추천드립니다.\\n4만 안쪽으로 구입가능합니다.\\n\"쿠팡 파트너스 활동의 일환으로, 이에 따른 일정액의 수수료를 제공받습니다\"\\n',\n",
       " '',\n",
       " '']"
      ]
     },
     "execution_count": 33,
     "metadata": {},
     "output_type": "execute_result"
    }
   ],
   "source": [
    "answer_list"
   ]
  },
  {
   "cell_type": "code",
   "execution_count": 34,
   "metadata": {},
   "outputs": [
    {
     "data": {
      "text/plain": [
       "14"
      ]
     },
     "execution_count": 34,
     "metadata": {},
     "output_type": "execute_result"
    }
   ],
   "source": [
    "len(answer_list)"
   ]
  },
  {
   "cell_type": "code",
   "execution_count": 35,
   "metadata": {},
   "outputs": [],
   "source": [
    "driver.back()"
   ]
  },
  {
   "cell_type": "markdown",
   "metadata": {},
   "source": [
    "* 한화면의 글 10개에서 모든 답변을 추출"
   ]
  },
  {
   "cell_type": "code",
   "execution_count": 40,
   "metadata": {},
   "outputs": [
    {
     "name": "stdout",
     "output_type": "stream",
     "text": [
      "0 1 2 1 2 0 2 0 0 2 "
     ]
    }
   ],
   "source": [
    "answer_list = []\n",
    "for li in lis:\n",
    "    sub_url = li.select_one('a._searchListTitleAnchor')['href']\n",
    "    driver.get(sub_url) \n",
    "    time.sleep(3)\n",
    "\n",
    "    answer_num = driver.find_element(By.CSS_SELECTOR, '._answerCount.num').text\n",
    "    click_num = (int(answer_num)-1) // 5\n",
    "    print(click_num, end=' ')\n",
    "    for _ in range(click_num):\n",
    "        driver.find_element(By.ID, 'nextPageButton').click()\n",
    "        time.sleep(3)\n",
    "    sub_soup = BeautifulSoup(driver.page_source, 'html.parser')\n",
    "    divs = sub_soup.select('.answer-content__list._answerList > div')\n",
    "\n",
    "    for div in divs:\n",
    "        ps = div.select('.se-text-paragraph.se-text-paragraph-align-')\n",
    "        anwser = ''\n",
    "        for p in ps:\n",
    "            text = p.get_text().strip()\n",
    "            if text == '\\u200b' or text == '':\n",
    "                continue\n",
    "            anwser += text + '\\n'\n",
    "        answer_list.append(anwser)\n",
    "    driver.back()\n",
    "    time.sleep(3)\n",
    "    "
   ]
  },
  {
   "cell_type": "code",
   "execution_count": 41,
   "metadata": {},
   "outputs": [
    {
     "name": "stdout",
     "output_type": "stream",
     "text": [
      "0 1 2 1 2 0 2 0 0 2 \n",
      "1 2 5 2 0 3 0 2 1 3 \n",
      "3 2 1 1 1 2 2 1 0 0 \n",
      "1 0 1 0 3 0 2 0 2 0 \n",
      "0 0 1 1 2 1 0 1 0 0 \n",
      "0 1 0 4 0 1 0 0 0 0 \n",
      "2 0 0 0 1 1 1 2 0 2 \n",
      "1 3 2 0 0 0 2 1 1 0 \n",
      "0 2 0 0 1 1 0 1 0 0 \n",
      "0 0 1 0 1 1 0 1 0 0 \n"
     ]
    }
   ],
   "source": [
    "answer_list = []\n",
    "driver = webdriver.Chrome()\n",
    "for page in range(1, 11):\n",
    "    url = f'https://kin.naver.com/search/list.naver?query={quote(\"설 선물\")}&page={page}'\n",
    "    driver.get(url)\n",
    "    time.sleep(2)\n",
    "    soup = BeautifulSoup(driver.page_source, 'html.parser')\n",
    "    lis = soup.select('.basic1 > li')\n",
    "\n",
    "    for li in lis:\n",
    "        sub_url = li.select_one('a._searchListTitleAnchor')['href']\n",
    "        driver.get(sub_url)\n",
    "        time.sleep(3)\n",
    "\n",
    "        answer_num = driver.find_element(By.CSS_SELECTOR, '._answerCount.num').text\n",
    "        click_num = (int(answer_num) - 1) // 5 \n",
    "        print(click_num, end=' ')\n",
    "        for _ in range(click_num):\n",
    "            driver.find_element(By.ID, 'nextPageButton').click()\n",
    "            time.sleep(4)\n",
    "\n",
    "        sub_soup = BeautifulSoup(driver.page_source, 'html.parser')\n",
    "        divs = sub_soup.select('.answer-content__list._answerList > div')\n",
    "        for div in divs:\n",
    "            ps = div.select('.se-text-paragraph.se-text-paragraph-align-')\n",
    "            answer = ''\n",
    "            for p in ps:\n",
    "                text = p.get_text().strip()\n",
    "                if text == '\\u200b' or text == '':\n",
    "                    continue\n",
    "                answer += text + '\\n'\n",
    "            answer_list.append(answer)\n",
    "\n",
    "        driver.back()\n",
    "        time.sleep(2)\n",
    "    print()\n",
    "\n",
    "driver.close()"
   ]
  },
  {
   "cell_type": "code",
   "execution_count": 42,
   "metadata": {},
   "outputs": [
    {
     "data": {
      "text/plain": [
       "720"
      ]
     },
     "execution_count": 42,
     "metadata": {},
     "output_type": "execute_result"
    }
   ],
   "source": [
    "len(answer_list)"
   ]
  },
  {
   "cell_type": "markdown",
   "metadata": {},
   "source": [
    "* 파일로 저장하기"
   ]
  },
  {
   "cell_type": "code",
   "execution_count": 43,
   "metadata": {},
   "outputs": [],
   "source": [
    "with open('설선물.txt', 'w', encoding='utf-8') as file:\n",
    "    for answer in answer_list:\n",
    "        file.write(answer + '\\n')"
   ]
  }
 ],
 "metadata": {
  "kernelspec": {
   "display_name": "Python 3",
   "language": "python",
   "name": "python3"
  },
  "language_info": {
   "codemirror_mode": {
    "name": "ipython",
    "version": 3
   },
   "file_extension": ".py",
   "mimetype": "text/x-python",
   "name": "python",
   "nbconvert_exporter": "python",
   "pygments_lexer": "ipython3",
   "version": "3.9.12"
  }
 },
 "nbformat": 4,
 "nbformat_minor": 2
}
