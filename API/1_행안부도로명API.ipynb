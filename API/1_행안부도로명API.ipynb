{
 "cells": [
  {
   "cell_type": "markdown",
   "id": "71b47396-4148-4ed3-a42d-8ed274a53f71",
   "metadata": {},
   "source": [
    "# 행정안전부 도로명 주소 API활용"
   ]
  },
  {
   "cell_type": "code",
   "execution_count": 1,
   "id": "3d456b56-d627-4daf-97f2-6fb25ad986eb",
   "metadata": {},
   "outputs": [],
   "source": [
    "import requests, json\n",
    "import pandas as pd\n",
    "from urllib.parse import quote"
   ]
  },
  {
   "cell_type": "code",
   "execution_count": 2,
   "id": "bbf2883c-83da-4cb2-9c95-b0fd6bb88791",
   "metadata": {},
   "outputs": [],
   "source": [
    "#API 키 가져오기\n",
    "with open('도로명주소apikey.txt') as file:\n",
    "    road_key = file.read()"
   ]
  },
  {
   "cell_type": "code",
   "execution_count": 3,
   "id": "bb23897f-f69e-498d-861e-a7352003e07a",
   "metadata": {},
   "outputs": [
    {
     "data": {
      "text/plain": [
       "'%EC%8B%A0%EC%B4%8C%EC%97%AD'"
      ]
     },
     "execution_count": 3,
     "metadata": {},
     "output_type": "execute_result"
    }
   ],
   "source": [
    "# url \n",
    "quote('신촌역')"
   ]
  },
  {
   "cell_type": "code",
   "execution_count": 4,
   "id": "3634a473-5ca6-4ea3-886f-60e5f985b9a6",
   "metadata": {},
   "outputs": [],
   "source": [
    "base_url = 'https://www.juso.go.kr/addrlink/addrLinkApi.do'\n",
    "params1 = f'confmKey={road_key}&currentPage=1&countPerPage=10'\n",
    "params2 = f'keyword={quote(\"신촌역\")}&resultType=json'\n",
    "url = f'{base_url}?{params1}&{params2}'"
   ]
  },
  {
   "cell_type": "markdown",
   "id": "b5455d77-7506-4334-8bb7-5bd20e20833a",
   "metadata": {},
   "source": [
    "# open API를 호출해서 결과 받아오기"
   ]
  },
  {
   "cell_type": "code",
   "execution_count": 5,
   "id": "a1f3edb3-21bc-46ed-9a9e-6d4ef98a7630",
   "metadata": {},
   "outputs": [
    {
     "data": {
      "text/plain": [
       "200"
      ]
     },
     "execution_count": 5,
     "metadata": {},
     "output_type": "execute_result"
    }
   ],
   "source": [
    "result = requests.get(url)\n",
    "result.status_code"
   ]
  },
  {
   "cell_type": "code",
   "execution_count": 6,
   "id": "5265bc7d-943a-4d3e-b9de-f733514f1985",
   "metadata": {},
   "outputs": [
    {
     "data": {
      "text/plain": [
       "'{\"results\":{\"common\":{\"errorMessage\":\"정상\",\"countPerPage\":\"10\",\"totalCount\":\"38\",\"errorCode\":\"0\",\"currentPage\":\"1\"},\"juso\":[{\"detBdNmList\":\"\",\"engAddr\":\"4 Sinchonnyeok-ro, Seodaemun-gu, Seoul\",\"rn\":\"신촌역로\",\"emdNm\":\"대현동\",\"zipNo\":\"03766\",\"roadAddrPart2\":\" (대현동)\",\"emdNo\":\"01\",\"sggNm\":\"서대문구\",\"jibunAddr\":\"서울특별시 서대문구 대현동 101-22\",\"siNm\":\"서울특별시\",\"roadAddrPart1\":\"서울특별시 서대문구 신촌역로 4\",\"bdNm\":\"\",\"admCd\":\"1141011200\",\"udrtYn\":\"0\",\"lnbrMnnm\":\"101\",\"roadAddr\":\"서울특별시 서대문구 신촌역로 4 (대현동)\",\"lnbrSlno\":\"22\",\"buldMnnm\":\"4\",\"bdKdcd\":\"0\",\"liNm\":\"\",\"rnMgtSn\":\"114103112007\",\"mtYn\":\"0\",\"bdMgtSn\":\"1141011200101010022024077\",\"buldSlno\":\"0\"},{\"detBdNmList\":\"\",\"engAddr\":\"7 Sinchonnyeok-ro, Seodaemun-gu, Seoul\",\"rn\":\"신촌역로\",\"emdNm\":\"대현동\",\"zipNo\":\"03780\",\"roadAddrPart2\":\" (대현동)\",\"emdNo\":\"01\",\"sggNm\":\"서대문구\",\"jibunAddr\":\"서울특별시 서대문구 대현동 104-5 신촌푸르지오시티\",\"siNm\":\"서울특별시\",\"roadAddrPart1\":\"서울특별시 서대문구 신촌역로 7\",\"bdNm\":\"신촌푸르지오시티\",\"admCd\":\"1141011200\",\"udrtYn\":\"0\",\"lnbrMnnm\":\"104\",\"roadAddr\":\"서울특별시 서대문구 신촌역로 7 (대현동)\",\"lnbrSlno\":\"5\",\"buldMnnm\":\"7\",\"bdKdcd\":\"0\",\"liNm\":\"\",\"rnMgtSn\":\"114103112007\",\"mtYn\":\"0\",\"bdMgtSn\":\"1141011200101040005024024\",\"buldSlno\":\"0\"},{\"detBdNmList\":\"피아노모텔\",\"engAddr\":\"9 Sinchonnyeok-ro, Seodaemun-gu, Seoul\",\"rn\":\"신촌역로\",\"emdNm\":\"대현동\",\"zipNo\":\"03780\",\"roadAddrPart2\":\" (대현동)\",\"emdNo\":\"01\",\"sggNm\":\"서대문구\",\"jibunAddr\":\"서울특별시 서대문구 대현동 104-4\",\"siNm\":\"서울특별시\",\"roadAddrPart1\":\"서울특별시 서대문구 신촌역로 9\",\"bdNm\":\"\",\"admCd\":\"1141011200\",\"udrtYn\":\"0\",\"lnbrMnnm\":\"104\",\"roadAddr\":\"서울특별시 서대문구 신촌역로 9 (대현동)\",\"lnbrSlno\":\"4\",\"buldMnnm\":\"9\",\"bdKdcd\":\"0\",\"liNm\":\"\",\"rnMgtSn\":\"114103112007\",\"mtYn\":\"0\",\"bdMgtSn\":\"1141011200101040004023916\",\"buldSlno\":\"0\"},{\"detBdNmList\":\"\",\"engAddr\":\"9-1 Sinchonnyeok-ro, Seodaemun-gu, Seoul\",\"rn\":\"신촌역로\",\"emdNm\":\"대현동\",\"zipNo\":\"03780\",\"roadAddrPart2\":\" (대현동)\",\"emdNo\":\"01\",\"sggNm\":\"서대문구\",\"jibunAddr\":\"서울특별시 서대문구 대현동 104-3\",\"siNm\":\"서울특별시\",\"roadAddrPart1\":\"서울특별시 서대문구 신촌역로 9-1\",\"bdNm\":\"\",\"admCd\":\"1141011200\",\"udrtYn\":\"0\",\"lnbrMnnm\":\"104\",\"roadAddr\":\"서울특별시 서대문구 신촌역로 9-1 (대현동)\",\"lnbrSlno\":\"3\",\"buldMnnm\":\"9\",\"bdKdcd\":\"0\",\"liNm\":\"\",\"rnMgtSn\":\"114103112007\",\"mtYn\":\"0\",\"bdMgtSn\":\"1141011200101040003000002\",\"buldSlno\":\"1\"},{\"detBdNmList\":\"\",\"engAddr\":\"10 Sinchonnyeok-ro, Seodaemun-gu, Seoul\",\"rn\":\"신촌역로\",\"emdNm\":\"대현동\",\"zipNo\":\"03766\",\"roadAddrPart2\":\" (대현동, 혜우빌딩)\",\"emdNo\":\"01\",\"sggNm\":\"서대문구\",\"jibunAddr\":\"서울특별시 서대문구 대현동 101-7 혜우빌딩\",\"siNm\":\"서울특별시\",\"roadAddrPart1\":\"서울특별시 서대문구 신촌역로 10\",\"bdNm\":\"혜우빌딩\",\"admCd\":\"1141011200\",\"udrtYn\":\"0\",\"lnbrMnnm\":\"101\",\"roadAddr\":\"서울특별시 서대문구 신촌역로 10 (대현동, 혜우빌딩)\",\"lnbrSlno\":\"7\",\"buldMnnm\":\"10\",\"bdKdcd\":\"1\",\"liNm\":\"\",\"rnMgtSn\":\"114103112007\",\"mtYn\":\"0\",\"bdMgtSn\":\"1141011200101010007023944\",\"buldSlno\":\"0\"},{\"detBdNmList\":\"\",\"engAddr\":\"11 Sinchonnyeok-ro, Seodaemun-gu, Seoul\",\"rn\":\"신촌역로\",\"emdNm\":\"대현동\",\"zipNo\":\"03780\",\"roadAddrPart2\":\" (대현동)\",\"emdNo\":\"01\",\"sggNm\":\"서대문구\",\"jibunAddr\":\"서울특별시 서대문구 대현동 104-16\",\"siNm\":\"서울특별시\",\"roadAddrPart1\":\"서울특별시 서대문구 신촌역로 11\",\"bdNm\":\"\",\"admCd\":\"1141011200\",\"udrtYn\":\"0\",\"lnbrMnnm\":\"104\",\"roadAddr\":\"서울특별시 서대문구 신촌역로 11 (대현동)\",\"lnbrSlno\":\"16\",\"buldMnnm\":\"11\",\"bdKdcd\":\"0\",\"liNm\":\"\",\"rnMgtSn\":\"114103112007\",\"mtYn\":\"0\",\"bdMgtSn\":\"1141011200101040002023985\",\"buldSlno\":\"0\"},{\"detBdNmList\":\"\",\"engAddr\":\"12 Sinchonnyeok-ro, Seodaemun-gu, Seoul\",\"rn\":\"신촌역로\",\"emdNm\":\"대현동\",\"zipNo\":\"03766\",\"roadAddrPart2\":\" (대현동)\",\"emdNo\":\"01\",\"sggNm\":\"서대문구\",\"jibunAddr\":\"서울특별시 서대문구 대현동 101-6\",\"siNm\":\"서울특별시\",\"roadAddrPart1\":\"서울특별시 서대문구 신촌역로 12\",\"bdNm\":\"\",\"admCd\":\"1141011200\",\"udrtYn\":\"0\",\"lnbrMnnm\":\"101\",\"roadAddr\":\"서울특별시 서대문구 신촌역로 12 (대현동)\",\"lnbrSlno\":\"6\",\"buldMnnm\":\"12\",\"bdKdcd\":\"0\",\"liNm\":\"\",\"rnMgtSn\":\"114103112007\",\"mtYn\":\"0\",\"bdMgtSn\":\"1141011200101010006024175\",\"buldSlno\":\"0\"},{\"detBdNmList\":\"\",\"engAddr\":\"13 Sinchonnyeok-ro, Seodaemun-gu, Seoul\",\"rn\":\"신촌역로\",\"emdNm\":\"대현동\",\"zipNo\":\"03780\",\"roadAddrPart2\":\" (대현동)\",\"emdNo\":\"01\",\"sggNm\":\"서대문구\",\"jibunAddr\":\"서울특별시 서대문구 대현동 104-1 세오빌딩\",\"siNm\":\"서울특별시\",\"roadAddrPart1\":\"서울특별시 서대문구 신촌역로 13\",\"bdNm\":\"세오빌딩\",\"admCd\":\"1141011200\",\"udrtYn\":\"0\",\"lnbrMnnm\":\"104\",\"roadAddr\":\"서울특별시 서대문구 신촌역로 13 (대현동)\",\"lnbrSlno\":\"1\",\"buldMnnm\":\"13\",\"bdKdcd\":\"0\",\"liNm\":\"\",\"rnMgtSn\":\"114103112007\",\"mtYn\":\"0\",\"bdMgtSn\":\"1141011200101040001000001\",\"buldSlno\":\"0\"},{\"detBdNmList\":\"\",\"engAddr\":\"13-1 Sinchonnyeok-ro, Seodaemun-gu, Seoul\",\"rn\":\"신촌역로\",\"emdNm\":\"대현동\",\"zipNo\":\"03780\",\"roadAddrPart2\":\" (대현동)\",\"emdNo\":\"01\",\"sggNm\":\"서대문구\",\"jibunAddr\":\"서울특별시 서대문구 대현동 110-25\",\"siNm\":\"서울특별시\",\"roadAddrPart1\":\"서울특별시 서대문구 신촌역로 13-1\",\"bdNm\":\"\",\"admCd\":\"1141011200\",\"udrtYn\":\"0\",\"lnbrMnnm\":\"110\",\"roadAddr\":\"서울특별시 서대문구 신촌역로 13-1 (대현동)\",\"lnbrSlno\":\"25\",\"buldMnnm\":\"13\",\"bdKdcd\":\"0\",\"liNm\":\"\",\"rnMgtSn\":\"114103112007\",\"mtYn\":\"0\",\"bdMgtSn\":\"1141011200101100025023942\",\"buldSlno\":\"1\"},{\"detBdNmList\":\"\",\"engAddr\":\"14 Sinchonnyeok-ro, Seodaemun-gu, Seoul\",\"rn\":\"신촌역로\",\"emdNm\":\"대현동\",\"zipNo\":\"03766\",\"roadAddrPart2\":\" (대현동)\",\"emdNo\":\"01\",\"sggNm\":\"서대문구\",\"jibunAddr\":\"서울특별시 서대문구 대현동 101-5\",\"siNm\":\"서울특별시\",\"roadAddrPart1\":\"서울특별시 서대문구 신촌역로 14\",\"bdNm\":\"\",\"admCd\":\"1141011200\",\"udrtYn\":\"0\",\"lnbrMnnm\":\"101\",\"roadAddr\":\"서울특별시 서대문구 신촌역로 14 (대현동)\",\"lnbrSlno\":\"5\",\"buldMnnm\":\"14\",\"bdKdcd\":\"0\",\"liNm\":\"\",\"rnMgtSn\":\"114103112007\",\"mtYn\":\"0\",\"bdMgtSn\":\"1141011200101010005023969\",\"buldSlno\":\"0\"}]}}'"
      ]
     },
     "execution_count": 6,
     "metadata": {},
     "output_type": "execute_result"
    }
   ],
   "source": [
    "result.text"
   ]
  },
  {
   "cell_type": "code",
   "execution_count": 7,
   "id": "4b3f794f-61f3-4c4c-b5c8-f6c81a840863",
   "metadata": {},
   "outputs": [],
   "source": [
    "# json data를 python에서 읽을수 있도록 변환\n",
    "res = json.loads(result.text)"
   ]
  },
  {
   "cell_type": "code",
   "execution_count": 8,
   "id": "49ea52b7-af72-4a5e-b948-1ad8c9dffdbb",
   "metadata": {},
   "outputs": [
    {
     "data": {
      "text/plain": [
       "dict_keys(['results'])"
      ]
     },
     "execution_count": 8,
     "metadata": {},
     "output_type": "execute_result"
    }
   ],
   "source": [
    "res.keys()"
   ]
  },
  {
   "cell_type": "code",
   "execution_count": 9,
   "id": "df781424-8ef2-4ded-a7c8-c7925e3e2f9c",
   "metadata": {},
   "outputs": [
    {
     "data": {
      "text/plain": [
       "dict_keys(['common', 'juso'])"
      ]
     },
     "execution_count": 9,
     "metadata": {},
     "output_type": "execute_result"
    }
   ],
   "source": [
    "res['results'].keys()"
   ]
  },
  {
   "cell_type": "code",
   "execution_count": 10,
   "id": "7ad89e21-ce08-4f96-a5d1-9029693f88d9",
   "metadata": {},
   "outputs": [
    {
     "data": {
      "text/plain": [
       "list"
      ]
     },
     "execution_count": 10,
     "metadata": {},
     "output_type": "execute_result"
    }
   ],
   "source": [
    "type(res['results']['juso'])"
   ]
  },
  {
   "cell_type": "code",
   "execution_count": 11,
   "id": "e98b3786-bcb2-4a19-a060-4343bb90ce65",
   "metadata": {},
   "outputs": [
    {
     "data": {
      "text/plain": [
       "10"
      ]
     },
     "execution_count": 11,
     "metadata": {},
     "output_type": "execute_result"
    }
   ],
   "source": [
    "len(res['results']['juso'])"
   ]
  },
  {
   "cell_type": "code",
   "execution_count": 12,
   "id": "6c789412-1602-41bd-9fbd-ddb4f0f69b73",
   "metadata": {},
   "outputs": [
    {
     "data": {
      "text/plain": [
       "{'detBdNmList': '',\n",
       " 'engAddr': '4 Sinchonnyeok-ro, Seodaemun-gu, Seoul',\n",
       " 'rn': '신촌역로',\n",
       " 'emdNm': '대현동',\n",
       " 'zipNo': '03766',\n",
       " 'roadAddrPart2': ' (대현동)',\n",
       " 'emdNo': '01',\n",
       " 'sggNm': '서대문구',\n",
       " 'jibunAddr': '서울특별시 서대문구 대현동 101-22',\n",
       " 'siNm': '서울특별시',\n",
       " 'roadAddrPart1': '서울특별시 서대문구 신촌역로 4',\n",
       " 'bdNm': '',\n",
       " 'admCd': '1141011200',\n",
       " 'udrtYn': '0',\n",
       " 'lnbrMnnm': '101',\n",
       " 'roadAddr': '서울특별시 서대문구 신촌역로 4 (대현동)',\n",
       " 'lnbrSlno': '22',\n",
       " 'buldMnnm': '4',\n",
       " 'bdKdcd': '0',\n",
       " 'liNm': '',\n",
       " 'rnMgtSn': '114103112007',\n",
       " 'mtYn': '0',\n",
       " 'bdMgtSn': '1141011200101010022024077',\n",
       " 'buldSlno': '0'}"
      ]
     },
     "execution_count": 12,
     "metadata": {},
     "output_type": "execute_result"
    }
   ],
   "source": [
    "res['results']['juso'][0]"
   ]
  },
  {
   "cell_type": "code",
   "execution_count": 13,
   "id": "c1935dbf-9c39-4a85-846c-6ee21eeb4b39",
   "metadata": {},
   "outputs": [
    {
     "data": {
      "text/plain": [
       "'서울특별시 서대문구 신촌역로 4 (대현동)'"
      ]
     },
     "execution_count": 13,
     "metadata": {},
     "output_type": "execute_result"
    }
   ],
   "source": [
    "res['results']['juso'][0]['roadAddr']"
   ]
  },
  {
   "cell_type": "markdown",
   "id": "912cdab6-d7b8-4083-9941-2c1338379d6a",
   "metadata": {},
   "source": [
    "# 여러검색어 보내기"
   ]
  },
  {
   "cell_type": "code",
   "execution_count": 14,
   "id": "674f439f-5fe1-4621-9bfd-481cba4c3d46",
   "metadata": {},
   "outputs": [
    {
     "data": {
      "text/plain": [
       "['신촌역', '홍대입구역', '여의도역', '서대문구청']"
      ]
     },
     "execution_count": 14,
     "metadata": {},
     "output_type": "execute_result"
    }
   ],
   "source": [
    "# 신촌역, 홍대역, 여의도역, 서대문구청\n",
    "stations = '신촌역, 홍대입구역, 여의도역, 서대문구청'.split(', ')\n",
    "stations"
   ]
  },
  {
   "cell_type": "code",
   "execution_count": 15,
   "id": "35a6dd9d-d79a-45e6-bdca-18a285296d92",
   "metadata": {},
   "outputs": [],
   "source": [
    "# 반복문\n",
    "base_url = 'https://www.juso.go.kr/addrlink/addrLinkApi.do'\n",
    "params1 = f'confmKey={road_key}&currentPage=1&countPerPage=10'\n",
    "# params2 = f'keyword={quote(\"신촌역\")}&resultType=json'\n",
    "\n",
    "url = f'{base_url}?{params1}&{params2}'\n",
    "road_addr_list = []\n",
    "for station in stations:\n",
    "    params2 = f'keyword={quote(station)}&resultType=json'\n",
    "    url = f'{base_url}?{params1}&{params2}'\n",
    "    result = requests.get(url)\n",
    "    if result.status_code == 200:\n",
    "        res = json.loads(result.text)\n",
    "        road_addr_list.append(res['results']['juso'][0]['roadAddr'])\n",
    "    else:\n",
    "        print(result.status_code)"
   ]
  },
  {
   "cell_type": "code",
   "execution_count": 16,
   "id": "8e1397ba-4d67-4a95-8be2-5b64801c1fca",
   "metadata": {},
   "outputs": [
    {
     "data": {
      "text/plain": [
       "['서울특별시 서대문구 신촌역로 4 (대현동)',\n",
       " '서울특별시 마포구 양화로 지하160 (동교동)',\n",
       " '서울특별시 영등포구 여의나루로 지하40 (여의도동)',\n",
       " '서울특별시 서대문구 연희로 247 (연희동)']"
      ]
     },
     "execution_count": 16,
     "metadata": {},
     "output_type": "execute_result"
    }
   ],
   "source": [
    "road_addr_list"
   ]
  },
  {
   "cell_type": "code",
   "execution_count": 17,
   "id": "43414b6b-30bb-407f-8673-5c15d4b8fd07",
   "metadata": {},
   "outputs": [],
   "source": [
    "df = pd.DataFrame({'이름' : stations, '주소':road_addr_list})\n",
    "df.to_csv('test_data/신촌주변지하철역.csv', index=False)"
   ]
  },
  {
   "cell_type": "code",
   "execution_count": 18,
   "id": "f7bd5ed5-75d4-4a59-915b-72ebfd46fcf5",
   "metadata": {},
   "outputs": [
    {
     "data": {
      "text/html": [
       "<div>\n",
       "<style scoped>\n",
       "    .dataframe tbody tr th:only-of-type {\n",
       "        vertical-align: middle;\n",
       "    }\n",
       "\n",
       "    .dataframe tbody tr th {\n",
       "        vertical-align: top;\n",
       "    }\n",
       "\n",
       "    .dataframe thead th {\n",
       "        text-align: right;\n",
       "    }\n",
       "</style>\n",
       "<table border=\"1\" class=\"dataframe\">\n",
       "  <thead>\n",
       "    <tr style=\"text-align: right;\">\n",
       "      <th></th>\n",
       "      <th>이름</th>\n",
       "      <th>주소</th>\n",
       "    </tr>\n",
       "  </thead>\n",
       "  <tbody>\n",
       "    <tr>\n",
       "      <th>0</th>\n",
       "      <td>신촌역</td>\n",
       "      <td>서울특별시 서대문구 신촌역로 4 (대현동)</td>\n",
       "    </tr>\n",
       "    <tr>\n",
       "      <th>1</th>\n",
       "      <td>홍대입구역</td>\n",
       "      <td>서울특별시 마포구 양화로 지하160 (동교동)</td>\n",
       "    </tr>\n",
       "    <tr>\n",
       "      <th>2</th>\n",
       "      <td>여의도역</td>\n",
       "      <td>서울특별시 영등포구 여의나루로 지하40 (여의도동)</td>\n",
       "    </tr>\n",
       "    <tr>\n",
       "      <th>3</th>\n",
       "      <td>서대문구청</td>\n",
       "      <td>서울특별시 서대문구 연희로 247 (연희동)</td>\n",
       "    </tr>\n",
       "  </tbody>\n",
       "</table>\n",
       "</div>"
      ],
      "text/plain": [
       "      이름                            주소\n",
       "0    신촌역       서울특별시 서대문구 신촌역로 4 (대현동)\n",
       "1  홍대입구역     서울특별시 마포구 양화로 지하160 (동교동)\n",
       "2   여의도역  서울특별시 영등포구 여의나루로 지하40 (여의도동)\n",
       "3  서대문구청      서울특별시 서대문구 연희로 247 (연희동)"
      ]
     },
     "execution_count": 18,
     "metadata": {},
     "output_type": "execute_result"
    }
   ],
   "source": [
    "pd.read_csv('test_data/신촌주변지하철역.csv')"
   ]
  },
  {
   "cell_type": "code",
   "execution_count": null,
   "id": "0e5766a6-2ff7-4028-b77e-b3f2f9aa1412",
   "metadata": {},
   "outputs": [],
   "source": []
  }
 ],
 "metadata": {
  "kernelspec": {
   "display_name": "Python 3 (ipykernel)",
   "language": "python",
   "name": "python3"
  },
  "language_info": {
   "codemirror_mode": {
    "name": "ipython",
    "version": 3
   },
   "file_extension": ".py",
   "mimetype": "text/x-python",
   "name": "python",
   "nbconvert_exporter": "python",
   "pygments_lexer": "ipython3",
   "version": "3.9.12"
  }
 },
 "nbformat": 4,
 "nbformat_minor": 5
}
