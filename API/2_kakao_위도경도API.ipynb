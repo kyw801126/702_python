{
 "cells": [
  {
   "cell_type": "markdown",
   "id": "b61028c2-8ab6-476b-b74c-d619e461606d",
   "metadata": {},
   "source": [
    "# 카카오API 위도경도 받아오기"
   ]
  },
  {
   "cell_type": "code",
   "execution_count": 1,
   "id": "4bae48b5-f802-4203-a010-895461961841",
   "metadata": {},
   "outputs": [],
   "source": [
    "import requests, json\n",
    "import pandas as pd\n",
    "from urllib.parse import quote"
   ]
  },
  {
   "cell_type": "code",
   "execution_count": 2,
   "id": "abc521aa-f552-4047-86b3-ddc74e138fdc",
   "metadata": {},
   "outputs": [],
   "source": [
    "#API 키 가져오기\n",
    "with open('KakaoAPI.txt') as file:\n",
    "    road_key = file.read()"
   ]
  },
  {
   "cell_type": "code",
   "execution_count": 5,
   "id": "34ab8d2e-ce34-48a9-9090-930b81bf3916",
   "metadata": {},
   "outputs": [],
   "source": [
    "# URL 만들기\n",
    "base_url = 'https://dapi.kakao.com/v2/local/search/address.json'\n",
    "addr = '서울특별시 서대문구 신촌역로 4 (대현동)'\n",
    "url = f'{base_url}?query={quote(addr)}'"
   ]
  },
  {
   "cell_type": "code",
   "execution_count": 6,
   "id": "537f0174-582d-424e-84e2-34e5ea7581eb",
   "metadata": {},
   "outputs": [],
   "source": [
    "#Header : Authorization: KakaoAK ${REST_API_KEY}\n",
    "header = {'Authorization': f'KakaoAK {road_key}'}"
   ]
  },
  {
   "cell_type": "markdown",
   "id": "8468c169-ab9b-4d7e-9e5f-366ff3450cbf",
   "metadata": {},
   "source": [
    "# Kakao Local API 호출하여 결과를 가져오기"
   ]
  },
  {
   "cell_type": "code",
   "execution_count": 7,
   "id": "6a3006b5-6e34-4b91-ac77-3be6439ea9d3",
   "metadata": {},
   "outputs": [
    {
     "data": {
      "text/plain": [
       "{'documents': [{'address': {'address_name': '서울 서대문구 대현동 101-22',\n",
       "    'b_code': '1141011200',\n",
       "    'h_code': '1141058500',\n",
       "    'main_address_no': '101',\n",
       "    'mountain_yn': 'N',\n",
       "    'region_1depth_name': '서울',\n",
       "    'region_2depth_name': '서대문구',\n",
       "    'region_3depth_h_name': '신촌동',\n",
       "    'region_3depth_name': '대현동',\n",
       "    'sub_address_no': '22',\n",
       "    'x': '126.94311045086',\n",
       "    'y': '37.5571114864975'},\n",
       "   'address_name': '서울 서대문구 신촌역로 4',\n",
       "   'address_type': 'ROAD_ADDR',\n",
       "   'road_address': {'address_name': '서울 서대문구 신촌역로 4',\n",
       "    'building_name': '',\n",
       "    'main_building_no': '4',\n",
       "    'region_1depth_name': '서울',\n",
       "    'region_2depth_name': '서대문구',\n",
       "    'region_3depth_name': '대현동',\n",
       "    'road_name': '신촌역로',\n",
       "    'sub_building_no': '',\n",
       "    'underground_yn': 'N',\n",
       "    'x': '126.94311045086',\n",
       "    'y': '37.5571114864975',\n",
       "    'zone_no': '03766'},\n",
       "   'x': '126.94311045086',\n",
       "   'y': '37.5571114864975'}],\n",
       " 'meta': {'is_end': True, 'pageable_count': 1, 'total_count': 1}}"
      ]
     },
     "execution_count": 7,
     "metadata": {},
     "output_type": "execute_result"
    }
   ],
   "source": [
    "result = requests.get(url, headers=header).json()\n",
    "result"
   ]
  },
  {
   "cell_type": "code",
   "execution_count": 8,
   "id": "10e93d01-93b9-48bf-9a85-9d9a51f8e7e6",
   "metadata": {},
   "outputs": [],
   "source": [
    "lat = result['documents'][0]['y']\n",
    "lng = result['documents'][0]['x']"
   ]
  },
  {
   "cell_type": "code",
   "execution_count": 9,
   "id": "aae90cfc-9dfe-4ec2-8a23-903bbc614cd3",
   "metadata": {},
   "outputs": [
    {
     "data": {
      "text/plain": [
       "('37.5571114864975', '126.94311045086')"
      ]
     },
     "execution_count": 9,
     "metadata": {},
     "output_type": "execute_result"
    }
   ],
   "source": [
    "lat, lng"
   ]
  },
  {
   "cell_type": "markdown",
   "id": "59cc5fb4-50ce-4909-a720-87a607ff9aa6",
   "metadata": {},
   "source": [
    "# 지하철역 정보 완성하기"
   ]
  },
  {
   "cell_type": "code",
   "execution_count": 10,
   "id": "f66a628c-1ed6-4e13-a0a1-157282f75276",
   "metadata": {},
   "outputs": [
    {
     "data": {
      "text/html": [
       "<div>\n",
       "<style scoped>\n",
       "    .dataframe tbody tr th:only-of-type {\n",
       "        vertical-align: middle;\n",
       "    }\n",
       "\n",
       "    .dataframe tbody tr th {\n",
       "        vertical-align: top;\n",
       "    }\n",
       "\n",
       "    .dataframe thead th {\n",
       "        text-align: right;\n",
       "    }\n",
       "</style>\n",
       "<table border=\"1\" class=\"dataframe\">\n",
       "  <thead>\n",
       "    <tr style=\"text-align: right;\">\n",
       "      <th></th>\n",
       "      <th>이름</th>\n",
       "      <th>주소</th>\n",
       "    </tr>\n",
       "  </thead>\n",
       "  <tbody>\n",
       "    <tr>\n",
       "      <th>0</th>\n",
       "      <td>신촌역</td>\n",
       "      <td>서울특별시 서대문구 신촌역로 4 (대현동)</td>\n",
       "    </tr>\n",
       "    <tr>\n",
       "      <th>1</th>\n",
       "      <td>홍대입구역</td>\n",
       "      <td>서울특별시 마포구 양화로 지하160 (동교동)</td>\n",
       "    </tr>\n",
       "    <tr>\n",
       "      <th>2</th>\n",
       "      <td>여의도역</td>\n",
       "      <td>서울특별시 영등포구 여의나루로 지하40 (여의도동)</td>\n",
       "    </tr>\n",
       "    <tr>\n",
       "      <th>3</th>\n",
       "      <td>서대문구청</td>\n",
       "      <td>서울특별시 서대문구 연희로 247 (연희동)</td>\n",
       "    </tr>\n",
       "  </tbody>\n",
       "</table>\n",
       "</div>"
      ],
      "text/plain": [
       "      이름                            주소\n",
       "0    신촌역       서울특별시 서대문구 신촌역로 4 (대현동)\n",
       "1  홍대입구역     서울특별시 마포구 양화로 지하160 (동교동)\n",
       "2   여의도역  서울특별시 영등포구 여의나루로 지하40 (여의도동)\n",
       "3  서대문구청      서울특별시 서대문구 연희로 247 (연희동)"
      ]
     },
     "execution_count": 10,
     "metadata": {},
     "output_type": "execute_result"
    }
   ],
   "source": [
    "df = pd.read_csv('test_data/신촌주변지하철역.csv')\n",
    "df"
   ]
  },
  {
   "cell_type": "code",
   "execution_count": 14,
   "id": "43d18f45-cfc3-452d-ae06-fef029f3d21e",
   "metadata": {},
   "outputs": [],
   "source": [
    "lat_list, lng_list = [], []\n",
    "for i in df.index:\n",
    "    url = f'{base_url}?query={quote(df[\"주소\"][i])}'\n",
    "    result = requests.get(url, headers=header).json()\n",
    "    lat_list.append(result['documents'][0]['y'])\n",
    "    lng_list.append(result['documents'][0]['x'])"
   ]
  },
  {
   "cell_type": "code",
   "execution_count": 15,
   "id": "548a8b8d-f98c-461a-a5cf-8b37f9ef2ba9",
   "metadata": {},
   "outputs": [
    {
     "data": {
      "text/plain": [
       "['37.5571114864975',\n",
       " '37.5568904093718',\n",
       " '37.5218423045786',\n",
       " '37.5791549275777']"
      ]
     },
     "execution_count": 15,
     "metadata": {},
     "output_type": "execute_result"
    }
   ],
   "source": [
    "lat_list"
   ]
  },
  {
   "cell_type": "code",
   "execution_count": 16,
   "id": "e931c04a-262a-404e-9b3d-b0bb8a5b13b5",
   "metadata": {},
   "outputs": [
    {
     "data": {
      "text/plain": [
       "['126.94311045086', '126.923674307594', '126.924484687694', '126.935815915686']"
      ]
     },
     "execution_count": 16,
     "metadata": {},
     "output_type": "execute_result"
    }
   ],
   "source": [
    "lng_list"
   ]
  },
  {
   "cell_type": "code",
   "execution_count": 17,
   "id": "4a984933-55d2-47fa-9677-7cd8b934ba59",
   "metadata": {},
   "outputs": [],
   "source": [
    "df['위도'] = lat_list\n",
    "df['경도'] = lng_list"
   ]
  },
  {
   "cell_type": "code",
   "execution_count": 18,
   "id": "caf78879-d95a-4994-ad6c-4566d694b49f",
   "metadata": {},
   "outputs": [
    {
     "data": {
      "text/html": [
       "<div>\n",
       "<style scoped>\n",
       "    .dataframe tbody tr th:only-of-type {\n",
       "        vertical-align: middle;\n",
       "    }\n",
       "\n",
       "    .dataframe tbody tr th {\n",
       "        vertical-align: top;\n",
       "    }\n",
       "\n",
       "    .dataframe thead th {\n",
       "        text-align: right;\n",
       "    }\n",
       "</style>\n",
       "<table border=\"1\" class=\"dataframe\">\n",
       "  <thead>\n",
       "    <tr style=\"text-align: right;\">\n",
       "      <th></th>\n",
       "      <th>이름</th>\n",
       "      <th>주소</th>\n",
       "      <th>위도</th>\n",
       "      <th>경도</th>\n",
       "    </tr>\n",
       "  </thead>\n",
       "  <tbody>\n",
       "    <tr>\n",
       "      <th>0</th>\n",
       "      <td>신촌역</td>\n",
       "      <td>서울특별시 서대문구 신촌역로 4 (대현동)</td>\n",
       "      <td>37.5571114864975</td>\n",
       "      <td>126.94311045086</td>\n",
       "    </tr>\n",
       "    <tr>\n",
       "      <th>1</th>\n",
       "      <td>홍대입구역</td>\n",
       "      <td>서울특별시 마포구 양화로 지하160 (동교동)</td>\n",
       "      <td>37.5568904093718</td>\n",
       "      <td>126.923674307594</td>\n",
       "    </tr>\n",
       "    <tr>\n",
       "      <th>2</th>\n",
       "      <td>여의도역</td>\n",
       "      <td>서울특별시 영등포구 여의나루로 지하40 (여의도동)</td>\n",
       "      <td>37.5218423045786</td>\n",
       "      <td>126.924484687694</td>\n",
       "    </tr>\n",
       "    <tr>\n",
       "      <th>3</th>\n",
       "      <td>서대문구청</td>\n",
       "      <td>서울특별시 서대문구 연희로 247 (연희동)</td>\n",
       "      <td>37.5791549275777</td>\n",
       "      <td>126.935815915686</td>\n",
       "    </tr>\n",
       "  </tbody>\n",
       "</table>\n",
       "</div>"
      ],
      "text/plain": [
       "      이름                            주소                위도                경도\n",
       "0    신촌역       서울특별시 서대문구 신촌역로 4 (대현동)  37.5571114864975   126.94311045086\n",
       "1  홍대입구역     서울특별시 마포구 양화로 지하160 (동교동)  37.5568904093718  126.923674307594\n",
       "2   여의도역  서울특별시 영등포구 여의나루로 지하40 (여의도동)  37.5218423045786  126.924484687694\n",
       "3  서대문구청      서울특별시 서대문구 연희로 247 (연희동)  37.5791549275777  126.935815915686"
      ]
     },
     "execution_count": 18,
     "metadata": {},
     "output_type": "execute_result"
    }
   ],
   "source": [
    "df"
   ]
  },
  {
   "cell_type": "code",
   "execution_count": 19,
   "id": "312d8456-0db9-417e-a4f8-3cfdb2e40c80",
   "metadata": {},
   "outputs": [],
   "source": [
    "df.to_csv('test_data/신촌주변지하철역.csv', index=False)"
   ]
  },
  {
   "cell_type": "code",
   "execution_count": 20,
   "id": "d95e7b52-241b-4305-a9c3-4092ae73b144",
   "metadata": {},
   "outputs": [
    {
     "data": {
      "text/html": [
       "<div>\n",
       "<style scoped>\n",
       "    .dataframe tbody tr th:only-of-type {\n",
       "        vertical-align: middle;\n",
       "    }\n",
       "\n",
       "    .dataframe tbody tr th {\n",
       "        vertical-align: top;\n",
       "    }\n",
       "\n",
       "    .dataframe thead th {\n",
       "        text-align: right;\n",
       "    }\n",
       "</style>\n",
       "<table border=\"1\" class=\"dataframe\">\n",
       "  <thead>\n",
       "    <tr style=\"text-align: right;\">\n",
       "      <th></th>\n",
       "      <th>이름</th>\n",
       "      <th>주소</th>\n",
       "      <th>위도</th>\n",
       "      <th>경도</th>\n",
       "    </tr>\n",
       "  </thead>\n",
       "  <tbody>\n",
       "    <tr>\n",
       "      <th>0</th>\n",
       "      <td>신촌역</td>\n",
       "      <td>서울특별시 서대문구 신촌역로 4 (대현동)</td>\n",
       "      <td>37.557111</td>\n",
       "      <td>126.943110</td>\n",
       "    </tr>\n",
       "    <tr>\n",
       "      <th>1</th>\n",
       "      <td>홍대입구역</td>\n",
       "      <td>서울특별시 마포구 양화로 지하160 (동교동)</td>\n",
       "      <td>37.556890</td>\n",
       "      <td>126.923674</td>\n",
       "    </tr>\n",
       "    <tr>\n",
       "      <th>2</th>\n",
       "      <td>여의도역</td>\n",
       "      <td>서울특별시 영등포구 여의나루로 지하40 (여의도동)</td>\n",
       "      <td>37.521842</td>\n",
       "      <td>126.924485</td>\n",
       "    </tr>\n",
       "    <tr>\n",
       "      <th>3</th>\n",
       "      <td>서대문구청</td>\n",
       "      <td>서울특별시 서대문구 연희로 247 (연희동)</td>\n",
       "      <td>37.579155</td>\n",
       "      <td>126.935816</td>\n",
       "    </tr>\n",
       "  </tbody>\n",
       "</table>\n",
       "</div>"
      ],
      "text/plain": [
       "      이름                            주소         위도          경도\n",
       "0    신촌역       서울특별시 서대문구 신촌역로 4 (대현동)  37.557111  126.943110\n",
       "1  홍대입구역     서울특별시 마포구 양화로 지하160 (동교동)  37.556890  126.923674\n",
       "2   여의도역  서울특별시 영등포구 여의나루로 지하40 (여의도동)  37.521842  126.924485\n",
       "3  서대문구청      서울특별시 서대문구 연희로 247 (연희동)  37.579155  126.935816"
      ]
     },
     "execution_count": 20,
     "metadata": {},
     "output_type": "execute_result"
    }
   ],
   "source": [
    "pd.read_csv('test_data/신촌주변지하철역.csv')"
   ]
  },
  {
   "cell_type": "code",
   "execution_count": null,
   "id": "53b82d8b-2ed8-4151-9ddf-d8fd9b9df0ae",
   "metadata": {},
   "outputs": [],
   "source": []
  }
 ],
 "metadata": {
  "kernelspec": {
   "display_name": "Python 3 (ipykernel)",
   "language": "python",
   "name": "python3"
  },
  "language_info": {
   "codemirror_mode": {
    "name": "ipython",
    "version": 3
   },
   "file_extension": ".py",
   "mimetype": "text/x-python",
   "name": "python",
   "nbconvert_exporter": "python",
   "pygments_lexer": "ipython3",
   "version": "3.9.12"
  }
 },
 "nbformat": 4,
 "nbformat_minor": 5
}
