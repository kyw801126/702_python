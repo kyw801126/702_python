{
  "nbformat": 4,
  "nbformat_minor": 0,
  "metadata": {
    "colab": {
      "provenance": []
    },
    "kernelspec": {
      "name": "python3",
      "display_name": "Python 3"
    },
    "language_info": {
      "name": "python"
    }
  },
  "cells": [
    {
      "cell_type": "markdown",
      "source": [
        "연습문제"
      ],
      "metadata": {
        "id": "55NhnajMI52z"
      }
    },
    {
      "cell_type": "code",
      "execution_count": 1,
      "metadata": {
        "id": "TmcAXl9GItp-"
      },
      "outputs": [],
      "source": [
        "import numpy as np"
      ]
    },
    {
      "cell_type": "markdown",
      "source": [
        "1.번 정답"
      ],
      "metadata": {
        "id": "9qcv8xp9JVJy"
      }
    },
    {
      "cell_type": "code",
      "source": [
        "np.arange(1,9).reshape(2, 4)*10"
      ],
      "metadata": {
        "colab": {
          "base_uri": "https://localhost:8080/"
        },
        "id": "3gF4Yt2rI13q",
        "outputId": "6e9ac71b-6e70-4aa7-99f2-48cd35454bce"
      },
      "execution_count": 3,
      "outputs": [
        {
          "output_type": "execute_result",
          "data": {
            "text/plain": [
              "array([[10, 20, 30, 40],\n",
              "       [50, 60, 70, 80]])"
            ]
          },
          "metadata": {},
          "execution_count": 3
        }
      ]
    },
    {
      "cell_type": "markdown",
      "source": [
        "2번 정답"
      ],
      "metadata": {
        "id": "KYJUHy8JJX-Z"
      }
    },
    {
      "cell_type": "code",
      "source": [
        "m = np.arange(15).reshape(3, 5)\n",
        "m"
      ],
      "metadata": {
        "colab": {
          "base_uri": "https://localhost:8080/"
        },
        "id": "aYB-DZhuJc0B",
        "outputId": "b8b99244-9216-40b7-8ec9-580e13c3f081"
      },
      "execution_count": 6,
      "outputs": [
        {
          "output_type": "execute_result",
          "data": {
            "text/plain": [
              "array([[ 0,  1,  2,  3,  4],\n",
              "       [ 5,  6,  7,  8,  9],\n",
              "       [10, 11, 12, 13, 14]])"
            ]
          },
          "metadata": {},
          "execution_count": 6
        }
      ]
    },
    {
      "cell_type": "code",
      "source": [
        "#1번 7인덱싱 / 2번 14 인덱싱\n",
        "m[1,2], m[-1, -1]"
      ],
      "metadata": {
        "colab": {
          "base_uri": "https://localhost:8080/"
        },
        "id": "VaynrVWUJI56",
        "outputId": "1edb5d23-0f65-459f-91c7-84da5204f8de"
      },
      "execution_count": 8,
      "outputs": [
        {
          "output_type": "execute_result",
          "data": {
            "text/plain": [
              "(7, 14)"
            ]
          },
          "metadata": {},
          "execution_count": 8
        }
      ]
    },
    {
      "cell_type": "code",
      "source": [
        "# 3번 [6,7] 슬라이싱\n",
        "m[1, 1:3]"
      ],
      "metadata": {
        "colab": {
          "base_uri": "https://localhost:8080/"
        },
        "id": "SAfdjUrAJxAB",
        "outputId": "dbb7a4f9-1ba3-4544-992a-448b7ae4a613"
      },
      "execution_count": 9,
      "outputs": [
        {
          "output_type": "execute_result",
          "data": {
            "text/plain": [
              "array([6, 7])"
            ]
          },
          "metadata": {},
          "execution_count": 9
        }
      ]
    },
    {
      "cell_type": "code",
      "source": [
        "# 4번 [7,12] 슬라이싱\n",
        "m[1:3, 2], m[1:, 2]"
      ],
      "metadata": {
        "colab": {
          "base_uri": "https://localhost:8080/"
        },
        "id": "YPbkbcryJ7mh",
        "outputId": "461a4692-333b-4d17-b847-4571f243c071"
      },
      "execution_count": 11,
      "outputs": [
        {
          "output_type": "execute_result",
          "data": {
            "text/plain": [
              "(array([ 7, 12]), array([ 7, 12]))"
            ]
          },
          "metadata": {},
          "execution_count": 11
        }
      ]
    },
    {
      "cell_type": "code",
      "source": [
        "# 5번 [[3,4], [8,9]]\n",
        "m[:2, -2:], m[:2, 3:]"
      ],
      "metadata": {
        "colab": {
          "base_uri": "https://localhost:8080/"
        },
        "id": "AzHp5RTNKC2x",
        "outputId": "f1c99493-12d1-4754-fafa-707977c662bf"
      },
      "execution_count": 13,
      "outputs": [
        {
          "output_type": "execute_result",
          "data": {
            "text/plain": [
              "(array([[3, 4],\n",
              "        [8, 9]]),\n",
              " array([[3, 4],\n",
              "        [8, 9]]))"
            ]
          },
          "metadata": {},
          "execution_count": 13
        }
      ]
    },
    {
      "cell_type": "markdown",
      "source": [
        "3번"
      ],
      "metadata": {
        "id": "Swhywr3qKecq"
      }
    },
    {
      "cell_type": "code",
      "source": [
        "f = m.flatten()\n",
        "f"
      ],
      "metadata": {
        "colab": {
          "base_uri": "https://localhost:8080/"
        },
        "id": "jOT42NgGKTuR",
        "outputId": "6e34e2c9-bd7c-4589-cf0e-374b797a705c"
      },
      "execution_count": 15,
      "outputs": [
        {
          "output_type": "execute_result",
          "data": {
            "text/plain": [
              "array([ 0,  1,  2,  3,  4,  5,  6,  7,  8,  9, 10, 11, 12, 13, 14])"
            ]
          },
          "metadata": {},
          "execution_count": 15
        }
      ]
    },
    {
      "cell_type": "code",
      "source": [
        "# 1번 3의배수\n",
        "f[f % 3 == 0]"
      ],
      "metadata": {
        "colab": {
          "base_uri": "https://localhost:8080/"
        },
        "id": "03wn984SKjfZ",
        "outputId": "7f8af0ae-3c8c-4f14-95f7-5e943795891c"
      },
      "execution_count": 19,
      "outputs": [
        {
          "output_type": "execute_result",
          "data": {
            "text/plain": [
              "array([ 0,  3,  6,  9, 12])"
            ]
          },
          "metadata": {},
          "execution_count": 19
        }
      ]
    },
    {
      "cell_type": "code",
      "source": [
        "# 2번 4로 나눠 나머지 1\n",
        "f[f % 4 == 1]"
      ],
      "metadata": {
        "colab": {
          "base_uri": "https://localhost:8080/"
        },
        "id": "dT6YBQUfKtdB",
        "outputId": "514c6842-43d4-4aee-dbf1-be7728dd65b0"
      },
      "execution_count": 20,
      "outputs": [
        {
          "output_type": "execute_result",
          "data": {
            "text/plain": [
              "array([ 1,  5,  9, 13])"
            ]
          },
          "metadata": {},
          "execution_count": 20
        }
      ]
    },
    {
      "cell_type": "code",
      "source": [
        "# 3번 3로 나눠면 나눠지고 4로 나누면 나머지 1\n",
        "f[np.logical_and(f%3==0, f%4==1)]"
      ],
      "metadata": {
        "colab": {
          "base_uri": "https://localhost:8080/"
        },
        "id": "33FUHmxRK4qT",
        "outputId": "9df2a811-156d-4cf3-f18b-e065f3e686b7"
      },
      "execution_count": 21,
      "outputs": [
        {
          "output_type": "execute_result",
          "data": {
            "text/plain": [
              "array([9])"
            ]
          },
          "metadata": {},
          "execution_count": 21
        }
      ]
    },
    {
      "cell_type": "markdown",
      "source": [
        "4번"
      ],
      "metadata": {
        "id": "NJA54RJcLvXA"
      }
    },
    {
      "cell_type": "code",
      "source": [
        "np.eye(5,5, k=-1)*3 + np.eye(5,5)*2 + np.eye(5,5, k=1)"
      ],
      "metadata": {
        "colab": {
          "base_uri": "https://localhost:8080/"
        },
        "id": "YS3CR45nLc5S",
        "outputId": "2cdc5242-162d-4f21-ee04-7dabe1816d04"
      },
      "execution_count": 25,
      "outputs": [
        {
          "output_type": "execute_result",
          "data": {
            "text/plain": [
              "array([[2., 1., 0., 0., 0.],\n",
              "       [3., 2., 1., 0., 0.],\n",
              "       [0., 3., 2., 1., 0.],\n",
              "       [0., 0., 3., 2., 1.],\n",
              "       [0., 0., 0., 3., 2.]])"
            ]
          },
          "metadata": {},
          "execution_count": 25
        }
      ]
    },
    {
      "cell_type": "markdown",
      "source": [
        "5번"
      ],
      "metadata": {
        "id": "9dth9E0_SjET"
      }
    },
    {
      "cell_type": "code",
      "source": [
        "np.random.seed(2023)\n",
        "m = np.random.uniform(0,10, 30).reshape(5,6).round(3)\n",
        "m"
      ],
      "metadata": {
        "colab": {
          "base_uri": "https://localhost:8080/"
        },
        "id": "dkyTY9-6Sh_4",
        "outputId": "0f164be0-ca56-4b83-c0c8-2d4e84b9c914"
      },
      "execution_count": 30,
      "outputs": [
        {
          "output_type": "execute_result",
          "data": {
            "text/plain": [
              "array([[3.22 , 8.904, 5.881, 1.266, 1.413, 4.679],\n",
              "       [0.221, 7.273, 5.244, 5.449, 4.564, 5.014],\n",
              "       [3.945, 1.512, 3.609, 1.621, 3.38 , 1.803],\n",
              "       [3.91 , 0.356, 5.649, 2.035, 3.206, 3.766],\n",
              "       [1.841, 1.04 , 4.549, 1.959, 3.785, 9.305]])"
            ]
          },
          "metadata": {},
          "execution_count": 30
        }
      ]
    },
    {
      "cell_type": "code",
      "source": [
        "# 1번\n",
        "m.max(), np.max(m)"
      ],
      "metadata": {
        "colab": {
          "base_uri": "https://localhost:8080/"
        },
        "id": "6hCYIlV0TBqc",
        "outputId": "0ad2774b-51da-4cbb-bd0d-11be354933ac"
      },
      "execution_count": 32,
      "outputs": [
        {
          "output_type": "execute_result",
          "data": {
            "text/plain": [
              "(9.305, 9.305)"
            ]
          },
          "metadata": {},
          "execution_count": 32
        }
      ]
    },
    {
      "cell_type": "code",
      "source": [
        "# 2번\n",
        "np.sum(m), m.sum()"
      ],
      "metadata": {
        "colab": {
          "base_uri": "https://localhost:8080/"
        },
        "id": "Tt3LQ7weTbY6",
        "outputId": "bb6efe96-f9d4-4603-f049-9409d09cf2b5"
      },
      "execution_count": 33,
      "outputs": [
        {
          "output_type": "execute_result",
          "data": {
            "text/plain": [
              "(110.399, 110.399)"
            ]
          },
          "metadata": {},
          "execution_count": 33
        }
      ]
    },
    {
      "cell_type": "code",
      "source": [
        "# 2번\n",
        "np.sum(m, axis=1)"
      ],
      "metadata": {
        "colab": {
          "base_uri": "https://localhost:8080/"
        },
        "id": "qOrouwZyTm-6",
        "outputId": "6f4dd96b-3db8-4ac5-c297-6e6bf2605694"
      },
      "execution_count": 36,
      "outputs": [
        {
          "output_type": "execute_result",
          "data": {
            "text/plain": [
              "array([25.363, 27.765, 15.87 , 18.922, 22.479])"
            ]
          },
          "metadata": {},
          "execution_count": 36
        }
      ]
    },
    {
      "cell_type": "code",
      "source": [
        "# 3번\n",
        "np.max(m, axis=1)"
      ],
      "metadata": {
        "colab": {
          "base_uri": "https://localhost:8080/"
        },
        "id": "ib8CBvdQTzqa",
        "outputId": "0b702db4-3f60-423d-a5c6-d4820f5287a0"
      },
      "execution_count": 37,
      "outputs": [
        {
          "output_type": "execute_result",
          "data": {
            "text/plain": [
              "array([8.904, 7.273, 3.945, 5.649, 9.305])"
            ]
          },
          "metadata": {},
          "execution_count": 37
        }
      ]
    },
    {
      "cell_type": "code",
      "source": [
        "# 4번\n",
        "np.mean(m, axis=0)"
      ],
      "metadata": {
        "colab": {
          "base_uri": "https://localhost:8080/"
        },
        "id": "kT3G2jIOT17K",
        "outputId": "d72f28a3-f169-40ca-a989-9d9dc11ee3b5"
      },
      "execution_count": 39,
      "outputs": [
        {
          "output_type": "execute_result",
          "data": {
            "text/plain": [
              "array([2.6274, 3.817 , 4.9864, 2.466 , 3.2696, 4.9134])"
            ]
          },
          "metadata": {},
          "execution_count": 39
        }
      ]
    },
    {
      "cell_type": "code",
      "source": [
        "# 5번\n",
        "np.min(m, axis=0)"
      ],
      "metadata": {
        "colab": {
          "base_uri": "https://localhost:8080/"
        },
        "id": "gJ5igWPxUOr6",
        "outputId": "e14e09fa-3dce-4b8a-c8e2-df1d354328ce"
      },
      "execution_count": 41,
      "outputs": [
        {
          "output_type": "execute_result",
          "data": {
            "text/plain": [
              "array([0.221, 0.356, 3.609, 1.266, 1.413, 1.803])"
            ]
          },
          "metadata": {},
          "execution_count": 41
        }
      ]
    },
    {
      "cell_type": "markdown",
      "source": [
        "6번"
      ],
      "metadata": {
        "id": "p7wKMX4tVIyE"
      }
    },
    {
      "cell_type": "code",
      "source": [
        "score = np.array([[1, 2, 3, 4], [46, 99, 100, 71], [81, 59,90, 100]])\n",
        "score"
      ],
      "metadata": {
        "colab": {
          "base_uri": "https://localhost:8080/"
        },
        "id": "bUGki7HPUuVz",
        "outputId": "c9017a94-02b2-42db-8c25-7fbc6f5a7c05"
      },
      "execution_count": 42,
      "outputs": [
        {
          "output_type": "execute_result",
          "data": {
            "text/plain": [
              "array([[  1,   2,   3,   4],\n",
              "       [ 46,  99, 100,  71],\n",
              "       [ 81,  59,  90, 100]])"
            ]
          },
          "metadata": {},
          "execution_count": 42
        }
      ]
    },
    {
      "cell_type": "code",
      "source": [
        "np.sort(score)"
      ],
      "metadata": {
        "colab": {
          "base_uri": "https://localhost:8080/"
        },
        "id": "t3wooar4VbXK",
        "outputId": "aa584da0-3c33-41c1-efc5-c7b52dcddb42"
      },
      "execution_count": 43,
      "outputs": [
        {
          "output_type": "execute_result",
          "data": {
            "text/plain": [
              "array([[  1,   2,   3,   4],\n",
              "       [ 46,  71,  99, 100],\n",
              "       [ 59,  81,  90, 100]])"
            ]
          },
          "metadata": {},
          "execution_count": 43
        }
      ]
    },
    {
      "cell_type": "code",
      "source": [
        "score"
      ],
      "metadata": {
        "colab": {
          "base_uri": "https://localhost:8080/"
        },
        "id": "bb9u0Qw6WRQk",
        "outputId": "e0059950-a883-40e4-fe64-6d9789137a14"
      },
      "execution_count": 47,
      "outputs": [
        {
          "output_type": "execute_result",
          "data": {
            "text/plain": [
              "array([[  1,   2,   3,   4],\n",
              "       [ 46,  99, 100,  71],\n",
              "       [ 81,  59,  90, 100]])"
            ]
          },
          "metadata": {},
          "execution_count": 47
        }
      ]
    },
    {
      "cell_type": "code",
      "source": [
        "s = np.argsort(score[1])\n",
        "# argsort는 인덱스를 반환하는 함수 score[1]은 첫번째 행을 선택하는 방법\n",
        "s"
      ],
      "metadata": {
        "colab": {
          "base_uri": "https://localhost:8080/"
        },
        "id": "Lu3MLgskV4O6",
        "outputId": "702c7b62-eefc-4351-fc3e-7f42ccfc77ba"
      },
      "execution_count": 44,
      "outputs": [
        {
          "output_type": "execute_result",
          "data": {
            "text/plain": [
              "array([0, 3, 1, 2])"
            ]
          },
          "metadata": {},
          "execution_count": 44
        }
      ]
    },
    {
      "cell_type": "code",
      "source": [
        "s[::-1]"
      ],
      "metadata": {
        "colab": {
          "base_uri": "https://localhost:8080/"
        },
        "id": "Gt3lWL8JWM9S",
        "outputId": "cda5056a-4c4c-45e0-ba6c-255608fb3939"
      },
      "execution_count": 48,
      "outputs": [
        {
          "output_type": "execute_result",
          "data": {
            "text/plain": [
              "array([2, 1, 3, 0])"
            ]
          },
          "metadata": {},
          "execution_count": 48
        }
      ]
    },
    {
      "cell_type": "code",
      "source": [
        "score[:, s[::-1]]"
      ],
      "metadata": {
        "colab": {
          "base_uri": "https://localhost:8080/"
        },
        "id": "PcCRV-vWW3Pk",
        "outputId": "a3f5548c-6bb4-46e2-e08d-7ec96763c26b"
      },
      "execution_count": 49,
      "outputs": [
        {
          "output_type": "execute_result",
          "data": {
            "text/plain": [
              "array([[  3,   2,   4,   1],\n",
              "       [100,  99,  71,  46],\n",
              "       [ 90,  59, 100,  81]])"
            ]
          },
          "metadata": {},
          "execution_count": 49
        }
      ]
    },
    {
      "cell_type": "code",
      "source": [
        "# 정답을 한줄로\n",
        "score[:, np.argsort(score[1])[::-1]]"
      ],
      "metadata": {
        "colab": {
          "base_uri": "https://localhost:8080/"
        },
        "id": "clxFiJG_XEmr",
        "outputId": "19ba27fb-b921-4179-de6a-18617c739ec7"
      },
      "execution_count": 50,
      "outputs": [
        {
          "output_type": "execute_result",
          "data": {
            "text/plain": [
              "array([[  3,   2,   4,   1],\n",
              "       [100,  99,  71,  46],\n",
              "       [ 90,  59, 100,  81]])"
            ]
          },
          "metadata": {},
          "execution_count": 50
        }
      ]
    },
    {
      "cell_type": "markdown",
      "source": [
        "7번"
      ],
      "metadata": {
        "id": "2mVz42_iX6EM"
      }
    },
    {
      "cell_type": "code",
      "source": [
        "# 주사위\n",
        "import numpy as np\n",
        "np.random.seed(2023)\n",
        "dice = np.random.randint(1, 7, 1000)\n",
        "# dice"
      ],
      "metadata": {
        "id": "6pwP0-m1X7AK"
      },
      "execution_count": 1,
      "outputs": []
    },
    {
      "cell_type": "code",
      "source": [
        "np.mean(dice)"
      ],
      "metadata": {
        "colab": {
          "base_uri": "https://localhost:8080/"
        },
        "id": "wYC7xEleYQyM",
        "outputId": "851d99ea-8a4f-4821-b4a5-a81e7f6989c7"
      },
      "execution_count": 2,
      "outputs": [
        {
          "output_type": "execute_result",
          "data": {
            "text/plain": [
              "3.527"
            ]
          },
          "metadata": {},
          "execution_count": 2
        }
      ]
    },
    {
      "cell_type": "code",
      "source": [
        "np.unique(dice) # set{} 집합 중복제거 순서에 상관없다\n",
        "# dice = [1,1,1,1,1,1,2,2,2,2,6]\n",
        "# 1,6,2"
      ],
      "metadata": {
        "colab": {
          "base_uri": "https://localhost:8080/"
        },
        "id": "Q4EE64pSYfnC",
        "outputId": "34aee925-9b7e-404e-b60d-79b2d8d7b57d"
      },
      "execution_count": 3,
      "outputs": [
        {
          "output_type": "execute_result",
          "data": {
            "text/plain": [
              "array([1, 2, 3, 4, 5, 6])"
            ]
          },
          "metadata": {},
          "execution_count": 3
        }
      ]
    },
    {
      "cell_type": "markdown",
      "source": [
        "8번"
      ],
      "metadata": {
        "id": "O7dbOyucaL90"
      }
    },
    {
      "cell_type": "code",
      "source": [
        "# 10개 먼저 테스트\n",
        "np.random.seed(2023)\n",
        "price = 10000\n",
        "rate = np.random.normal(0, 0.01, 10)\n",
        "for i in range(10):\n",
        "  price = price + np.round(price*rate[i])\n",
        "  print(price, end=',')"
      ],
      "metadata": {
        "colab": {
          "base_uri": "https://localhost:8080/"
        },
        "id": "XmeDPdyQZl6r",
        "outputId": "88798557-aff3-44f4-96fc-7bcdce3df249"
      },
      "execution_count": 4,
      "outputs": [
        {
          "output_type": "stream",
          "name": "stdout",
          "text": [
            "10071.0,10038.0,9937.0,9960.0,9950.0,9836.0,10097.0,10242.0,10252.0,9932.0,"
          ]
        }
      ]
    },
    {
      "cell_type": "code",
      "source": [
        "np.random.seed(2023)\n",
        "price_list = []\n",
        "price = 10000\n",
        "rate = np.random.normal(0, 0.01, 250)\n",
        "for i in range(250):\n",
        "  price = price + np.round(price*rate[i])\n",
        "  price_list.append(price)"
      ],
      "metadata": {
        "id": "wtnY8NGIbX3z"
      },
      "execution_count": 5,
      "outputs": []
    },
    {
      "cell_type": "code",
      "source": [
        "price_list[:20]"
      ],
      "metadata": {
        "colab": {
          "base_uri": "https://localhost:8080/"
        },
        "id": "xKXqssXub0pk",
        "outputId": "6d08d4fc-7191-4b45-d5b2-3454d64f2e36"
      },
      "execution_count": 6,
      "outputs": [
        {
          "output_type": "execute_result",
          "data": {
            "text/plain": [
              "[10071.0,\n",
              " 10038.0,\n",
              " 9937.0,\n",
              " 9960.0,\n",
              " 9950.0,\n",
              " 9836.0,\n",
              " 10097.0,\n",
              " 10242.0,\n",
              " 10252.0,\n",
              " 9932.0,\n",
              " 9825.0,\n",
              " 9793.0,\n",
              " 9692.0,\n",
              " 9651.0,\n",
              " 9552.0,\n",
              " 9502.0,\n",
              " 9462.0,\n",
              " 9453.0,\n",
              " 9323.0,\n",
              " 9351.0]"
            ]
          },
          "metadata": {},
          "execution_count": 6
        }
      ]
    }
  ]
}