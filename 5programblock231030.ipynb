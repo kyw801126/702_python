{
  "nbformat": 4,
  "nbformat_minor": 0,
  "metadata": {
    "colab": {
      "provenance": []
    },
    "kernelspec": {
      "name": "python3",
      "display_name": "Python 3"
    },
    "language_info": {
      "name": "python"
    }
  },
  "cells": [
    {
      "cell_type": "markdown",
      "source": [
        "내장함수\n",
        "\n",
        "\n",
        "*   이미만들어져있는함수/사용자가 만들지 않아도 바로 사용할수 있는 함수\n",
        "*   파이썬에서 기본적으로 포함하고 있는 함수\n",
        "*   내장함수 :print(), input(), type()....\n",
        "\n"
      ],
      "metadata": {
        "id": "ZibCx_PEsaXL"
      }
    },
    {
      "cell_type": "code",
      "execution_count": null,
      "metadata": {
        "colab": {
          "base_uri": "https://localhost:8080/"
        },
        "id": "U11mnDHhsUtA",
        "outputId": "307fe0aa-5bc9-4fa2-c026-322f9a9fbd20"
      },
      "outputs": [
        {
          "output_type": "execute_result",
          "data": {
            "text/plain": [
              "3.2"
            ]
          },
          "metadata": {},
          "execution_count": 1
        }
      ],
      "source": [
        "# abs\n",
        "abs(-3.2)"
      ]
    },
    {
      "cell_type": "code",
      "source": [
        "all([1,2,3,0])"
      ],
      "metadata": {
        "colab": {
          "base_uri": "https://localhost:8080/"
        },
        "id": "1dhTjhSBs27j",
        "outputId": "07863562-e18e-40ce-9d70-02d39197e4b0"
      },
      "execution_count": null,
      "outputs": [
        {
          "output_type": "execute_result",
          "data": {
            "text/plain": [
              "False"
            ]
          },
          "metadata": {},
          "execution_count": 2
        }
      ]
    },
    {
      "cell_type": "code",
      "source": [
        "any([0,1,2])"
      ],
      "metadata": {
        "colab": {
          "base_uri": "https://localhost:8080/"
        },
        "id": "qdKH9PBgs9PX",
        "outputId": "5c5a670e-557c-4efd-a53e-34291cbe6b54"
      },
      "execution_count": null,
      "outputs": [
        {
          "output_type": "execute_result",
          "data": {
            "text/plain": [
              "True"
            ]
          },
          "metadata": {},
          "execution_count": 3
        }
      ]
    },
    {
      "cell_type": "code",
      "source": [
        "any([0, ''])"
      ],
      "metadata": {
        "colab": {
          "base_uri": "https://localhost:8080/"
        },
        "id": "EwwZwd8ptBWY",
        "outputId": "d61b1a24-c022-4068-83a9-118509c1465c"
      },
      "execution_count": null,
      "outputs": [
        {
          "output_type": "execute_result",
          "data": {
            "text/plain": [
              "False"
            ]
          },
          "metadata": {},
          "execution_count": 4
        }
      ]
    },
    {
      "cell_type": "code",
      "source": [
        "dir([1,2,3])"
      ],
      "metadata": {
        "id": "EZ-CxUSDtEGn"
      },
      "execution_count": null,
      "outputs": []
    },
    {
      "cell_type": "code",
      "source": [
        "dir({})"
      ],
      "metadata": {
        "id": "wLwP-ts-tH9n"
      },
      "execution_count": null,
      "outputs": []
    },
    {
      "cell_type": "code",
      "source": [
        "divmod(7.1, 3.5)"
      ],
      "metadata": {
        "colab": {
          "base_uri": "https://localhost:8080/"
        },
        "id": "AlqVXE5mtVnQ",
        "outputId": "31339c92-7803-46c3-8b9d-37cd7eb54ef1"
      },
      "execution_count": null,
      "outputs": [
        {
          "output_type": "execute_result",
          "data": {
            "text/plain": [
              "(2.0, 0.09999999999999964)"
            ]
          },
          "metadata": {},
          "execution_count": 7
        }
      ]
    },
    {
      "cell_type": "code",
      "source": [
        "# enumerate\n",
        "for i, name in enumerate(['body', 'foot', 'arm']):\n",
        "  print(i, name)"
      ],
      "metadata": {
        "colab": {
          "base_uri": "https://localhost:8080/"
        },
        "id": "j9w_EL69tmHx",
        "outputId": "31397c32-18ce-424b-8073-26da90f73ed1"
      },
      "execution_count": null,
      "outputs": [
        {
          "output_type": "stream",
          "name": "stdout",
          "text": [
            "0 body\n",
            "1 foot\n",
            "2 arm\n"
          ]
        }
      ]
    },
    {
      "cell_type": "code",
      "source": [
        "eval('1+2')"
      ],
      "metadata": {
        "colab": {
          "base_uri": "https://localhost:8080/"
        },
        "id": "YWOB9dVktvz_",
        "outputId": "de5fa740-9c66-42f6-a50d-61bcc4999c9d"
      },
      "execution_count": null,
      "outputs": [
        {
          "output_type": "execute_result",
          "data": {
            "text/plain": [
              "3"
            ]
          },
          "metadata": {},
          "execution_count": 9
        }
      ]
    },
    {
      "cell_type": "code",
      "source": [
        "eval('divmod(7, 3)')"
      ],
      "metadata": {
        "colab": {
          "base_uri": "https://localhost:8080/"
        },
        "id": "TvthxfhSt23v",
        "outputId": "8b9447ea-2c04-4b4a-cd31-033c40895e59"
      },
      "execution_count": null,
      "outputs": [
        {
          "output_type": "execute_result",
          "data": {
            "text/plain": [
              "(2, 1)"
            ]
          },
          "metadata": {},
          "execution_count": 10
        }
      ]
    },
    {
      "cell_type": "code",
      "source": [
        "# filter\n",
        "def positive(x):\n",
        "  return x > 0"
      ],
      "metadata": {
        "id": "4D-MroB4t8Lo"
      },
      "execution_count": null,
      "outputs": []
    },
    {
      "cell_type": "code",
      "source": [
        "a = list(filter(positive, [1, -3, 2, 0, -5, 6]))\n",
        "a"
      ],
      "metadata": {
        "colab": {
          "base_uri": "https://localhost:8080/"
        },
        "id": "WW_f4wlcuLsw",
        "outputId": "b763a6f2-334d-4be5-b6f1-ed89dbab0b54"
      },
      "execution_count": null,
      "outputs": [
        {
          "output_type": "execute_result",
          "data": {
            "text/plain": [
              "[1, 2, 6]"
            ]
          },
          "metadata": {},
          "execution_count": 14
        }
      ]
    },
    {
      "cell_type": "code",
      "source": [
        "a = 3\n",
        "print(id(a))"
      ],
      "metadata": {
        "colab": {
          "base_uri": "https://localhost:8080/"
        },
        "id": "TyBIZWLEuXTQ",
        "outputId": "0be711fc-c236-49df-b834-8646c413b14b"
      },
      "execution_count": null,
      "outputs": [
        {
          "output_type": "stream",
          "name": "stdout",
          "text": [
            "140644492001584\n"
          ]
        }
      ]
    },
    {
      "cell_type": "code",
      "source": [
        "a = input()"
      ],
      "metadata": {
        "colab": {
          "base_uri": "https://localhost:8080/"
        },
        "id": "_Blmu7ATuqqx",
        "outputId": "c285a992-d356-4888-fce3-802a582d546f"
      },
      "execution_count": null,
      "outputs": [
        {
          "name": "stdout",
          "output_type": "stream",
          "text": [
            "hi\n"
          ]
        }
      ]
    },
    {
      "cell_type": "code",
      "source": [
        "print(a)"
      ],
      "metadata": {
        "colab": {
          "base_uri": "https://localhost:8080/"
        },
        "id": "ooobO2RLuuao",
        "outputId": "209bf33f-454e-44c6-9da6-04cd7c9ac224"
      },
      "execution_count": null,
      "outputs": [
        {
          "output_type": "stream",
          "name": "stdout",
          "text": [
            "hi\n"
          ]
        }
      ]
    },
    {
      "cell_type": "code",
      "source": [
        "b = int('1A', 16)\n",
        "b"
      ],
      "metadata": {
        "colab": {
          "base_uri": "https://localhost:8080/"
        },
        "id": "P_iZXvJ0uyUq",
        "outputId": "78539485-e6e8-4587-c7f6-42cc79b541aa"
      },
      "execution_count": null,
      "outputs": [
        {
          "output_type": "execute_result",
          "data": {
            "text/plain": [
              "26"
            ]
          },
          "metadata": {},
          "execution_count": 20
        }
      ]
    },
    {
      "cell_type": "code",
      "source": [
        "list('python')"
      ],
      "metadata": {
        "colab": {
          "base_uri": "https://localhost:8080/"
        },
        "id": "VLtHhw6uu4KT",
        "outputId": "9a4f2c40-5ce2-469a-ef07-f098f42dd4a2"
      },
      "execution_count": null,
      "outputs": [
        {
          "output_type": "execute_result",
          "data": {
            "text/plain": [
              "['p', 'y', 't', 'h', 'o', 'n']"
            ]
          },
          "metadata": {},
          "execution_count": 21
        }
      ]
    },
    {
      "cell_type": "code",
      "source": [
        "f = open('hello.txt', 'w')\n",
        "f.write(\"hello world\")\n",
        "f.close()"
      ],
      "metadata": {
        "id": "IqgDRA0ju4si"
      },
      "execution_count": null,
      "outputs": []
    },
    {
      "cell_type": "code",
      "source": [
        "f = open('hello.txt', 'r')\n",
        "s = f.read()\n",
        "print(s)"
      ],
      "metadata": {
        "colab": {
          "base_uri": "https://localhost:8080/"
        },
        "id": "o4fyp_z4xVKs",
        "outputId": "ea070894-ae44-4c2a-dba9-db31e985949c"
      },
      "execution_count": null,
      "outputs": [
        {
          "output_type": "stream",
          "name": "stdout",
          "text": [
            "hello world\n"
          ]
        }
      ]
    },
    {
      "cell_type": "code",
      "source": [
        "with open('hello2.txt', 'w') as file:\n",
        "  for i in range(3):\n",
        "    file.write(f'Hello world {i + 1}\\n')"
      ],
      "metadata": {
        "id": "Ckw2GXyCxVFR"
      },
      "execution_count": null,
      "outputs": []
    },
    {
      "cell_type": "code",
      "source": [
        "!cat hello2.txt # cat unix 명령어"
      ],
      "metadata": {
        "colab": {
          "base_uri": "https://localhost:8080/"
        },
        "id": "8c11jnvuyWNh",
        "outputId": "b6117806-5cf5-4e1d-ae54-4422d4e572f0"
      },
      "execution_count": null,
      "outputs": [
        {
          "output_type": "stream",
          "name": "stdout",
          "text": [
            "Hello world 1\n",
            "Hello world 2\n",
            "Hello world 3\n"
          ]
        }
      ]
    },
    {
      "cell_type": "code",
      "source": [
        "# 문자열 여러줄 입력\n",
        "lines = [\"안녕하세요\\n\", \"파이썬\\n\", \"기초반입니다.\\n\"]\n",
        "with open(\"hello3.txt\", \"w\") as file:\n",
        "  file.writelines(lines)"
      ],
      "metadata": {
        "id": "8svnMn2Uyfg7"
      },
      "execution_count": null,
      "outputs": []
    },
    {
      "cell_type": "code",
      "source": [
        "!cat hello3.txt"
      ],
      "metadata": {
        "colab": {
          "base_uri": "https://localhost:8080/"
        },
        "id": "0cK9pzwczXo6",
        "outputId": "c4b72145-9a88-4186-a299-1ffb3412d005"
      },
      "execution_count": null,
      "outputs": [
        {
          "output_type": "stream",
          "name": "stdout",
          "text": [
            "안녕하세요\n",
            "파이썬\n",
            "기초반입니다.\n"
          ]
        }
      ]
    },
    {
      "cell_type": "code",
      "source": [
        "with open(\"hello3.txt\", 'r') as file:\n",
        "  s = file.readlines()\n",
        "print(s)"
      ],
      "metadata": {
        "colab": {
          "base_uri": "https://localhost:8080/"
        },
        "id": "P3pcxxNnzZfy",
        "outputId": "fc9fcc74-263a-4722-a6a5-9df3cffaafe8"
      },
      "execution_count": null,
      "outputs": [
        {
          "output_type": "stream",
          "name": "stdout",
          "text": [
            "['안녕하세요\\n', '파이썬\\n', '기초반입니다.\\n']\n"
          ]
        }
      ]
    },
    {
      "cell_type": "code",
      "source": [
        "with open(\"hello3.txt\", 'a') as file:\n",
        "  file.write(\"만나서 반갑습니다.\")"
      ],
      "metadata": {
        "id": "m7YeREgtzxN6"
      },
      "execution_count": null,
      "outputs": []
    },
    {
      "cell_type": "code",
      "source": [
        "!cat hello3.txt"
      ],
      "metadata": {
        "colab": {
          "base_uri": "https://localhost:8080/"
        },
        "id": "qegtdu5K0g8a",
        "outputId": "b8e1dffd-982e-4817-ab66-accb85364228"
      },
      "execution_count": null,
      "outputs": [
        {
          "output_type": "stream",
          "name": "stdout",
          "text": [
            "안녕하세요\n",
            "파이썬\n",
            "기초반입니다.\n",
            "만나서 반갑습니다."
          ]
        }
      ]
    },
    {
      "cell_type": "code",
      "source": [
        "pow(2,4)"
      ],
      "metadata": {
        "colab": {
          "base_uri": "https://localhost:8080/"
        },
        "id": "fhsDTiIV0mV6",
        "outputId": "2915beec-be3c-4f05-8ccf-d70fd652796f"
      },
      "execution_count": null,
      "outputs": [
        {
          "output_type": "execute_result",
          "data": {
            "text/plain": [
              "16"
            ]
          },
          "metadata": {},
          "execution_count": 40
        }
      ]
    },
    {
      "cell_type": "code",
      "source": [
        "range(5) #0~5"
      ],
      "metadata": {
        "colab": {
          "base_uri": "https://localhost:8080/"
        },
        "id": "bJSGJI2g0oEK",
        "outputId": "7c977e67-d164-47f9-b5ce-8fbf0e2273b2"
      },
      "execution_count": null,
      "outputs": [
        {
          "output_type": "execute_result",
          "data": {
            "text/plain": [
              "range(0, 5)"
            ]
          },
          "metadata": {},
          "execution_count": 41
        }
      ]
    },
    {
      "cell_type": "code",
      "source": [
        "print(range(0,5))"
      ],
      "metadata": {
        "colab": {
          "base_uri": "https://localhost:8080/"
        },
        "id": "wSsbCULb0uqC",
        "outputId": "3c5c0343-ac45-433a-9e0e-0cb1640c20fc"
      },
      "execution_count": null,
      "outputs": [
        {
          "output_type": "stream",
          "name": "stdout",
          "text": [
            "range(0, 5)\n"
          ]
        }
      ]
    },
    {
      "cell_type": "code",
      "source": [
        "list(range(0,5))"
      ],
      "metadata": {
        "colab": {
          "base_uri": "https://localhost:8080/"
        },
        "id": "JsD5hI730x76",
        "outputId": "be470011-0040-4be6-a441-8f00043cb462"
      },
      "execution_count": null,
      "outputs": [
        {
          "output_type": "execute_result",
          "data": {
            "text/plain": [
              "[0, 1, 2, 3, 4]"
            ]
          },
          "metadata": {},
          "execution_count": 43
        }
      ]
    },
    {
      "cell_type": "code",
      "source": [
        "list(range(3,9))"
      ],
      "metadata": {
        "colab": {
          "base_uri": "https://localhost:8080/"
        },
        "id": "CmgmasZ_039C",
        "outputId": "de653aea-2f3c-4bb4-e1ed-34ed9f6fc20c"
      },
      "execution_count": null,
      "outputs": [
        {
          "output_type": "execute_result",
          "data": {
            "text/plain": [
              "[3, 4, 5, 6, 7, 8]"
            ]
          },
          "metadata": {},
          "execution_count": 44
        }
      ]
    },
    {
      "cell_type": "code",
      "source": [
        "list(range(3,9, 2))"
      ],
      "metadata": {
        "colab": {
          "base_uri": "https://localhost:8080/"
        },
        "id": "WuIQKjIr0-_J",
        "outputId": "7f908e78-d798-4905-f094-4c5d18479a49"
      },
      "execution_count": null,
      "outputs": [
        {
          "output_type": "execute_result",
          "data": {
            "text/plain": [
              "[3, 5, 7]"
            ]
          },
          "metadata": {},
          "execution_count": 45
        }
      ]
    },
    {
      "cell_type": "code",
      "source": [
        "round(4.655555555, 2)"
      ],
      "metadata": {
        "colab": {
          "base_uri": "https://localhost:8080/"
        },
        "id": "_SeMyq6O1Cz5",
        "outputId": "ae074293-7f0d-49a6-b502-3f01574d61e0"
      },
      "execution_count": null,
      "outputs": [
        {
          "output_type": "execute_result",
          "data": {
            "text/plain": [
              "4.66"
            ]
          },
          "metadata": {},
          "execution_count": 48
        }
      ]
    },
    {
      "cell_type": "code",
      "source": [
        "sorted([1,5,3])"
      ],
      "metadata": {
        "colab": {
          "base_uri": "https://localhost:8080/"
        },
        "id": "nqyFMODK1Por",
        "outputId": "1ba1a412-8838-4db7-dfb6-ecb932677a46"
      },
      "execution_count": null,
      "outputs": [
        {
          "output_type": "execute_result",
          "data": {
            "text/plain": [
              "[1, 3, 5]"
            ]
          },
          "metadata": {},
          "execution_count": 50
        }
      ]
    },
    {
      "cell_type": "code",
      "source": [
        "list(zip([1,2,3,10], [4,5,6], [20,30, 50, 60]))"
      ],
      "metadata": {
        "colab": {
          "base_uri": "https://localhost:8080/"
        },
        "id": "9UnNNOUD1RIK",
        "outputId": "f4dd0f71-0e3e-4c34-86eb-0a139b705cb4"
      },
      "execution_count": null,
      "outputs": [
        {
          "output_type": "execute_result",
          "data": {
            "text/plain": [
              "[(1, 4, 20), (2, 5, 30), (3, 6, 50)]"
            ]
          },
          "metadata": {},
          "execution_count": 53
        }
      ]
    },
    {
      "cell_type": "markdown",
      "source": [
        "파이썬 객체 읽고 쓰기"
      ],
      "metadata": {
        "id": "bjDTWayE-M09"
      }
    },
    {
      "cell_type": "code",
      "source": [
        "import pickle\n",
        "f = open('test.txt', 'wb')\n",
        "data = {1:'python', 2:'you need'}\n",
        "pickle.dump(data, f)"
      ],
      "metadata": {
        "id": "GA6cIWFQ-Pze"
      },
      "execution_count": null,
      "outputs": []
    },
    {
      "cell_type": "code",
      "source": [
        "!cat test.txt"
      ],
      "metadata": {
        "colab": {
          "base_uri": "https://localhost:8080/"
        },
        "id": "ti5Zs4Fv_C4V",
        "outputId": "3dcdeffa-a427-48a6-9517-237bfd6a4058"
      },
      "execution_count": null,
      "outputs": [
        {
          "output_type": "stream",
          "name": "stdout",
          "text": [
            "�\u0004�\u001d\u0000\u0000\u0000\u0000\u0000\u0000\u0000}�(K\u0001�\u0006python�K\u0002�\byou need�u."
          ]
        }
      ]
    },
    {
      "cell_type": "code",
      "source": [
        "f = open('test.txt', 'rb')\n",
        "data = pickle.load(f)\n",
        "print(data)"
      ],
      "metadata": {
        "colab": {
          "base_uri": "https://localhost:8080/"
        },
        "id": "Nv_We3ms_K6d",
        "outputId": "05a97a5b-1cc1-4859-f5f7-d3219aa98b72"
      },
      "execution_count": null,
      "outputs": [
        {
          "output_type": "stream",
          "name": "stdout",
          "text": [
            "{1: 'python', 2: 'you need'}\n"
          ]
        }
      ]
    },
    {
      "cell_type": "code",
      "source": [
        "score = {'kor':90, \"eng\":90, \"math\":80}\n",
        "with open('binary.pkl', 'wb') as f:\n",
        "  pickle.dump(score, f)"
      ],
      "metadata": {
        "id": "0MkNl0Bu_a6y"
      },
      "execution_count": null,
      "outputs": []
    },
    {
      "cell_type": "code",
      "source": [
        "with open('binary.pkl', 'rb') as f:\n",
        "  newScore = pickle.load(f)\n",
        "print(newScore)"
      ],
      "metadata": {
        "colab": {
          "base_uri": "https://localhost:8080/"
        },
        "id": "oDbJm2Y4AIJu",
        "outputId": "20f72dc3-81f8-442d-c070-e04158e09e9c"
      },
      "execution_count": null,
      "outputs": [
        {
          "output_type": "stream",
          "name": "stdout",
          "text": [
            "{'kor': 90, 'eng': 90, 'math': 80}\n"
          ]
        }
      ]
    },
    {
      "cell_type": "code",
      "source": [
        "# time\n",
        "import time\n",
        "for i in range(5):\n",
        "  # time.sleep(1)\n",
        "  print(i)\n",
        "  time.sleep(1)"
      ],
      "metadata": {
        "id": "XszUx0JwAUa2"
      },
      "execution_count": null,
      "outputs": []
    },
    {
      "cell_type": "code",
      "source": [
        "print(time.time())"
      ],
      "metadata": {
        "colab": {
          "base_uri": "https://localhost:8080/"
        },
        "id": "6GwHn6KKB1mU",
        "outputId": "50b3bf0a-7fdb-49c2-e270-d5aeb738f15c"
      },
      "execution_count": null,
      "outputs": [
        {
          "output_type": "stream",
          "name": "stdout",
          "text": [
            "1698307748.8227375\n"
          ]
        }
      ]
    },
    {
      "cell_type": "code",
      "source": [
        "print(time.localtime(time.time()))"
      ],
      "metadata": {
        "colab": {
          "base_uri": "https://localhost:8080/"
        },
        "id": "KBd_Dk59B57G",
        "outputId": "afee962a-a385-4853-f6bf-bc96830e1671"
      },
      "execution_count": null,
      "outputs": [
        {
          "output_type": "stream",
          "name": "stdout",
          "text": [
            "time.struct_time(tm_year=2023, tm_mon=10, tm_mday=26, tm_hour=8, tm_min=10, tm_sec=6, tm_wday=3, tm_yday=299, tm_isdst=0)\n"
          ]
        }
      ]
    },
    {
      "cell_type": "code",
      "source": [
        "import random\n",
        "print(random.random())"
      ],
      "metadata": {
        "colab": {
          "base_uri": "https://localhost:8080/"
        },
        "id": "WsgP1s9NDA8H",
        "outputId": "5cc78559-f503-475e-ba37-40f55afcf2f8"
      },
      "execution_count": null,
      "outputs": [
        {
          "output_type": "stream",
          "name": "stdout",
          "text": [
            "0.1642003969717929\n"
          ]
        }
      ]
    },
    {
      "cell_type": "code",
      "source": [
        "print(random.randint(1, 30))"
      ],
      "metadata": {
        "colab": {
          "base_uri": "https://localhost:8080/"
        },
        "id": "82-FXZRGDE5P",
        "outputId": "47a4e938-e9bd-44e1-bb4d-7d40741be799"
      },
      "execution_count": null,
      "outputs": [
        {
          "output_type": "stream",
          "name": "stdout",
          "text": [
            "1\n"
          ]
        }
      ]
    },
    {
      "cell_type": "code",
      "source": [
        "print(random)\n"
      ],
      "metadata": {
        "id": "a07GDuPuFf2X"
      },
      "execution_count": null,
      "outputs": []
    },
    {
      "cell_type": "code",
      "source": [
        "data = [1,2,3,4,5]\n",
        "random.shuffle(data)\n",
        "print(data)"
      ],
      "metadata": {
        "colab": {
          "base_uri": "https://localhost:8080/"
        },
        "id": "i1f_d37KHTug",
        "outputId": "bc6a7c7a-7a0b-4fba-8ac4-4c7b621bfc0c"
      },
      "execution_count": null,
      "outputs": [
        {
          "output_type": "stream",
          "name": "stdout",
          "text": [
            "[5, 4, 1, 2, 3]\n"
          ]
        }
      ]
    },
    {
      "cell_type": "code",
      "source": [
        "import random\n",
        "lotto = sorted(random.sample(range(1, 46), 6))\n",
        "lotto"
      ],
      "metadata": {
        "colab": {
          "base_uri": "https://localhost:8080/"
        },
        "id": "L2Xg--WbHZs4",
        "outputId": "2efc349a-174f-43f6-9e08-e0f28658e77c"
      },
      "execution_count": null,
      "outputs": [
        {
          "output_type": "execute_result",
          "data": {
            "text/plain": [
              "[8, 23, 24, 25, 27, 40]"
            ]
          },
          "metadata": {},
          "execution_count": 16
        }
      ]
    },
    {
      "cell_type": "markdown",
      "source": [
        "5.4 사용자 정의 함수"
      ],
      "metadata": {
        "id": "A6ZEncOmzfaV"
      }
    },
    {
      "cell_type": "code",
      "source": [
        "def hello():\n",
        "  print(\"hello world\")"
      ],
      "metadata": {
        "id": "jOP2yw62zkoe"
      },
      "execution_count": null,
      "outputs": []
    },
    {
      "cell_type": "code",
      "source": [
        "hello()\n",
        "hello()\n",
        "hello()"
      ],
      "metadata": {
        "colab": {
          "base_uri": "https://localhost:8080/"
        },
        "id": "Wdvq2B67zzbO",
        "outputId": "ca8d1910-1192-4a5e-f501-5156a7760475"
      },
      "execution_count": null,
      "outputs": [
        {
          "output_type": "stream",
          "name": "stdout",
          "text": [
            "hello world\n",
            "hello world\n",
            "hello world\n"
          ]
        }
      ]
    },
    {
      "cell_type": "code",
      "source": [
        "hello2()\n",
        "def hello2():\n",
        "  print(\"hello world\")"
      ],
      "metadata": {
        "id": "zIU_JcKNz5Ls"
      },
      "execution_count": null,
      "outputs": []
    },
    {
      "cell_type": "code",
      "source": [
        "def hello3():\n",
        "  pass\n",
        "hello3()"
      ],
      "metadata": {
        "id": "GN4wEn370UOU"
      },
      "execution_count": null,
      "outputs": []
    },
    {
      "cell_type": "code",
      "source": [
        "# 덧셈함수 선언\n",
        "def sum(a, b):\n",
        "  result = a + b\n",
        "  return result"
      ],
      "metadata": {
        "id": "Z7znkIJ-0YxN"
      },
      "execution_count": null,
      "outputs": []
    },
    {
      "cell_type": "code",
      "source": [
        "# def sum(a, b):\n",
        "#   return a + b"
      ],
      "metadata": {
        "id": "QYUZyUEa1JQc"
      },
      "execution_count": null,
      "outputs": []
    },
    {
      "cell_type": "code",
      "source": [
        "a = sum(3, 4)\n",
        "print(a)"
      ],
      "metadata": {
        "colab": {
          "base_uri": "https://localhost:8080/"
        },
        "id": "FdYtPiFh1ZeV",
        "outputId": "889cba6c-b152-4835-f10c-3cd094d484a1"
      },
      "execution_count": null,
      "outputs": [
        {
          "output_type": "stream",
          "name": "stdout",
          "text": [
            "7\n"
          ]
        }
      ]
    },
    {
      "cell_type": "code",
      "source": [
        "# 지역 변수 전역변수\n",
        "a = 1\n",
        "def valuetest(a):\n",
        "  a = a + 1\n",
        "  return a"
      ],
      "metadata": {
        "id": "ZIejYfZq1c9s"
      },
      "execution_count": null,
      "outputs": []
    },
    {
      "cell_type": "code",
      "source": [
        "print(valuetest(a))"
      ],
      "metadata": {
        "colab": {
          "base_uri": "https://localhost:8080/"
        },
        "id": "XjnDKkPV4JZc",
        "outputId": "13fafdbd-409f-415b-f5fe-4985d8c8a530"
      },
      "execution_count": null,
      "outputs": [
        {
          "output_type": "stream",
          "name": "stdout",
          "text": [
            "2\n"
          ]
        }
      ]
    },
    {
      "cell_type": "code",
      "source": [
        "print(a)"
      ],
      "metadata": {
        "colab": {
          "base_uri": "https://localhost:8080/"
        },
        "id": "PmO1vpNw4QjT",
        "outputId": "2b01fb35-5da7-4127-e447-6e5b74b7a84c"
      },
      "execution_count": null,
      "outputs": [
        {
          "output_type": "stream",
          "name": "stdout",
          "text": [
            "1\n"
          ]
        }
      ]
    },
    {
      "cell_type": "code",
      "source": [
        "a = 1\n",
        "def foo():\n",
        "  print(a)"
      ],
      "metadata": {
        "id": "SxYKEQGk4UYD"
      },
      "execution_count": null,
      "outputs": []
    },
    {
      "cell_type": "code",
      "source": [
        "foo()"
      ],
      "metadata": {
        "colab": {
          "base_uri": "https://localhost:8080/"
        },
        "id": "z33Ng6SW4gM1",
        "outputId": "30231e7d-6540-4c1f-f2d4-b3650dd42633"
      },
      "execution_count": null,
      "outputs": [
        {
          "output_type": "stream",
          "name": "stdout",
          "text": [
            "1\n"
          ]
        }
      ]
    },
    {
      "cell_type": "code",
      "source": [
        "def foo2():\n",
        "  b=2\n",
        "  print(a)\n",
        "  print(b)"
      ],
      "metadata": {
        "id": "7jGNkh_94hfj"
      },
      "execution_count": null,
      "outputs": []
    },
    {
      "cell_type": "code",
      "source": [
        "foo2()"
      ],
      "metadata": {
        "colab": {
          "base_uri": "https://localhost:8080/"
        },
        "id": "6KK_O_WR4uy-",
        "outputId": "4b094fa8-a4c8-41be-b48b-ee65d92c371e"
      },
      "execution_count": null,
      "outputs": [
        {
          "output_type": "stream",
          "name": "stdout",
          "text": [
            "1\n",
            "2\n"
          ]
        }
      ]
    },
    {
      "cell_type": "code",
      "source": [
        "print(b)"
      ],
      "metadata": {
        "id": "PPoUwqXN4vs1"
      },
      "execution_count": null,
      "outputs": []
    },
    {
      "cell_type": "code",
      "source": [
        "def foo3():\n",
        "  global b\n",
        "  b=2\n",
        "  print(a)\n",
        "  print(b)"
      ],
      "metadata": {
        "id": "pcg0L_GA427V"
      },
      "execution_count": null,
      "outputs": []
    },
    {
      "cell_type": "code",
      "source": [
        "foo3()"
      ],
      "metadata": {
        "colab": {
          "base_uri": "https://localhost:8080/"
        },
        "id": "AhVGaLy75NKT",
        "outputId": "aa77028c-a620-4f98-a8d5-5af4e39afe78"
      },
      "execution_count": null,
      "outputs": [
        {
          "output_type": "stream",
          "name": "stdout",
          "text": [
            "1\n",
            "2\n"
          ]
        }
      ]
    },
    {
      "cell_type": "code",
      "source": [
        "print(a)\n",
        "print(b)"
      ],
      "metadata": {
        "colab": {
          "base_uri": "https://localhost:8080/"
        },
        "id": "a133fe5H5B-7",
        "outputId": "a4bc3cef-8016-4821-ed5e-2198942aafe3"
      },
      "execution_count": null,
      "outputs": [
        {
          "output_type": "stream",
          "name": "stdout",
          "text": [
            "1\n",
            "2\n"
          ]
        }
      ]
    },
    {
      "cell_type": "code",
      "source": [
        "x = 10\n",
        "def foo4():\n",
        "  global x\n",
        "  x = 20\n",
        "  print(x)"
      ],
      "metadata": {
        "id": "dUhSjj-x5Dra"
      },
      "execution_count": null,
      "outputs": []
    },
    {
      "cell_type": "code",
      "source": [
        "foo4()"
      ],
      "metadata": {
        "colab": {
          "base_uri": "https://localhost:8080/"
        },
        "id": "1Sgm6qBq5g3k",
        "outputId": "b574fe53-1f9d-4370-8ac3-bda774a18d73"
      },
      "execution_count": null,
      "outputs": [
        {
          "output_type": "stream",
          "name": "stdout",
          "text": [
            "20\n"
          ]
        }
      ]
    },
    {
      "cell_type": "code",
      "source": [
        "print(x)"
      ],
      "metadata": {
        "colab": {
          "base_uri": "https://localhost:8080/"
        },
        "id": "YB4slPr_5h5C",
        "outputId": "12937b67-ffbe-4732-f6e4-1cdbc50bb0a6"
      },
      "execution_count": null,
      "outputs": [
        {
          "output_type": "stream",
          "name": "stdout",
          "text": [
            "20\n"
          ]
        }
      ]
    },
    {
      "cell_type": "code",
      "source": [
        "# 가변인자 *arg\n",
        "def print_number(a, b, c):\n",
        "  print(a)\n",
        "  print(b)\n",
        "  print(c)"
      ],
      "metadata": {
        "id": "sGdUwwgD5jLy"
      },
      "execution_count": null,
      "outputs": []
    },
    {
      "cell_type": "code",
      "source": [
        "print_number(10, 20, 30)"
      ],
      "metadata": {
        "colab": {
          "base_uri": "https://localhost:8080/"
        },
        "id": "Yfzq1DT958rs",
        "outputId": "a3541478-965f-450c-d534-d41190dce521"
      },
      "execution_count": null,
      "outputs": [
        {
          "output_type": "stream",
          "name": "stdout",
          "text": [
            "10\n",
            "20\n",
            "30\n"
          ]
        }
      ]
    },
    {
      "cell_type": "code",
      "source": [
        "x = [10, 20, 30]"
      ],
      "metadata": {
        "id": "a8sIpS0N6Aha"
      },
      "execution_count": null,
      "outputs": []
    },
    {
      "cell_type": "code",
      "source": [
        "print_number(*x)"
      ],
      "metadata": {
        "colab": {
          "base_uri": "https://localhost:8080/"
        },
        "id": "16mL1Pka6GdS",
        "outputId": "8cc124a9-d7b2-4b2e-f87c-1776369a1c70"
      },
      "execution_count": null,
      "outputs": [
        {
          "output_type": "stream",
          "name": "stdout",
          "text": [
            "10\n",
            "20\n",
            "30\n"
          ]
        }
      ]
    },
    {
      "cell_type": "code",
      "source": [
        "y = (30, 40, 50)\n",
        "print_number(*y)"
      ],
      "metadata": {
        "colab": {
          "base_uri": "https://localhost:8080/"
        },
        "id": "iHV7Ntd26OeJ",
        "outputId": "f14aa7dc-e932-43e6-c207-6381b8a35e83"
      },
      "execution_count": null,
      "outputs": [
        {
          "output_type": "stream",
          "name": "stdout",
          "text": [
            "30\n",
            "40\n",
            "50\n"
          ]
        }
      ]
    },
    {
      "cell_type": "code",
      "source": [
        "x = [10, 20, 30, 50]\n",
        "print_number(*x)"
      ],
      "metadata": {
        "colab": {
          "base_uri": "https://localhost:8080/",
          "height": 199
        },
        "id": "0EI_pVBQ6TYX",
        "outputId": "da7e6351-a230-44ff-87d4-82da77d63e88"
      },
      "execution_count": null,
      "outputs": [
        {
          "output_type": "error",
          "ename": "TypeError",
          "evalue": "ignored",
          "traceback": [
            "\u001b[0;31m---------------------------------------------------------------------------\u001b[0m",
            "\u001b[0;31mTypeError\u001b[0m                                 Traceback (most recent call last)",
            "\u001b[0;32m<ipython-input-58-805a50f26756>\u001b[0m in \u001b[0;36m<cell line: 2>\u001b[0;34m()\u001b[0m\n\u001b[1;32m      1\u001b[0m \u001b[0mx\u001b[0m \u001b[0;34m=\u001b[0m \u001b[0;34m[\u001b[0m\u001b[0;36m10\u001b[0m\u001b[0;34m,\u001b[0m \u001b[0;36m20\u001b[0m\u001b[0;34m,\u001b[0m \u001b[0;36m30\u001b[0m\u001b[0;34m,\u001b[0m \u001b[0;36m50\u001b[0m\u001b[0;34m]\u001b[0m\u001b[0;34m\u001b[0m\u001b[0;34m\u001b[0m\u001b[0m\n\u001b[0;32m----> 2\u001b[0;31m \u001b[0mprint_number\u001b[0m\u001b[0;34m(\u001b[0m\u001b[0;34m*\u001b[0m\u001b[0mx\u001b[0m\u001b[0;34m)\u001b[0m\u001b[0;34m\u001b[0m\u001b[0;34m\u001b[0m\u001b[0m\n\u001b[0m",
            "\u001b[0;31mTypeError\u001b[0m: print_number() takes 3 positional arguments but 4 were given"
          ]
        }
      ]
    },
    {
      "cell_type": "code",
      "source": [
        "# 여러개 숫자를 받으려면 다음과같이 괄호안에 *args와 같이 매개변수앞에 *를 붙여한다.\n",
        "def sum_many(*args):\n",
        "  sum = 0\n",
        "  for i in args:\n",
        "    sum = sum + i\n",
        "  return sum"
      ],
      "metadata": {
        "id": "ks7I6Th_6pdC"
      },
      "execution_count": null,
      "outputs": []
    },
    {
      "cell_type": "code",
      "source": [
        "sum_many(1,2,3,4,4,5,6,7,8,2)"
      ],
      "metadata": {
        "colab": {
          "base_uri": "https://localhost:8080/"
        },
        "id": "aVChyQiz7WVb",
        "outputId": "1fb293f7-266e-42d4-b241-ec16fc1fc3f7"
      },
      "execution_count": null,
      "outputs": [
        {
          "output_type": "execute_result",
          "data": {
            "text/plain": [
              "42"
            ]
          },
          "metadata": {},
          "execution_count": 71
        }
      ]
    },
    {
      "cell_type": "code",
      "source": [
        "# 키워드 인수\n",
        "def personal_info(name, age, addr):\n",
        "  print(\"이름 :\", name)\n",
        "  print(\"나이 :\", age)\n",
        "  print(\"주소 :\", addr)"
      ],
      "metadata": {
        "id": "fmon1jkl7ZpB"
      },
      "execution_count": null,
      "outputs": []
    },
    {
      "cell_type": "code",
      "source": [
        "personal_info(23, \"홍길동\", '신촌')"
      ],
      "metadata": {
        "colab": {
          "base_uri": "https://localhost:8080/"
        },
        "id": "XrfLI-s2-jGR",
        "outputId": "ebc47d94-267b-47d8-f7be-405b51ce8692"
      },
      "execution_count": null,
      "outputs": [
        {
          "output_type": "stream",
          "name": "stdout",
          "text": [
            "이름 : 23\n",
            "나이 : 홍길동\n",
            "주소 : 신촌\n"
          ]
        }
      ]
    },
    {
      "cell_type": "code",
      "source": [
        "personal_info(age=25, addr='신촌', name='홍길동')"
      ],
      "metadata": {
        "colab": {
          "base_uri": "https://localhost:8080/"
        },
        "id": "xE8MIZ5j-pWL",
        "outputId": "b3acb2bd-f8c9-4391-afec-5ed1f8720b97"
      },
      "execution_count": null,
      "outputs": [
        {
          "output_type": "stream",
          "name": "stdout",
          "text": [
            "이름 : 홍길동\n",
            "나이 : 25\n",
            "주소 : 신촌\n"
          ]
        }
      ]
    },
    {
      "cell_type": "code",
      "source": [
        "print(\"a\", \"b\",  end=\"\\n\", sep=\"/\" )"
      ],
      "metadata": {
        "colab": {
          "base_uri": "https://localhost:8080/"
        },
        "id": "lqemuFrZ-4-j",
        "outputId": "3b6a4d22-2a4a-47a0-c197-410f470848e4"
      },
      "execution_count": null,
      "outputs": [
        {
          "output_type": "stream",
          "name": "stdout",
          "text": [
            "a/b\n"
          ]
        }
      ]
    },
    {
      "cell_type": "code",
      "source": [
        "x = {\"name\":\"홍길동\", \"age\":30, \"addr\":\"신촌\"}\n",
        "personal_info(**x)"
      ],
      "metadata": {
        "colab": {
          "base_uri": "https://localhost:8080/"
        },
        "id": "LkR1Ych6_XzI",
        "outputId": "5202cffb-82b3-4fb7-be75-ebae403d761a"
      },
      "execution_count": null,
      "outputs": [
        {
          "output_type": "stream",
          "name": "stdout",
          "text": [
            "이름 : 홍길동\n",
            "나이 : 30\n",
            "주소 : 신촌\n"
          ]
        }
      ]
    },
    {
      "cell_type": "code",
      "source": [
        "def personal_info2(**kwargs):\n",
        "  for key, value in kwargs.items():\n",
        "    print(f'key는 {key}이고 value는{value}다')"
      ],
      "metadata": {
        "id": "5vzn1uMr_wug"
      },
      "execution_count": null,
      "outputs": []
    },
    {
      "cell_type": "code",
      "source": [
        "personal_info2(**x)"
      ],
      "metadata": {
        "colab": {
          "base_uri": "https://localhost:8080/"
        },
        "id": "d8qnNp9IAT7h",
        "outputId": "60fd6b22-deb8-4c3a-d323-4625f51240ff"
      },
      "execution_count": null,
      "outputs": [
        {
          "output_type": "stream",
          "name": "stdout",
          "text": [
            "key는 name이고 value는홍길동다\n",
            "key는 age이고 value는30다\n",
            "key는 addr이고 value는신촌다\n"
          ]
        }
      ]
    },
    {
      "cell_type": "code",
      "source": [
        "personal_info2(name='홍길동', age=23)"
      ],
      "metadata": {
        "colab": {
          "base_uri": "https://localhost:8080/"
        },
        "id": "rtIje6YHAWun",
        "outputId": "6b5cb1c4-0700-4ff8-9413-7756a095f3ff"
      },
      "execution_count": null,
      "outputs": [
        {
          "output_type": "stream",
          "name": "stdout",
          "text": [
            "key는 name이고 value는홍길동다\n",
            "key는 age이고 value는23다\n"
          ]
        }
      ]
    },
    {
      "cell_type": "code",
      "source": [
        "def personal_info3(name, **kwargs):\n",
        "  print(name)\n",
        "  print(kwargs)"
      ],
      "metadata": {
        "id": "oWtQllzTAtVx"
      },
      "execution_count": null,
      "outputs": []
    },
    {
      "cell_type": "code",
      "source": [
        " personal_info3(**x)"
      ],
      "metadata": {
        "colab": {
          "base_uri": "https://localhost:8080/"
        },
        "id": "U6c8QHpHA5Eo",
        "outputId": "76500971-cba1-4c44-d731-54b7591f47eb"
      },
      "execution_count": null,
      "outputs": [
        {
          "output_type": "stream",
          "name": "stdout",
          "text": [
            "홍길동\n",
            "{'age': 30, 'addr': '신촌'}\n"
          ]
        }
      ]
    },
    {
      "cell_type": "code",
      "source": [
        "def my_print(*args, **kwargs):\n",
        "  print(args, kwargs)"
      ],
      "metadata": {
        "id": "JaMoKXYDA5iv"
      },
      "execution_count": null,
      "outputs": []
    },
    {
      "cell_type": "code",
      "source": [
        "my_print(10, 20, 30)"
      ],
      "metadata": {
        "colab": {
          "base_uri": "https://localhost:8080/"
        },
        "id": "RK6CWSB5BKXo",
        "outputId": "be55924f-1755-4c8a-a2b9-34fd2a891ea5"
      },
      "execution_count": null,
      "outputs": [
        {
          "output_type": "stream",
          "name": "stdout",
          "text": [
            "(10, 20, 30) {}\n"
          ]
        }
      ]
    },
    {
      "cell_type": "code",
      "source": [
        "# 숫자를 입력받아서 짝수 인지 홀수인지 구분하는 함수를\n",
        "def even_odd(num):\n",
        "  if num % 2 == 0:\n",
        "    print(\"짝\")\n",
        "  else:\n",
        "    print(\"홀\")"
      ],
      "metadata": {
        "id": "9A2xJEUoBw_C"
      },
      "execution_count": null,
      "outputs": []
    },
    {
      "cell_type": "code",
      "source": [
        "even_odd(4)\n",
        "# 4를 입력시 \"짝수\" 또는 \"even\"\n",
        "# 15를 입력시 \"홀수\" 또는 'odd\""
      ],
      "metadata": {
        "colab": {
          "base_uri": "https://localhost:8080/"
        },
        "id": "DLKr27bQB7FB",
        "outputId": "426e5d1f-6911-4836-885f-461aa4436491"
      },
      "execution_count": null,
      "outputs": [
        {
          "output_type": "stream",
          "name": "stdout",
          "text": [
            "짝\n"
          ]
        }
      ]
    },
    {
      "cell_type": "code",
      "source": [
        "def even_odd2(num):\n",
        "  if num % 2 == 0:\n",
        "    return \"짝\"\n",
        "  return \"짝\""
      ],
      "metadata": {
        "id": "Zk6abL_lC9z8"
      },
      "execution_count": null,
      "outputs": []
    },
    {
      "cell_type": "code",
      "source": [
        "even_odd2(15)"
      ],
      "metadata": {
        "colab": {
          "base_uri": "https://localhost:8080/",
          "height": 35
        },
        "id": "OdPHDVtNDI9Q",
        "outputId": "c626f8a2-1f33-4dbd-cc29-65d0b565fff7"
      },
      "execution_count": null,
      "outputs": [
        {
          "output_type": "execute_result",
          "data": {
            "text/plain": [
              "'홀'"
            ],
            "application/vnd.google.colaboratory.intrinsic+json": {
              "type": "string"
            }
          },
          "metadata": {},
          "execution_count": 101
        }
      ]
    },
    {
      "cell_type": "code",
      "source": [
        "# 정수를 입력받아서 정수보다 큰 7의 배수 를 찾는 (제일작은) 함수\n",
        "# 15를 입력 21 을출력하도록\n",
        "# 38"
      ],
      "metadata": {
        "id": "alM33LgyDh8S"
      },
      "execution_count": null,
      "outputs": []
    },
    {
      "cell_type": "code",
      "source": [
        "def seven(num):\n",
        "  for i in range(num+1, num+10):\n",
        "    if i % 7 == 0:\n",
        "      return i\n",
        "    print(\"for 반복문 입력숫자 \", i)"
      ],
      "metadata": {
        "id": "EqAocMwHD1sZ"
      },
      "execution_count": null,
      "outputs": []
    },
    {
      "cell_type": "code",
      "source": [
        "seven(15)\n",
        "# 21"
      ],
      "metadata": {
        "colab": {
          "base_uri": "https://localhost:8080/"
        },
        "id": "agu1WBd6D34w",
        "outputId": "82bf0b3a-8a12-4c9e-896c-c50b0a785779"
      },
      "execution_count": null,
      "outputs": [
        {
          "output_type": "stream",
          "name": "stdout",
          "text": [
            "for 반복문 입력숫자  16\n",
            "for 반복문 입력숫자  17\n",
            "for 반복문 입력숫자  18\n",
            "for 반복문 입력숫자  19\n",
            "for 반복문 입력숫자  20\n"
          ]
        },
        {
          "output_type": "execute_result",
          "data": {
            "text/plain": [
              "21"
            ]
          },
          "metadata": {},
          "execution_count": 107
        }
      ]
    },
    {
      "cell_type": "code",
      "source": [
        "from statistics import mean, variance\n",
        "from math import sqrt\n",
        "\n",
        "# 산술평균\n",
        "dataset = [2, 4, 5, 6, 1, 8]\n",
        "def Avg(data):\n",
        "  avg = mean(data)\n",
        "  return avg\n",
        "\n",
        "#표준편차\n",
        "def var_sd(data):\n",
        "  avg = Avg(data)\n",
        "  diff = [(d-avg)**2 for d in data]\n",
        "  print(diff)\n",
        "  var = sum(diff) / (len(data) - 1)\n",
        "  print(var)\n",
        "  sd = sqrt(var)\n",
        "  return var, sd\n",
        "\n",
        "v, s = var_sd(dataset)\n",
        "print('분산:', v)\n",
        "print('표준편차:', s)"
      ],
      "metadata": {
        "colab": {
          "base_uri": "https://localhost:8080/"
        },
        "id": "hrt5KRguIaYI",
        "outputId": "17777dac-40d7-425f-e631-9901ef2eb1f3"
      },
      "execution_count": null,
      "outputs": [
        {
          "output_type": "stream",
          "name": "stdout",
          "text": [
            "[5.444444444444443, 0.11111111111111091, 0.44444444444444486, 2.7777777777777786, 11.111111111111109, 13.444444444444446]\n",
            "6.666666666666666\n",
            "분산: 6.666666666666666\n",
            "표준편차: 2.581988897471611\n"
          ]
        }
      ]
    },
    {
      "cell_type": "code",
      "source": [
        "diff = [(d-avg)**2 for d in data]\n",
        "\n",
        "diff = []\n",
        "for d in data:\n",
        "   a = (d - 2)**2\n",
        "   diff.append(a)"
      ],
      "metadata": {
        "id": "UzhAvfGLSAlN"
      },
      "execution_count": null,
      "outputs": []
    },
    {
      "cell_type": "markdown",
      "source": [
        "5.5.2 람다 표현식"
      ],
      "metadata": {
        "id": "n_-SXpaBaKML"
      }
    },
    {
      "cell_type": "code",
      "source": [
        "def add(a, b):\n",
        "  return a + b"
      ],
      "metadata": {
        "id": "pQZCZrMmRPgg"
      },
      "execution_count": 1,
      "outputs": []
    },
    {
      "cell_type": "code",
      "source": [
        "n = add(3, 4)\n",
        "print(n)"
      ],
      "metadata": {
        "id": "o_Kq0airaYvL"
      },
      "execution_count": null,
      "outputs": []
    },
    {
      "cell_type": "code",
      "source": [
        "(lambda a, b : a+b)(3,4)"
      ],
      "metadata": {
        "id": "DAFrODhoei2L"
      },
      "execution_count": null,
      "outputs": []
    },
    {
      "cell_type": "code",
      "source": [
        "def plus_ten(x):\n",
        "  return x + 10"
      ],
      "metadata": {
        "id": "1TvjDMSOabUz"
      },
      "execution_count": 3,
      "outputs": []
    },
    {
      "cell_type": "code",
      "source": [
        "n1 = plus_ten(3)\n",
        "print(n1)"
      ],
      "metadata": {
        "colab": {
          "base_uri": "https://localhost:8080/"
        },
        "id": "0BEjjgrbat4M",
        "outputId": "6456f007-0cd7-4802-b415-e618b8bcfc96"
      },
      "execution_count": 5,
      "outputs": [
        {
          "output_type": "stream",
          "name": "stdout",
          "text": [
            "13\n"
          ]
        }
      ]
    },
    {
      "cell_type": "code",
      "source": [
        "(lambda x : x +10)(3)"
      ],
      "metadata": {
        "colab": {
          "base_uri": "https://localhost:8080/"
        },
        "id": "qIuTVCsrg7FL",
        "outputId": "d8de4d76-7332-4a36-b157-f034a65945dc"
      },
      "execution_count": 6,
      "outputs": [
        {
          "output_type": "execute_result",
          "data": {
            "text/plain": [
              "13"
            ]
          },
          "metadata": {},
          "execution_count": 6
        }
      ]
    },
    {
      "cell_type": "code",
      "source": [
        "a, b = map(int, [1.1, 2.2])"
      ],
      "metadata": {
        "id": "nmY-PpSehTTM"
      },
      "execution_count": null,
      "outputs": []
    },
    {
      "cell_type": "code",
      "source": [
        "map(int, input().split())"
      ],
      "metadata": {
        "colab": {
          "base_uri": "https://localhost:8080/"
        },
        "id": "xhqI9x79iBhM",
        "outputId": "bddb2aaf-af03-4f81-86df-c019d4f95e33"
      },
      "execution_count": 8,
      "outputs": [
        {
          "name": "stdout",
          "output_type": "stream",
          "text": [
            "1 2 3\n"
          ]
        },
        {
          "output_type": "execute_result",
          "data": {
            "text/plain": [
              "<map at 0x7af17787b730>"
            ]
          },
          "metadata": {},
          "execution_count": 8
        }
      ]
    },
    {
      "cell_type": "code",
      "source": [
        "list(map(int, input().split()))"
      ],
      "metadata": {
        "colab": {
          "base_uri": "https://localhost:8080/"
        },
        "id": "2Hsp8QuAhyDF",
        "outputId": "d3170307-a2d0-4df0-be2a-54c379d53a61"
      },
      "execution_count": 9,
      "outputs": [
        {
          "name": "stdout",
          "output_type": "stream",
          "text": [
            "1 2 3\n"
          ]
        },
        {
          "output_type": "execute_result",
          "data": {
            "text/plain": [
              "[1, 2, 3]"
            ]
          },
          "metadata": {},
          "execution_count": 9
        }
      ]
    },
    {
      "cell_type": "code",
      "source": [
        "list(map(lambda x : int(x) +10, input().split()))"
      ],
      "metadata": {
        "colab": {
          "base_uri": "https://localhost:8080/"
        },
        "id": "5AJLx9kQind6",
        "outputId": "1c1b197e-8f96-45d4-bf5e-d7680a9b7f98"
      },
      "execution_count": 12,
      "outputs": [
        {
          "name": "stdout",
          "output_type": "stream",
          "text": [
            "1 2 3\n"
          ]
        },
        {
          "output_type": "execute_result",
          "data": {
            "text/plain": [
              "[11, 12, 13]"
            ]
          },
          "metadata": {},
          "execution_count": 12
        }
      ]
    },
    {
      "cell_type": "code",
      "source": [
        "def plus_ten(x):\n",
        "  return int(x) + 10"
      ],
      "metadata": {
        "id": "f0SrZhIXjN7q"
      },
      "execution_count": 14,
      "outputs": []
    },
    {
      "cell_type": "code",
      "source": [
        "list(map(plus_ten, input().split()))"
      ],
      "metadata": {
        "colab": {
          "base_uri": "https://localhost:8080/"
        },
        "id": "QufABkIdi4Ui",
        "outputId": "340cb073-73f3-4e79-f76d-987e3855029b"
      },
      "execution_count": 15,
      "outputs": [
        {
          "name": "stdout",
          "output_type": "stream",
          "text": [
            "1 2 3\n"
          ]
        },
        {
          "output_type": "execute_result",
          "data": {
            "text/plain": [
              "[11, 12, 13]"
            ]
          },
          "metadata": {},
          "execution_count": 15
        }
      ]
    },
    {
      "cell_type": "markdown",
      "source": [
        "제약사항"
      ],
      "metadata": {
        "id": "CyNZ7vEejyfa"
      }
    },
    {
      "cell_type": "code",
      "source": [
        "# 함수로는 함수안에 지역변수 설정이 가능함\n",
        "def xplusy(x):\n",
        "  y = 10\n",
        "  return x + y"
      ],
      "metadata": {
        "id": "YgOgKGoBjfph"
      },
      "execution_count": 16,
      "outputs": []
    },
    {
      "cell_type": "code",
      "source": [
        "a = xplusy(3)\n",
        "print(a)"
      ],
      "metadata": {
        "id": "8-7OceSDkBI6"
      },
      "execution_count": null,
      "outputs": []
    },
    {
      "cell_type": "code",
      "source": [
        "y = 10\n",
        "a1 = (lambda x : x + y)(3)\n",
        "print(a1)"
      ],
      "metadata": {
        "colab": {
          "base_uri": "https://localhost:8080/"
        },
        "id": "nLeB5SRXkZ5i",
        "outputId": "6528a32e-3de3-4eb6-80f6-f97af4de152b"
      },
      "execution_count": 17,
      "outputs": [
        {
          "output_type": "stream",
          "name": "stdout",
          "text": [
            "13\n"
          ]
        }
      ]
    },
    {
      "cell_type": "code",
      "source": [
        "# a 리스트에서 3의 배수를 문자로 표시하기\n",
        "a = list(range(1, 11))\n",
        "print(a)"
      ],
      "metadata": {
        "id": "5vbHBwGgkt6t"
      },
      "execution_count": null,
      "outputs": []
    },
    {
      "cell_type": "code",
      "source": [
        "def num3(x):\n",
        "  if x % 3 == 0:\n",
        "     return str(x)\n",
        "  else:\n",
        "     return x"
      ],
      "metadata": {
        "id": "eMjBJdOQlRLZ"
      },
      "execution_count": 29,
      "outputs": []
    },
    {
      "cell_type": "code",
      "source": [
        "b = list(map(num3, a))\n",
        "print(b)"
      ],
      "metadata": {
        "colab": {
          "base_uri": "https://localhost:8080/"
        },
        "id": "SGkob7yymCpS",
        "outputId": "cc66cfda-c41b-47c5-c249-e8a36dfe2e3c"
      },
      "execution_count": 31,
      "outputs": [
        {
          "output_type": "stream",
          "name": "stdout",
          "text": [
            "[1, 2, '3', 4, 5, '6', 7, 8, '9', 10]\n"
          ]
        }
      ]
    },
    {
      "cell_type": "code",
      "source": [
        "# 람다로 바꾸기\n",
        "list(map(lambda x : str(x) if x % 3 == 0 else x, a))\n",
        "# list(map(int, [1.1, 2.2]))\n"
      ],
      "metadata": {
        "colab": {
          "base_uri": "https://localhost:8080/"
        },
        "id": "8ZdkAZHzmE_x",
        "outputId": "1a455ff6-c7ab-493b-8ccc-3c83117e5ca4"
      },
      "execution_count": 32,
      "outputs": [
        {
          "output_type": "execute_result",
          "data": {
            "text/plain": [
              "[1, 2, '3', 4, 5, '6', 7, 8, '9', 10]"
            ]
          },
          "metadata": {},
          "execution_count": 32
        }
      ]
    },
    {
      "cell_type": "code",
      "source": [
        "# 3의배수를 '박수'로 바꾸기\n",
        "list(map(lambda x : str('박수') if x % 3 == 0 else x, a))"
      ],
      "metadata": {
        "colab": {
          "base_uri": "https://localhost:8080/"
        },
        "id": "bOV80ZfAt-D-",
        "outputId": "701b7ed7-285d-4f18-cafa-fd62111d1440"
      },
      "execution_count": 33,
      "outputs": [
        {
          "output_type": "execute_result",
          "data": {
            "text/plain": [
              "[1, 2, '박수', 4, 5, '박수', 7, 8, '박수', 10]"
            ]
          },
          "metadata": {},
          "execution_count": 33
        }
      ]
    },
    {
      "cell_type": "code",
      "source": [
        "list(map(lambda x : str(x) if x %3 ==0 else float(x) if x % 5 ==0 else x, a))"
      ],
      "metadata": {
        "id": "92wBV1nGuDGg"
      },
      "execution_count": null,
      "outputs": []
    },
    {
      "cell_type": "code",
      "source": [
        "def num3float(x):\n",
        "  if x % 3 == 0:\n",
        "     return str('박수')\n",
        "  else:\n",
        "    if x % 5 == 0:\n",
        "      return float(x)\n",
        "    else:\n",
        "      return x"
      ],
      "metadata": {
        "id": "BHAW9pYHuRFV"
      },
      "execution_count": 34,
      "outputs": []
    },
    {
      "cell_type": "code",
      "source": [
        "b = list(map(num3float, a))\n",
        "print(b)"
      ],
      "metadata": {
        "colab": {
          "base_uri": "https://localhost:8080/"
        },
        "id": "d8EPWdIIuxMM",
        "outputId": "e8d6c49f-91d2-4478-8d8a-23d091a68ca5"
      },
      "execution_count": 35,
      "outputs": [
        {
          "output_type": "stream",
          "name": "stdout",
          "text": [
            "[1, 2, '박수', 4, 5.0, '박수', 7, 8, '박수', 10.0]\n"
          ]
        }
      ]
    },
    {
      "cell_type": "markdown",
      "source": [
        "퀴즈"
      ],
      "metadata": {
        "id": "knnmN5VevbCm"
      }
    },
    {
      "cell_type": "code",
      "source": [
        "# 1. 세개의 숫자를 입력받아서 가장 큰 숫자를 출력하는\n",
        "# print_max함수를 만들어 보세요\n",
        "def print_max(a, b, c):\n",
        "  max_value = 0\n",
        "  if a > max_value:\n",
        "    max_value = a\n",
        "  if b > max_value:\n",
        "    max_value = b\n",
        "  if c > max_value:\n",
        "    max_value = c\n",
        "  print(max_value)"
      ],
      "metadata": {
        "id": "PoGgi4rVvcMX"
      },
      "execution_count": 38,
      "outputs": []
    },
    {
      "cell_type": "code",
      "source": [
        "print_max(3, 5, 1)"
      ],
      "metadata": {
        "colab": {
          "base_uri": "https://localhost:8080/"
        },
        "id": "ChjV66Pq3hYo",
        "outputId": "dc216b8f-a698-4523-c89c-41006de36936"
      },
      "execution_count": 39,
      "outputs": [
        {
          "output_type": "stream",
          "name": "stdout",
          "text": [
            "5\n"
          ]
        }
      ]
    },
    {
      "cell_type": "code",
      "source": [
        "# 2. 성적 리스트를 입력받아서 평균을 출력하는 print_score함수를 만드세요\n",
        "# [10, 20, 30]\n",
        "def print_score(x):\n",
        "  print(sum(x)/len(x))\n",
        "print_score([10,20, 30])\n",
        "# --> 20"
      ],
      "metadata": {
        "colab": {
          "base_uri": "https://localhost:8080/"
        },
        "id": "kcLTzfUPwMzL",
        "outputId": "8bdc2495-049f-4ad5-9909-66ba61c2ae07"
      },
      "execution_count": 40,
      "outputs": [
        {
          "output_type": "stream",
          "name": "stdout",
          "text": [
            "20.0\n"
          ]
        }
      ]
    },
    {
      "cell_type": "code",
      "source": [
        "# 3. 입력 문자열을 한줄에 다섯글자씩 출력하는 print_5xn(string) 함수를 작성하세요\n",
        "def print_5xn(x):\n",
        "  check_num = int(len(x) / 5)\n",
        "  몇글자인지 세는 코드 5로 나눠서 하나의 숫자를 만들어주시고\n",
        "  for문을 사용해서 5글자씩 출력코드\n",
        "print_5xn(\"아이엠어보이유알어걸\")\n",
        "# --> 아이엠어보\n",
        "# --> 이유알어걸"
      ],
      "metadata": {
        "id": "aiqHt6-Owq0r"
      },
      "execution_count": null,
      "outputs": []
    },
    {
      "cell_type": "code",
      "source": [
        "#4. 아래 코드의 실행결과를 예측하시오 코드를 실행하지 말고 예측해보세요\n",
        "def 함수0(num) :\n",
        "    return num * 2\n",
        "\n",
        "def 함수1(num) :\n",
        "    return 함수0(num + 2)\n",
        "\n",
        "def 함수2(num) :\n",
        "    num = num + 10\n",
        "    return 함수1(num)\n",
        "\n",
        "c = 함수2(2)\n",
        "print(c)"
      ],
      "metadata": {
        "colab": {
          "base_uri": "https://localhost:8080/"
        },
        "id": "MnVJqblaxhQK",
        "outputId": "463fa716-1f41-4788-aef8-09865626365f"
      },
      "execution_count": 36,
      "outputs": [
        {
          "output_type": "stream",
          "name": "stdout",
          "text": [
            "28\n"
          ]
        }
      ]
    }
  ]
}