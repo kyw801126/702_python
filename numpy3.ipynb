{
 "cells": [
  {
   "cell_type": "code",
   "execution_count": 1,
   "id": "6e06386b-cda6-464b-a7d3-18cbb250f1a1",
   "metadata": {},
   "outputs": [],
   "source": [
    "import numpy as np"
   ]
  },
  {
   "cell_type": "code",
   "execution_count": 2,
   "id": "2f2787f6-cea5-49ab-9aee-d51746c06ec8",
   "metadata": {},
   "outputs": [],
   "source": [
    "x = np.array([18, 5, 10, 23, 19, -8, 10, 0, 0, 5, 2, 15, 8, \n",
    "             2, 5, 4, 15, -1, 4, -7, -24, 7, 9, -6, 23, -13])"
   ]
  },
  {
   "cell_type": "code",
   "execution_count": 4,
   "id": "fe4b013e-fa8a-48d7-a02a-6ee53f317c4f",
   "metadata": {},
   "outputs": [
    {
     "data": {
      "text/plain": [
       "(26, 26)"
      ]
     },
     "execution_count": 4,
     "metadata": {},
     "output_type": "execute_result"
    }
   ],
   "source": [
    "# 데이터 갯수 확인\n",
    "len(x), x.size"
   ]
  },
  {
   "cell_type": "code",
   "execution_count": 6,
   "id": "f25c36f9-ffd4-4efd-8953-865a09ccf08d",
   "metadata": {},
   "outputs": [
    {
     "data": {
      "text/plain": [
       "(4.8076923076923075, 4.8076923076923075)"
      ]
     },
     "execution_count": 6,
     "metadata": {},
     "output_type": "execute_result"
    }
   ],
   "source": [
    "# 표본 평균\n",
    "np.mean(x), x.mean()"
   ]
  },
  {
   "cell_type": "code",
   "execution_count": 7,
   "id": "5180b69d-22b1-4950-9ddd-fc0c21d12587",
   "metadata": {},
   "outputs": [
    {
     "data": {
      "text/plain": [
       "4.8076923076923075"
      ]
     },
     "execution_count": 7,
     "metadata": {},
     "output_type": "execute_result"
    }
   ],
   "source": [
    "np.sum(x)/x.size"
   ]
  },
  {
   "cell_type": "code",
   "execution_count": 8,
   "id": "1e18a39a-a230-4f32-b626-fa3583c03cce",
   "metadata": {},
   "outputs": [
    {
     "data": {
      "text/plain": [
       "(115.23224852071006, 115.23224852071006)"
      ]
     },
     "execution_count": 8,
     "metadata": {},
     "output_type": "execute_result"
    }
   ],
   "source": [
    "# 표본의 분산\n",
    "np.var(x), x.var()"
   ]
  },
  {
   "cell_type": "code",
   "execution_count": 9,
   "id": "6d2eb933-8c7f-49a3-a703-817a15ef5d8f",
   "metadata": {},
   "outputs": [
    {
     "data": {
      "text/plain": [
       "119.84153846153846"
      ]
     },
     "execution_count": 9,
     "metadata": {},
     "output_type": "execute_result"
    }
   ],
   "source": [
    "# 비편향 분산, 표본분산은 n-1 로 나눠준다. \n",
    "np.var(x, ddof=1)"
   ]
  },
  {
   "cell_type": "markdown",
   "id": "43f18181-d47b-44d0-8a4f-192573c7f726",
   "metadata": {},
   "source": [
    "최대값 최소값"
   ]
  },
  {
   "cell_type": "code",
   "execution_count": 10,
   "id": "6c2aeb90-661c-4bc1-a80d-3bdbe8c3255d",
   "metadata": {},
   "outputs": [
    {
     "data": {
      "text/plain": [
       "(23, 23, -24, -24)"
      ]
     },
     "execution_count": 10,
     "metadata": {},
     "output_type": "execute_result"
    }
   ],
   "source": [
    "np.max(x), x.max(), np.min(x), x.min() "
   ]
  },
  {
   "cell_type": "markdown",
   "id": "2a282688-b8c2-40cb-b6b9-9c795373b5a1",
   "metadata": {},
   "source": [
    "중앙값"
   ]
  },
  {
   "cell_type": "code",
   "execution_count": 11,
   "id": "9b70842c-9742-4ef1-8ccf-bf5e4bacec8f",
   "metadata": {},
   "outputs": [
    {
     "data": {
      "text/plain": [
       "array([-24, -13,  -8,  -7,  -6,  -1,   0,   0,   2,   2,   4,   4,   5,\n",
       "         5,   5,   7,   8,   9,  10,  10,  15,  15,  18,  19,  23,  23])"
      ]
     },
     "execution_count": 11,
     "metadata": {},
     "output_type": "execute_result"
    }
   ],
   "source": [
    "np.sort(x)"
   ]
  },
  {
   "cell_type": "code",
   "execution_count": 12,
   "id": "554548eb-9d63-4652-a57a-e9463223a0bf",
   "metadata": {},
   "outputs": [
    {
     "data": {
      "text/plain": [
       "5.0"
      ]
     },
     "execution_count": 12,
     "metadata": {},
     "output_type": "execute_result"
    }
   ],
   "source": [
    "np.median(x)"
   ]
  },
  {
   "cell_type": "code",
   "execution_count": 13,
   "id": "b616367d-71ca-486e-aae0-3542517ae4e4",
   "metadata": {},
   "outputs": [
    {
     "data": {
      "text/plain": [
       "4.8076923076923075"
      ]
     },
     "execution_count": 13,
     "metadata": {},
     "output_type": "execute_result"
    }
   ],
   "source": [
    "x.mean()"
   ]
  },
  {
   "cell_type": "markdown",
   "id": "adab0483-1038-4014-bc9f-7e996fb105f7",
   "metadata": {},
   "source": [
    "사분위수"
   ]
  },
  {
   "cell_type": "code",
   "execution_count": 14,
   "id": "7dd96c3a-b5c4-437b-8998-4a772d726354",
   "metadata": {},
   "outputs": [
    {
     "data": {
      "image/png": "[encoded data removed]",
      "text/plain": [
       "<Figure size 640x480 with 1 Axes>"
      ]
     },
     "metadata": {},
     "output_type": "display_data"
    }
   ],
   "source": [
    "# box plot\n",
    "import matplotlib.pyplot as plt\n",
    "plt.boxplot(x)\n",
    "plt.show()"
   ]
  },
  {
   "cell_type": "code",
   "execution_count": 15,
   "id": "91f65e9f-f47b-46cd-93f1-c06aed8b2223",
   "metadata": {},
   "outputs": [
    {
     "data": {
      "text/plain": [
       "(-24.0, 0.0, 5.0, 10.0, 23.0)"
      ]
     },
     "execution_count": 15,
     "metadata": {},
     "output_type": "execute_result"
    }
   ],
   "source": [
    "np.percentile(x, 0), np.percentile(x, 25), np.percentile(x, 50), np.percentile(x, 75), np.percentile(x, 100)"
   ]
  },
  {
   "cell_type": "code",
   "execution_count": null,
   "id": "847469ca-4cbb-4e9b-8903-878845c82f68",
   "metadata": {},
   "outputs": [],
   "source": [
    "# 동그라미는 이상치 (outlier)라고 함"
   ]
  },
  {
   "cell_type": "markdown",
   "id": "48baa7eb-5d23-49af-82ca-0e2d86eed1bd",
   "metadata": {},
   "source": [
    "난수 발생 카운팅"
   ]
  },
  {
   "cell_type": "code",
   "execution_count": 16,
   "id": "745130c9-76da-4d6c-8c16-6e6a44c0393d",
   "metadata": {},
   "outputs": [
    {
     "data": {
      "text/plain": [
       "array([0.3219883 , 0.89042245, 0.58805226, 0.12659609, 0.14134122])"
      ]
     },
     "execution_count": 16,
     "metadata": {},
     "output_type": "execute_result"
    }
   ],
   "source": [
    "np.random.seed(2023)\n",
    "np.random.random(5)"
   ]
  },
  {
   "cell_type": "code",
   "execution_count": 17,
   "id": "634ac7ca-b84d-4b17-9cd3-fd1df5f7f24c",
   "metadata": {},
   "outputs": [
    {
     "data": {
      "text/plain": [
       "array([7, 4, 3, 2, 8, 9, 1, 6, 0, 5])"
      ]
     },
     "execution_count": 17,
     "metadata": {},
     "output_type": "execute_result"
    }
   ],
   "source": [
    "# 데이터 순서 바꾸기\n",
    "x = np.arange(10)\n",
    "np.random.shuffle(x) # 데이터 순서 바꾸기\n",
    "x"
   ]
  },
  {
   "cell_type": "code",
   "execution_count": 18,
   "id": "9fb73707-e71f-4bd9-8063-2977d9fbc2ac",
   "metadata": {},
   "outputs": [
    {
     "data": {
      "text/plain": [
       "array([3, 4, 0, 2, 1])"
      ]
     },
     "execution_count": 18,
     "metadata": {},
     "output_type": "execute_result"
    }
   ],
   "source": [
    "# 데이터 샘플링\n",
    "np.random.choice(5, 5, replace=False) #비복원추출"
   ]
  },
  {
   "cell_type": "code",
   "execution_count": 19,
   "id": "19e0dd92-e17f-481a-b4a8-5ad5fa3e2860",
   "metadata": {},
   "outputs": [
    {
     "data": {
      "text/plain": [
       "array([1, 0, 2, 3, 0])"
      ]
     },
     "execution_count": 19,
     "metadata": {},
     "output_type": "execute_result"
    }
   ],
   "source": [
    "np.random.choice(5, 5, replace=True) # 복원추출"
   ]
  },
  {
   "cell_type": "code",
   "execution_count": 21,
   "id": "6d410fa8-f7dc-4404-9e44-c8f8a7dc567d",
   "metadata": {},
   "outputs": [
    {
     "data": {
      "text/plain": [
       "array([73, 48, 66, 72, 23, 54,  8, 46, 26, 35])"
      ]
     },
     "execution_count": 21,
     "metadata": {},
     "output_type": "execute_result"
    }
   ],
   "source": [
    "x = np.random.randint(1, 100, 10)\n",
    "x"
   ]
  },
  {
   "cell_type": "code",
   "execution_count": 22,
   "id": "d8e19f33-868f-45c6-a59c-d459a0076f51",
   "metadata": {},
   "outputs": [
    {
     "data": {
      "text/plain": [
       "array([66, 26, 35, 54, 46])"
      ]
     },
     "execution_count": 22,
     "metadata": {},
     "output_type": "execute_result"
    }
   ],
   "source": [
    "np.random.choice(x, 5, replace=False)"
   ]
  },
  {
   "cell_type": "code",
   "execution_count": 23,
   "id": "868ec9e2-5011-47ab-9346-11db434031b3",
   "metadata": {},
   "outputs": [
    {
     "data": {
      "text/plain": [
       "array([41, 39, 37, 35, 12,  2])"
      ]
     },
     "execution_count": 23,
     "metadata": {},
     "output_type": "execute_result"
    }
   ],
   "source": [
    "y = np.random.randint(1, 46, 6)\n",
    "y"
   ]
  },
  {
   "cell_type": "markdown",
   "id": "7ade5052-b879-4c9a-adc5-777c54d5e0e8",
   "metadata": {},
   "source": [
    "난수 생성"
   ]
  },
  {
   "cell_type": "code",
   "execution_count": 24,
   "id": "6f246a7f-de41-4af9-8d3e-0378eec8f005",
   "metadata": {},
   "outputs": [
    {
     "data": {
      "text/plain": [
       "array([0.30121014, 0.26788935, 0.72442186, 0.4034967 , 0.47762815,\n",
       "       0.21232418, 0.58847827, 0.63320608, 0.24210542, 0.67288497])"
      ]
     },
     "execution_count": 24,
     "metadata": {},
     "output_type": "execute_result"
    }
   ],
   "source": [
    "# random(N) - Uniform 분포 , 0~1사이 값 N개 추출\n",
    "np.random.random(10)"
   ]
  },
  {
   "cell_type": "code",
   "execution_count": 25,
   "id": "24a98db2-55da-4e21-afa5-1b50e7f205d0",
   "metadata": {},
   "outputs": [
    {
     "data": {
      "text/plain": [
       "array([4, 5, 4, 6, 6, 2, 5, 1, 6, 3])"
      ]
     },
     "execution_count": 25,
     "metadata": {},
     "output_type": "execute_result"
    }
   ],
   "source": [
    "np.random.randint(1, 7, 10)"
   ]
  },
  {
   "cell_type": "code",
   "execution_count": 26,
   "id": "36422daa-52c9-4ad5-93ad-e6bd1cf3cd4d",
   "metadata": {},
   "outputs": [
    {
     "data": {
      "text/plain": [
       "array([173.66833241, 178.14732314, 170.7235438 , 176.01246101,\n",
       "       152.72099005, 172.34043109, 169.8689788 , 155.55109575,\n",
       "       157.02663624, 149.68410626])"
      ]
     },
     "execution_count": 26,
     "metadata": {},
     "output_type": "execute_result"
    }
   ],
   "source": [
    "# normal(평균, 표준편차, N) 정규분포 N\n",
    "np.random.normal(170, 10, 10)"
   ]
  },
  {
   "cell_type": "code",
   "execution_count": 27,
   "id": "af3e003c-27e0-4c1e-8436-6c0e761313cd",
   "metadata": {},
   "outputs": [
    {
     "data": {
      "text/plain": [
       "array([-0.08597215, -0.26945405, -0.63565121,  0.63394043,  0.37814963,\n",
       "       -0.76754233, -0.2188281 , -1.37296663,  0.94173943,  0.40811026])"
      ]
     },
     "execution_count": 27,
     "metadata": {},
     "output_type": "execute_result"
    }
   ],
   "source": [
    "# 표준정규분포 N(0, 1) N개\n",
    "np.random.randn(10)"
   ]
  },
  {
   "cell_type": "markdown",
   "id": "47938597-7aa0-45f2-921c-6413d3708d84",
   "metadata": {},
   "source": [
    "연습"
   ]
  },
  {
   "cell_type": "code",
   "execution_count": 29,
   "id": "512f7bf4-4f41-4c0d-8ab0-cdb5aeae3620",
   "metadata": {},
   "outputs": [
    {
     "data": {
      "text/plain": [
       "array([0, 1, 1, 0, 1, 0, 0, 0, 1, 1])"
      ]
     },
     "execution_count": 29,
     "metadata": {},
     "output_type": "execute_result"
    }
   ],
   "source": [
    "# 1. 동전을 10번 던져 앞면 (숫자1) 뒷면(숫자0) 이 나오는 가상실험을 파이썬으로 작성\n",
    "np.random.binomial(1, 0.5, 10)"
   ]
  },
  {
   "cell_type": "code",
   "execution_count": null,
   "id": "5a1476a0-bf07-4d77-bace-e20711aa93e9",
   "metadata": {},
   "outputs": [],
   "source": [
    "# 주사위 100번 던져서 나오는 숫자의 평균을 구해라\n",
    "dice = np.random.\n",
    "np.mean(dice)"
   ]
  }
 ],
 "metadata": {
  "kernelspec": {
   "display_name": "Python 3 (ipykernel)",
   "language": "python",
   "name": "python3"
  },
  "language_info": {
   "codemirror_mode": {
    "name": "ipython",
    "version": 3
   },
   "file_extension": ".py",
   "mimetype": "text/x-python",
   "name": "python",
   "nbconvert_exporter": "python",
   "pygments_lexer": "ipython3",
   "version": "3.9.12"
  }
 },
 "nbformat": 4,
 "nbformat_minor": 5
}
