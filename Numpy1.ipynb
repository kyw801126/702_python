{
 "cells": [
  {
   "cell_type": "markdown",
   "id": "3ed9c2c6-fe35-4cc3-a468-1bdbca68b2ab",
   "metadata": {},
   "source": [
    "# Numerical Python(Numpy)"
   ]
  },
  {
   "cell_type": "code",
   "execution_count": 8,
   "id": "d95371fc-1f32-469b-997b-224b90f2856f",
   "metadata": {},
   "outputs": [
    {
     "data": {
      "text/plain": [
       "[1, 2, 3, 1, 2, 3, 1, 2, 3]"
      ]
     },
     "execution_count": 8,
     "metadata": {},
     "output_type": "execute_result"
    }
   ],
   "source": [
    "import numpy as np # 표준\n",
    "a = [1,2,3]\n",
    "a * 3"
   ]
  },
  {
   "cell_type": "code",
   "execution_count": 9,
   "id": "b2bc70c7-fe21-49e6-bb4f-162381e523e5",
   "metadata": {},
   "outputs": [
    {
     "data": {
      "text/plain": [
       "[3, 6, 9]"
      ]
     },
     "execution_count": 9,
     "metadata": {},
     "output_type": "execute_result"
    }
   ],
   "source": [
    "list(map(lambda x: 3 * x , a))"
   ]
  },
  {
   "cell_type": "code",
   "execution_count": 10,
   "id": "cbc68927-e95d-446a-a200-731483b91f2f",
   "metadata": {},
   "outputs": [
    {
     "data": {
      "text/plain": [
       "array([3, 6, 9])"
      ]
     },
     "execution_count": 10,
     "metadata": {},
     "output_type": "execute_result"
    }
   ],
   "source": [
    "b = np.array([1,2,3])\n",
    "b * 3 \n",
    "# (b * 3).tolist()"
   ]
  },
  {
   "cell_type": "markdown",
   "id": "95617e21-403d-4f54-a2b9-337c351befe4",
   "metadata": {
    "scrolled": true
   },
   "source": [
    "# 1. Numpy Dimensional array"
   ]
  },
  {
   "cell_type": "code",
   "execution_count": 12,
   "id": "8fb0736a-8b48-410d-85a7-91c706a7b08c",
   "metadata": {},
   "outputs": [
    {
     "data": {
      "text/plain": [
       "array([1., 2., 5., 8.])"
      ]
     },
     "execution_count": 12,
     "metadata": {},
     "output_type": "execute_result"
    }
   ],
   "source": [
    "a = np.array([1,2,5,8], float)\n",
    "a"
   ]
  },
  {
   "cell_type": "code",
   "execution_count": 13,
   "id": "be93c52e-55de-46e4-9ffb-e80a20115610",
   "metadata": {},
   "outputs": [
    {
     "data": {
      "text/plain": [
       "numpy.ndarray"
      ]
     },
     "execution_count": 13,
     "metadata": {},
     "output_type": "execute_result"
    }
   ],
   "source": [
    "type(a)"
   ]
  },
  {
   "cell_type": "code",
   "execution_count": 14,
   "id": "bf4a9663-e62b-4db9-89fe-ba293e42add3",
   "metadata": {},
   "outputs": [
    {
     "data": {
      "text/plain": [
       "(dtype('float64'), (4,))"
      ]
     },
     "execution_count": 14,
     "metadata": {},
     "output_type": "execute_result"
    }
   ],
   "source": [
    "a.dtype, a.shape"
   ]
  },
  {
   "cell_type": "markdown",
   "id": "bd80c388-8690-4cf3-90a6-72931b301373",
   "metadata": {},
   "source": [
    "# 2.Array shape"
   ]
  },
  {
   "cell_type": "code",
   "execution_count": 15,
   "id": "67facefd-434b-420c-bfea-4246451fcccd",
   "metadata": {},
   "outputs": [
    {
     "data": {
      "text/plain": [
       "(4,)"
      ]
     },
     "execution_count": 15,
     "metadata": {},
     "output_type": "execute_result"
    }
   ],
   "source": [
    "# vector(1차원)\n",
    "vector = np.array([1,4,5,8])\n",
    "vector.shape"
   ]
  },
  {
   "cell_type": "code",
   "execution_count": 16,
   "id": "be61ab5a-78a5-421d-a804-ff70cf9fb702",
   "metadata": {},
   "outputs": [
    {
     "name": "stdout",
     "output_type": "stream",
     "text": [
      "(2, 3)\n",
      "[[1 2 3]\n",
      " [4 5 6]]\n"
     ]
    }
   ],
   "source": [
    "# matrix(2차원)\n",
    "matrix = np.array([[1,2,3], [4,5,6]])\n",
    "print(matrix.shape)\n",
    "print(matrix)"
   ]
  },
  {
   "cell_type": "code",
   "execution_count": 17,
   "id": "d9ff4e14-2c46-4a51-ab3d-362ea70f95e2",
   "metadata": {},
   "outputs": [
    {
     "name": "stdout",
     "output_type": "stream",
     "text": [
      "[[[ 1  2  3  4]\n",
      "  [ 5  6  7  8]\n",
      "  [ 9 10 11 12]]\n",
      "\n",
      " [[13 14 15 16]\n",
      "  [17 18 19 20]\n",
      "  [21 22 23 24]]]\n"
     ]
    }
   ],
   "source": [
    "# Tensor(3차원)\n",
    "tensor = np.arange(1, 25).reshape(2,3,4)\n",
    "print(tensor)"
   ]
  },
  {
   "cell_type": "code",
   "execution_count": 18,
   "id": "56995697-4ba3-4b15-a5f7-04cb68b6cdd3",
   "metadata": {},
   "outputs": [
    {
     "data": {
      "text/plain": [
       "((4,), (2, 3), (2, 3, 4))"
      ]
     },
     "execution_count": 18,
     "metadata": {},
     "output_type": "execute_result"
    }
   ],
   "source": [
    "vector.shape, matrix.shape, tensor.shape"
   ]
  },
  {
   "cell_type": "code",
   "execution_count": 19,
   "id": "bbc99b3b-798d-46d7-baf1-d4a1dba678d9",
   "metadata": {},
   "outputs": [
    {
     "data": {
      "text/plain": [
       "(4, 6, 24)"
      ]
     },
     "execution_count": 19,
     "metadata": {},
     "output_type": "execute_result"
    }
   ],
   "source": [
    "vector.size, matrix.size, tensor.size"
   ]
  },
  {
   "cell_type": "code",
   "execution_count": 20,
   "id": "30aeff77-8339-4596-b9b0-85577b449cb4",
   "metadata": {},
   "outputs": [],
   "source": [
    "a = np.array([1,2,3], dtype=np.float32)"
   ]
  },
  {
   "cell_type": "code",
   "execution_count": 22,
   "id": "bdae96dd-154a-4604-afab-ec1e77d207d6",
   "metadata": {},
   "outputs": [],
   "source": [
    "b = np.array([1,2,3], np.int16)"
   ]
  },
  {
   "cell_type": "code",
   "execution_count": 23,
   "id": "ef7c0fc2-8fb6-4e0c-b780-6573560a7aec",
   "metadata": {},
   "outputs": [
    {
     "data": {
      "text/plain": [
       "array([1, 2, 3], dtype=int16)"
      ]
     },
     "execution_count": 23,
     "metadata": {},
     "output_type": "execute_result"
    }
   ],
   "source": [
    "b"
   ]
  },
  {
   "cell_type": "markdown",
   "id": "d731779d-0619-4389-b5c0-7b51a3862f3c",
   "metadata": {},
   "source": [
    "배열의 인덱싱"
   ]
  },
  {
   "cell_type": "code",
   "execution_count": 2,
   "id": "fd544dd1-2192-44b2-9361-aae8d5964b17",
   "metadata": {},
   "outputs": [
    {
     "data": {
      "text/plain": [
       "numpy.ndarray"
      ]
     },
     "execution_count": 2,
     "metadata": {},
     "output_type": "execute_result"
    }
   ],
   "source": [
    "import numpy as np\n",
    "a = np.array((1,2,3,4,5))\n",
    "type(a)"
   ]
  },
  {
   "cell_type": "code",
   "execution_count": 3,
   "id": "7199a9d3-c0b3-4760-b2f3-6293f5e9972c",
   "metadata": {},
   "outputs": [
    {
     "data": {
      "text/plain": [
       "(dtype('int32'), (5,), 1, 5)"
      ]
     },
     "execution_count": 3,
     "metadata": {},
     "output_type": "execute_result"
    }
   ],
   "source": [
    "a.dtype, a.shape, a.ndim, a.size"
   ]
  },
  {
   "cell_type": "code",
   "execution_count": 4,
   "id": "4b1ad46b-c56e-49a8-a79b-ac68a75fa856",
   "metadata": {},
   "outputs": [
    {
     "data": {
      "text/plain": [
       "array([ 2,  4,  6,  8, 10])"
      ]
     },
     "execution_count": 4,
     "metadata": {},
     "output_type": "execute_result"
    }
   ],
   "source": [
    "# 벡터화 연산\n",
    "a * 2"
   ]
  },
  {
   "cell_type": "code",
   "execution_count": 5,
   "id": "b2624d50-9da8-4ad2-9bb6-7eb699dadd6c",
   "metadata": {},
   "outputs": [
    {
     "name": "stdout",
     "output_type": "stream",
     "text": [
      "[12 24 36 48 60]\n"
     ]
    }
   ],
   "source": [
    "b = np.array([10,20,30,40,50])\n",
    "c = 2 * a + b\n",
    "print(c)"
   ]
  },
  {
   "cell_type": "code",
   "execution_count": 6,
   "id": "daa8d3ce-5e61-4856-8d73-ca015000c740",
   "metadata": {},
   "outputs": [
    {
     "data": {
      "text/plain": [
       "array([False,  True, False, False, False])"
      ]
     },
     "execution_count": 6,
     "metadata": {},
     "output_type": "execute_result"
    }
   ],
   "source": [
    "a == 2"
   ]
  },
  {
   "cell_type": "code",
   "execution_count": 7,
   "id": "31941f81-7fa4-4ba4-a291-afc7527536ea",
   "metadata": {},
   "outputs": [
    {
     "data": {
      "text/plain": [
       "array([False, False,  True,  True,  True])"
      ]
     },
     "execution_count": 7,
     "metadata": {},
     "output_type": "execute_result"
    }
   ],
   "source": [
    "b > 20"
   ]
  },
  {
   "cell_type": "markdown",
   "id": "b6299d86-310f-44af-aeeb-903ee1900e3b",
   "metadata": {},
   "source": [
    "2 차원배열(matrix)"
   ]
  },
  {
   "cell_type": "code",
   "execution_count": 8,
   "id": "9daebd5f-70a8-421c-a83d-98ba4d4c2ea2",
   "metadata": {},
   "outputs": [
    {
     "data": {
      "text/plain": [
       "array([[1, 2, 3],\n",
       "       [4, 5, 6]])"
      ]
     },
     "execution_count": 8,
     "metadata": {},
     "output_type": "execute_result"
    }
   ],
   "source": [
    "c = np.array([[1,2,3], [4,5,6]])\n",
    "# c = np.arange(1, 7).reshape(2, 3)\n",
    "c"
   ]
  },
  {
   "cell_type": "code",
   "execution_count": 9,
   "id": "49090b30-cab0-450b-9e69-f2c2f9fdbfae",
   "metadata": {},
   "outputs": [
    {
     "data": {
      "text/plain": [
       "(dtype('int32'), (2, 3), 2, 6)"
      ]
     },
     "execution_count": 9,
     "metadata": {},
     "output_type": "execute_result"
    }
   ],
   "source": [
    "c.dtype, c.shape, c.ndim, c.size"
   ]
  },
  {
   "cell_type": "markdown",
   "id": "bea7d8f9-1ac2-4506-9639-e9c2de0cfb46",
   "metadata": {},
   "source": [
    "3차원 배열(Tensor)"
   ]
  },
  {
   "cell_type": "code",
   "execution_count": 11,
   "id": "55f3e331-69a3-447e-bc94-34e9385fdc1f",
   "metadata": {},
   "outputs": [
    {
     "data": {
      "text/plain": [
       "array([[[ 1,  2,  3,  4],\n",
       "        [ 5,  6,  7,  8],\n",
       "        [ 9, 10, 11, 12]],\n",
       "\n",
       "       [[13, 14, 15, 16],\n",
       "        [17, 18, 19, 20],\n",
       "        [21, 22, 23, 24]]])"
      ]
     },
     "execution_count": 11,
     "metadata": {},
     "output_type": "execute_result"
    }
   ],
   "source": [
    "d = np.arange(1,25).reshape(2,3,4)\n",
    "d"
   ]
  },
  {
   "cell_type": "code",
   "execution_count": 12,
   "id": "406b3490-a6f9-457d-adec-1bc2a2b96506",
   "metadata": {},
   "outputs": [
    {
     "data": {
      "text/plain": [
       "(dtype('int32'), (2, 3, 4), 3, 24)"
      ]
     },
     "execution_count": 12,
     "metadata": {},
     "output_type": "execute_result"
    }
   ],
   "source": [
    "d.dtype, d.shape, d.ndim, d.size"
   ]
  },
  {
   "cell_type": "code",
   "execution_count": 13,
   "id": "32242ffa-ad82-40e2-93c9-2b96a9f0a8f2",
   "metadata": {},
   "outputs": [
    {
     "data": {
      "text/plain": [
       "(1, 4, 5)"
      ]
     },
     "execution_count": 13,
     "metadata": {},
     "output_type": "execute_result"
    }
   ],
   "source": [
    "a[0], a[3], a[-1]"
   ]
  },
  {
   "cell_type": "code",
   "execution_count": 15,
   "id": "049ffe34-2009-48fd-877a-238a5301dd69",
   "metadata": {},
   "outputs": [
    {
     "data": {
      "text/plain": [
       "(1, 1)"
      ]
     },
     "execution_count": 15,
     "metadata": {},
     "output_type": "execute_result"
    }
   ],
   "source": [
    "c[0, 0], c[0][0]"
   ]
  },
  {
   "cell_type": "code",
   "execution_count": 18,
   "id": "dd24d111-bfe3-4102-81f8-e96b56cd9e84",
   "metadata": {},
   "outputs": [
    {
     "data": {
      "text/plain": [
       "(4, 3, 6)"
      ]
     },
     "execution_count": 18,
     "metadata": {},
     "output_type": "execute_result"
    }
   ],
   "source": [
    "c[1, 0], c[0, -1], c[-1,-1]"
   ]
  },
  {
   "cell_type": "code",
   "execution_count": 20,
   "id": "06ea8927-a821-4a3f-befc-c55b7a0fdca9",
   "metadata": {},
   "outputs": [
    {
     "data": {
      "text/plain": [
       "(9, 20)"
      ]
     },
     "execution_count": 20,
     "metadata": {},
     "output_type": "execute_result"
    }
   ],
   "source": [
    "d[0, -1, 0], d[-1, 1, -1]  # dim, 행, 열"
   ]
  },
  {
   "cell_type": "markdown",
   "id": "4cabb769-2d9c-48ec-a353-22967d4f5e40",
   "metadata": {},
   "source": [
    "배열의 슬라이싱"
   ]
  },
  {
   "cell_type": "code",
   "execution_count": 22,
   "id": "6a1a97f8-e824-4a7e-a103-9e6bd6b3cdff",
   "metadata": {},
   "outputs": [
    {
     "data": {
      "text/plain": [
       "[[1, 2, 3], [4, 5, 6]]"
      ]
     },
     "execution_count": 22,
     "metadata": {},
     "output_type": "execute_result"
    }
   ],
   "source": [
    "l = [[1,2,3], [4,5,6], [7, 8, 9]]\n",
    "l[0:2]"
   ]
  },
  {
   "cell_type": "code",
   "execution_count": 23,
   "id": "ee9363da-6ce5-4832-987e-235163d9272a",
   "metadata": {},
   "outputs": [
    {
     "data": {
      "text/plain": [
       "[[1, 2, 3], [4, 5, 6]]"
      ]
     },
     "execution_count": 23,
     "metadata": {},
     "output_type": "execute_result"
    }
   ],
   "source": [
    "l[:2][:2]"
   ]
  },
  {
   "cell_type": "code",
   "execution_count": 24,
   "id": "aa1226d6-8b16-4f8e-95a5-ece9e2630691",
   "metadata": {},
   "outputs": [
    {
     "data": {
      "text/plain": [
       "[4, 5]"
      ]
     },
     "execution_count": 24,
     "metadata": {},
     "output_type": "execute_result"
    }
   ],
   "source": [
    "l[1][:2]"
   ]
  },
  {
   "cell_type": "code",
   "execution_count": 25,
   "id": "9e26ad75-66e6-4f1e-a45c-62bbea74ba6b",
   "metadata": {},
   "outputs": [
    {
     "data": {
      "text/plain": [
       "array([[ 1,  2,  3,  4],\n",
       "       [ 5,  6,  7,  8],\n",
       "       [ 9, 10, 11, 12]])"
      ]
     },
     "execution_count": 25,
     "metadata": {},
     "output_type": "execute_result"
    }
   ],
   "source": [
    "c = np.arange(1, 13).reshape(3,4)\n",
    "c"
   ]
  },
  {
   "cell_type": "code",
   "execution_count": 26,
   "id": "51fb029e-39d1-475c-9f58-52364d1dea80",
   "metadata": {},
   "outputs": [
    {
     "data": {
      "text/plain": [
       "array([[1, 2, 3, 4],\n",
       "       [5, 6, 7, 8]])"
      ]
     },
     "execution_count": 26,
     "metadata": {},
     "output_type": "execute_result"
    }
   ],
   "source": [
    "c[:2] # 두 행 뽑기"
   ]
  },
  {
   "cell_type": "code",
   "execution_count": 32,
   "id": "334ba9af-dda9-4b8a-b445-c020f3c17dfd",
   "metadata": {},
   "outputs": [
    {
     "data": {
      "text/plain": [
       "array([[ 1,  2,  3,  4],\n",
       "       [ 5,  6,  7,  8],\n",
       "       [ 9, 10, 11, 12]])"
      ]
     },
     "execution_count": 32,
     "metadata": {},
     "output_type": "execute_result"
    }
   ],
   "source": [
    "c"
   ]
  },
  {
   "cell_type": "code",
   "execution_count": 29,
   "id": "1fb08076-4019-4225-8bee-35958ba191ab",
   "metadata": {},
   "outputs": [
    {
     "data": {
      "text/plain": [
       "array([[ 5,  6,  7,  8],\n",
       "       [ 9, 10, 11, 12]])"
      ]
     },
     "execution_count": 29,
     "metadata": {},
     "output_type": "execute_result"
    }
   ],
   "source": [
    "c[:][-2:] "
   ]
  },
  {
   "cell_type": "code",
   "execution_count": 27,
   "id": "39c5069b-0bfc-44d9-895e-e276fcbf7d1c",
   "metadata": {},
   "outputs": [
    {
     "data": {
      "text/plain": [
       "array([[ 3,  4],\n",
       "       [ 7,  8],\n",
       "       [11, 12]])"
      ]
     },
     "execution_count": 27,
     "metadata": {},
     "output_type": "execute_result"
    }
   ],
   "source": [
    "c[:, -2:]"
   ]
  },
  {
   "cell_type": "code",
   "execution_count": 28,
   "id": "3e2200b7-5e98-46ce-ab50-0a469801e71d",
   "metadata": {},
   "outputs": [
    {
     "data": {
      "text/plain": [
       "array([[ 3,  4],\n",
       "       [ 7,  8],\n",
       "       [11, 12]])"
      ]
     },
     "execution_count": 28,
     "metadata": {},
     "output_type": "execute_result"
    }
   ],
   "source": [
    "c[:, 2:]"
   ]
  },
  {
   "cell_type": "code",
   "execution_count": 33,
   "id": "14c421c0-518b-4b40-ba8d-cab4af85f1ae",
   "metadata": {},
   "outputs": [
    {
     "data": {
      "text/plain": [
       "array([[ 1,  2,  3,  4],\n",
       "       [ 5,  6,  7,  8],\n",
       "       [ 9, 10, 11, 12]])"
      ]
     },
     "execution_count": 33,
     "metadata": {},
     "output_type": "execute_result"
    }
   ],
   "source": [
    "c"
   ]
  },
  {
   "cell_type": "code",
   "execution_count": 31,
   "id": "9c8852d2-3ecd-4333-9080-b82f54119068",
   "metadata": {},
   "outputs": [
    {
     "data": {
      "text/plain": [
       "array([[ 9, 10, 11, 12]])"
      ]
     },
     "execution_count": 31,
     "metadata": {},
     "output_type": "execute_result"
    }
   ],
   "source": [
    "c[:][2:]"
   ]
  },
  {
   "cell_type": "code",
   "execution_count": 34,
   "id": "7414193d-a854-462e-abd1-f7c5a1aea4e3",
   "metadata": {},
   "outputs": [
    {
     "data": {
      "text/plain": [
       "array([[ 1,  2,  3,  4],\n",
       "       [ 5,  6,  7,  8],\n",
       "       [ 9, 10, 11, 12]])"
      ]
     },
     "execution_count": 34,
     "metadata": {},
     "output_type": "execute_result"
    }
   ],
   "source": [
    "c"
   ]
  },
  {
   "cell_type": "code",
   "execution_count": null,
   "id": "2b085111-9a5b-4433-ac02-434a360e0cd2",
   "metadata": {},
   "outputs": [],
   "source": [
    "# 1,3,5,7\n",
    "c[:2, ::2]\n"
   ]
  },
  {
   "cell_type": "code",
   "execution_count": 36,
   "id": "6b5bf7dd-6c9d-4b39-ace8-3e35c5fe5c31",
   "metadata": {},
   "outputs": [
    {
     "data": {
      "text/plain": [
       "array([[2, 3],\n",
       "       [6, 7]])"
      ]
     },
     "execution_count": 36,
     "metadata": {},
     "output_type": "execute_result"
    }
   ],
   "source": [
    "# 2,3,6,7\n",
    "c[0:2, 1:3]"
   ]
  },
  {
   "cell_type": "code",
   "execution_count": 37,
   "id": "b615866a-c3e9-4c86-be9a-40bb7d6a24bb",
   "metadata": {},
   "outputs": [
    {
     "data": {
      "text/plain": [
       "array([[2, 3],\n",
       "       [6, 7]])"
      ]
     },
     "execution_count": 37,
     "metadata": {},
     "output_type": "execute_result"
    }
   ],
   "source": [
    "c[:-1, 1:3]"
   ]
  },
  {
   "cell_type": "code",
   "execution_count": 41,
   "id": "21e7f5c1-c26b-436d-a36f-dce748f63164",
   "metadata": {},
   "outputs": [
    {
     "data": {
      "text/plain": [
       "array([[ 0,  1,  2,  3,  4],\n",
       "       [ 5,  6,  7,  8,  9],\n",
       "       [10, 11, 12, 13, 14]])"
      ]
     },
     "execution_count": 41,
     "metadata": {},
     "output_type": "execute_result"
    }
   ],
   "source": [
    "m = np.arange(15).reshape(3,5)\n",
    "m"
   ]
  },
  {
   "cell_type": "code",
   "execution_count": 45,
   "id": "4a0da22e-1f62-41fd-9108-5dae6c7804d8",
   "metadata": {},
   "outputs": [
    {
     "name": "stdout",
     "output_type": "stream",
     "text": [
      "7\n",
      "14 14\n",
      "[6 7]\n",
      "[ 7 12] [ 7 12]\n",
      "[[3 4]\n",
      " [8 9]] [[3 4]\n",
      " [8 9]]\n"
     ]
    }
   ],
   "source": [
    "# 1. 7을 인덱싱\n",
    "print(m[1,2])\n",
    "#2. 14를 인덱싱 2가지 방법\n",
    "print(m[-1, -1], m[2, 4])\n",
    "# 3. [6,7] 슬라이싱\n",
    "print(m[1, 1:3])\n",
    "# 4.  [7, 12] 를 슬라이싱\n",
    "print(m[-2:, 2], m[1:, 2])\n",
    "# 5. [[3,4], [8, 9]] 를 슬라이싱\n",
    "print(m[:2, -2:], m[:2, 3:])"
   ]
  },
  {
   "cell_type": "code",
   "execution_count": 46,
   "id": "fd06633d-8418-4d1b-9c86-834d69306226",
   "metadata": {},
   "outputs": [],
   "source": [
    "# 6. 맨 마지막 열이 y, 나머지는 x 가되도록 x와 y를 슬라이싱\n",
    "X = m[:, :-1]\n",
    "y = m[:, -1]"
   ]
  },
  {
   "cell_type": "markdown",
   "id": "0a3c13d0-801a-4f5b-92cb-2a4ab5340309",
   "metadata": {},
   "source": [
    "배열 인덱싱(Fancy indexing)"
   ]
  },
  {
   "cell_type": "code",
   "execution_count": 47,
   "id": "f7a16e49-417b-4598-a65a-b8a548cb887c",
   "metadata": {},
   "outputs": [
    {
     "name": "stdout",
     "output_type": "stream",
     "text": [
      "[1 2 3 4 5]\n"
     ]
    }
   ],
   "source": [
    "# idx  값이 True/ False 이면, True값이 있는 원소만 통과(filter)\n",
    "print(a)"
   ]
  },
  {
   "cell_type": "code",
   "execution_count": 51,
   "id": "ca405649-43dd-4429-a2fb-deb1312370ad",
   "metadata": {},
   "outputs": [
    {
     "name": "stdout",
     "output_type": "stream",
     "text": [
      "[1 3 4]\n"
     ]
    }
   ],
   "source": [
    "idx = np.array([True, False, True, True, False])\n",
    "print(a[idx])"
   ]
  },
  {
   "cell_type": "code",
   "execution_count": 52,
   "id": "31359ae0-6139-4069-8fe7-8b8b3906a697",
   "metadata": {},
   "outputs": [
    {
     "data": {
      "text/plain": [
       "array([1, 3, 5])"
      ]
     },
     "execution_count": 52,
     "metadata": {},
     "output_type": "execute_result"
    }
   ],
   "source": [
    "# 홀수만 통과\n",
    "a[a % 2 == 1]"
   ]
  },
  {
   "cell_type": "code",
   "execution_count": 53,
   "id": "5665e49e-f0ff-41ef-82dc-e1884fc79a44",
   "metadata": {},
   "outputs": [
    {
     "data": {
      "text/plain": [
       "array([4, 5])"
      ]
     },
     "execution_count": 53,
     "metadata": {},
     "output_type": "execute_result"
    }
   ],
   "source": [
    "# 3보다 큰수만 통과\n",
    "a[a > 3]"
   ]
  },
  {
   "cell_type": "code",
   "execution_count": 54,
   "id": "ffecafe0-15e6-4576-98ef-f1c10701fb2e",
   "metadata": {},
   "outputs": [
    {
     "data": {
      "text/plain": [
       "array([2, 3, 5])"
      ]
     },
     "execution_count": 54,
     "metadata": {},
     "output_type": "execute_result"
    }
   ],
   "source": [
    "# idx 값이 정수(인덱스)면 해당 인덱스의 원소가 선택됨\n",
    "idx = np.array([1,2,4])\n",
    "a[idx] # a[1], a[2] , a[4]"
   ]
  },
  {
   "cell_type": "markdown",
   "id": "6a13129b-0ce9-4c06-84fb-929ae830af97",
   "metadata": {},
   "source": [
    "연습"
   ]
  },
  {
   "cell_type": "code",
   "execution_count": 55,
   "id": "73e0d0cf-af6a-4f44-9538-b81de4cb83f1",
   "metadata": {},
   "outputs": [
    {
     "data": {
      "text/plain": [
       "array([ 1,  2,  3,  4,  5,  6,  7,  8,  9, 10, 11, 12, 13, 14, 15, 16, 17,\n",
       "       18, 19, 20])"
      ]
     },
     "execution_count": 55,
     "metadata": {},
     "output_type": "execute_result"
    }
   ],
   "source": [
    "x = np.arange(1, 21)\n",
    "x"
   ]
  },
  {
   "cell_type": "code",
   "execution_count": null,
   "id": "4889fe4a-b44c-4ec2-b0e7-899692af198a",
   "metadata": {},
   "outputs": [],
   "source": [
    "# 1. 3의 배수를 찾으세요\n",
    "x[x % 3 ==0 ]\n",
    "# 2. 4로나누면 1이 남는 수를 찾으세요 \n",
    "x[x % 4 == 1]\n",
    "# 3. 3으로 나눠지고 4로 나누면 1이 남는 수를 찾으세요  --> 9\n",
    "x[(x % 3 ==0) & (x % 4 == 1)]\n",
    "# 4. 3번을 fancy indexing으로 코드를 수정하세요"
   ]
  },
  {
   "cell_type": "code",
   "execution_count": 57,
   "id": "1c2cc175-4115-4fe2-b706-ed50f32a6130",
   "metadata": {},
   "outputs": [
    {
     "data": {
      "text/plain": [
       "array([9])"
      ]
     },
     "execution_count": 57,
     "metadata": {},
     "output_type": "execute_result"
    }
   ],
   "source": [
    "x[(x % 3 ==0) & (x % 4 == 1)]"
   ]
  },
  {
   "cell_type": "code",
   "execution_count": null,
   "id": "d6d80799-51e5-4547-8eab-60c9967b7997",
   "metadata": {},
   "outputs": [],
   "source": []
  }
 ],
 "metadata": {
  "kernelspec": {
   "display_name": "Python 3 (ipykernel)",
   "language": "python",
   "name": "python3"
  },
  "language_info": {
   "codemirror_mode": {
    "name": "ipython",
    "version": 3
   },
   "file_extension": ".py",
   "mimetype": "text/x-python",
   "name": "python",
   "nbconvert_exporter": "python",
   "pygments_lexer": "ipython3",
   "version": "3.9.12"
  }
 },
 "nbformat": 4,
 "nbformat_minor": 5
}
