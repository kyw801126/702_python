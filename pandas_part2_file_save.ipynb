{
 "cells": [
  {
   "cell_type": "code",
   "execution_count": 8,
   "id": "c0b9a3ef-b0e6-4d63-80c1-b8af829cdb74",
   "metadata": {},
   "outputs": [],
   "source": [
    "import pandas as pd\n",
    "#파일경로를 찾고, 변수 file_path에 저장\n",
    "file_path = './test_data/read_csv_sample.csv' # 상대경로\n",
    "file_path1 = 'c:/workspace/test_data/read_csv_sample.csv' # 절대경로\n",
    "# C:\\workspace\\test_data"
   ]
  },
  {
   "cell_type": "code",
   "execution_count": 9,
   "id": "5d3cd98c-7822-477e-9d84-236193e8ecd5",
   "metadata": {},
   "outputs": [
    {
     "name": "stdout",
     "output_type": "stream",
     "text": [
      "   c0  c1  c2  c3\n",
      "0   0   1   4   7\n",
      "1   1   2   5   8\n",
      "2   2   3   6   9\n"
     ]
    }
   ],
   "source": [
    "df = pd.read_csv(file_path1)\n",
    "print(df)"
   ]
  },
  {
   "cell_type": "code",
   "execution_count": 14,
   "id": "0e43e43d-0b9c-4bd7-8a0a-125af8a9d9ba",
   "metadata": {},
   "outputs": [
    {
     "name": "stdout",
     "output_type": "stream",
     "text": [
      "    0   1   2   3\n",
      "0  c0  c1  c2  c3\n",
      "1   0   1   4   7\n",
      "2   1   2   5   8\n",
      "3   2   3   6   9\n"
     ]
    }
   ],
   "source": [
    "df2 = pd.read_csv(file_path, header=None)\n",
    "print(df2)"
   ]
  },
  {
   "cell_type": "code",
   "execution_count": 16,
   "id": "8abed088-999c-4f83-8968-635c14e37373",
   "metadata": {},
   "outputs": [
    {
     "name": "stdout",
     "output_type": "stream",
     "text": [
      "    c1  c2  c3\n",
      "c0            \n",
      "0    1   4   7\n",
      "1    2   5   8\n",
      "2    3   6   9\n"
     ]
    }
   ],
   "source": [
    "df3 = pd.read_csv(file_path, index_col='c0')\n",
    "print(df3)"
   ]
  },
  {
   "cell_type": "code",
   "execution_count": 20,
   "id": "1ccf82cf-f9c6-46ab-9f94-bdcdb575f8d9",
   "metadata": {},
   "outputs": [
    {
     "name": "stdout",
     "output_type": "stream",
     "text": [
      "  전력량 (억㎾h) 발전 전력별  1990  1991  1992  1993  1994  1995  1996  1997  ...  2007  \\\n",
      "0        남한     합계  1077  1186  1310  1444  1650  1847  2055  2244  ...  4031   \n",
      "1       NaN     수력    64    51    49    60    41    55    52    54  ...    50   \n",
      "2       NaN     화력   484   573   696   803  1022  1122  1264  1420  ...  2551   \n",
      "3       NaN    원자력   529   563   565   581   587   670   739   771  ...  1429   \n",
      "4       NaN    신재생     -     -     -     -     -     -     -     -  ...     -   \n",
      "5        북한     합계   277   263   247   221   231   230   213   193  ...   236   \n",
      "6       NaN     수력   156   150   142   133   138   142   125   107  ...   133   \n",
      "7       NaN     화력   121   113   105    88    93    88    88    86  ...   103   \n",
      "8       NaN    원자력     -     -     -     -     -     -     -     -  ...     -   \n",
      "\n",
      "   2008  2009  2010  2011  2012  2013  2014  2015  2016  \n",
      "0  4224  4336  4747  4969  5096  5171  5220  5281  5404  \n",
      "1    56    56    65    78    77    84    78    58    66  \n",
      "2  2658  2802  3196  3343  3430  3581  3427  3402  3523  \n",
      "3  1510  1478  1486  1547  1503  1388  1564  1648  1620  \n",
      "4     -     -     -     -    86   118   151   173   195  \n",
      "5   255   235   237   211   215   221   216   190   239  \n",
      "6   141   125   134   132   135   139   130   100   128  \n",
      "7   114   110   103    79    80    82    86    90   111  \n",
      "8     -     -     -     -     -     -     -     -     -  \n",
      "\n",
      "[9 rows x 29 columns]\n"
     ]
    }
   ],
   "source": [
    "# 주피터에서는 엑셀파일을 불러오려면 openpyxl패키지가 필요함 / 코랩은 필요없음\n",
    "# !pip install openpyxl\n",
    "df4 = pd.read_excel('./test_data/남북한발전전력량.xlsx', engine=\"openpyxl\")\n",
    "print(df4)"
   ]
  },
  {
   "cell_type": "code",
   "execution_count": 21,
   "id": "e42daa4a-f94e-44b3-9427-fbf09ac61d84",
   "metadata": {},
   "outputs": [
    {
     "name": "stdout",
     "output_type": "stream",
     "text": [
      "          0       1     2     3     4     5     6     7     8     9   ...  \\\n",
      "0  전력량 (억㎾h)  발전 전력별  1990  1991  1992  1993  1994  1995  1996  1997  ...   \n",
      "1         남한      합계  1077  1186  1310  1444  1650  1847  2055  2244  ...   \n",
      "2        NaN      수력    64    51    49    60    41    55    52    54  ...   \n",
      "3        NaN      화력   484   573   696   803  1022  1122  1264  1420  ...   \n",
      "4        NaN     원자력   529   563   565   581   587   670   739   771  ...   \n",
      "5        NaN     신재생     -     -     -     -     -     -     -     -  ...   \n",
      "6         북한      합계   277   263   247   221   231   230   213   193  ...   \n",
      "7        NaN      수력   156   150   142   133   138   142   125   107  ...   \n",
      "8        NaN      화력   121   113   105    88    93    88    88    86  ...   \n",
      "9        NaN     원자력     -     -     -     -     -     -     -     -  ...   \n",
      "\n",
      "     19    20    21    22    23    24    25    26    27    28  \n",
      "0  2007  2008  2009  2010  2011  2012  2013  2014  2015  2016  \n",
      "1  4031  4224  4336  4747  4969  5096  5171  5220  5281  5404  \n",
      "2    50    56    56    65    78    77    84    78    58    66  \n",
      "3  2551  2658  2802  3196  3343  3430  3581  3427  3402  3523  \n",
      "4  1429  1510  1478  1486  1547  1503  1388  1564  1648  1620  \n",
      "5     -     -     -     -     -    86   118   151   173   195  \n",
      "6   236   255   235   237   211   215   221   216   190   239  \n",
      "7   133   141   125   134   132   135   139   130   100   128  \n",
      "8   103   114   110   103    79    80    82    86    90   111  \n",
      "9     -     -     -     -     -     -     -     -     -     -  \n",
      "\n",
      "[10 rows x 29 columns]\n"
     ]
    }
   ],
   "source": [
    "df5 = pd.read_excel('./test_data/남북한발전전력량.xlsx', engine=\"openpyxl\", header=None)\n",
    "print(df5)"
   ]
  },
  {
   "cell_type": "code",
   "execution_count": 22,
   "id": "79c34e12-e749-40c5-a35c-e69676e4ccc0",
   "metadata": {},
   "outputs": [
    {
     "name": "stdout",
     "output_type": "stream",
     "text": [
      "      algol basic c++\n",
      "Jerry     A     C  B+\n",
      "Riah     A+     B   C\n",
      "Paul      B    B+  C+\n"
     ]
    }
   ],
   "source": [
    "df6 = pd.read_json(\"./test_data/df_sample.json\")\n",
    "print(df6)"
   ]
  },
  {
   "cell_type": "code",
   "execution_count": 23,
   "id": "b87ddd7d-6742-4497-8ce7-e5bda8943d51",
   "metadata": {},
   "outputs": [
    {
     "name": "stdout",
     "output_type": "stream",
     "text": [
      "Index(['Jerry', 'Riah', 'Paul'], dtype='object')\n"
     ]
    }
   ],
   "source": [
    "print(df6.index)"
   ]
  },
  {
   "cell_type": "code",
   "execution_count": 26,
   "id": "f5b8dec1-8256-4917-91df-3cf3e57d4769",
   "metadata": {},
   "outputs": [
    {
     "name": "stdout",
     "output_type": "stream",
     "text": [
      "2\n",
      "[   Unnamed: 0  c0  c1  c2  c3\n",
      "0           0   0   1   4   7\n",
      "1           1   1   2   5   8\n",
      "2           2   2   3   6   9,          name  year        developer  opensource\n",
      "0       NumPy  2006  Travis Oliphant        True\n",
      "1  matplotlib  2003   John D. Hunter        True\n",
      "2      pandas  2008    Wes Mckinneye        True]\n"
     ]
    }
   ],
   "source": [
    "# HTML 파일 경로 or 웹페이지 주소 url 변수 저장\n",
    "# html 파일을 불러오려면 lxml 패키지 설치 필요함\n",
    "# !pip install lxml\n",
    "url = './test_data/sample.html'\n",
    "tables = pd.read_html(url)\n",
    "print(len(tables))\n",
    "print(tables)"
   ]
  },
  {
   "cell_type": "code",
   "execution_count": 30,
   "id": "bab27e7c-88a1-404f-bf5c-9ac4014188d4",
   "metadata": {},
   "outputs": [
    {
     "name": "stdout",
     "output_type": "stream",
     "text": [
      "table0\n",
      "   Unnamed: 0  c0  c1  c2  c3\n",
      "0           0   0   1   4   7\n",
      "1           1   1   2   5   8\n",
      "2           2   2   3   6   9\n",
      "\n",
      "\n",
      "table1\n",
      "         name  year        developer  opensource\n",
      "0       NumPy  2006  Travis Oliphant        True\n",
      "1  matplotlib  2003   John D. Hunter        True\n",
      "2      pandas  2008    Wes Mckinneye        True\n",
      "\n",
      "\n"
     ]
    }
   ],
   "source": [
    "for i in range(len(tables)):\n",
    "    print(f\"table{i}\")\n",
    "    print(tables[i])\n",
    "    print('\\n')"
   ]
  },
  {
   "cell_type": "code",
   "execution_count": 31,
   "id": "2d2a5204-246d-4da1-85b3-04272735ae02",
   "metadata": {},
   "outputs": [
    {
     "name": "stdout",
     "output_type": "stream",
     "text": [
      "         name  year        developer  opensource\n",
      "0       NumPy  2006  Travis Oliphant        True\n",
      "1  matplotlib  2003   John D. Hunter        True\n",
      "2      pandas  2008    Wes Mckinneye        True\n"
     ]
    }
   ],
   "source": [
    "df7 = tables[1]\n",
    "print(df7)"
   ]
  },
  {
   "cell_type": "code",
   "execution_count": 33,
   "id": "36b9efe5-7ccd-4886-a16a-65d2b24c0b8c",
   "metadata": {},
   "outputs": [
    {
     "data": {
      "text/html": [
       "<div>\n",
       "<style scoped>\n",
       "    .dataframe tbody tr th:only-of-type {\n",
       "        vertical-align: middle;\n",
       "    }\n",
       "\n",
       "    .dataframe tbody tr th {\n",
       "        vertical-align: top;\n",
       "    }\n",
       "\n",
       "    .dataframe thead th {\n",
       "        text-align: right;\n",
       "    }\n",
       "</style>\n",
       "<table border=\"1\" class=\"dataframe\">\n",
       "  <thead>\n",
       "    <tr style=\"text-align: right;\">\n",
       "      <th></th>\n",
       "      <th>year</th>\n",
       "      <th>developer</th>\n",
       "      <th>opensource</th>\n",
       "    </tr>\n",
       "    <tr>\n",
       "      <th>name</th>\n",
       "      <th></th>\n",
       "      <th></th>\n",
       "      <th></th>\n",
       "    </tr>\n",
       "  </thead>\n",
       "  <tbody>\n",
       "    <tr>\n",
       "      <th>NumPy</th>\n",
       "      <td>2006</td>\n",
       "      <td>Travis Oliphant</td>\n",
       "      <td>True</td>\n",
       "    </tr>\n",
       "    <tr>\n",
       "      <th>matplotlib</th>\n",
       "      <td>2003</td>\n",
       "      <td>John D. Hunter</td>\n",
       "      <td>True</td>\n",
       "    </tr>\n",
       "    <tr>\n",
       "      <th>pandas</th>\n",
       "      <td>2008</td>\n",
       "      <td>Wes Mckinneye</td>\n",
       "      <td>True</td>\n",
       "    </tr>\n",
       "  </tbody>\n",
       "</table>\n",
       "</div>"
      ],
      "text/plain": [
       "            year        developer  opensource\n",
       "name                                         \n",
       "NumPy       2006  Travis Oliphant        True\n",
       "matplotlib  2003   John D. Hunter        True\n",
       "pandas      2008    Wes Mckinneye        True"
      ]
     },
     "execution_count": 33,
     "metadata": {},
     "output_type": "execute_result"
    }
   ],
   "source": [
    "df7.set_index(['name'], inplace=True)\n",
    "df7"
   ]
  },
  {
   "cell_type": "markdown",
   "id": "9f414c38-d83b-4a00-b2eb-6c03ece97724",
   "metadata": {},
   "source": [
    "데이터 저장"
   ]
  },
  {
   "cell_type": "code",
   "execution_count": 34,
   "id": "e0f2bb65-a564-4e55-b31d-6bc07a6d46fb",
   "metadata": {},
   "outputs": [],
   "source": [
    "data = {'name' : ['Jerry', 'Riah', 'Paul'],\n",
    "        'algol' : [\"A\", \"A+\", \"B\"],\n",
    "        'basic' : [\"C\", \"B\", \"B+\"],\n",
    "        'C++' : [\"B+\", \"C\", \"C+\"]\n",
    "       }"
   ]
  },
  {
   "cell_type": "code",
   "execution_count": 35,
   "id": "4e3d4b62-90f7-4d26-8f83-92274cbdee02",
   "metadata": {},
   "outputs": [
    {
     "name": "stdout",
     "output_type": "stream",
     "text": [
      "    name algol basic C++\n",
      "0  Jerry     A     C  B+\n",
      "1   Riah    A+     B   C\n",
      "2   Paul     B    B+  C+\n"
     ]
    }
   ],
   "source": [
    "df8 = pd.DataFrame(data)\n",
    "print(df8)"
   ]
  },
  {
   "cell_type": "code",
   "execution_count": 36,
   "id": "394295a8-dc37-42e1-975c-1f34d90eb01a",
   "metadata": {},
   "outputs": [
    {
     "name": "stdout",
     "output_type": "stream",
     "text": [
      "      algol basic C++\n",
      "name                 \n",
      "Jerry     A     C  B+\n",
      "Riah     A+     B   C\n",
      "Paul      B    B+  C+\n"
     ]
    }
   ],
   "source": [
    "df8.set_index('name', inplace=True)\n",
    "print(df8)"
   ]
  },
  {
   "cell_type": "code",
   "execution_count": 45,
   "id": "d86aaaba-d033-4462-ac5b-d746c7a93d99",
   "metadata": {
    "scrolled": true
   },
   "outputs": [],
   "source": [
    "df8.to_csv(\"./test_data/df_sample1234.csv\", mode=\"x\") # 주의!기존에 같은 이름의 파일이 있으면 덮어쓰기 됨"
   ]
  },
  {
   "cell_type": "code",
   "execution_count": 48,
   "id": "88084142-8868-4900-8d91-463d507bf7bc",
   "metadata": {},
   "outputs": [],
   "source": [
    "df8.to_json(\"./test_data/df_sample1234.json\", mode=\"w\")"
   ]
  },
  {
   "cell_type": "code",
   "execution_count": 50,
   "id": "21e876a3-a7d4-420c-9ed4-b5c8ade4f6dd",
   "metadata": {},
   "outputs": [],
   "source": [
    "df8.to_excel(\"./test_data/df_sample1234.xlsx\")"
   ]
  },
  {
   "cell_type": "code",
   "execution_count": 53,
   "id": "a05d7b0a-1253-41b4-9b8f-1c99365ef583",
   "metadata": {},
   "outputs": [],
   "source": [
    "data1 = {'name' : ['Jerry', 'Riah', 'Paul'],\n",
    "        'algol' : [\"A\", \"A+\", \"B\"],\n",
    "        'basic' : [\"C\", \"B\", \"B+\"],\n",
    "        'C++' : [\"B+\", \"C\", \"C+\"]\n",
    "       }\n",
    "df9 = pd.DataFrame(data1)\n",
    "df10 = df[:]"
   ]
  },
  {
   "cell_type": "code",
   "execution_count": 54,
   "id": "922fe896-3927-48e5-a4a6-8b0c6655b354",
   "metadata": {},
   "outputs": [],
   "source": [
    "df9.set_index('name', inplace=True)\n",
    "df10.set_index('c0',inplace=True)"
   ]
  },
  {
   "cell_type": "code",
   "execution_count": 52,
   "id": "f7421b9a-539a-4cd9-bab5-e3a2ec5b2e96",
   "metadata": {},
   "outputs": [
    {
     "data": {
      "text/html": [
       "<div>\n",
       "<style scoped>\n",
       "    .dataframe tbody tr th:only-of-type {\n",
       "        vertical-align: middle;\n",
       "    }\n",
       "\n",
       "    .dataframe tbody tr th {\n",
       "        vertical-align: top;\n",
       "    }\n",
       "\n",
       "    .dataframe thead th {\n",
       "        text-align: right;\n",
       "    }\n",
       "</style>\n",
       "<table border=\"1\" class=\"dataframe\">\n",
       "  <thead>\n",
       "    <tr style=\"text-align: right;\">\n",
       "      <th></th>\n",
       "      <th>c0</th>\n",
       "      <th>c1</th>\n",
       "      <th>c2</th>\n",
       "      <th>c3</th>\n",
       "    </tr>\n",
       "  </thead>\n",
       "  <tbody>\n",
       "    <tr>\n",
       "      <th>0</th>\n",
       "      <td>0</td>\n",
       "      <td>1</td>\n",
       "      <td>4</td>\n",
       "      <td>7</td>\n",
       "    </tr>\n",
       "    <tr>\n",
       "      <th>1</th>\n",
       "      <td>1</td>\n",
       "      <td>2</td>\n",
       "      <td>5</td>\n",
       "      <td>8</td>\n",
       "    </tr>\n",
       "    <tr>\n",
       "      <th>2</th>\n",
       "      <td>2</td>\n",
       "      <td>3</td>\n",
       "      <td>6</td>\n",
       "      <td>9</td>\n",
       "    </tr>\n",
       "  </tbody>\n",
       "</table>\n",
       "</div>"
      ],
      "text/plain": [
       "   c0  c1  c2  c3\n",
       "0   0   1   4   7\n",
       "1   1   2   5   8\n",
       "2   2   3   6   9"
      ]
     },
     "execution_count": 52,
     "metadata": {},
     "output_type": "execute_result"
    }
   ],
   "source": [
    "# df9를 sheet1에 저장 하고 df10을 sheet2에 저장  파일이름은 \"df_exelwriter.xlsx\"\n"
   ]
  },
  {
   "cell_type": "code",
   "execution_count": null,
   "id": "dd4e7f74-4f2b-4cfd-9711-869355996a51",
   "metadata": {},
   "outputs": [],
   "source": [
    "df9 = d"
   ]
  }
 ],
 "metadata": {
  "kernelspec": {
   "display_name": "Python 3 (ipykernel)",
   "language": "python",
   "name": "python3"
  },
  "language_info": {
   "codemirror_mode": {
    "name": "ipython",
    "version": 3
   },
   "file_extension": ".py",
   "mimetype": "text/x-python",
   "name": "python",
   "nbconvert_exporter": "python",
   "pygments_lexer": "ipython3",
   "version": "3.9.12"
  }
 },
 "nbformat": 4,
 "nbformat_minor": 5
}
